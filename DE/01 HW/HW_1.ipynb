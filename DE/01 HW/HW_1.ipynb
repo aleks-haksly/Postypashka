{
  "nbformat": 4,
  "nbformat_minor": 0,
  "metadata": {
    "colab": {
      "provenance": [],
      "include_colab_link": true
    },
    "kernelspec": {
      "name": "python3",
      "display_name": "Python 3"
    },
    "language_info": {
      "name": "python"
    }
  },
  "cells": [
    {
      "cell_type": "markdown",
      "metadata": {
        "id": "view-in-github",
        "colab_type": "text"
      },
      "source": [
        "<a href=\"https://colab.research.google.com/github/aleks-haksly/Postypashka/blob/main/DE/01%20HW/HW_1.ipynb\" target=\"_parent\"><img src=\"https://colab.research.google.com/assets/colab-badge.svg\" alt=\"Open In Colab\"/></a>"
      ]
    },
    {
      "cell_type": "code",
      "source": [
        "import pandas as pd\n",
        "from pprint import pprint"
      ],
      "metadata": {
        "id": "Ed1VKtJnDZwM"
      },
      "execution_count": 132,
      "outputs": []
    },
    {
      "cell_type": "code",
      "execution_count": 133,
      "metadata": {
        "id": "cZA51hxsORmE"
      },
      "outputs": [],
      "source": [
        "!pip install pyspark -q"
      ]
    },
    {
      "cell_type": "code",
      "source": [
        "from pyspark.sql import SparkSession\n",
        "spark = SparkSession.builder.master('local[*]').getOrCreate()"
      ],
      "metadata": {
        "id": "Q3Cfbn2HOkAk"
      },
      "execution_count": 134,
      "outputs": []
    },
    {
      "cell_type": "code",
      "source": [
        "spark"
      ],
      "metadata": {
        "colab": {
          "base_uri": "https://localhost:8080/",
          "height": 222
        },
        "id": "7HznaphmwakL",
        "outputId": "de9a83c7-33b2-4f2f-c663-9c7683609431"
      },
      "execution_count": 135,
      "outputs": [
        {
          "output_type": "execute_result",
          "data": {
            "text/plain": [
              "<pyspark.sql.session.SparkSession at 0x7b779c55b700>"
            ],
            "text/html": [
              "\n",
              "            <div>\n",
              "                <p><b>SparkSession - in-memory</b></p>\n",
              "                \n",
              "        <div>\n",
              "            <p><b>SparkContext</b></p>\n",
              "\n",
              "            <p><a href=\"http://27265af21587:4040\">Spark UI</a></p>\n",
              "\n",
              "            <dl>\n",
              "              <dt>Version</dt>\n",
              "                <dd><code>v3.5.2</code></dd>\n",
              "              <dt>Master</dt>\n",
              "                <dd><code>local[*]</code></dd>\n",
              "              <dt>AppName</dt>\n",
              "                <dd><code>pyspark-shell</code></dd>\n",
              "            </dl>\n",
              "        </div>\n",
              "        \n",
              "            </div>\n",
              "        "
            ]
          },
          "metadata": {},
          "execution_count": 135
        }
      ]
    },
    {
      "cell_type": "markdown",
      "source": [
        "#**RDD**"
      ],
      "metadata": {
        "id": "AAJjAlqsDu0M"
      }
    },
    {
      "cell_type": "markdown",
      "source": [
        "# Вспомогательные функции\n"
      ],
      "metadata": {
        "id": "_l3bTFHPkxqd"
      }
    },
    {
      "cell_type": "code",
      "source": [
        "!wget \"https://raw.githubusercontent.com/aleks-haksly/Postypashka/main/DE/01%20HW/datasets/RDD/dataset/order/order.csv\" -q\n",
        "!wget \"https://raw.githubusercontent.com/aleks-haksly/Postypashka/main/DE/01%20HW/datasets/RDD/dataset/customer/customer.csv\" -q\n",
        "!wget \"https://raw.githubusercontent.com/aleks-haksly/Postypashka/main/DE/01%20HW/datasets/RDD/dataset/product/product.csv\" -q"
      ],
      "metadata": {
        "id": "v6swmv8hMynU"
      },
      "execution_count": 136,
      "outputs": []
    },
    {
      "cell_type": "code",
      "source": [
        "path_to_order = \"/content/order.csv\"\n",
        "path_to_customer = \"/content/customer.csv\"\n",
        "path_to_product = \"/content/product.csv\"\n",
        "\n",
        "def createRDD(spark:SparkSession, path):\n",
        "  return spark.sparkContext.textFile(path)\\\n",
        "                    .map(lambda x: x.split('\\t'))"
      ],
      "metadata": {
        "id": "0gcVpRsKk2aF"
      },
      "execution_count": 137,
      "outputs": []
    },
    {
      "cell_type": "markdown",
      "source": [
        "  # Задача 1\n",
        "  * 1. Загрузить в RDD файл src/test/resources/input/order\n",
        "  * 2. Выбрать строки в которых поле статус заказа delivered\n",
        "  * 3. Выбрать ключ (customerID), значение (numberOfProduct, 1)\n",
        "  * 4. Написать функцию reduce для расчёта\n",
        "  * 5. Применит к RDD из п.3 метод reduceByKey c функцией из п.4\n",
        "  * 6. Вывести или записать результат"
      ],
      "metadata": {
        "id": "BcACIvWiYggX"
      }
    },
    {
      "cell_type": "code",
      "source": [
        "orders = spark.sparkContext.textFile(path_to_order)\n",
        "orders = orders.map(lambda x: x.split('\\t'))\\\n",
        "              .filter(lambda x: 'delivered' in x[5])\\\n",
        "              .map(lambda x: (x[0], (x[3],1)))\\\n",
        "              .reduceByKey(lambda x,y: ((int(x[0])+int(y[0])),(x[1]+y[1]))).take(5)\n",
        "\n",
        "pprint(orders)"
      ],
      "metadata": {
        "colab": {
          "base_uri": "https://localhost:8080/"
        },
        "id": "pvGQWl4pF1MN",
        "outputId": "178004c9-ef86-4973-83fc-d3cc835e174c"
      },
      "execution_count": 138,
      "outputs": [
        {
          "output_type": "stream",
          "name": "stdout",
          "text": [
            "[('1', (3000, 9)),\n",
            " ('4', (1300, 8)),\n",
            " ('2', (1250, 11)),\n",
            " ('3', ('100', 1)),\n",
            " ('5', (1300, 8))]\n"
          ]
        }
      ]
    },
    {
      "cell_type": "markdown",
      "source": [
        "# Задача 2\n",
        "   * 1. Загрузить в RDD файл src/test/resources/input/order\n",
        "   * 2. Распарсить строки RDD\n",
        "   * 3. Выбрать ключ поле (customerID), в значение (orderDate, numberOfProduct, productID)\n",
        "   * 4. Загрузить в RDD файл customer\n",
        "   * 5. Распарсить строки RDD\n",
        "   * 6. Выбрать ключ поле (id), в значение (name)\n",
        "   * 7. Выполнить внутреннее соединение RDD из п.6 и п.9\n",
        "   * 8. Выбрать ключ (productID), в значение (customer.name, orderDate,  numberOfProduct)\n",
        "   * 9. Загрузить в RDD файл product.csv\n",
        "   * 10. Распарсить строки RDD\n",
        "   * 11. Выбрать ключ (id), значение (price)\n",
        "   * 12. Выполнить внутреннее соединение с RDD из п.11 и п.14\n",
        "   * 13. Выбрать ключ (customer.name, order.orderDate), значение (order.numberOfProduct * product.price)\n",
        "   * 14. Расчитать сумму в значении по ключу\n",
        "   * 15. Вывести результат"
      ],
      "metadata": {
        "id": "ioq_0k79XVIX"
      }
    },
    {
      "cell_type": "code",
      "source": [
        "pd.read_csv(path_to_order, sep='\\t', header=None, names=['customerID_0', 'oderID_1', 'productID_2', 'numberOfProduct_3', 'orderDate_4', 'status_5']).head()"
      ],
      "metadata": {
        "colab": {
          "base_uri": "https://localhost:8080/",
          "height": 206
        },
        "id": "S9U9y_2HDft1",
        "outputId": "baa7acd2-c733-4661-f5ad-ec2ca3eb437b"
      },
      "execution_count": 139,
      "outputs": [
        {
          "output_type": "execute_result",
          "data": {
            "text/plain": [
              "   customerID_0  oderID_1  productID_2  numberOfProduct_3 orderDate_4  \\\n",
              "0             1        21            3                500  2018-02-23   \n",
              "1             1        22            1                300  2018-02-23   \n",
              "2             1        23            2                300  2018-02-23   \n",
              "3             1        24            1                500  2018-03-23   \n",
              "4             1        25            2                300  2018-03-23   \n",
              "\n",
              "    status_5  \n",
              "0  delivered  \n",
              "1  delivered  \n",
              "2  delivered  \n",
              "3  delivered  \n",
              "4  delivered  "
            ],
            "text/html": [
              "\n",
              "  <div id=\"df-73edadb3-83e7-4627-b3c3-cd051aeb10e2\" class=\"colab-df-container\">\n",
              "    <div>\n",
              "<style scoped>\n",
              "    .dataframe tbody tr th:only-of-type {\n",
              "        vertical-align: middle;\n",
              "    }\n",
              "\n",
              "    .dataframe tbody tr th {\n",
              "        vertical-align: top;\n",
              "    }\n",
              "\n",
              "    .dataframe thead th {\n",
              "        text-align: right;\n",
              "    }\n",
              "</style>\n",
              "<table border=\"1\" class=\"dataframe\">\n",
              "  <thead>\n",
              "    <tr style=\"text-align: right;\">\n",
              "      <th></th>\n",
              "      <th>customerID_0</th>\n",
              "      <th>oderID_1</th>\n",
              "      <th>productID_2</th>\n",
              "      <th>numberOfProduct_3</th>\n",
              "      <th>orderDate_4</th>\n",
              "      <th>status_5</th>\n",
              "    </tr>\n",
              "  </thead>\n",
              "  <tbody>\n",
              "    <tr>\n",
              "      <th>0</th>\n",
              "      <td>1</td>\n",
              "      <td>21</td>\n",
              "      <td>3</td>\n",
              "      <td>500</td>\n",
              "      <td>2018-02-23</td>\n",
              "      <td>delivered</td>\n",
              "    </tr>\n",
              "    <tr>\n",
              "      <th>1</th>\n",
              "      <td>1</td>\n",
              "      <td>22</td>\n",
              "      <td>1</td>\n",
              "      <td>300</td>\n",
              "      <td>2018-02-23</td>\n",
              "      <td>delivered</td>\n",
              "    </tr>\n",
              "    <tr>\n",
              "      <th>2</th>\n",
              "      <td>1</td>\n",
              "      <td>23</td>\n",
              "      <td>2</td>\n",
              "      <td>300</td>\n",
              "      <td>2018-02-23</td>\n",
              "      <td>delivered</td>\n",
              "    </tr>\n",
              "    <tr>\n",
              "      <th>3</th>\n",
              "      <td>1</td>\n",
              "      <td>24</td>\n",
              "      <td>1</td>\n",
              "      <td>500</td>\n",
              "      <td>2018-03-23</td>\n",
              "      <td>delivered</td>\n",
              "    </tr>\n",
              "    <tr>\n",
              "      <th>4</th>\n",
              "      <td>1</td>\n",
              "      <td>25</td>\n",
              "      <td>2</td>\n",
              "      <td>300</td>\n",
              "      <td>2018-03-23</td>\n",
              "      <td>delivered</td>\n",
              "    </tr>\n",
              "  </tbody>\n",
              "</table>\n",
              "</div>\n",
              "    <div class=\"colab-df-buttons\">\n",
              "\n",
              "  <div class=\"colab-df-container\">\n",
              "    <button class=\"colab-df-convert\" onclick=\"convertToInteractive('df-73edadb3-83e7-4627-b3c3-cd051aeb10e2')\"\n",
              "            title=\"Convert this dataframe to an interactive table.\"\n",
              "            style=\"display:none;\">\n",
              "\n",
              "  <svg xmlns=\"http://www.w3.org/2000/svg\" height=\"24px\" viewBox=\"0 -960 960 960\">\n",
              "    <path d=\"M120-120v-720h720v720H120Zm60-500h600v-160H180v160Zm220 220h160v-160H400v160Zm0 220h160v-160H400v160ZM180-400h160v-160H180v160Zm440 0h160v-160H620v160ZM180-180h160v-160H180v160Zm440 0h160v-160H620v160Z\"/>\n",
              "  </svg>\n",
              "    </button>\n",
              "\n",
              "  <style>\n",
              "    .colab-df-container {\n",
              "      display:flex;\n",
              "      gap: 12px;\n",
              "    }\n",
              "\n",
              "    .colab-df-convert {\n",
              "      background-color: #E8F0FE;\n",
              "      border: none;\n",
              "      border-radius: 50%;\n",
              "      cursor: pointer;\n",
              "      display: none;\n",
              "      fill: #1967D2;\n",
              "      height: 32px;\n",
              "      padding: 0 0 0 0;\n",
              "      width: 32px;\n",
              "    }\n",
              "\n",
              "    .colab-df-convert:hover {\n",
              "      background-color: #E2EBFA;\n",
              "      box-shadow: 0px 1px 2px rgba(60, 64, 67, 0.3), 0px 1px 3px 1px rgba(60, 64, 67, 0.15);\n",
              "      fill: #174EA6;\n",
              "    }\n",
              "\n",
              "    .colab-df-buttons div {\n",
              "      margin-bottom: 4px;\n",
              "    }\n",
              "\n",
              "    [theme=dark] .colab-df-convert {\n",
              "      background-color: #3B4455;\n",
              "      fill: #D2E3FC;\n",
              "    }\n",
              "\n",
              "    [theme=dark] .colab-df-convert:hover {\n",
              "      background-color: #434B5C;\n",
              "      box-shadow: 0px 1px 3px 1px rgba(0, 0, 0, 0.15);\n",
              "      filter: drop-shadow(0px 1px 2px rgba(0, 0, 0, 0.3));\n",
              "      fill: #FFFFFF;\n",
              "    }\n",
              "  </style>\n",
              "\n",
              "    <script>\n",
              "      const buttonEl =\n",
              "        document.querySelector('#df-73edadb3-83e7-4627-b3c3-cd051aeb10e2 button.colab-df-convert');\n",
              "      buttonEl.style.display =\n",
              "        google.colab.kernel.accessAllowed ? 'block' : 'none';\n",
              "\n",
              "      async function convertToInteractive(key) {\n",
              "        const element = document.querySelector('#df-73edadb3-83e7-4627-b3c3-cd051aeb10e2');\n",
              "        const dataTable =\n",
              "          await google.colab.kernel.invokeFunction('convertToInteractive',\n",
              "                                                    [key], {});\n",
              "        if (!dataTable) return;\n",
              "\n",
              "        const docLinkHtml = 'Like what you see? Visit the ' +\n",
              "          '<a target=\"_blank\" href=https://colab.research.google.com/notebooks/data_table.ipynb>data table notebook</a>'\n",
              "          + ' to learn more about interactive tables.';\n",
              "        element.innerHTML = '';\n",
              "        dataTable['output_type'] = 'display_data';\n",
              "        await google.colab.output.renderOutput(dataTable, element);\n",
              "        const docLink = document.createElement('div');\n",
              "        docLink.innerHTML = docLinkHtml;\n",
              "        element.appendChild(docLink);\n",
              "      }\n",
              "    </script>\n",
              "  </div>\n",
              "\n",
              "\n",
              "<div id=\"df-109c2e30-b4bf-49c1-bce5-6a31a541bb58\">\n",
              "  <button class=\"colab-df-quickchart\" onclick=\"quickchart('df-109c2e30-b4bf-49c1-bce5-6a31a541bb58')\"\n",
              "            title=\"Suggest charts\"\n",
              "            style=\"display:none;\">\n",
              "\n",
              "<svg xmlns=\"http://www.w3.org/2000/svg\" height=\"24px\"viewBox=\"0 0 24 24\"\n",
              "     width=\"24px\">\n",
              "    <g>\n",
              "        <path d=\"M19 3H5c-1.1 0-2 .9-2 2v14c0 1.1.9 2 2 2h14c1.1 0 2-.9 2-2V5c0-1.1-.9-2-2-2zM9 17H7v-7h2v7zm4 0h-2V7h2v10zm4 0h-2v-4h2v4z\"/>\n",
              "    </g>\n",
              "</svg>\n",
              "  </button>\n",
              "\n",
              "<style>\n",
              "  .colab-df-quickchart {\n",
              "      --bg-color: #E8F0FE;\n",
              "      --fill-color: #1967D2;\n",
              "      --hover-bg-color: #E2EBFA;\n",
              "      --hover-fill-color: #174EA6;\n",
              "      --disabled-fill-color: #AAA;\n",
              "      --disabled-bg-color: #DDD;\n",
              "  }\n",
              "\n",
              "  [theme=dark] .colab-df-quickchart {\n",
              "      --bg-color: #3B4455;\n",
              "      --fill-color: #D2E3FC;\n",
              "      --hover-bg-color: #434B5C;\n",
              "      --hover-fill-color: #FFFFFF;\n",
              "      --disabled-bg-color: #3B4455;\n",
              "      --disabled-fill-color: #666;\n",
              "  }\n",
              "\n",
              "  .colab-df-quickchart {\n",
              "    background-color: var(--bg-color);\n",
              "    border: none;\n",
              "    border-radius: 50%;\n",
              "    cursor: pointer;\n",
              "    display: none;\n",
              "    fill: var(--fill-color);\n",
              "    height: 32px;\n",
              "    padding: 0;\n",
              "    width: 32px;\n",
              "  }\n",
              "\n",
              "  .colab-df-quickchart:hover {\n",
              "    background-color: var(--hover-bg-color);\n",
              "    box-shadow: 0 1px 2px rgba(60, 64, 67, 0.3), 0 1px 3px 1px rgba(60, 64, 67, 0.15);\n",
              "    fill: var(--button-hover-fill-color);\n",
              "  }\n",
              "\n",
              "  .colab-df-quickchart-complete:disabled,\n",
              "  .colab-df-quickchart-complete:disabled:hover {\n",
              "    background-color: var(--disabled-bg-color);\n",
              "    fill: var(--disabled-fill-color);\n",
              "    box-shadow: none;\n",
              "  }\n",
              "\n",
              "  .colab-df-spinner {\n",
              "    border: 2px solid var(--fill-color);\n",
              "    border-color: transparent;\n",
              "    border-bottom-color: var(--fill-color);\n",
              "    animation:\n",
              "      spin 1s steps(1) infinite;\n",
              "  }\n",
              "\n",
              "  @keyframes spin {\n",
              "    0% {\n",
              "      border-color: transparent;\n",
              "      border-bottom-color: var(--fill-color);\n",
              "      border-left-color: var(--fill-color);\n",
              "    }\n",
              "    20% {\n",
              "      border-color: transparent;\n",
              "      border-left-color: var(--fill-color);\n",
              "      border-top-color: var(--fill-color);\n",
              "    }\n",
              "    30% {\n",
              "      border-color: transparent;\n",
              "      border-left-color: var(--fill-color);\n",
              "      border-top-color: var(--fill-color);\n",
              "      border-right-color: var(--fill-color);\n",
              "    }\n",
              "    40% {\n",
              "      border-color: transparent;\n",
              "      border-right-color: var(--fill-color);\n",
              "      border-top-color: var(--fill-color);\n",
              "    }\n",
              "    60% {\n",
              "      border-color: transparent;\n",
              "      border-right-color: var(--fill-color);\n",
              "    }\n",
              "    80% {\n",
              "      border-color: transparent;\n",
              "      border-right-color: var(--fill-color);\n",
              "      border-bottom-color: var(--fill-color);\n",
              "    }\n",
              "    90% {\n",
              "      border-color: transparent;\n",
              "      border-bottom-color: var(--fill-color);\n",
              "    }\n",
              "  }\n",
              "</style>\n",
              "\n",
              "  <script>\n",
              "    async function quickchart(key) {\n",
              "      const quickchartButtonEl =\n",
              "        document.querySelector('#' + key + ' button');\n",
              "      quickchartButtonEl.disabled = true;  // To prevent multiple clicks.\n",
              "      quickchartButtonEl.classList.add('colab-df-spinner');\n",
              "      try {\n",
              "        const charts = await google.colab.kernel.invokeFunction(\n",
              "            'suggestCharts', [key], {});\n",
              "      } catch (error) {\n",
              "        console.error('Error during call to suggestCharts:', error);\n",
              "      }\n",
              "      quickchartButtonEl.classList.remove('colab-df-spinner');\n",
              "      quickchartButtonEl.classList.add('colab-df-quickchart-complete');\n",
              "    }\n",
              "    (() => {\n",
              "      let quickchartButtonEl =\n",
              "        document.querySelector('#df-109c2e30-b4bf-49c1-bce5-6a31a541bb58 button');\n",
              "      quickchartButtonEl.style.display =\n",
              "        google.colab.kernel.accessAllowed ? 'block' : 'none';\n",
              "    })();\n",
              "  </script>\n",
              "</div>\n",
              "\n",
              "    </div>\n",
              "  </div>\n"
            ],
            "application/vnd.google.colaboratory.intrinsic+json": {
              "type": "dataframe",
              "summary": "{\n  \"name\": \"pd\",\n  \"rows\": 5,\n  \"fields\": [\n    {\n      \"column\": \"customerID_0\",\n      \"properties\": {\n        \"dtype\": \"number\",\n        \"std\": 0,\n        \"min\": 1,\n        \"max\": 1,\n        \"num_unique_values\": 1,\n        \"samples\": [\n          1\n        ],\n        \"semantic_type\": \"\",\n        \"description\": \"\"\n      }\n    },\n    {\n      \"column\": \"oderID_1\",\n      \"properties\": {\n        \"dtype\": \"number\",\n        \"std\": 1,\n        \"min\": 21,\n        \"max\": 25,\n        \"num_unique_values\": 5,\n        \"samples\": [\n          22\n        ],\n        \"semantic_type\": \"\",\n        \"description\": \"\"\n      }\n    },\n    {\n      \"column\": \"productID_2\",\n      \"properties\": {\n        \"dtype\": \"number\",\n        \"std\": 0,\n        \"min\": 1,\n        \"max\": 3,\n        \"num_unique_values\": 3,\n        \"samples\": [\n          3\n        ],\n        \"semantic_type\": \"\",\n        \"description\": \"\"\n      }\n    },\n    {\n      \"column\": \"numberOfProduct_3\",\n      \"properties\": {\n        \"dtype\": \"number\",\n        \"std\": 109,\n        \"min\": 300,\n        \"max\": 500,\n        \"num_unique_values\": 2,\n        \"samples\": [\n          300\n        ],\n        \"semantic_type\": \"\",\n        \"description\": \"\"\n      }\n    },\n    {\n      \"column\": \"orderDate_4\",\n      \"properties\": {\n        \"dtype\": \"object\",\n        \"num_unique_values\": 2,\n        \"samples\": [\n          \"2018-03-23\"\n        ],\n        \"semantic_type\": \"\",\n        \"description\": \"\"\n      }\n    },\n    {\n      \"column\": \"status_5\",\n      \"properties\": {\n        \"dtype\": \"category\",\n        \"num_unique_values\": 1,\n        \"samples\": [\n          \"delivered\"\n        ],\n        \"semantic_type\": \"\",\n        \"description\": \"\"\n      }\n    }\n  ]\n}"
            }
          },
          "metadata": {},
          "execution_count": 139
        }
      ]
    },
    {
      "cell_type": "code",
      "source": [
        "orders = spark.sparkContext.textFile(path_to_order)\n",
        "orders = orders.map(lambda x: x.split('\\t'))\\\n",
        "              .map(lambda x: (x[0], (x[4], x[3], x[2])))\\\n",
        "\n",
        "\n",
        "pprint(orders.take(5))"
      ],
      "metadata": {
        "id": "smNWeMqmS6D5",
        "colab": {
          "base_uri": "https://localhost:8080/"
        },
        "outputId": "513699fa-088b-45e0-f3c3-34342f85dd73"
      },
      "execution_count": 159,
      "outputs": [
        {
          "output_type": "stream",
          "name": "stdout",
          "text": [
            "[('1', ('2018-02-23', '500', '3')),\n",
            " ('1', ('2018-02-23', '300', '1')),\n",
            " ('1', ('2018-02-23', '300', '2')),\n",
            " ('1', ('2018-03-23', '500', '1')),\n",
            " ('1', ('2018-03-23', '300', '2'))]\n"
          ]
        }
      ]
    },
    {
      "cell_type": "code",
      "source": [
        "customer = spark.sparkContext.textFile(path_to_customer)\n",
        "customer = customer.map(lambda x: x.split('\\t'))\\\n",
        "              .map(lambda x: (x[0], (x[1])))\\\n",
        "\n",
        "\n",
        "pprint(customer.take(5))"
      ],
      "metadata": {
        "id": "p1-sB4PGdoDb",
        "colab": {
          "base_uri": "https://localhost:8080/"
        },
        "outputId": "384a8a52-5c3f-4940-e805-d263f88d286c"
      },
      "execution_count": 160,
      "outputs": [
        {
          "output_type": "stream",
          "name": "stdout",
          "text": [
            "[('1', 'John'),\n",
            " ('2', 'Philip'),\n",
            " ('3', 'Vasili'),\n",
            " ('4', 'Anastasia'),\n",
            " ('5', 'Robert')]\n"
          ]
        }
      ]
    },
    {
      "cell_type": "code",
      "source": [
        "joined_rdd = orders.join(customer)\n",
        "pprint(joined_rdd.take(5))"
      ],
      "metadata": {
        "id": "dHB531_FjTKi",
        "colab": {
          "base_uri": "https://localhost:8080/"
        },
        "outputId": "26926a27-6553-4586-9218-94478f8f0a25"
      },
      "execution_count": 161,
      "outputs": [
        {
          "output_type": "stream",
          "name": "stdout",
          "text": [
            "[('4', (('2018-05-01', '200', '1'), 'Anastasia')),\n",
            " ('4', (('2018-05-01', '200', '2'), 'Anastasia')),\n",
            " ('4', (('2018-05-01', '200', '3'), 'Anastasia')),\n",
            " ('4', (('2018-06-01', '200', '1'), 'Anastasia')),\n",
            " ('4', (('2018-06-01', '200', '2'), 'Anastasia'))]\n"
          ]
        }
      ]
    },
    {
      "cell_type": "code",
      "source": [
        "joined_rdd = orders.join(customer)\n",
        "pprint(joined_rdd.take(5))"
      ],
      "metadata": {
        "colab": {
          "base_uri": "https://localhost:8080/"
        },
        "id": "DNnYsfBeSeL5",
        "outputId": "64bd1713-3a2e-4dbe-8f74-b6d507dc9087"
      },
      "execution_count": 162,
      "outputs": [
        {
          "output_type": "stream",
          "name": "stdout",
          "text": [
            "[('4', (('2018-05-01', '200', '1'), 'Anastasia')),\n",
            " ('4', (('2018-05-01', '200', '2'), 'Anastasia')),\n",
            " ('4', (('2018-05-01', '200', '3'), 'Anastasia')),\n",
            " ('4', (('2018-06-01', '200', '1'), 'Anastasia')),\n",
            " ('4', (('2018-06-01', '200', '2'), 'Anastasia'))]\n"
          ]
        }
      ]
    },
    {
      "cell_type": "code",
      "source": [
        "joined_rdd = joined_rdd.map(lambda x: (x[1][0][2], (x[1][1], x[1][0][0], x[1][0][1])))\n",
        "pprint(joined_rdd.take(5))"
      ],
      "metadata": {
        "colab": {
          "base_uri": "https://localhost:8080/"
        },
        "id": "ZHrJV0v5Sf1V",
        "outputId": "43849447-5ab0-453e-8395-227eaa68d064"
      },
      "execution_count": 163,
      "outputs": [
        {
          "output_type": "stream",
          "name": "stdout",
          "text": [
            "[('1', ('Anastasia', '2018-05-01', '200')),\n",
            " ('2', ('Anastasia', '2018-05-01', '200')),\n",
            " ('3', ('Anastasia', '2018-05-01', '200')),\n",
            " ('1', ('Anastasia', '2018-06-01', '200')),\n",
            " ('2', ('Anastasia', '2018-06-01', '200'))]\n"
          ]
        }
      ]
    },
    {
      "cell_type": "code",
      "source": [
        "product = spark.sparkContext.textFile(path_to_product)\n",
        "product = product.map(lambda x: x.split('\\t'))\\\n",
        "              .map(lambda x: (x[0], (x[2])))\n",
        "pprint(product.take(5))"
      ],
      "metadata": {
        "colab": {
          "base_uri": "https://localhost:8080/"
        },
        "id": "YSbXhxyPTh13",
        "outputId": "51b31b38-1217-4d72-c685-58dcf6723241"
      },
      "execution_count": 164,
      "outputs": [
        {
          "output_type": "stream",
          "name": "stdout",
          "text": [
            "[('1', '45990'), ('2', '49990'), ('3', '75990'), ('4', '29990'), ('5', '54990')]\n"
          ]
        }
      ]
    },
    {
      "cell_type": "code",
      "source": [
        "joined_rdd = joined_rdd.join(product)\n",
        "pprint(joined_rdd.take(5))"
      ],
      "metadata": {
        "colab": {
          "base_uri": "https://localhost:8080/"
        },
        "id": "pJyQUoGOVAeI",
        "outputId": "c2011d9a-fe68-4a3b-b41e-011b77f7d66b"
      },
      "execution_count": 165,
      "outputs": [
        {
          "output_type": "stream",
          "name": "stdout",
          "text": [
            "[('4', (('Sara', '2017-07-21', '100'), '29990')),\n",
            " ('4', (('Philip', '2017-10-16', '50'), '29990')),\n",
            " ('4', (('Robert', '2017-11-01', '200'), '29990')),\n",
            " ('4', (('Robert', '2017-12-01', '200'), '29990')),\n",
            " ('4', (('Robert', '2018-01-01', '200'), '29990'))]\n"
          ]
        }
      ]
    },
    {
      "cell_type": "code",
      "source": [
        "joined_rdd_1 = joined_rdd.map(lambda x: ((x[1][0][0], x[1][0][1]), int(x[1][0][2]) * int(x[1][1])))\n",
        "pprint(joined_rdd_1.take(5))"
      ],
      "metadata": {
        "colab": {
          "base_uri": "https://localhost:8080/"
        },
        "id": "shtex-ehV4j9",
        "outputId": "cec56e87-959f-423c-8a5f-fda6a1ff5c84"
      },
      "execution_count": 166,
      "outputs": [
        {
          "output_type": "stream",
          "name": "stdout",
          "text": [
            "[(('Sara', '2017-07-21'), 2999000),\n",
            " (('Philip', '2017-10-16'), 1499500),\n",
            " (('Robert', '2017-11-01'), 5998000),\n",
            " (('Robert', '2017-12-01'), 5998000),\n",
            " (('Robert', '2018-01-01'), 5998000)]\n"
          ]
        }
      ]
    },
    {
      "cell_type": "code",
      "source": [
        "joined_rdd_1.reduceByKey(lambda x,y: x+y).collect()"
      ],
      "metadata": {
        "id": "05b7-2ODXVhN",
        "outputId": "012c33e7-30b4-44b7-e563-54a661eee63c",
        "colab": {
          "base_uri": "https://localhost:8080/"
        }
      },
      "execution_count": 167,
      "outputs": [
        {
          "output_type": "execute_result",
          "data": {
            "text/plain": [
              "[(('Sara', '2017-07-21'), 64880000),\n",
              " (('Robert', '2017-12-01'), 5998000),\n",
              " (('Philip', '2018-04-16'), 19594000),\n",
              " (('Robert', '2017-11-01'), 16996000),\n",
              " (('Robert', '2018-02-01'), 2999000),\n",
              " (('Anastasia', '2018-08-01'), 15198000),\n",
              " (('Vasili', '2018-06-01'), 26795000),\n",
              " (('Anastasia', '2018-06-01'), 19196000),\n",
              " (('Robert', '2017-12-02'), 10998000),\n",
              " (('Anastasia', '2018-07-01'), 9598000),\n",
              " (('Robert', '2018-02-02'), 5499000),\n",
              " (('Philip', '2017-10-16'), 41543500),\n",
              " (('Robert', '2018-01-01'), 11497000),\n",
              " (('Anastasia', '2018-05-01'), 34394000),\n",
              " (('Vasili', '2018-05-01'), 4599000),\n",
              " (('John', '2018-02-23'), 66789000),\n",
              " (('John', '2018-03-23'), 60789000),\n",
              " (('John', '2018-05-23'), 15497000),\n",
              " (('John', '2018-04-23'), 43592000)]"
            ]
          },
          "metadata": {},
          "execution_count": 167
        }
      ]
    },
    {
      "cell_type": "markdown",
      "source": [
        "# Задача 3\n",
        " * 1. Загрузить в RDD файл src/test/resources/input/product\n",
        " * 2. Распарсить строки в RDD\n",
        " * 3. Выбрать ключ поле id, в значение name\n",
        " * 4. Загрузить в RDD файд src/test/resources/input/order\n",
        " * 5. Распарсить строки в RDD\n",
        " * 6. Выбрать ключ поле productID, в значение numberOfProduct\n",
        " * 7. Посчитать кол-во проданных продуктов\n",
        " * 8. Выполнить левое соединение двух RDD\n",
        " * 9. Выполнить фильтрацию и оставить только те строки где значение numberOfProducts 0 или None\n",
        " * 10. Вывести результат или записать в директорию"
      ],
      "metadata": {
        "id": "45RHgDpy37fv"
      }
    },
    {
      "cell_type": "code",
      "source": [
        "product = spark.sparkContext.textFile(path_to_product)\n",
        "product = product.map(lambda x: x.split('\\t'))\\\n",
        "              .map(lambda x: (x[0], (x[1])))\n",
        "pprint(product.take(5))"
      ],
      "metadata": {
        "id": "u6Gmt7NjqmV0",
        "colab": {
          "base_uri": "https://localhost:8080/"
        },
        "outputId": "07dea5d6-f124-4643-bf36-8588953c80d7"
      },
      "execution_count": 168,
      "outputs": [
        {
          "output_type": "stream",
          "name": "stdout",
          "text": [
            "[('1', 'Apple iPhone 7'),\n",
            " ('2', 'Apple iPhone 8'),\n",
            " ('3', 'Apple iPhone 10'),\n",
            " ('4', 'Apple iPad mini 4'),\n",
            " ('5', 'Apple iPad Pro')]\n"
          ]
        }
      ]
    },
    {
      "cell_type": "code",
      "source": [
        "orders = spark.sparkContext.textFile(path_to_order)\n",
        "orders = orders.map(lambda x: x.split('\\t'))\\\n",
        "              .map(lambda x: (x[2], int(x[3])))\\\n",
        "\n",
        "pprint(orders.take(5))"
      ],
      "metadata": {
        "id": "4YVCo_Zm4WFy",
        "colab": {
          "base_uri": "https://localhost:8080/"
        },
        "outputId": "e6423b1a-37b7-4d1d-bdab-1732bb7d8d79"
      },
      "execution_count": 169,
      "outputs": [
        {
          "output_type": "stream",
          "name": "stdout",
          "text": [
            "[('3', 500), ('1', 300), ('2', 300), ('1', 500), ('2', 300)]\n"
          ]
        }
      ]
    },
    {
      "cell_type": "code",
      "source": [
        "orders_grouped_by_product = orders.reduceByKey(lambda x, y: x + y)\\\n",
        "                                  .map(lambda x: (x[0], x[1]))\n",
        "pprint(orders_grouped_by_product.take(5))"
      ],
      "metadata": {
        "colab": {
          "base_uri": "https://localhost:8080/"
        },
        "id": "ha5g4z-OFXG7",
        "outputId": "a4670b51-8885-436e-bcee-fb4dabbe10b8"
      },
      "execution_count": 170,
      "outputs": [
        {
          "output_type": "stream",
          "name": "stdout",
          "text": [
            "[('1', 2700), ('4', 850), ('8', 1250), ('100', 0), ('3', 2050)]\n"
          ]
        }
      ]
    },
    {
      "cell_type": "code",
      "source": [
        "joined_rdd = product.leftOuterJoin(orders_grouped_by_product)\n",
        "pprint(joined_rdd.take(5))"
      ],
      "metadata": {
        "colab": {
          "base_uri": "https://localhost:8080/"
        },
        "id": "EM_Rq6FoIs5L",
        "outputId": "92e41cb1-43ed-4455-c1c5-2452b56ea7d6"
      },
      "execution_count": 171,
      "outputs": [
        {
          "output_type": "stream",
          "name": "stdout",
          "text": [
            "[('4', ('Apple iPad mini 4', 850)),\n",
            " ('10', ('Apple HomePod', None)),\n",
            " ('3', ('Apple iPhone 10', 2050)),\n",
            " ('6', ('Apple MacBook Air', 100)),\n",
            " ('7', ('Apple MakBook Pro', 100))]\n"
          ]
        }
      ]
    },
    {
      "cell_type": "code",
      "source": [
        "joined_rdd.filter(lambda x: x[1][1] == None or x[1][1] == 0)\\\n",
        ".collect()"
      ],
      "metadata": {
        "colab": {
          "base_uri": "https://localhost:8080/"
        },
        "id": "m8Ny0Wr8XgdV",
        "outputId": "6a1e25fb-9f8f-4af4-915b-801f9298082a"
      },
      "execution_count": 172,
      "outputs": [
        {
          "output_type": "execute_result",
          "data": {
            "text/plain": [
              "[('10', ('Apple HomePod', None)), ('9', ('Apple EarPods', None))]"
            ]
          },
          "metadata": {},
          "execution_count": 172
        }
      ]
    },
    {
      "cell_type": "markdown",
      "source": [
        "# Задача 4\n",
        " * 1. Загрузить в RDD файд src/test/resources/input/order.csv\n",
        " * 2. Распарсить строки в RDD\n",
        " * 3. Выбрать только те транзакции у которых статус delivered\n",
        " * 4. Выбрать ключ (customerID), значение (numberOfProducts)\n",
        " * 5. Выполнить группировку по ключу\n",
        " * 6. Посчитать сумму по значению и разделить на размер коллекции\n",
        " * 7. Вывести результат или записать в директорию"
      ],
      "metadata": {
        "id": "ke2CWIlEID37"
      }
    },
    {
      "cell_type": "code",
      "source": [
        "orders = spark.sparkContext.textFile(path_to_order)\n",
        "orders = orders.map(lambda x: x.split('\\t'))\\\n",
        "              .map(lambda x: (x[0], (x[3], x[5])))\\\n",
        "              .filter(lambda x: 'delivered' in x[1][1])\\\n",
        "              .map(lambda x: (x[0], int(x[1][0])))\\\n",
        "              .reduceByKey(lambda x, y: (x + y))\n",
        "\n",
        "orders_count = orders.count()\n",
        "\n",
        "pprint(orders.map(lambda x: (x[0], x[1] / orders_count)).collect())"
      ],
      "metadata": {
        "colab": {
          "base_uri": "https://localhost:8080/"
        },
        "id": "bSbGC5dDoUYV",
        "outputId": "57ca7c7e-c45a-488b-fc43-2174059253c8"
      },
      "execution_count": 173,
      "outputs": [
        {
          "output_type": "stream",
          "name": "stdout",
          "text": [
            "[('1', 500.0),\n",
            " ('4', 216.66666666666666),\n",
            " ('2', 208.33333333333334),\n",
            " ('3', 16.666666666666668),\n",
            " ('5', 216.66666666666666),\n",
            " ('6', 333.3333333333333)]\n"
          ]
        }
      ]
    },
    {
      "cell_type": "markdown",
      "source": [
        "# **DATAFRAME**"
      ],
      "metadata": {
        "id": "ojob0rIRD7aU"
      }
    },
    {
      "cell_type": "markdown",
      "source": [
        "# Вспомогательные функции"
      ],
      "metadata": {
        "id": "RimZITiTdfgW"
      }
    },
    {
      "cell_type": "code",
      "source": [
        "from pyspark.sql.types import *\n",
        "class Parameters:\n",
        "  path_laptop = \"/content/drive/MyDrive/DE/LabDF/dataset/laptop/laptop.txt\"\n",
        "  path_pc = \"/content/drive/MyDrive/DE/LabDF/dataset/pc/pc.txt\"\n",
        "  path_printer = \"/content/drive/MyDrive/DE/LabDF/dataset/printer/printer.txt\"\n",
        "  path_product = \"/content/drive/MyDrive/DE/LabDF/dataset/product/product.txt\"\n",
        "\n",
        "  table_laptop = \"laptop\"\n",
        "  table_pc = \"pc\"\n",
        "  table_printer = \"printer\"\n",
        "  table_product = \"product\"\n",
        "\n",
        "  def createTable(self, name:str, spark:SparkSession, structType: StructType, path:str, delimiter: str = ','):\n",
        "      spark.read\\\n",
        "            .options(delimiter = delimiter, nullValue = \"\\\\N\")\\\n",
        "            .schema(structType)\\\n",
        "            .csv(path)\\\n",
        "            .createOrReplaceTempView(name)\n",
        "  def initTables(self, spark:SparkSession):\n",
        "    self.createTable(Parameters.table_pc, spark, PC.structType, Parameters.path_pc)\n",
        "    self.createTable(Parameters.table_product, spark, Product.structType, Parameters.path_product)"
      ],
      "metadata": {
        "id": "Xn9zKwS0K6rL"
      },
      "execution_count": 174,
      "outputs": []
    },
    {
      "cell_type": "code",
      "source": [
        "class PC:\n",
        "  structType = StructType([\n",
        "      StructField(\"ID\", IntegerType()),\n",
        "      StructField(\"MODEL\", IntegerType()),\n",
        "      StructField(\"SPEED\", IntegerType()),\n",
        "      StructField(\"RAM\", IntegerType()),\n",
        "      StructField(\"C2\", IntegerType()),\n",
        "      StructField(\"C3\", StringType()),\n",
        "      StructField(\"PRICE\", IntegerType()),\n",
        "  ])\n",
        "class Product:\n",
        "  structType = StructType([\n",
        "      StructField(\"Maker\", StringType()),\n",
        "      StructField(\"Model\", StringType()),\n",
        "      StructField(\"Type\", StringType())\n",
        "  ])"
      ],
      "metadata": {
        "id": "8orCH6v_TaX6"
      },
      "execution_count": 175,
      "outputs": []
    },
    {
      "cell_type": "code",
      "source": [
        "p = Parameters()\n",
        "p.initTables(spark)"
      ],
      "metadata": {
        "id": "TxRB6jrHUGN2",
        "colab": {
          "base_uri": "https://localhost:8080/",
          "height": 319
        },
        "outputId": "78440635-2226-4f5b-f0d6-88acc962901d"
      },
      "execution_count": 176,
      "outputs": [
        {
          "output_type": "error",
          "ename": "AnalysisException",
          "evalue": "[PATH_NOT_FOUND] Path does not exist: file:/content/drive/MyDrive/DE/LabDF/dataset/pc/pc.txt.",
          "traceback": [
            "\u001b[0;31m---------------------------------------------------------------------------\u001b[0m",
            "\u001b[0;31mAnalysisException\u001b[0m                         Traceback (most recent call last)",
            "\u001b[0;32m<ipython-input-176-6253bc09f09a>\u001b[0m in \u001b[0;36m<cell line: 2>\u001b[0;34m()\u001b[0m\n\u001b[1;32m      1\u001b[0m \u001b[0mp\u001b[0m \u001b[0;34m=\u001b[0m \u001b[0mParameters\u001b[0m\u001b[0;34m(\u001b[0m\u001b[0;34m)\u001b[0m\u001b[0;34m\u001b[0m\u001b[0;34m\u001b[0m\u001b[0m\n\u001b[0;32m----> 2\u001b[0;31m \u001b[0mp\u001b[0m\u001b[0;34m.\u001b[0m\u001b[0minitTables\u001b[0m\u001b[0;34m(\u001b[0m\u001b[0mspark\u001b[0m\u001b[0;34m)\u001b[0m\u001b[0;34m\u001b[0m\u001b[0;34m\u001b[0m\u001b[0m\n\u001b[0m",
            "\u001b[0;32m<ipython-input-174-724647ee3683>\u001b[0m in \u001b[0;36minitTables\u001b[0;34m(self, spark)\u001b[0m\n\u001b[1;32m     18\u001b[0m             \u001b[0;34m.\u001b[0m\u001b[0mcreateOrReplaceTempView\u001b[0m\u001b[0;34m(\u001b[0m\u001b[0mname\u001b[0m\u001b[0;34m)\u001b[0m\u001b[0;34m\u001b[0m\u001b[0;34m\u001b[0m\u001b[0m\n\u001b[1;32m     19\u001b[0m   \u001b[0;32mdef\u001b[0m \u001b[0minitTables\u001b[0m\u001b[0;34m(\u001b[0m\u001b[0mself\u001b[0m\u001b[0;34m,\u001b[0m \u001b[0mspark\u001b[0m\u001b[0;34m:\u001b[0m\u001b[0mSparkSession\u001b[0m\u001b[0;34m)\u001b[0m\u001b[0;34m:\u001b[0m\u001b[0;34m\u001b[0m\u001b[0;34m\u001b[0m\u001b[0m\n\u001b[0;32m---> 20\u001b[0;31m     \u001b[0mself\u001b[0m\u001b[0;34m.\u001b[0m\u001b[0mcreateTable\u001b[0m\u001b[0;34m(\u001b[0m\u001b[0mParameters\u001b[0m\u001b[0;34m.\u001b[0m\u001b[0mtable_pc\u001b[0m\u001b[0;34m,\u001b[0m \u001b[0mspark\u001b[0m\u001b[0;34m,\u001b[0m \u001b[0mPC\u001b[0m\u001b[0;34m.\u001b[0m\u001b[0mstructType\u001b[0m\u001b[0;34m,\u001b[0m \u001b[0mParameters\u001b[0m\u001b[0;34m.\u001b[0m\u001b[0mpath_pc\u001b[0m\u001b[0;34m)\u001b[0m\u001b[0;34m\u001b[0m\u001b[0;34m\u001b[0m\u001b[0m\n\u001b[0m\u001b[1;32m     21\u001b[0m     \u001b[0mself\u001b[0m\u001b[0;34m.\u001b[0m\u001b[0mcreateTable\u001b[0m\u001b[0;34m(\u001b[0m\u001b[0mParameters\u001b[0m\u001b[0;34m.\u001b[0m\u001b[0mtable_product\u001b[0m\u001b[0;34m,\u001b[0m \u001b[0mspark\u001b[0m\u001b[0;34m,\u001b[0m \u001b[0mProduct\u001b[0m\u001b[0;34m.\u001b[0m\u001b[0mstructType\u001b[0m\u001b[0;34m,\u001b[0m \u001b[0mParameters\u001b[0m\u001b[0;34m.\u001b[0m\u001b[0mpath_product\u001b[0m\u001b[0;34m)\u001b[0m\u001b[0;34m\u001b[0m\u001b[0;34m\u001b[0m\u001b[0m\n",
            "\u001b[0;32m<ipython-input-174-724647ee3683>\u001b[0m in \u001b[0;36mcreateTable\u001b[0;34m(self, name, spark, structType, path, delimiter)\u001b[0m\n\u001b[1;32m     15\u001b[0m             \u001b[0;34m.\u001b[0m\u001b[0moptions\u001b[0m\u001b[0;34m(\u001b[0m\u001b[0mdelimiter\u001b[0m \u001b[0;34m=\u001b[0m \u001b[0mdelimiter\u001b[0m\u001b[0;34m,\u001b[0m \u001b[0mnullValue\u001b[0m \u001b[0;34m=\u001b[0m \u001b[0;34m\"\\\\N\"\u001b[0m\u001b[0;34m)\u001b[0m\u001b[0;31m\\\u001b[0m\u001b[0;34m\u001b[0m\u001b[0;34m\u001b[0m\u001b[0m\n\u001b[1;32m     16\u001b[0m             \u001b[0;34m.\u001b[0m\u001b[0mschema\u001b[0m\u001b[0;34m(\u001b[0m\u001b[0mstructType\u001b[0m\u001b[0;34m)\u001b[0m\u001b[0;31m\\\u001b[0m\u001b[0;34m\u001b[0m\u001b[0;34m\u001b[0m\u001b[0m\n\u001b[0;32m---> 17\u001b[0;31m             \u001b[0;34m.\u001b[0m\u001b[0mcsv\u001b[0m\u001b[0;34m(\u001b[0m\u001b[0mpath\u001b[0m\u001b[0;34m)\u001b[0m\u001b[0;31m\\\u001b[0m\u001b[0;34m\u001b[0m\u001b[0;34m\u001b[0m\u001b[0m\n\u001b[0m\u001b[1;32m     18\u001b[0m             \u001b[0;34m.\u001b[0m\u001b[0mcreateOrReplaceTempView\u001b[0m\u001b[0;34m(\u001b[0m\u001b[0mname\u001b[0m\u001b[0;34m)\u001b[0m\u001b[0;34m\u001b[0m\u001b[0;34m\u001b[0m\u001b[0m\n\u001b[1;32m     19\u001b[0m   \u001b[0;32mdef\u001b[0m \u001b[0minitTables\u001b[0m\u001b[0;34m(\u001b[0m\u001b[0mself\u001b[0m\u001b[0;34m,\u001b[0m \u001b[0mspark\u001b[0m\u001b[0;34m:\u001b[0m\u001b[0mSparkSession\u001b[0m\u001b[0;34m)\u001b[0m\u001b[0;34m:\u001b[0m\u001b[0;34m\u001b[0m\u001b[0;34m\u001b[0m\u001b[0m\n",
            "\u001b[0;32m/usr/local/lib/python3.10/dist-packages/pyspark/sql/readwriter.py\u001b[0m in \u001b[0;36mcsv\u001b[0;34m(self, path, schema, sep, encoding, quote, escape, comment, header, inferSchema, ignoreLeadingWhiteSpace, ignoreTrailingWhiteSpace, nullValue, nanValue, positiveInf, negativeInf, dateFormat, timestampFormat, maxColumns, maxCharsPerColumn, maxMalformedLogPerPartition, mode, columnNameOfCorruptRecord, multiLine, charToEscapeQuoteEscaping, samplingRatio, enforceSchema, emptyValue, locale, lineSep, pathGlobFilter, recursiveFileLookup, modifiedBefore, modifiedAfter, unescapedQuoteHandling)\u001b[0m\n\u001b[1;32m    738\u001b[0m         \u001b[0;32mif\u001b[0m \u001b[0mtype\u001b[0m\u001b[0;34m(\u001b[0m\u001b[0mpath\u001b[0m\u001b[0;34m)\u001b[0m \u001b[0;34m==\u001b[0m \u001b[0mlist\u001b[0m\u001b[0;34m:\u001b[0m\u001b[0;34m\u001b[0m\u001b[0;34m\u001b[0m\u001b[0m\n\u001b[1;32m    739\u001b[0m             \u001b[0;32massert\u001b[0m \u001b[0mself\u001b[0m\u001b[0;34m.\u001b[0m\u001b[0m_spark\u001b[0m\u001b[0;34m.\u001b[0m\u001b[0m_sc\u001b[0m\u001b[0;34m.\u001b[0m\u001b[0m_jvm\u001b[0m \u001b[0;32mis\u001b[0m \u001b[0;32mnot\u001b[0m \u001b[0;32mNone\u001b[0m\u001b[0;34m\u001b[0m\u001b[0;34m\u001b[0m\u001b[0m\n\u001b[0;32m--> 740\u001b[0;31m             \u001b[0;32mreturn\u001b[0m \u001b[0mself\u001b[0m\u001b[0;34m.\u001b[0m\u001b[0m_df\u001b[0m\u001b[0;34m(\u001b[0m\u001b[0mself\u001b[0m\u001b[0;34m.\u001b[0m\u001b[0m_jreader\u001b[0m\u001b[0;34m.\u001b[0m\u001b[0mcsv\u001b[0m\u001b[0;34m(\u001b[0m\u001b[0mself\u001b[0m\u001b[0;34m.\u001b[0m\u001b[0m_spark\u001b[0m\u001b[0;34m.\u001b[0m\u001b[0m_sc\u001b[0m\u001b[0;34m.\u001b[0m\u001b[0m_jvm\u001b[0m\u001b[0;34m.\u001b[0m\u001b[0mPythonUtils\u001b[0m\u001b[0;34m.\u001b[0m\u001b[0mtoSeq\u001b[0m\u001b[0;34m(\u001b[0m\u001b[0mpath\u001b[0m\u001b[0;34m)\u001b[0m\u001b[0;34m)\u001b[0m\u001b[0;34m)\u001b[0m\u001b[0;34m\u001b[0m\u001b[0;34m\u001b[0m\u001b[0m\n\u001b[0m\u001b[1;32m    741\u001b[0m         \u001b[0;32melif\u001b[0m \u001b[0misinstance\u001b[0m\u001b[0;34m(\u001b[0m\u001b[0mpath\u001b[0m\u001b[0;34m,\u001b[0m \u001b[0mRDD\u001b[0m\u001b[0;34m)\u001b[0m\u001b[0;34m:\u001b[0m\u001b[0;34m\u001b[0m\u001b[0;34m\u001b[0m\u001b[0m\n\u001b[1;32m    742\u001b[0m \u001b[0;34m\u001b[0m\u001b[0m\n",
            "\u001b[0;32m/usr/local/lib/python3.10/dist-packages/py4j/java_gateway.py\u001b[0m in \u001b[0;36m__call__\u001b[0;34m(self, *args)\u001b[0m\n\u001b[1;32m   1320\u001b[0m \u001b[0;34m\u001b[0m\u001b[0m\n\u001b[1;32m   1321\u001b[0m         \u001b[0manswer\u001b[0m \u001b[0;34m=\u001b[0m \u001b[0mself\u001b[0m\u001b[0;34m.\u001b[0m\u001b[0mgateway_client\u001b[0m\u001b[0;34m.\u001b[0m\u001b[0msend_command\u001b[0m\u001b[0;34m(\u001b[0m\u001b[0mcommand\u001b[0m\u001b[0;34m)\u001b[0m\u001b[0;34m\u001b[0m\u001b[0;34m\u001b[0m\u001b[0m\n\u001b[0;32m-> 1322\u001b[0;31m         return_value = get_return_value(\n\u001b[0m\u001b[1;32m   1323\u001b[0m             answer, self.gateway_client, self.target_id, self.name)\n\u001b[1;32m   1324\u001b[0m \u001b[0;34m\u001b[0m\u001b[0m\n",
            "\u001b[0;32m/usr/local/lib/python3.10/dist-packages/pyspark/errors/exceptions/captured.py\u001b[0m in \u001b[0;36mdeco\u001b[0;34m(*a, **kw)\u001b[0m\n\u001b[1;32m    183\u001b[0m                 \u001b[0;31m# Hide where the exception came from that shows a non-Pythonic\u001b[0m\u001b[0;34m\u001b[0m\u001b[0;34m\u001b[0m\u001b[0m\n\u001b[1;32m    184\u001b[0m                 \u001b[0;31m# JVM exception message.\u001b[0m\u001b[0;34m\u001b[0m\u001b[0;34m\u001b[0m\u001b[0m\n\u001b[0;32m--> 185\u001b[0;31m                 \u001b[0;32mraise\u001b[0m \u001b[0mconverted\u001b[0m \u001b[0;32mfrom\u001b[0m \u001b[0;32mNone\u001b[0m\u001b[0;34m\u001b[0m\u001b[0;34m\u001b[0m\u001b[0m\n\u001b[0m\u001b[1;32m    186\u001b[0m             \u001b[0;32melse\u001b[0m\u001b[0;34m:\u001b[0m\u001b[0;34m\u001b[0m\u001b[0;34m\u001b[0m\u001b[0m\n\u001b[1;32m    187\u001b[0m                 \u001b[0;32mraise\u001b[0m\u001b[0;34m\u001b[0m\u001b[0;34m\u001b[0m\u001b[0m\n",
            "\u001b[0;31mAnalysisException\u001b[0m: [PATH_NOT_FOUND] Path does not exist: file:/content/drive/MyDrive/DE/LabDF/dataset/pc/pc.txt."
          ]
        }
      ]
    },
    {
      "cell_type": "markdown",
      "source": [
        "# Задача 1\n",
        "Для каждого значения скорости ПК, превышающего 600 МГц, определите среднюю цену ПК с такой же скоростью.\n",
        "Вывести: speed, средняя цена.\n",
        "\n",
        "SELECT pc.speed, AVG(pc.price)\n",
        "FROM pc\n",
        "WHERE pc.speed > 600\n",
        "GROUP BY pc.speed\n",
        ")"
      ],
      "metadata": {
        "id": "OQWCmmxMdo0X"
      }
    },
    {
      "cell_type": "code",
      "source": [
        "from pyspark.sql.functions import col, avg\n",
        "pc = spark.read.table(\"pc\")\\\n",
        "              .select(\"speed\",\"price\")\\\n",
        "              .filter(col(\"price\") > 600)\\\n",
        "              .groupBy(\"speed\")\\\n",
        "              .agg(avg(col(\"price\")).alias(\"avg_price\"))\\\n",
        "              .select(\"speed\",\"avg_price\").show()"
      ],
      "metadata": {
        "id": "kTTcefXbdobG"
      },
      "execution_count": null,
      "outputs": []
    },
    {
      "cell_type": "markdown",
      "source": [
        "# Задача 2\n",
        "Вывести все строки из таблицы Product, кроме трех строк с наименьшими номерами моделей и трех строк с наибольшими номерами моделей.\n",
        "\n",
        "  Select maker, model, type from\n",
        "  (\n",
        "  Select\n",
        "  row_number() over (order by model) p1,\n",
        "  row_number() over (order by model DESC) p2,\n",
        "  from Product\n",
        "  ) t1\n",
        "  where p1 > 3 and p2 > 3\n"
      ],
      "metadata": {
        "id": "tNLA4oxPfL-L"
      }
    },
    {
      "cell_type": "code",
      "source": [
        "from pyspark.sql.window import Window\n",
        "from pyspark.sql.functions import row_number, desc\n",
        "\n",
        "product = spark.table(\"product\")\n",
        "MaxVal = Window.orderBy(\"model\")\n",
        "product1 = product.withColumn(\"p1\", row_number().over(MaxVal))\n",
        "MinVal = Window.orderBy(desc(\"model\"))\n",
        "product1.withColumn(\"p2\", row_number().over(MinVal))\\\n",
        "        .select(\"maker\", \"model\", \"type\")\\\n",
        "        .filter((col(\"p1\")>3) & (col(\"p2\")>3)).show()"
      ],
      "metadata": {
        "id": "QdHwvInSVnve"
      },
      "execution_count": null,
      "outputs": []
    },
    {
      "cell_type": "markdown",
      "source": [
        "# Задача 3\n",
        "  Найти тех производителей ПК, все модели ПК которых имеются в таблице PC.\n",
        "\n",
        "  SELECT p.maker\n",
        "  FROM product p\n",
        "  LEFT JOIN pc ON pc.model = p.model\n",
        "  WHERE p.type = 'PC'\n",
        "  GROUP BY p.maker\n",
        "  HAVING COUNT(p.model) = COUNT(pc.model)\n",
        "  "
      ],
      "metadata": {
        "id": "ZBftHNDgb6lZ"
      }
    },
    {
      "cell_type": "code",
      "source": [],
      "metadata": {
        "id": "ZFNbFTsAcCPN"
      },
      "execution_count": null,
      "outputs": []
    },
    {
      "cell_type": "markdown",
      "source": [
        "# Задача 4\n",
        "Найдите производителей принтеров, которые производят ПК с наименьшим объемом RAM и с самым быстрым процессором среди всех ПК, имеющих наименьший объем RAM. Вывести: Maker\n",
        "\n",
        "  SELECT DISTINCT maker\n",
        "  FROM product\n",
        "   WHERE model IN (\n",
        "  SELECT model\n",
        "  FROM pc\n",
        "  WHERE ram = (\n",
        "    SELECT MIN(ram)\n",
        "    FROM pc\n",
        "    )\n",
        "  AND speed = (\n",
        "    SELECT MAX(speed)\n",
        "    FROM pc\n",
        "    WHERE ram = (\n",
        "     SELECT MIN(ram)\n",
        "     FROM pc\n",
        "     )\n",
        "    )\n",
        "  )\n",
        "  AND\n",
        "  maker IN (\n",
        "  SELECT maker\n",
        "  FROM product\n",
        "  WHERE type='printer'\n",
        "  )"
      ],
      "metadata": {
        "id": "8yyjsu7qiaw_"
      }
    },
    {
      "cell_type": "code",
      "source": [],
      "metadata": {
        "id": "phUlVWmShfdd"
      },
      "execution_count": null,
      "outputs": []
    },
    {
      "cell_type": "code",
      "source": [],
      "metadata": {
        "id": "5RBFmqeejyZ8"
      },
      "execution_count": null,
      "outputs": []
    }
  ]
}