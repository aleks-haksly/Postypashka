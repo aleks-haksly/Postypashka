{
  "nbformat": 4,
  "nbformat_minor": 0,
  "metadata": {
    "colab": {
      "provenance": [],
      "include_colab_link": true
    },
    "kernelspec": {
      "name": "python3",
      "display_name": "Python 3"
    },
    "language_info": {
      "name": "python"
    }
  },
  "cells": [
    {
      "cell_type": "markdown",
      "metadata": {
        "id": "view-in-github",
        "colab_type": "text"
      },
      "source": [
        "<a href=\"https://colab.research.google.com/github/aleks-haksly/Postypashka/blob/main/DE/01%20HW/HW_1.ipynb\" target=\"_parent\"><img src=\"https://colab.research.google.com/assets/colab-badge.svg\" alt=\"Open In Colab\"/></a>"
      ]
    },
    {
      "cell_type": "code",
      "source": [
        "import pandas as pd\n",
        "from pprint import pprint"
      ],
      "metadata": {
        "id": "Ed1VKtJnDZwM"
      },
      "execution_count": 2,
      "outputs": []
    },
    {
      "cell_type": "code",
      "execution_count": 3,
      "metadata": {
        "colab": {
          "base_uri": "https://localhost:8080/"
        },
        "id": "cZA51hxsORmE",
        "outputId": "88802cb3-51ed-452c-b7d1-65e63c581f22"
      },
      "outputs": [
        {
          "output_type": "stream",
          "name": "stdout",
          "text": [
            "\u001b[2K     \u001b[90m━━━━━━━━━━━━━━━━━━━━━━━━━━━━━━━━━━━━━━━━\u001b[0m \u001b[32m317.3/317.3 MB\u001b[0m \u001b[31m5.0 MB/s\u001b[0m eta \u001b[36m0:00:00\u001b[0m\n",
            "\u001b[?25h  Preparing metadata (setup.py) ... \u001b[?25l\u001b[?25hdone\n",
            "  Building wheel for pyspark (setup.py) ... \u001b[?25l\u001b[?25hdone\n"
          ]
        }
      ],
      "source": [
        "!pip install pyspark -q"
      ]
    },
    {
      "cell_type": "code",
      "source": [
        "from pyspark.sql import SparkSession\n",
        "spark = SparkSession.builder.master('local[*]').getOrCreate()"
      ],
      "metadata": {
        "id": "Q3Cfbn2HOkAk"
      },
      "execution_count": 4,
      "outputs": []
    },
    {
      "cell_type": "code",
      "source": [
        "spark"
      ],
      "metadata": {
        "colab": {
          "base_uri": "https://localhost:8080/",
          "height": 222
        },
        "id": "7HznaphmwakL",
        "outputId": "41ecd1b1-38ca-4143-a272-2b0f0432667e"
      },
      "execution_count": 5,
      "outputs": [
        {
          "output_type": "execute_result",
          "data": {
            "text/plain": [
              "<pyspark.sql.session.SparkSession at 0x7c4a162b6dd0>"
            ],
            "text/html": [
              "\n",
              "            <div>\n",
              "                <p><b>SparkSession - in-memory</b></p>\n",
              "                \n",
              "        <div>\n",
              "            <p><b>SparkContext</b></p>\n",
              "\n",
              "            <p><a href=\"http://cdd5290f948d:4040\">Spark UI</a></p>\n",
              "\n",
              "            <dl>\n",
              "              <dt>Version</dt>\n",
              "                <dd><code>v3.5.2</code></dd>\n",
              "              <dt>Master</dt>\n",
              "                <dd><code>local[*]</code></dd>\n",
              "              <dt>AppName</dt>\n",
              "                <dd><code>pyspark-shell</code></dd>\n",
              "            </dl>\n",
              "        </div>\n",
              "        \n",
              "            </div>\n",
              "        "
            ]
          },
          "metadata": {},
          "execution_count": 5
        }
      ]
    },
    {
      "cell_type": "markdown",
      "source": [
        "#**RDD**"
      ],
      "metadata": {
        "id": "AAJjAlqsDu0M"
      }
    },
    {
      "cell_type": "markdown",
      "source": [
        "# Вспомогательные функции\n"
      ],
      "metadata": {
        "id": "_l3bTFHPkxqd"
      }
    },
    {
      "cell_type": "code",
      "source": [
        "!wget \"https://raw.githubusercontent.com/aleks-haksly/Postypashka/main/DE/01%20HW/datasets/RDD/dataset/order/order.csv\" -q\n",
        "!wget \"https://raw.githubusercontent.com/aleks-haksly/Postypashka/main/DE/01%20HW/datasets/RDD/dataset/customer/customer.csv\" -q\n",
        "!wget \"https://raw.githubusercontent.com/aleks-haksly/Postypashka/main/DE/01%20HW/datasets/RDD/dataset/product/product.csv\" -q"
      ],
      "metadata": {
        "id": "v6swmv8hMynU"
      },
      "execution_count": 6,
      "outputs": []
    },
    {
      "cell_type": "code",
      "source": [
        "path_to_order = \"/content/order.csv\"\n",
        "path_to_customer = \"/content/customer.csv\"\n",
        "path_to_product = \"/content/product.csv\"\n",
        "\n",
        "def createRDD(spark:SparkSession, path):\n",
        "  return spark.sparkContext.textFile(path)\\\n",
        "                    .map(lambda x: x.split('\\t'))"
      ],
      "metadata": {
        "id": "0gcVpRsKk2aF"
      },
      "execution_count": 7,
      "outputs": []
    },
    {
      "cell_type": "markdown",
      "source": [
        "  # Задача 1\n",
        "  * 1. Загрузить в RDD файл src/test/resources/input/order\n",
        "  * 2. Выбрать строки в которых поле статус заказа delivered\n",
        "  * 3. Выбрать ключ (customerID), значение (numberOfProduct, 1)\n",
        "  * 4. Написать функцию reduce для расчёта\n",
        "  * 5. Применит к RDD из п.3 метод reduceByKey c функцией из п.4\n",
        "  * 6. Вывести или записать результат"
      ],
      "metadata": {
        "id": "BcACIvWiYggX"
      }
    },
    {
      "cell_type": "code",
      "source": [
        "orders = spark.sparkContext.textFile(path_to_order)\n",
        "orders = orders.map(lambda x: x.split('\\t'))\\\n",
        "              .filter(lambda x: 'delivered' in x[5])\\\n",
        "              .map(lambda x: (x[0], (x[3],1)))\\\n",
        "              .reduceByKey(lambda x,y: ((int(x[0])+int(y[0])),(x[1]+y[1]))).take(5)\n",
        "\n",
        "pprint(orders)"
      ],
      "metadata": {
        "colab": {
          "base_uri": "https://localhost:8080/"
        },
        "id": "pvGQWl4pF1MN",
        "outputId": "e422e590-1c9e-472c-901c-7d7117d4efa5"
      },
      "execution_count": 8,
      "outputs": [
        {
          "output_type": "stream",
          "name": "stdout",
          "text": [
            "[('1', (3000, 9)),\n",
            " ('4', (1300, 8)),\n",
            " ('2', (1250, 11)),\n",
            " ('3', ('100', 1)),\n",
            " ('5', (1300, 8))]\n"
          ]
        }
      ]
    },
    {
      "cell_type": "markdown",
      "source": [
        "# Задача 2\n",
        "   * 1. Загрузить в RDD файл src/test/resources/input/order\n",
        "   * 2. Распарсить строки RDD\n",
        "   * 3. Выбрать ключ поле (customerID), в значение (orderDate, numberOfProduct, productID)\n",
        "   * 4. Загрузить в RDD файл customer\n",
        "   * 5. Распарсить строки RDD\n",
        "   * 6. Выбрать ключ поле (id), в значение (name)\n",
        "   * 7. Выполнить внутреннее соединение RDD из п.6 и п.9\n",
        "   * 8. Выбрать ключ (productID), в значение (customer.name, orderDate,  numberOfProduct)\n",
        "   * 9. Загрузить в RDD файл product.csv\n",
        "   * 10. Распарсить строки RDD\n",
        "   * 11. Выбрать ключ (id), значение (price)\n",
        "   * 12. Выполнить внутреннее соединение с RDD из п.11 и п.14\n",
        "   * 13. Выбрать ключ (customer.name, order.orderDate), значение (order.numberOfProduct * product.price)\n",
        "   * 14. Расчитать сумму в значении по ключу\n",
        "   * 15. Вывести результат"
      ],
      "metadata": {
        "id": "ioq_0k79XVIX"
      }
    },
    {
      "cell_type": "code",
      "source": [
        "pd.read_csv(path_to_order, sep='\\t', header=None, names=['customerID_0', 'oderID_1', 'productID_2', 'numberOfProduct_3', 'orderDate_4', 'status_5']).head()"
      ],
      "metadata": {
        "colab": {
          "base_uri": "https://localhost:8080/",
          "height": 206
        },
        "id": "S9U9y_2HDft1",
        "outputId": "d4929f9b-e9d6-4add-f306-2ccef338e791"
      },
      "execution_count": 9,
      "outputs": [
        {
          "output_type": "execute_result",
          "data": {
            "text/plain": [
              "   customerID_0  oderID_1  productID_2  numberOfProduct_3 orderDate_4  \\\n",
              "0             1        21            3                500  2018-02-23   \n",
              "1             1        22            1                300  2018-02-23   \n",
              "2             1        23            2                300  2018-02-23   \n",
              "3             1        24            1                500  2018-03-23   \n",
              "4             1        25            2                300  2018-03-23   \n",
              "\n",
              "    status_5  \n",
              "0  delivered  \n",
              "1  delivered  \n",
              "2  delivered  \n",
              "3  delivered  \n",
              "4  delivered  "
            ],
            "text/html": [
              "\n",
              "  <div id=\"df-c06f766a-cf92-4f58-bf36-6c5d94b8fa2c\" class=\"colab-df-container\">\n",
              "    <div>\n",
              "<style scoped>\n",
              "    .dataframe tbody tr th:only-of-type {\n",
              "        vertical-align: middle;\n",
              "    }\n",
              "\n",
              "    .dataframe tbody tr th {\n",
              "        vertical-align: top;\n",
              "    }\n",
              "\n",
              "    .dataframe thead th {\n",
              "        text-align: right;\n",
              "    }\n",
              "</style>\n",
              "<table border=\"1\" class=\"dataframe\">\n",
              "  <thead>\n",
              "    <tr style=\"text-align: right;\">\n",
              "      <th></th>\n",
              "      <th>customerID_0</th>\n",
              "      <th>oderID_1</th>\n",
              "      <th>productID_2</th>\n",
              "      <th>numberOfProduct_3</th>\n",
              "      <th>orderDate_4</th>\n",
              "      <th>status_5</th>\n",
              "    </tr>\n",
              "  </thead>\n",
              "  <tbody>\n",
              "    <tr>\n",
              "      <th>0</th>\n",
              "      <td>1</td>\n",
              "      <td>21</td>\n",
              "      <td>3</td>\n",
              "      <td>500</td>\n",
              "      <td>2018-02-23</td>\n",
              "      <td>delivered</td>\n",
              "    </tr>\n",
              "    <tr>\n",
              "      <th>1</th>\n",
              "      <td>1</td>\n",
              "      <td>22</td>\n",
              "      <td>1</td>\n",
              "      <td>300</td>\n",
              "      <td>2018-02-23</td>\n",
              "      <td>delivered</td>\n",
              "    </tr>\n",
              "    <tr>\n",
              "      <th>2</th>\n",
              "      <td>1</td>\n",
              "      <td>23</td>\n",
              "      <td>2</td>\n",
              "      <td>300</td>\n",
              "      <td>2018-02-23</td>\n",
              "      <td>delivered</td>\n",
              "    </tr>\n",
              "    <tr>\n",
              "      <th>3</th>\n",
              "      <td>1</td>\n",
              "      <td>24</td>\n",
              "      <td>1</td>\n",
              "      <td>500</td>\n",
              "      <td>2018-03-23</td>\n",
              "      <td>delivered</td>\n",
              "    </tr>\n",
              "    <tr>\n",
              "      <th>4</th>\n",
              "      <td>1</td>\n",
              "      <td>25</td>\n",
              "      <td>2</td>\n",
              "      <td>300</td>\n",
              "      <td>2018-03-23</td>\n",
              "      <td>delivered</td>\n",
              "    </tr>\n",
              "  </tbody>\n",
              "</table>\n",
              "</div>\n",
              "    <div class=\"colab-df-buttons\">\n",
              "\n",
              "  <div class=\"colab-df-container\">\n",
              "    <button class=\"colab-df-convert\" onclick=\"convertToInteractive('df-c06f766a-cf92-4f58-bf36-6c5d94b8fa2c')\"\n",
              "            title=\"Convert this dataframe to an interactive table.\"\n",
              "            style=\"display:none;\">\n",
              "\n",
              "  <svg xmlns=\"http://www.w3.org/2000/svg\" height=\"24px\" viewBox=\"0 -960 960 960\">\n",
              "    <path d=\"M120-120v-720h720v720H120Zm60-500h600v-160H180v160Zm220 220h160v-160H400v160Zm0 220h160v-160H400v160ZM180-400h160v-160H180v160Zm440 0h160v-160H620v160ZM180-180h160v-160H180v160Zm440 0h160v-160H620v160Z\"/>\n",
              "  </svg>\n",
              "    </button>\n",
              "\n",
              "  <style>\n",
              "    .colab-df-container {\n",
              "      display:flex;\n",
              "      gap: 12px;\n",
              "    }\n",
              "\n",
              "    .colab-df-convert {\n",
              "      background-color: #E8F0FE;\n",
              "      border: none;\n",
              "      border-radius: 50%;\n",
              "      cursor: pointer;\n",
              "      display: none;\n",
              "      fill: #1967D2;\n",
              "      height: 32px;\n",
              "      padding: 0 0 0 0;\n",
              "      width: 32px;\n",
              "    }\n",
              "\n",
              "    .colab-df-convert:hover {\n",
              "      background-color: #E2EBFA;\n",
              "      box-shadow: 0px 1px 2px rgba(60, 64, 67, 0.3), 0px 1px 3px 1px rgba(60, 64, 67, 0.15);\n",
              "      fill: #174EA6;\n",
              "    }\n",
              "\n",
              "    .colab-df-buttons div {\n",
              "      margin-bottom: 4px;\n",
              "    }\n",
              "\n",
              "    [theme=dark] .colab-df-convert {\n",
              "      background-color: #3B4455;\n",
              "      fill: #D2E3FC;\n",
              "    }\n",
              "\n",
              "    [theme=dark] .colab-df-convert:hover {\n",
              "      background-color: #434B5C;\n",
              "      box-shadow: 0px 1px 3px 1px rgba(0, 0, 0, 0.15);\n",
              "      filter: drop-shadow(0px 1px 2px rgba(0, 0, 0, 0.3));\n",
              "      fill: #FFFFFF;\n",
              "    }\n",
              "  </style>\n",
              "\n",
              "    <script>\n",
              "      const buttonEl =\n",
              "        document.querySelector('#df-c06f766a-cf92-4f58-bf36-6c5d94b8fa2c button.colab-df-convert');\n",
              "      buttonEl.style.display =\n",
              "        google.colab.kernel.accessAllowed ? 'block' : 'none';\n",
              "\n",
              "      async function convertToInteractive(key) {\n",
              "        const element = document.querySelector('#df-c06f766a-cf92-4f58-bf36-6c5d94b8fa2c');\n",
              "        const dataTable =\n",
              "          await google.colab.kernel.invokeFunction('convertToInteractive',\n",
              "                                                    [key], {});\n",
              "        if (!dataTable) return;\n",
              "\n",
              "        const docLinkHtml = 'Like what you see? Visit the ' +\n",
              "          '<a target=\"_blank\" href=https://colab.research.google.com/notebooks/data_table.ipynb>data table notebook</a>'\n",
              "          + ' to learn more about interactive tables.';\n",
              "        element.innerHTML = '';\n",
              "        dataTable['output_type'] = 'display_data';\n",
              "        await google.colab.output.renderOutput(dataTable, element);\n",
              "        const docLink = document.createElement('div');\n",
              "        docLink.innerHTML = docLinkHtml;\n",
              "        element.appendChild(docLink);\n",
              "      }\n",
              "    </script>\n",
              "  </div>\n",
              "\n",
              "\n",
              "<div id=\"df-42d56dca-9ebe-4f45-a9f9-b8cff1af7c68\">\n",
              "  <button class=\"colab-df-quickchart\" onclick=\"quickchart('df-42d56dca-9ebe-4f45-a9f9-b8cff1af7c68')\"\n",
              "            title=\"Suggest charts\"\n",
              "            style=\"display:none;\">\n",
              "\n",
              "<svg xmlns=\"http://www.w3.org/2000/svg\" height=\"24px\"viewBox=\"0 0 24 24\"\n",
              "     width=\"24px\">\n",
              "    <g>\n",
              "        <path d=\"M19 3H5c-1.1 0-2 .9-2 2v14c0 1.1.9 2 2 2h14c1.1 0 2-.9 2-2V5c0-1.1-.9-2-2-2zM9 17H7v-7h2v7zm4 0h-2V7h2v10zm4 0h-2v-4h2v4z\"/>\n",
              "    </g>\n",
              "</svg>\n",
              "  </button>\n",
              "\n",
              "<style>\n",
              "  .colab-df-quickchart {\n",
              "      --bg-color: #E8F0FE;\n",
              "      --fill-color: #1967D2;\n",
              "      --hover-bg-color: #E2EBFA;\n",
              "      --hover-fill-color: #174EA6;\n",
              "      --disabled-fill-color: #AAA;\n",
              "      --disabled-bg-color: #DDD;\n",
              "  }\n",
              "\n",
              "  [theme=dark] .colab-df-quickchart {\n",
              "      --bg-color: #3B4455;\n",
              "      --fill-color: #D2E3FC;\n",
              "      --hover-bg-color: #434B5C;\n",
              "      --hover-fill-color: #FFFFFF;\n",
              "      --disabled-bg-color: #3B4455;\n",
              "      --disabled-fill-color: #666;\n",
              "  }\n",
              "\n",
              "  .colab-df-quickchart {\n",
              "    background-color: var(--bg-color);\n",
              "    border: none;\n",
              "    border-radius: 50%;\n",
              "    cursor: pointer;\n",
              "    display: none;\n",
              "    fill: var(--fill-color);\n",
              "    height: 32px;\n",
              "    padding: 0;\n",
              "    width: 32px;\n",
              "  }\n",
              "\n",
              "  .colab-df-quickchart:hover {\n",
              "    background-color: var(--hover-bg-color);\n",
              "    box-shadow: 0 1px 2px rgba(60, 64, 67, 0.3), 0 1px 3px 1px rgba(60, 64, 67, 0.15);\n",
              "    fill: var(--button-hover-fill-color);\n",
              "  }\n",
              "\n",
              "  .colab-df-quickchart-complete:disabled,\n",
              "  .colab-df-quickchart-complete:disabled:hover {\n",
              "    background-color: var(--disabled-bg-color);\n",
              "    fill: var(--disabled-fill-color);\n",
              "    box-shadow: none;\n",
              "  }\n",
              "\n",
              "  .colab-df-spinner {\n",
              "    border: 2px solid var(--fill-color);\n",
              "    border-color: transparent;\n",
              "    border-bottom-color: var(--fill-color);\n",
              "    animation:\n",
              "      spin 1s steps(1) infinite;\n",
              "  }\n",
              "\n",
              "  @keyframes spin {\n",
              "    0% {\n",
              "      border-color: transparent;\n",
              "      border-bottom-color: var(--fill-color);\n",
              "      border-left-color: var(--fill-color);\n",
              "    }\n",
              "    20% {\n",
              "      border-color: transparent;\n",
              "      border-left-color: var(--fill-color);\n",
              "      border-top-color: var(--fill-color);\n",
              "    }\n",
              "    30% {\n",
              "      border-color: transparent;\n",
              "      border-left-color: var(--fill-color);\n",
              "      border-top-color: var(--fill-color);\n",
              "      border-right-color: var(--fill-color);\n",
              "    }\n",
              "    40% {\n",
              "      border-color: transparent;\n",
              "      border-right-color: var(--fill-color);\n",
              "      border-top-color: var(--fill-color);\n",
              "    }\n",
              "    60% {\n",
              "      border-color: transparent;\n",
              "      border-right-color: var(--fill-color);\n",
              "    }\n",
              "    80% {\n",
              "      border-color: transparent;\n",
              "      border-right-color: var(--fill-color);\n",
              "      border-bottom-color: var(--fill-color);\n",
              "    }\n",
              "    90% {\n",
              "      border-color: transparent;\n",
              "      border-bottom-color: var(--fill-color);\n",
              "    }\n",
              "  }\n",
              "</style>\n",
              "\n",
              "  <script>\n",
              "    async function quickchart(key) {\n",
              "      const quickchartButtonEl =\n",
              "        document.querySelector('#' + key + ' button');\n",
              "      quickchartButtonEl.disabled = true;  // To prevent multiple clicks.\n",
              "      quickchartButtonEl.classList.add('colab-df-spinner');\n",
              "      try {\n",
              "        const charts = await google.colab.kernel.invokeFunction(\n",
              "            'suggestCharts', [key], {});\n",
              "      } catch (error) {\n",
              "        console.error('Error during call to suggestCharts:', error);\n",
              "      }\n",
              "      quickchartButtonEl.classList.remove('colab-df-spinner');\n",
              "      quickchartButtonEl.classList.add('colab-df-quickchart-complete');\n",
              "    }\n",
              "    (() => {\n",
              "      let quickchartButtonEl =\n",
              "        document.querySelector('#df-42d56dca-9ebe-4f45-a9f9-b8cff1af7c68 button');\n",
              "      quickchartButtonEl.style.display =\n",
              "        google.colab.kernel.accessAllowed ? 'block' : 'none';\n",
              "    })();\n",
              "  </script>\n",
              "</div>\n",
              "\n",
              "    </div>\n",
              "  </div>\n"
            ],
            "application/vnd.google.colaboratory.intrinsic+json": {
              "type": "dataframe",
              "summary": "{\n  \"name\": \"pd\",\n  \"rows\": 5,\n  \"fields\": [\n    {\n      \"column\": \"customerID_0\",\n      \"properties\": {\n        \"dtype\": \"number\",\n        \"std\": 0,\n        \"min\": 1,\n        \"max\": 1,\n        \"num_unique_values\": 1,\n        \"samples\": [\n          1\n        ],\n        \"semantic_type\": \"\",\n        \"description\": \"\"\n      }\n    },\n    {\n      \"column\": \"oderID_1\",\n      \"properties\": {\n        \"dtype\": \"number\",\n        \"std\": 1,\n        \"min\": 21,\n        \"max\": 25,\n        \"num_unique_values\": 5,\n        \"samples\": [\n          22\n        ],\n        \"semantic_type\": \"\",\n        \"description\": \"\"\n      }\n    },\n    {\n      \"column\": \"productID_2\",\n      \"properties\": {\n        \"dtype\": \"number\",\n        \"std\": 0,\n        \"min\": 1,\n        \"max\": 3,\n        \"num_unique_values\": 3,\n        \"samples\": [\n          3\n        ],\n        \"semantic_type\": \"\",\n        \"description\": \"\"\n      }\n    },\n    {\n      \"column\": \"numberOfProduct_3\",\n      \"properties\": {\n        \"dtype\": \"number\",\n        \"std\": 109,\n        \"min\": 300,\n        \"max\": 500,\n        \"num_unique_values\": 2,\n        \"samples\": [\n          300\n        ],\n        \"semantic_type\": \"\",\n        \"description\": \"\"\n      }\n    },\n    {\n      \"column\": \"orderDate_4\",\n      \"properties\": {\n        \"dtype\": \"object\",\n        \"num_unique_values\": 2,\n        \"samples\": [\n          \"2018-03-23\"\n        ],\n        \"semantic_type\": \"\",\n        \"description\": \"\"\n      }\n    },\n    {\n      \"column\": \"status_5\",\n      \"properties\": {\n        \"dtype\": \"category\",\n        \"num_unique_values\": 1,\n        \"samples\": [\n          \"delivered\"\n        ],\n        \"semantic_type\": \"\",\n        \"description\": \"\"\n      }\n    }\n  ]\n}"
            }
          },
          "metadata": {},
          "execution_count": 9
        }
      ]
    },
    {
      "cell_type": "code",
      "source": [
        "orders = spark.sparkContext.textFile(path_to_order)\n",
        "orders = orders.map(lambda x: x.split('\\t'))\\\n",
        "              .map(lambda x: (x[0], (x[4], x[3], x[2])))\\\n",
        "\n",
        "\n",
        "pprint(orders.take(5))"
      ],
      "metadata": {
        "id": "smNWeMqmS6D5",
        "colab": {
          "base_uri": "https://localhost:8080/"
        },
        "outputId": "e9f0e29e-87ee-4754-8f5d-f05a2669c6f6"
      },
      "execution_count": 10,
      "outputs": [
        {
          "output_type": "stream",
          "name": "stdout",
          "text": [
            "[('1', ('2018-02-23', '500', '3')),\n",
            " ('1', ('2018-02-23', '300', '1')),\n",
            " ('1', ('2018-02-23', '300', '2')),\n",
            " ('1', ('2018-03-23', '500', '1')),\n",
            " ('1', ('2018-03-23', '300', '2'))]\n"
          ]
        }
      ]
    },
    {
      "cell_type": "code",
      "source": [
        "customer = spark.sparkContext.textFile(path_to_customer)\n",
        "customer = customer.map(lambda x: x.split('\\t'))\\\n",
        "              .map(lambda x: (x[0], (x[1])))\\\n",
        "\n",
        "\n",
        "pprint(customer.take(5))"
      ],
      "metadata": {
        "id": "p1-sB4PGdoDb",
        "colab": {
          "base_uri": "https://localhost:8080/"
        },
        "outputId": "caf93d8f-5385-4305-b044-1eccabd4a81e"
      },
      "execution_count": 11,
      "outputs": [
        {
          "output_type": "stream",
          "name": "stdout",
          "text": [
            "[('1', 'John'),\n",
            " ('2', 'Philip'),\n",
            " ('3', 'Vasili'),\n",
            " ('4', 'Anastasia'),\n",
            " ('5', 'Robert')]\n"
          ]
        }
      ]
    },
    {
      "cell_type": "code",
      "source": [
        "joined_rdd = orders.join(customer)\n",
        "pprint(joined_rdd.take(5))"
      ],
      "metadata": {
        "id": "dHB531_FjTKi",
        "colab": {
          "base_uri": "https://localhost:8080/"
        },
        "outputId": "00cd41d6-671a-4f3b-8a04-05b5f36b9f42"
      },
      "execution_count": 12,
      "outputs": [
        {
          "output_type": "stream",
          "name": "stdout",
          "text": [
            "[('4', (('2018-05-01', '200', '1'), 'Anastasia')),\n",
            " ('4', (('2018-05-01', '200', '2'), 'Anastasia')),\n",
            " ('4', (('2018-05-01', '200', '3'), 'Anastasia')),\n",
            " ('4', (('2018-06-01', '200', '1'), 'Anastasia')),\n",
            " ('4', (('2018-06-01', '200', '2'), 'Anastasia'))]\n"
          ]
        }
      ]
    },
    {
      "cell_type": "code",
      "source": [
        "joined_rdd = orders.join(customer)\n",
        "pprint(joined_rdd.take(5))"
      ],
      "metadata": {
        "colab": {
          "base_uri": "https://localhost:8080/"
        },
        "id": "DNnYsfBeSeL5",
        "outputId": "8f74b88e-bb4e-4c21-9e1f-6aacadee9ff9"
      },
      "execution_count": 13,
      "outputs": [
        {
          "output_type": "stream",
          "name": "stdout",
          "text": [
            "[('4', (('2018-05-01', '200', '1'), 'Anastasia')),\n",
            " ('4', (('2018-05-01', '200', '2'), 'Anastasia')),\n",
            " ('4', (('2018-05-01', '200', '3'), 'Anastasia')),\n",
            " ('4', (('2018-06-01', '200', '1'), 'Anastasia')),\n",
            " ('4', (('2018-06-01', '200', '2'), 'Anastasia'))]\n"
          ]
        }
      ]
    },
    {
      "cell_type": "code",
      "source": [
        "joined_rdd = joined_rdd.map(lambda x: (x[1][0][2], (x[1][1], x[1][0][0], x[1][0][1])))\n",
        "pprint(joined_rdd.take(5))"
      ],
      "metadata": {
        "colab": {
          "base_uri": "https://localhost:8080/"
        },
        "id": "ZHrJV0v5Sf1V",
        "outputId": "9f0aec81-6e5c-41e3-ea12-177e7354140e"
      },
      "execution_count": 14,
      "outputs": [
        {
          "output_type": "stream",
          "name": "stdout",
          "text": [
            "[('1', ('Anastasia', '2018-05-01', '200')),\n",
            " ('2', ('Anastasia', '2018-05-01', '200')),\n",
            " ('3', ('Anastasia', '2018-05-01', '200')),\n",
            " ('1', ('Anastasia', '2018-06-01', '200')),\n",
            " ('2', ('Anastasia', '2018-06-01', '200'))]\n"
          ]
        }
      ]
    },
    {
      "cell_type": "code",
      "source": [
        "product = spark.sparkContext.textFile(path_to_product)\n",
        "product = product.map(lambda x: x.split('\\t'))\\\n",
        "              .map(lambda x: (x[0], (x[2])))\n",
        "pprint(product.take(5))"
      ],
      "metadata": {
        "colab": {
          "base_uri": "https://localhost:8080/"
        },
        "id": "YSbXhxyPTh13",
        "outputId": "dd7b6c79-603a-4edd-d07e-ed4ea81782cd"
      },
      "execution_count": 15,
      "outputs": [
        {
          "output_type": "stream",
          "name": "stdout",
          "text": [
            "[('1', '45990'), ('2', '49990'), ('3', '75990'), ('4', '29990'), ('5', '54990')]\n"
          ]
        }
      ]
    },
    {
      "cell_type": "code",
      "source": [
        "joined_rdd = joined_rdd.join(product)\n",
        "pprint(joined_rdd.take(5))"
      ],
      "metadata": {
        "colab": {
          "base_uri": "https://localhost:8080/"
        },
        "id": "pJyQUoGOVAeI",
        "outputId": "2e22771f-615e-4d88-e426-c6f1d937fdf4"
      },
      "execution_count": 16,
      "outputs": [
        {
          "output_type": "stream",
          "name": "stdout",
          "text": [
            "[('4', (('Sara', '2017-07-21', '100'), '29990')),\n",
            " ('4', (('Philip', '2017-10-16', '50'), '29990')),\n",
            " ('4', (('Robert', '2017-11-01', '200'), '29990')),\n",
            " ('4', (('Robert', '2017-12-01', '200'), '29990')),\n",
            " ('4', (('Robert', '2018-01-01', '200'), '29990'))]\n"
          ]
        }
      ]
    },
    {
      "cell_type": "code",
      "source": [
        "joined_rdd_1 = joined_rdd.map(lambda x: ((x[1][0][0], x[1][0][1]), int(x[1][0][2]) * int(x[1][1])))\n",
        "pprint(joined_rdd_1.take(5))"
      ],
      "metadata": {
        "colab": {
          "base_uri": "https://localhost:8080/"
        },
        "id": "shtex-ehV4j9",
        "outputId": "a5f06ebf-10a7-4e82-85cb-d7e94eaf03a6"
      },
      "execution_count": 17,
      "outputs": [
        {
          "output_type": "stream",
          "name": "stdout",
          "text": [
            "[(('Sara', '2017-07-21'), 2999000),\n",
            " (('Philip', '2017-10-16'), 1499500),\n",
            " (('Robert', '2017-11-01'), 5998000),\n",
            " (('Robert', '2017-12-01'), 5998000),\n",
            " (('Robert', '2018-01-01'), 5998000)]\n"
          ]
        }
      ]
    },
    {
      "cell_type": "code",
      "source": [
        "joined_rdd_1.reduceByKey(lambda x,y: x+y).collect()"
      ],
      "metadata": {
        "id": "05b7-2ODXVhN",
        "outputId": "5bb88dd1-a093-4534-a6a1-4d4de1afa09b",
        "colab": {
          "base_uri": "https://localhost:8080/"
        }
      },
      "execution_count": 18,
      "outputs": [
        {
          "output_type": "execute_result",
          "data": {
            "text/plain": [
              "[(('Sara', '2017-07-21'), 64880000),\n",
              " (('Robert', '2017-12-01'), 5998000),\n",
              " (('Philip', '2018-04-16'), 19594000),\n",
              " (('Robert', '2017-11-01'), 16996000),\n",
              " (('Robert', '2018-02-01'), 2999000),\n",
              " (('Anastasia', '2018-08-01'), 15198000),\n",
              " (('Vasili', '2018-06-01'), 26795000),\n",
              " (('Anastasia', '2018-06-01'), 19196000),\n",
              " (('Robert', '2017-12-02'), 10998000),\n",
              " (('Anastasia', '2018-07-01'), 9598000),\n",
              " (('Robert', '2018-02-02'), 5499000),\n",
              " (('Philip', '2017-10-16'), 41543500),\n",
              " (('Robert', '2018-01-01'), 11497000),\n",
              " (('Anastasia', '2018-05-01'), 34394000),\n",
              " (('Vasili', '2018-05-01'), 4599000),\n",
              " (('John', '2018-02-23'), 66789000),\n",
              " (('John', '2018-03-23'), 60789000),\n",
              " (('John', '2018-05-23'), 15497000),\n",
              " (('John', '2018-04-23'), 43592000)]"
            ]
          },
          "metadata": {},
          "execution_count": 18
        }
      ]
    },
    {
      "cell_type": "markdown",
      "source": [
        "# Задача 3\n",
        " * 1. Загрузить в RDD файл src/test/resources/input/product\n",
        " * 2. Распарсить строки в RDD\n",
        " * 3. Выбрать ключ поле id, в значение name\n",
        " * 4. Загрузить в RDD файд src/test/resources/input/order\n",
        " * 5. Распарсить строки в RDD\n",
        " * 6. Выбрать ключ поле productID, в значение numberOfProduct\n",
        " * 7. Посчитать кол-во проданных продуктов\n",
        " * 8. Выполнить левое соединение двух RDD\n",
        " * 9. Выполнить фильтрацию и оставить только те строки где значение numberOfProducts 0 или None\n",
        " * 10. Вывести результат или записать в директорию"
      ],
      "metadata": {
        "id": "45RHgDpy37fv"
      }
    },
    {
      "cell_type": "code",
      "source": [
        "product = spark.sparkContext.textFile(path_to_product)\n",
        "product = product.map(lambda x: x.split('\\t'))\\\n",
        "              .map(lambda x: (x[0], (x[1])))\n",
        "pprint(product.take(5))"
      ],
      "metadata": {
        "id": "u6Gmt7NjqmV0",
        "colab": {
          "base_uri": "https://localhost:8080/"
        },
        "outputId": "8e4047e8-a135-4d97-dc34-1750dc3b741f"
      },
      "execution_count": 19,
      "outputs": [
        {
          "output_type": "stream",
          "name": "stdout",
          "text": [
            "[('1', 'Apple iPhone 7'),\n",
            " ('2', 'Apple iPhone 8'),\n",
            " ('3', 'Apple iPhone 10'),\n",
            " ('4', 'Apple iPad mini 4'),\n",
            " ('5', 'Apple iPad Pro')]\n"
          ]
        }
      ]
    },
    {
      "cell_type": "code",
      "source": [
        "orders = spark.sparkContext.textFile(path_to_order)\n",
        "orders = orders.map(lambda x: x.split('\\t'))\\\n",
        "              .map(lambda x: (x[2], int(x[3])))\\\n",
        "\n",
        "pprint(orders.take(5))"
      ],
      "metadata": {
        "id": "4YVCo_Zm4WFy",
        "colab": {
          "base_uri": "https://localhost:8080/"
        },
        "outputId": "9e3edc78-6c1f-4e5b-be7b-2360e342a4de"
      },
      "execution_count": 20,
      "outputs": [
        {
          "output_type": "stream",
          "name": "stdout",
          "text": [
            "[('3', 500), ('1', 300), ('2', 300), ('1', 500), ('2', 300)]\n"
          ]
        }
      ]
    },
    {
      "cell_type": "code",
      "source": [
        "orders_grouped_by_product = orders.reduceByKey(lambda x, y: x + y)\\\n",
        "                                  .map(lambda x: (x[0], x[1]))\n",
        "pprint(orders_grouped_by_product.take(5))"
      ],
      "metadata": {
        "colab": {
          "base_uri": "https://localhost:8080/"
        },
        "id": "ha5g4z-OFXG7",
        "outputId": "5a173462-719b-47bb-a439-2c92e2b5e1e5"
      },
      "execution_count": 21,
      "outputs": [
        {
          "output_type": "stream",
          "name": "stdout",
          "text": [
            "[('1', 2700), ('4', 850), ('8', 1250), ('100', 0), ('3', 2050)]\n"
          ]
        }
      ]
    },
    {
      "cell_type": "code",
      "source": [
        "joined_rdd = product.leftOuterJoin(orders_grouped_by_product)\n",
        "pprint(joined_rdd.take(5))"
      ],
      "metadata": {
        "colab": {
          "base_uri": "https://localhost:8080/"
        },
        "id": "EM_Rq6FoIs5L",
        "outputId": "02f5aa65-86ef-4505-91c8-e1913b546eb6"
      },
      "execution_count": 22,
      "outputs": [
        {
          "output_type": "stream",
          "name": "stdout",
          "text": [
            "[('4', ('Apple iPad mini 4', 850)),\n",
            " ('10', ('Apple HomePod', None)),\n",
            " ('3', ('Apple iPhone 10', 2050)),\n",
            " ('6', ('Apple MacBook Air', 100)),\n",
            " ('7', ('Apple MakBook Pro', 100))]\n"
          ]
        }
      ]
    },
    {
      "cell_type": "code",
      "source": [
        "joined_rdd.filter(lambda x: x[1][1] == None or x[1][1] == 0)\\\n",
        ".collect()"
      ],
      "metadata": {
        "colab": {
          "base_uri": "https://localhost:8080/"
        },
        "id": "m8Ny0Wr8XgdV",
        "outputId": "038a321c-97e6-4179-ebad-22cac9c271e6"
      },
      "execution_count": 23,
      "outputs": [
        {
          "output_type": "execute_result",
          "data": {
            "text/plain": [
              "[('10', ('Apple HomePod', None)), ('9', ('Apple EarPods', None))]"
            ]
          },
          "metadata": {},
          "execution_count": 23
        }
      ]
    },
    {
      "cell_type": "markdown",
      "source": [
        "# Задача 4\n",
        " * 1. Загрузить в RDD файд src/test/resources/input/order.csv\n",
        " * 2. Распарсить строки в RDD\n",
        " * 3. Выбрать только те транзакции у которых статус delivered\n",
        " * 4. Выбрать ключ (customerID), значение (numberOfProducts)\n",
        " * 5. Выполнить группировку по ключу\n",
        " * 6. Посчитать сумму по значению и разделить на размер коллекции\n",
        " * 7. Вывести результат или записать в директорию"
      ],
      "metadata": {
        "id": "ke2CWIlEID37"
      }
    },
    {
      "cell_type": "code",
      "source": [
        "orders = spark.sparkContext.textFile(path_to_order)\n",
        "orders = orders.map(lambda x: x.split('\\t'))\\\n",
        "              .map(lambda x: (x[0], (x[3], x[5])))\\\n",
        "              .filter(lambda x: 'delivered' in x[1][1])\\\n",
        "              .map(lambda x: (x[0], int(x[1][0])))\\\n",
        "              .reduceByKey(lambda x, y: (x + y))\n",
        "\n",
        "orders_count = orders.count()\n",
        "\n",
        "pprint(orders.map(lambda x: (x[0], x[1] / orders_count)).collect())"
      ],
      "metadata": {
        "colab": {
          "base_uri": "https://localhost:8080/"
        },
        "id": "bSbGC5dDoUYV",
        "outputId": "87680715-032a-4cc5-ee6c-d51a8da2caca"
      },
      "execution_count": 24,
      "outputs": [
        {
          "output_type": "stream",
          "name": "stdout",
          "text": [
            "[('1', 500.0),\n",
            " ('4', 216.66666666666666),\n",
            " ('2', 208.33333333333334),\n",
            " ('3', 16.666666666666668),\n",
            " ('5', 216.66666666666666),\n",
            " ('6', 333.3333333333333)]\n"
          ]
        }
      ]
    },
    {
      "cell_type": "markdown",
      "source": [
        "# **DATAFRAME**"
      ],
      "metadata": {
        "id": "ojob0rIRD7aU"
      }
    },
    {
      "cell_type": "markdown",
      "source": [
        "# Вспомогательные функции"
      ],
      "metadata": {
        "id": "RimZITiTdfgW"
      }
    },
    {
      "cell_type": "code",
      "source": [
        "!wget \"https://raw.githubusercontent.com/aleks-haksly/Postypashka/main/DE/01%20HW/datasets/DF/dataset/laptop/laptop.txt\" -q\n",
        "!wget \"https://raw.githubusercontent.com/aleks-haksly/Postypashka/main/DE/01%20HW/datasets/DF/dataset/pc/pc.txt\" -q\n",
        "!wget \"https://raw.githubusercontent.com/aleks-haksly/Postypashka/main/DE/01%20HW/datasets/DF/dataset/printer/printer.txt\" -q\n",
        "!wget \"https://raw.githubusercontent.com/aleks-haksly/Postypashka/main/DE/01%20HW/datasets/DF/dataset/product/product.txt\" -q"
      ],
      "metadata": {
        "id": "abWIzGlmtX00"
      },
      "execution_count": 25,
      "outputs": []
    },
    {
      "cell_type": "code",
      "source": [
        "from pyspark.sql.types import *\n",
        "class Parameters:\n",
        "  path_laptop = \"/content/laptop.txt\"\n",
        "  path_pc = \"/content/pc.txt\"\n",
        "  path_printer = \"/content/printer.txt\"\n",
        "  path_product = \"/content/product.txt\"\n",
        "\n",
        "  table_laptop = \"laptop\"\n",
        "  table_pc = \"pc\"\n",
        "  table_printer = \"printer\"\n",
        "  table_product = \"product\"\n",
        "\n",
        "  def createTable(self, name:str, spark:SparkSession, structType:StructType, path:str, delimiter:str = ','):\n",
        "      spark.read\\\n",
        "            .options(delimiter = delimiter, nullValue = \"\\\\N\")\\\n",
        "            .schema(structType)\\\n",
        "            .csv(path)\\\n",
        "            .createOrReplaceTempView(name)\n",
        "  def initTables(self, spark:SparkSession):\n",
        "    self.createTable(Parameters.table_pc, spark, PC.structType, Parameters.path_pc)\n",
        "    self.createTable(Parameters.table_product, spark, Product.structType, Parameters.path_product)\n",
        "    self.createTable(Parameters.table_laptop, spark, Laptop.structType, Parameters.path_laptop)\n",
        "    self.createTable(Parameters.table_printer, spark, Printer.structType, Parameters.path_printer)"
      ],
      "metadata": {
        "id": "Xn9zKwS0K6rL"
      },
      "execution_count": 26,
      "outputs": []
    },
    {
      "cell_type": "code",
      "source": [
        "class PC:\n",
        "  structType = StructType([\n",
        "      StructField(\"Id\", IntegerType()),\n",
        "      StructField(\"Model\", IntegerType()),\n",
        "      StructField(\"Speed\", IntegerType()),\n",
        "      StructField(\"Ram\", IntegerType()),\n",
        "      StructField(\"C2\", IntegerType()),\n",
        "      StructField(\"C3\", StringType()),\n",
        "      StructField(\"Price\", IntegerType()),\n",
        "  ])\n",
        "class Product:\n",
        "  structType = StructType([\n",
        "      StructField(\"Maker\", StringType()),\n",
        "      StructField(\"Model\", StringType()),\n",
        "      StructField(\"Type\", StringType())\n",
        "  ])\n",
        "class Laptop:\n",
        "  structType = StructType([\n",
        "      StructField(\"Code\", IntegerType()),\n",
        "      StructField(\"Model\", StringType()),\n",
        "      StructField(\"Speed\", IntegerType()),\n",
        "      StructField(\"Ram\", IntegerType()),\n",
        "      StructField(\"Hd\", IntegerType()),\n",
        "      StructField(\"Price\", IntegerType()),\n",
        "      StructField(\"Screen\", IntegerType())\n",
        "\n",
        "  ])\n",
        "\n",
        "class Printer:\n",
        "  structType = StructType([\n",
        "      StructField(\"Code\", IntegerType()),\n",
        "      StructField(\"Model\", StringType()),\n",
        "      StructField(\"Color\", StringType()),\n",
        "      StructField(\"Type\", StringType()),\n",
        "      StructField(\"Price\", IntegerType())\n",
        "  ])"
      ],
      "metadata": {
        "id": "8orCH6v_TaX6"
      },
      "execution_count": 27,
      "outputs": []
    },
    {
      "cell_type": "code",
      "source": [
        "p = Parameters()\n",
        "p.initTables(spark)"
      ],
      "metadata": {
        "id": "TxRB6jrHUGN2"
      },
      "execution_count": 28,
      "outputs": []
    },
    {
      "cell_type": "markdown",
      "source": [
        "# Задача 1\n",
        "Для каждого значения скорости ПК, превышающего 600 МГц, определите среднюю цену ПК с такой же скоростью.\n",
        "Вывести: speed, средняя цена.\n",
        "\n",
        "SELECT pc.speed, AVG(pc.price)\n",
        "FROM pc\n",
        "WHERE pc.speed > 600\n",
        "GROUP BY pc.speed\n",
        ")"
      ],
      "metadata": {
        "id": "OQWCmmxMdo0X"
      }
    },
    {
      "cell_type": "code",
      "source": [
        "from pyspark.sql.functions import col, avg\n",
        "pc = spark.read.table(\"pc\")\\\n",
        "              .select(\"speed\",\"price\")\\\n",
        "              .filter(col(\"price\") > 600)\\\n",
        "              .groupBy(\"speed\")\\\n",
        "              .agg(avg(col(\"price\")).alias(\"avg_price\"))\\\n",
        "              .select(\"speed\",\"avg_price\").show()"
      ],
      "metadata": {
        "id": "kTTcefXbdobG",
        "colab": {
          "base_uri": "https://localhost:8080/"
        },
        "outputId": "f0e65a28-31bf-4731-fb0e-91738b215bc9"
      },
      "execution_count": 29,
      "outputs": [
        {
          "output_type": "stream",
          "name": "stdout",
          "text": [
            "+-----+---------+\n",
            "|speed|avg_price|\n",
            "+-----+---------+\n",
            "|  900|    980.0|\n",
            "|  800|    970.0|\n",
            "|  750|    900.0|\n",
            "|  600|    850.0|\n",
            "+-----+---------+\n",
            "\n"
          ]
        }
      ]
    },
    {
      "cell_type": "markdown",
      "source": [
        "# Задача 2\n",
        "Вывести все строки из таблицы Product, кроме трех строк с наименьшими номерами моделей и трех строк с наибольшими номерами моделей.\n",
        "\n",
        "  Select maker, model, type from\n",
        "  (\n",
        "  Select\n",
        "  row_number() over (order by model) p1,\n",
        "  row_number() over (order by model DESC) p2,\n",
        "  from Product\n",
        "  ) t1\n",
        "  where p1 > 3 and p2 > 3\n"
      ],
      "metadata": {
        "id": "tNLA4oxPfL-L"
      }
    },
    {
      "cell_type": "code",
      "source": [
        "from pyspark.sql.window import Window\n",
        "from pyspark.sql.functions import row_number, desc\n",
        "\n",
        "product = spark.table(\"product\")\n",
        "MaxVal = Window.orderBy(\"model\")\n",
        "product1 = product.withColumn(\"p1\", row_number().over(MaxVal))\n",
        "MinVal = Window.orderBy(desc(\"model\"))\n",
        "product1.withColumn(\"p2\", row_number().over(MinVal))\\\n",
        "        .select(\"maker\", \"model\", \"type\")\\\n",
        "        .filter((col(\"p1\")>3) & (col(\"p2\")>3)).show()"
      ],
      "metadata": {
        "colab": {
          "base_uri": "https://localhost:8080/"
        },
        "id": "QdHwvInSVnve",
        "outputId": "dca59a32-4b22-4842-c5cb-880d0c147500"
      },
      "execution_count": 30,
      "outputs": [
        {
          "output_type": "stream",
          "name": "stdout",
          "text": [
            "+-----+-----+-------+\n",
            "|maker|model|   type|\n",
            "+-----+-----+-------+\n",
            "|    B| 1750| Laptop|\n",
            "|    E| 1434|Printer|\n",
            "|    D| 1433|Printer|\n",
            "|    A| 1408|Printer|\n",
            "|    A| 1401|Printer|\n",
            "|    C| 1321| Laptop|\n",
            "|    A| 1298| Laptop|\n",
            "|    D| 1288|Printer|\n",
            "|    A| 1276|Printer|\n",
            "|    E| 1260|     PC|\n",
            "+-----+-----+-------+\n",
            "\n"
          ]
        }
      ]
    },
    {
      "cell_type": "markdown",
      "source": [
        "# Задача 3\n",
        "  Найти тех производителей ПК, все модели ПК которых имеются в таблице PC.\n",
        "\n",
        "  SELECT p.maker\n",
        "  FROM product p\n",
        "  LEFT JOIN pc ON pc.model = p.model\n",
        "  WHERE p.type = 'PC'\n",
        "  GROUP BY p.maker\n",
        "  HAVING COUNT(p.model) = COUNT(pc.model)\n",
        "  "
      ],
      "metadata": {
        "id": "ZBftHNDgb6lZ"
      }
    },
    {
      "cell_type": "code",
      "source": [
        "from pyspark.sql import functions as f\n",
        "product = spark.table(\"product\")\n",
        "pc = spark.table(\"pc\")\n",
        "joined_df = product.select('Maker', 'Model', 'Type')\\\n",
        "                   .filter(col(\"type\") == \"PC\")\\\n",
        "                   .join(pc.select('Model'), product.Model == pc.Model, \"left\")\\\n",
        "                   .groupBy(\"Maker\")\\\n",
        "                   .agg(f.count(col(\"product.model\")).alias(\"count_product_model\"),\n",
        "                        f.count(col(\"pc.model\")).alias(\"count_pc_model\"))\\\n",
        "                   .filter(col(\"count_product_model\") == col(\"count_pc_model\"))\\\n",
        "                   .select(\"Maker\")\n",
        "joined_df.show()"
      ],
      "metadata": {
        "id": "ZFNbFTsAcCPN",
        "colab": {
          "base_uri": "https://localhost:8080/"
        },
        "outputId": "f6491ddd-92b2-4303-ac34-c666f1daa40e"
      },
      "execution_count": 58,
      "outputs": [
        {
          "output_type": "stream",
          "name": "stdout",
          "text": [
            "+-----+\n",
            "|Maker|\n",
            "+-----+\n",
            "|    B|\n",
            "|    A|\n",
            "+-----+\n",
            "\n"
          ]
        }
      ]
    },
    {
      "cell_type": "markdown",
      "source": [
        "# Задача 4\n",
        "Найдите производителей принтеров, которые производят ПК с наименьшим объемом RAM и с самым быстрым процессором среди всех ПК, имеющих наименьший объем RAM. Вывести: Maker\n",
        "\n",
        "  SELECT DISTINCT maker\n",
        "  FROM product\n",
        "   WHERE model IN (\n",
        "  SELECT model\n",
        "  FROM pc\n",
        "  WHERE ram = (\n",
        "    SELECT MIN(ram)\n",
        "    FROM pc\n",
        "    )\n",
        "  AND speed = (\n",
        "    SELECT MAX(speed)\n",
        "    FROM pc\n",
        "    WHERE ram = (\n",
        "     SELECT MIN(ram)\n",
        "     FROM pc\n",
        "     )\n",
        "    )\n",
        "  )\n",
        "  AND\n",
        "  maker IN (\n",
        "  SELECT maker\n",
        "  FROM product\n",
        "  WHERE type='printer'\n",
        "  )"
      ],
      "metadata": {
        "id": "8yyjsu7qiaw_"
      }
    },
    {
      "cell_type": "markdown",
      "source": [
        "```sql\n",
        "SELECT\n",
        "  DISTINCT maker FROM product\n",
        "WHERE\n",
        "  model IN (\n",
        "    SELECT model FROM  pc\n",
        "    WHERE\n",
        "      ram = (SELECT MIN(ram) FROM pc ) AND\n",
        "      speed = (SELECT MAX(speed) FROM pc WHERE ram = (SELECT MIN(ram) FROM pc))\n",
        "\n",
        "  )\n",
        "  AND maker IN (\n",
        "    SELECT maker FROM product\n",
        "    WHERE  type = 'printer'\n",
        "  )\n",
        "```"
      ],
      "metadata": {
        "id": "cNo7Gzit-G8C"
      }
    },
    {
      "cell_type": "code",
      "source": [
        "# Находим минимальное значение RAM в таблице pc\n",
        "min_ram_value = pc.select(min(col(\"ram\"))).collect()[0][0]\n",
        "\n",
        "# Находим максимальное значение speed среди pc с min ram\n",
        "max_speed_value = pc.filter((col(\"ram\") == min_ram_value)).select(max(col(\"speed\"))).collect()[0][0]\n",
        "\n",
        "# Находим модели с минимальным RAM и максимальной скоростью\n",
        "models = [model[0] for model in pc.filter((col(\"ram\") == min_ram_value) & (col(\"speed\") == max_speed_value)).select(\"model\").collect()]\n",
        "\n",
        "\n"
      ],
      "metadata": {
        "id": "5RBFmqeejyZ8"
      },
      "execution_count": 131,
      "outputs": []
    },
    {
      "cell_type": "code",
      "source": [
        "models"
      ],
      "metadata": {
        "id": "RiUpyRzXFthi",
        "outputId": "f9e0b5ff-3f43-4899-d1ff-d422cd7aac8a",
        "colab": {
          "base_uri": "https://localhost:8080/"
        }
      },
      "execution_count": 132,
      "outputs": [
        {
          "output_type": "execute_result",
          "data": {
            "text/plain": [
              "[1232, 1260]"
            ]
          },
          "metadata": {},
          "execution_count": 132
        }
      ]
    },
    {
      "cell_type": "code",
      "source": [
        "product.select(\"maker\", \"model\", \"type\")\\\n",
        "       .filter(col(\"model\").isin(models))\\\n",
        "       .select(\"maker\")\\\n",
        "       .collect()"
      ],
      "metadata": {
        "id": "mt_RgAjJDmxL",
        "outputId": "efbd53bb-9e3b-44c4-9d56-918c2620ccb1",
        "colab": {
          "base_uri": "https://localhost:8080/"
        }
      },
      "execution_count": 133,
      "outputs": [
        {
          "output_type": "execute_result",
          "data": {
            "text/plain": [
              "[Row(maker='A'), Row(maker='E')]"
            ]
          },
          "metadata": {},
          "execution_count": 133
        }
      ]
    }
  ]
}