{
  "nbformat": 4,
  "nbformat_minor": 0,
  "metadata": {
    "colab": {
      "provenance": [],
      "include_colab_link": true
    },
    "kernelspec": {
      "name": "python3",
      "display_name": "Python 3"
    },
    "language_info": {
      "name": "python"
    }
  },
  "cells": [
    {
      "cell_type": "markdown",
      "metadata": {
        "id": "view-in-github",
        "colab_type": "text"
      },
      "source": [
        "<a href=\"https://colab.research.google.com/github/aleks-haksly/Postypashka/blob/main/DE/01%20HW/HW_1.ipynb\" target=\"_parent\"><img src=\"https://colab.research.google.com/assets/colab-badge.svg\" alt=\"Open In Colab\"/></a>"
      ]
    },
    {
      "cell_type": "code",
      "source": [
        "import pandas as pd"
      ],
      "metadata": {
        "id": "Ed1VKtJnDZwM"
      },
      "execution_count": 7,
      "outputs": []
    },
    {
      "cell_type": "code",
      "execution_count": 1,
      "metadata": {
        "colab": {
          "base_uri": "https://localhost:8080/"
        },
        "id": "cZA51hxsORmE",
        "outputId": "7e856e8c-92a3-404e-8831-a98912db554d"
      },
      "outputs": [
        {
          "output_type": "stream",
          "name": "stdout",
          "text": [
            "\u001b[2K     \u001b[90m━━━━━━━━━━━━━━━━━━━━━━━━━━━━━━━━━━━━━━━━\u001b[0m \u001b[32m317.3/317.3 MB\u001b[0m \u001b[31m4.2 MB/s\u001b[0m eta \u001b[36m0:00:00\u001b[0m\n",
            "\u001b[?25h  Preparing metadata (setup.py) ... \u001b[?25l\u001b[?25hdone\n",
            "  Building wheel for pyspark (setup.py) ... \u001b[?25l\u001b[?25hdone\n"
          ]
        }
      ],
      "source": [
        "!pip install pyspark -q"
      ]
    },
    {
      "cell_type": "code",
      "source": [
        "from pyspark.sql import SparkSession\n",
        "spark = SparkSession.builder.master('local[*]').getOrCreate()"
      ],
      "metadata": {
        "id": "Q3Cfbn2HOkAk"
      },
      "execution_count": 2,
      "outputs": []
    },
    {
      "cell_type": "code",
      "source": [
        "spark"
      ],
      "metadata": {
        "colab": {
          "base_uri": "https://localhost:8080/",
          "height": 222
        },
        "id": "7HznaphmwakL",
        "outputId": "c4006618-8291-4f89-e847-5ba5db8edb79"
      },
      "execution_count": 3,
      "outputs": [
        {
          "output_type": "execute_result",
          "data": {
            "text/plain": [
              "<pyspark.sql.session.SparkSession at 0x7f116c262c80>"
            ],
            "text/html": [
              "\n",
              "            <div>\n",
              "                <p><b>SparkSession - in-memory</b></p>\n",
              "                \n",
              "        <div>\n",
              "            <p><b>SparkContext</b></p>\n",
              "\n",
              "            <p><a href=\"http://5c992d490e8e:4040\">Spark UI</a></p>\n",
              "\n",
              "            <dl>\n",
              "              <dt>Version</dt>\n",
              "                <dd><code>v3.5.2</code></dd>\n",
              "              <dt>Master</dt>\n",
              "                <dd><code>local[*]</code></dd>\n",
              "              <dt>AppName</dt>\n",
              "                <dd><code>pyspark-shell</code></dd>\n",
              "            </dl>\n",
              "        </div>\n",
              "        \n",
              "            </div>\n",
              "        "
            ]
          },
          "metadata": {},
          "execution_count": 3
        }
      ]
    },
    {
      "cell_type": "markdown",
      "source": [
        "#**RDD**"
      ],
      "metadata": {
        "id": "AAJjAlqsDu0M"
      }
    },
    {
      "cell_type": "markdown",
      "source": [
        "# Вспомогательные функции\n"
      ],
      "metadata": {
        "id": "_l3bTFHPkxqd"
      }
    },
    {
      "cell_type": "code",
      "source": [
        "!wget \"https://raw.githubusercontent.com/aleks-haksly/Postypashka/main/DE/01%20HW/datasets/RDD/dataset/order/order.csv\" -q\n",
        "!wget \"https://raw.githubusercontent.com/aleks-haksly/Postypashka/main/DE/01%20HW/datasets/RDD/dataset/customer/customer.csv\" -q\n",
        "!wget \"https://raw.githubusercontent.com/aleks-haksly/Postypashka/main/DE/01%20HW/datasets/RDD/dataset/product/product.csv\" -q"
      ],
      "metadata": {
        "id": "v6swmv8hMynU"
      },
      "execution_count": 27,
      "outputs": []
    },
    {
      "cell_type": "code",
      "source": [
        "path_to_order = \"/content/order.csv\"\n",
        "path_to_customer = \"/content/customer.csv\"\n",
        "path_to_product = \"/content/product.csv\"\n",
        "\n",
        "def createRDD(spark:SparkSession, path):\n",
        "  return spark.sparkContext.textFile(path)\\\n",
        "                    .map(lambda x: x.split('\\t'))"
      ],
      "metadata": {
        "id": "0gcVpRsKk2aF"
      },
      "execution_count": 5,
      "outputs": []
    },
    {
      "cell_type": "markdown",
      "source": [
        "  # Задача 1\n",
        "  * 1. Загрузить в RDD файл src/test/resources/input/order\n",
        "  * 2. Выбрать строки в которых поле статус заказа delivered\n",
        "  * 3. Выбрать ключ (customerID), значение (numberOfProduct, 1)\n",
        "  * 4. Написать функцию reduce для расчёта\n",
        "  * 5. Применит к RDD из п.3 метод reduceByKey c функцией из п.4\n",
        "  * 6. Вывести или записать результат"
      ],
      "metadata": {
        "id": "BcACIvWiYggX"
      }
    },
    {
      "cell_type": "code",
      "source": [
        "pd.read_csv(path_to_order, sep='\\t', header=None, names=['customerID_0', 'oderID_1', 'productID_2', 'numberOfProduct_3', 'orderDate_4', 'status_5']).head()"
      ],
      "metadata": {
        "id": "S9U9y_2HDft1",
        "outputId": "ff49ca1b-fa10-4b87-9571-807e9139e43d",
        "colab": {
          "base_uri": "https://localhost:8080/",
          "height": 206
        }
      },
      "execution_count": 24,
      "outputs": [
        {
          "output_type": "execute_result",
          "data": {
            "text/plain": [
              "   customerID_0  oderID_1  productID_2  numberOfProduct_3 orderDate_4  \\\n",
              "0             1        21            3                500  2018-02-23   \n",
              "1             1        22            1                300  2018-02-23   \n",
              "2             1        23            2                300  2018-02-23   \n",
              "3             1        24            1                500  2018-03-23   \n",
              "4             1        25            2                300  2018-03-23   \n",
              "\n",
              "    status_5  \n",
              "0  delivered  \n",
              "1  delivered  \n",
              "2  delivered  \n",
              "3  delivered  \n",
              "4  delivered  "
            ],
            "text/html": [
              "\n",
              "  <div id=\"df-b18d8483-cb0f-4f74-9962-57eb4e71d0dd\" class=\"colab-df-container\">\n",
              "    <div>\n",
              "<style scoped>\n",
              "    .dataframe tbody tr th:only-of-type {\n",
              "        vertical-align: middle;\n",
              "    }\n",
              "\n",
              "    .dataframe tbody tr th {\n",
              "        vertical-align: top;\n",
              "    }\n",
              "\n",
              "    .dataframe thead th {\n",
              "        text-align: right;\n",
              "    }\n",
              "</style>\n",
              "<table border=\"1\" class=\"dataframe\">\n",
              "  <thead>\n",
              "    <tr style=\"text-align: right;\">\n",
              "      <th></th>\n",
              "      <th>customerID_0</th>\n",
              "      <th>oderID_1</th>\n",
              "      <th>productID_2</th>\n",
              "      <th>numberOfProduct_3</th>\n",
              "      <th>orderDate_4</th>\n",
              "      <th>status_5</th>\n",
              "    </tr>\n",
              "  </thead>\n",
              "  <tbody>\n",
              "    <tr>\n",
              "      <th>0</th>\n",
              "      <td>1</td>\n",
              "      <td>21</td>\n",
              "      <td>3</td>\n",
              "      <td>500</td>\n",
              "      <td>2018-02-23</td>\n",
              "      <td>delivered</td>\n",
              "    </tr>\n",
              "    <tr>\n",
              "      <th>1</th>\n",
              "      <td>1</td>\n",
              "      <td>22</td>\n",
              "      <td>1</td>\n",
              "      <td>300</td>\n",
              "      <td>2018-02-23</td>\n",
              "      <td>delivered</td>\n",
              "    </tr>\n",
              "    <tr>\n",
              "      <th>2</th>\n",
              "      <td>1</td>\n",
              "      <td>23</td>\n",
              "      <td>2</td>\n",
              "      <td>300</td>\n",
              "      <td>2018-02-23</td>\n",
              "      <td>delivered</td>\n",
              "    </tr>\n",
              "    <tr>\n",
              "      <th>3</th>\n",
              "      <td>1</td>\n",
              "      <td>24</td>\n",
              "      <td>1</td>\n",
              "      <td>500</td>\n",
              "      <td>2018-03-23</td>\n",
              "      <td>delivered</td>\n",
              "    </tr>\n",
              "    <tr>\n",
              "      <th>4</th>\n",
              "      <td>1</td>\n",
              "      <td>25</td>\n",
              "      <td>2</td>\n",
              "      <td>300</td>\n",
              "      <td>2018-03-23</td>\n",
              "      <td>delivered</td>\n",
              "    </tr>\n",
              "  </tbody>\n",
              "</table>\n",
              "</div>\n",
              "    <div class=\"colab-df-buttons\">\n",
              "\n",
              "  <div class=\"colab-df-container\">\n",
              "    <button class=\"colab-df-convert\" onclick=\"convertToInteractive('df-b18d8483-cb0f-4f74-9962-57eb4e71d0dd')\"\n",
              "            title=\"Convert this dataframe to an interactive table.\"\n",
              "            style=\"display:none;\">\n",
              "\n",
              "  <svg xmlns=\"http://www.w3.org/2000/svg\" height=\"24px\" viewBox=\"0 -960 960 960\">\n",
              "    <path d=\"M120-120v-720h720v720H120Zm60-500h600v-160H180v160Zm220 220h160v-160H400v160Zm0 220h160v-160H400v160ZM180-400h160v-160H180v160Zm440 0h160v-160H620v160ZM180-180h160v-160H180v160Zm440 0h160v-160H620v160Z\"/>\n",
              "  </svg>\n",
              "    </button>\n",
              "\n",
              "  <style>\n",
              "    .colab-df-container {\n",
              "      display:flex;\n",
              "      gap: 12px;\n",
              "    }\n",
              "\n",
              "    .colab-df-convert {\n",
              "      background-color: #E8F0FE;\n",
              "      border: none;\n",
              "      border-radius: 50%;\n",
              "      cursor: pointer;\n",
              "      display: none;\n",
              "      fill: #1967D2;\n",
              "      height: 32px;\n",
              "      padding: 0 0 0 0;\n",
              "      width: 32px;\n",
              "    }\n",
              "\n",
              "    .colab-df-convert:hover {\n",
              "      background-color: #E2EBFA;\n",
              "      box-shadow: 0px 1px 2px rgba(60, 64, 67, 0.3), 0px 1px 3px 1px rgba(60, 64, 67, 0.15);\n",
              "      fill: #174EA6;\n",
              "    }\n",
              "\n",
              "    .colab-df-buttons div {\n",
              "      margin-bottom: 4px;\n",
              "    }\n",
              "\n",
              "    [theme=dark] .colab-df-convert {\n",
              "      background-color: #3B4455;\n",
              "      fill: #D2E3FC;\n",
              "    }\n",
              "\n",
              "    [theme=dark] .colab-df-convert:hover {\n",
              "      background-color: #434B5C;\n",
              "      box-shadow: 0px 1px 3px 1px rgba(0, 0, 0, 0.15);\n",
              "      filter: drop-shadow(0px 1px 2px rgba(0, 0, 0, 0.3));\n",
              "      fill: #FFFFFF;\n",
              "    }\n",
              "  </style>\n",
              "\n",
              "    <script>\n",
              "      const buttonEl =\n",
              "        document.querySelector('#df-b18d8483-cb0f-4f74-9962-57eb4e71d0dd button.colab-df-convert');\n",
              "      buttonEl.style.display =\n",
              "        google.colab.kernel.accessAllowed ? 'block' : 'none';\n",
              "\n",
              "      async function convertToInteractive(key) {\n",
              "        const element = document.querySelector('#df-b18d8483-cb0f-4f74-9962-57eb4e71d0dd');\n",
              "        const dataTable =\n",
              "          await google.colab.kernel.invokeFunction('convertToInteractive',\n",
              "                                                    [key], {});\n",
              "        if (!dataTable) return;\n",
              "\n",
              "        const docLinkHtml = 'Like what you see? Visit the ' +\n",
              "          '<a target=\"_blank\" href=https://colab.research.google.com/notebooks/data_table.ipynb>data table notebook</a>'\n",
              "          + ' to learn more about interactive tables.';\n",
              "        element.innerHTML = '';\n",
              "        dataTable['output_type'] = 'display_data';\n",
              "        await google.colab.output.renderOutput(dataTable, element);\n",
              "        const docLink = document.createElement('div');\n",
              "        docLink.innerHTML = docLinkHtml;\n",
              "        element.appendChild(docLink);\n",
              "      }\n",
              "    </script>\n",
              "  </div>\n",
              "\n",
              "\n",
              "<div id=\"df-4a3ca046-8fa5-459a-9f9a-ae0a4d05cdb1\">\n",
              "  <button class=\"colab-df-quickchart\" onclick=\"quickchart('df-4a3ca046-8fa5-459a-9f9a-ae0a4d05cdb1')\"\n",
              "            title=\"Suggest charts\"\n",
              "            style=\"display:none;\">\n",
              "\n",
              "<svg xmlns=\"http://www.w3.org/2000/svg\" height=\"24px\"viewBox=\"0 0 24 24\"\n",
              "     width=\"24px\">\n",
              "    <g>\n",
              "        <path d=\"M19 3H5c-1.1 0-2 .9-2 2v14c0 1.1.9 2 2 2h14c1.1 0 2-.9 2-2V5c0-1.1-.9-2-2-2zM9 17H7v-7h2v7zm4 0h-2V7h2v10zm4 0h-2v-4h2v4z\"/>\n",
              "    </g>\n",
              "</svg>\n",
              "  </button>\n",
              "\n",
              "<style>\n",
              "  .colab-df-quickchart {\n",
              "      --bg-color: #E8F0FE;\n",
              "      --fill-color: #1967D2;\n",
              "      --hover-bg-color: #E2EBFA;\n",
              "      --hover-fill-color: #174EA6;\n",
              "      --disabled-fill-color: #AAA;\n",
              "      --disabled-bg-color: #DDD;\n",
              "  }\n",
              "\n",
              "  [theme=dark] .colab-df-quickchart {\n",
              "      --bg-color: #3B4455;\n",
              "      --fill-color: #D2E3FC;\n",
              "      --hover-bg-color: #434B5C;\n",
              "      --hover-fill-color: #FFFFFF;\n",
              "      --disabled-bg-color: #3B4455;\n",
              "      --disabled-fill-color: #666;\n",
              "  }\n",
              "\n",
              "  .colab-df-quickchart {\n",
              "    background-color: var(--bg-color);\n",
              "    border: none;\n",
              "    border-radius: 50%;\n",
              "    cursor: pointer;\n",
              "    display: none;\n",
              "    fill: var(--fill-color);\n",
              "    height: 32px;\n",
              "    padding: 0;\n",
              "    width: 32px;\n",
              "  }\n",
              "\n",
              "  .colab-df-quickchart:hover {\n",
              "    background-color: var(--hover-bg-color);\n",
              "    box-shadow: 0 1px 2px rgba(60, 64, 67, 0.3), 0 1px 3px 1px rgba(60, 64, 67, 0.15);\n",
              "    fill: var(--button-hover-fill-color);\n",
              "  }\n",
              "\n",
              "  .colab-df-quickchart-complete:disabled,\n",
              "  .colab-df-quickchart-complete:disabled:hover {\n",
              "    background-color: var(--disabled-bg-color);\n",
              "    fill: var(--disabled-fill-color);\n",
              "    box-shadow: none;\n",
              "  }\n",
              "\n",
              "  .colab-df-spinner {\n",
              "    border: 2px solid var(--fill-color);\n",
              "    border-color: transparent;\n",
              "    border-bottom-color: var(--fill-color);\n",
              "    animation:\n",
              "      spin 1s steps(1) infinite;\n",
              "  }\n",
              "\n",
              "  @keyframes spin {\n",
              "    0% {\n",
              "      border-color: transparent;\n",
              "      border-bottom-color: var(--fill-color);\n",
              "      border-left-color: var(--fill-color);\n",
              "    }\n",
              "    20% {\n",
              "      border-color: transparent;\n",
              "      border-left-color: var(--fill-color);\n",
              "      border-top-color: var(--fill-color);\n",
              "    }\n",
              "    30% {\n",
              "      border-color: transparent;\n",
              "      border-left-color: var(--fill-color);\n",
              "      border-top-color: var(--fill-color);\n",
              "      border-right-color: var(--fill-color);\n",
              "    }\n",
              "    40% {\n",
              "      border-color: transparent;\n",
              "      border-right-color: var(--fill-color);\n",
              "      border-top-color: var(--fill-color);\n",
              "    }\n",
              "    60% {\n",
              "      border-color: transparent;\n",
              "      border-right-color: var(--fill-color);\n",
              "    }\n",
              "    80% {\n",
              "      border-color: transparent;\n",
              "      border-right-color: var(--fill-color);\n",
              "      border-bottom-color: var(--fill-color);\n",
              "    }\n",
              "    90% {\n",
              "      border-color: transparent;\n",
              "      border-bottom-color: var(--fill-color);\n",
              "    }\n",
              "  }\n",
              "</style>\n",
              "\n",
              "  <script>\n",
              "    async function quickchart(key) {\n",
              "      const quickchartButtonEl =\n",
              "        document.querySelector('#' + key + ' button');\n",
              "      quickchartButtonEl.disabled = true;  // To prevent multiple clicks.\n",
              "      quickchartButtonEl.classList.add('colab-df-spinner');\n",
              "      try {\n",
              "        const charts = await google.colab.kernel.invokeFunction(\n",
              "            'suggestCharts', [key], {});\n",
              "      } catch (error) {\n",
              "        console.error('Error during call to suggestCharts:', error);\n",
              "      }\n",
              "      quickchartButtonEl.classList.remove('colab-df-spinner');\n",
              "      quickchartButtonEl.classList.add('colab-df-quickchart-complete');\n",
              "    }\n",
              "    (() => {\n",
              "      let quickchartButtonEl =\n",
              "        document.querySelector('#df-4a3ca046-8fa5-459a-9f9a-ae0a4d05cdb1 button');\n",
              "      quickchartButtonEl.style.display =\n",
              "        google.colab.kernel.accessAllowed ? 'block' : 'none';\n",
              "    })();\n",
              "  </script>\n",
              "</div>\n",
              "\n",
              "    </div>\n",
              "  </div>\n"
            ],
            "application/vnd.google.colaboratory.intrinsic+json": {
              "type": "dataframe",
              "summary": "{\n  \"name\": \"pd\",\n  \"rows\": 5,\n  \"fields\": [\n    {\n      \"column\": \"customerID_0\",\n      \"properties\": {\n        \"dtype\": \"number\",\n        \"std\": 0,\n        \"min\": 1,\n        \"max\": 1,\n        \"num_unique_values\": 1,\n        \"samples\": [\n          1\n        ],\n        \"semantic_type\": \"\",\n        \"description\": \"\"\n      }\n    },\n    {\n      \"column\": \"oderID_1\",\n      \"properties\": {\n        \"dtype\": \"number\",\n        \"std\": 1,\n        \"min\": 21,\n        \"max\": 25,\n        \"num_unique_values\": 5,\n        \"samples\": [\n          22\n        ],\n        \"semantic_type\": \"\",\n        \"description\": \"\"\n      }\n    },\n    {\n      \"column\": \"productID_2\",\n      \"properties\": {\n        \"dtype\": \"number\",\n        \"std\": 0,\n        \"min\": 1,\n        \"max\": 3,\n        \"num_unique_values\": 3,\n        \"samples\": [\n          3\n        ],\n        \"semantic_type\": \"\",\n        \"description\": \"\"\n      }\n    },\n    {\n      \"column\": \"numberOfProduct_3\",\n      \"properties\": {\n        \"dtype\": \"number\",\n        \"std\": 109,\n        \"min\": 300,\n        \"max\": 500,\n        \"num_unique_values\": 2,\n        \"samples\": [\n          300\n        ],\n        \"semantic_type\": \"\",\n        \"description\": \"\"\n      }\n    },\n    {\n      \"column\": \"orderDate_4\",\n      \"properties\": {\n        \"dtype\": \"object\",\n        \"num_unique_values\": 2,\n        \"samples\": [\n          \"2018-03-23\"\n        ],\n        \"semantic_type\": \"\",\n        \"description\": \"\"\n      }\n    },\n    {\n      \"column\": \"status_5\",\n      \"properties\": {\n        \"dtype\": \"category\",\n        \"num_unique_values\": 1,\n        \"samples\": [\n          \"delivered\"\n        ],\n        \"semantic_type\": \"\",\n        \"description\": \"\"\n      }\n    }\n  ]\n}"
            }
          },
          "metadata": {},
          "execution_count": 24
        }
      ]
    },
    {
      "cell_type": "code",
      "source": [
        "orders = spark.sparkContext.textFile(path_to_order)\n",
        "orders = orders.map(lambda x: x.split('\\t'))\\\n",
        "              .filter(lambda x: 'delivered' in x[5])\\\n",
        "              .map(lambda x: (x[0], (x[3],1)))\\\n",
        "              .reduceByKey(lambda x,y: ((int(x[0])+int(y[0])),(x[1]+y[1]))).take(5)\n",
        "\n",
        "print(orders)"
      ],
      "metadata": {
        "id": "pvGQWl4pF1MN",
        "outputId": "d8a092a2-22c9-42e3-db53-362cf44641b5",
        "colab": {
          "base_uri": "https://localhost:8080/"
        }
      },
      "execution_count": 13,
      "outputs": [
        {
          "output_type": "stream",
          "name": "stdout",
          "text": [
            "[('1', (3000, 9)), ('4', (1300, 8)), ('2', (1250, 11)), ('3', ('100', 1)), ('5', (1300, 8))]\n"
          ]
        }
      ]
    },
    {
      "cell_type": "markdown",
      "source": [
        "# Задача 2\n",
        "   * 1. Загрузить в RDD файл src/test/resources/input/order\n",
        "   * 2. Распарсить строки RDD\n",
        "   * 3. Выбрать ключ поле (customerID), в значение (orderDate, numberOfProduct, productID)\n",
        "   * 4. Загрузить в RDD файл customer\n",
        "   * 5. Распарсить строки RDD\n",
        "   * 6. Выбрать ключ поле (id), в значение (name)\n",
        "   * 7. Выполнить внутреннее соединение RDD из п.6 и п.9\n",
        "   * 8. Выбрать ключ (productID), в значение (customer.name, orderDate,  numberOfProduct)\n",
        "   * 9. Загрузить в RDD файл product.csv\n",
        "   * 10. Распарсить строки RDD\n",
        "   * 11. Выбрать ключ (id), значение (price)\n",
        "   * 12. Выполнить внутреннее соединение с RDD из п.11 и п.14\n",
        "   * 13. Выбрать ключ (customer.name, order.orderDate), значение (order.numberOfProduct * product.price)\n",
        "   * 14. Расчитать сумму в значении по ключу\n",
        "   * 15. Вывести результат"
      ],
      "metadata": {
        "id": "ioq_0k79XVIX"
      }
    },
    {
      "cell_type": "code",
      "source": [
        "orders = spark.sparkContext.textFile(path_to_order)\n",
        "orders = orders.map(lambda x: x.split('\\t'))\\\n",
        "              .map(lambda x: (x[0], (x[3],1)))\\\n",
        "              .reduceByKey(lambda x,y: ((int(x[0])+int(y[0])),(x[1]+y[1]))).take(5)\n",
        "\n",
        "print(orders)"
      ],
      "metadata": {
        "id": "smNWeMqmS6D5"
      },
      "execution_count": null,
      "outputs": []
    },
    {
      "cell_type": "code",
      "source": [],
      "metadata": {
        "id": "p1-sB4PGdoDb"
      },
      "execution_count": null,
      "outputs": []
    },
    {
      "cell_type": "code",
      "source": [],
      "metadata": {
        "id": "dHB531_FjTKi"
      },
      "execution_count": null,
      "outputs": []
    },
    {
      "cell_type": "markdown",
      "source": [
        "# Задача 3\n",
        " * 1. Загрузить в RDD файл src/test/resources/input/product\n",
        " * 2. Распарсить строки в RDD\n",
        " * 3. Выбрать ключ поле id, в значение name\n",
        " * 4. Загрузить в RDD файд src/test/resources/input/order\n",
        " * 5. Распарсить строки в RDD\n",
        " * 6. Выбрать ключ поле productID, в значение numberOfProduct\n",
        " * 7. Посчитать кол-во проданных продуктов\n",
        " * 8. Выполнить левое соединение двух RDD\n",
        " * 9. Выполнить фильтрацию и оставить только те строки где значение numberOfProducts 0 или None\n",
        " * 10. Вывести результат или записать в директорию"
      ],
      "metadata": {
        "id": "45RHgDpy37fv"
      }
    },
    {
      "cell_type": "code",
      "source": [],
      "metadata": {
        "id": "u6Gmt7NjqmV0"
      },
      "execution_count": null,
      "outputs": []
    },
    {
      "cell_type": "code",
      "source": [],
      "metadata": {
        "id": "4YVCo_Zm4WFy"
      },
      "execution_count": null,
      "outputs": []
    },
    {
      "cell_type": "markdown",
      "source": [
        "# Задача 4\n",
        " * 1. Загрузить в RDD файд src/test/resources/input/order.csv\n",
        " * 2. Распарсить строки в RDD\n",
        " * 3. Выбрать только те транзакции у которых статус delivered\n",
        " * 4. Выбрать ключ (customerID), значение (numberOfProducts)\n",
        " * 5. Выполнить группировку по ключу\n",
        " * 6. Посчитать сумму по значению и разделить на размер коллекции\n",
        " * 7. Вывести результат или записать в директорию"
      ],
      "metadata": {
        "id": "ke2CWIlEID37"
      }
    },
    {
      "cell_type": "code",
      "source": [],
      "metadata": {
        "id": "TcNB5yIUIDSf"
      },
      "execution_count": null,
      "outputs": []
    },
    {
      "cell_type": "markdown",
      "source": [
        "# **DATAFRAME**"
      ],
      "metadata": {
        "id": "ojob0rIRD7aU"
      }
    },
    {
      "cell_type": "markdown",
      "source": [
        "# Вспомогательные функции"
      ],
      "metadata": {
        "id": "RimZITiTdfgW"
      }
    },
    {
      "cell_type": "code",
      "source": [
        "from pyspark.sql.types import *\n",
        "class Parameters:\n",
        "  path_laptop = \"/content/drive/MyDrive/DE/LabDF/dataset/laptop/laptop.txt\"\n",
        "  path_pc = \"/content/drive/MyDrive/DE/LabDF/dataset/pc/pc.txt\"\n",
        "  path_printer = \"/content/drive/MyDrive/DE/LabDF/dataset/printer/printer.txt\"\n",
        "  path_product = \"/content/drive/MyDrive/DE/LabDF/dataset/product/product.txt\"\n",
        "\n",
        "  table_laptop = \"laptop\"\n",
        "  table_pc = \"pc\"\n",
        "  table_printer = \"printer\"\n",
        "  table_product = \"product\"\n",
        "\n",
        "  def createTable(self, name:str, spark:SparkSession, structType: StructType, path:str, delimiter: str = ','):\n",
        "      spark.read\\\n",
        "            .options(delimiter = delimiter, nullValue = \"\\\\N\")\\\n",
        "            .schema(structType)\\\n",
        "            .csv(path)\\\n",
        "            .createOrReplaceTempView(name)\n",
        "  def initTables(self, spark:SparkSession):\n",
        "    self.createTable(Parameters.table_pc, spark, PC.structType, Parameters.path_pc)\n",
        "    self.createTable(Parameters.table_product, spark, Product.structType, Parameters.path_product)"
      ],
      "metadata": {
        "id": "Xn9zKwS0K6rL"
      },
      "execution_count": null,
      "outputs": []
    },
    {
      "cell_type": "code",
      "source": [
        "class PC:\n",
        "  structType = StructType([\n",
        "      StructField(\"ID\", IntegerType()),\n",
        "      StructField(\"MODEL\", IntegerType()),\n",
        "      StructField(\"SPEED\", IntegerType()),\n",
        "      StructField(\"RAM\", IntegerType()),\n",
        "      StructField(\"C2\", IntegerType()),\n",
        "      StructField(\"C3\", StringType()),\n",
        "      StructField(\"PRICE\", IntegerType()),\n",
        "  ])\n",
        "class Product:\n",
        "  structType = StructType([\n",
        "      StructField(\"Maker\", StringType()),\n",
        "      StructField(\"Model\", StringType()),\n",
        "      StructField(\"Type\", StringType())\n",
        "  ])"
      ],
      "metadata": {
        "id": "8orCH6v_TaX6"
      },
      "execution_count": null,
      "outputs": []
    },
    {
      "cell_type": "code",
      "source": [
        "p = Parameters()\n",
        "p.initTables(spark)"
      ],
      "metadata": {
        "id": "TxRB6jrHUGN2"
      },
      "execution_count": null,
      "outputs": []
    },
    {
      "cell_type": "markdown",
      "source": [
        "# Задача 1\n",
        "Для каждого значения скорости ПК, превышающего 600 МГц, определите среднюю цену ПК с такой же скоростью.\n",
        "Вывести: speed, средняя цена.\n",
        "\n",
        "SELECT pc.speed, AVG(pc.price)\n",
        "FROM pc\n",
        "WHERE pc.speed > 600\n",
        "GROUP BY pc.speed\n",
        ")"
      ],
      "metadata": {
        "id": "OQWCmmxMdo0X"
      }
    },
    {
      "cell_type": "code",
      "source": [
        "from pyspark.sql.functions import col, avg\n",
        "pc = spark.read.table(\"pc\")\\\n",
        "              .select(\"speed\",\"price\")\\\n",
        "              .filter(col(\"price\") > 600)\\\n",
        "              .groupBy(\"speed\")\\\n",
        "              .agg(avg(col(\"price\")).alias(\"avg_price\"))\\\n",
        "              .select(\"speed\",\"avg_price\").show()"
      ],
      "metadata": {
        "id": "kTTcefXbdobG",
        "colab": {
          "base_uri": "https://localhost:8080/"
        },
        "outputId": "04688a92-06e2-40dd-8e71-de91c4a36898"
      },
      "execution_count": null,
      "outputs": [
        {
          "output_type": "stream",
          "name": "stdout",
          "text": [
            "+-----+---------+\n",
            "|speed|avg_price|\n",
            "+-----+---------+\n",
            "|  900|    980.0|\n",
            "|  800|    970.0|\n",
            "|  750|    900.0|\n",
            "|  600|    850.0|\n",
            "+-----+---------+\n",
            "\n"
          ]
        }
      ]
    },
    {
      "cell_type": "markdown",
      "source": [
        "# Задача 2\n",
        "Вывести все строки из таблицы Product, кроме трех строк с наименьшими номерами моделей и трех строк с наибольшими номерами моделей.\n",
        "\n",
        "  Select maker, model, type from\n",
        "  (\n",
        "  Select\n",
        "  row_number() over (order by model) p1,\n",
        "  row_number() over (order by model DESC) p2,\n",
        "  from Product\n",
        "  ) t1\n",
        "  where p1 > 3 and p2 > 3\n"
      ],
      "metadata": {
        "id": "tNLA4oxPfL-L"
      }
    },
    {
      "cell_type": "code",
      "source": [
        "from pyspark.sql.window import Window\n",
        "from pyspark.sql.functions import row_number, desc\n",
        "\n",
        "product = spark.table(\"product\")\n",
        "MaxVal = Window.orderBy(\"model\")\n",
        "product1 = product.withColumn(\"p1\", row_number().over(MaxVal))\n",
        "MinVal = Window.orderBy(desc(\"model\"))\n",
        "product1.withColumn(\"p2\", row_number().over(MinVal))\\\n",
        "        .select(\"maker\", \"model\", \"type\")\\\n",
        "        .filter((col(\"p1\")>3) & (col(\"p2\")>3)).show()"
      ],
      "metadata": {
        "colab": {
          "base_uri": "https://localhost:8080/"
        },
        "id": "QdHwvInSVnve",
        "outputId": "7a7f6d36-505b-49e0-c85b-ba37174ccf8b"
      },
      "execution_count": null,
      "outputs": [
        {
          "output_type": "stream",
          "name": "stdout",
          "text": [
            "+-----+-----+-------+\n",
            "|maker|model|   type|\n",
            "+-----+-----+-------+\n",
            "|    B| 1750| Laptop|\n",
            "|    E| 1434|Printer|\n",
            "|    D| 1433|Printer|\n",
            "|    A| 1408|Printer|\n",
            "|    A| 1401|Printer|\n",
            "|    C| 1321| Laptop|\n",
            "|    A| 1298| Laptop|\n",
            "|    D| 1288|Printer|\n",
            "|    A| 1276|Printer|\n",
            "|    E| 1260|     PC|\n",
            "+-----+-----+-------+\n",
            "\n"
          ]
        }
      ]
    },
    {
      "cell_type": "markdown",
      "source": [
        "# Задача 3\n",
        "  Найти тех производителей ПК, все модели ПК которых имеются в таблице PC.\n",
        "\n",
        "  SELECT p.maker\n",
        "  FROM product p\n",
        "  LEFT JOIN pc ON pc.model = p.model\n",
        "  WHERE p.type = 'PC'\n",
        "  GROUP BY p.maker\n",
        "  HAVING COUNT(p.model) = COUNT(pc.model)\n",
        "  "
      ],
      "metadata": {
        "id": "ZBftHNDgb6lZ"
      }
    },
    {
      "cell_type": "code",
      "source": [],
      "metadata": {
        "id": "ZFNbFTsAcCPN"
      },
      "execution_count": null,
      "outputs": []
    },
    {
      "cell_type": "markdown",
      "source": [
        "# Задача 4\n",
        "Найдите производителей принтеров, которые производят ПК с наименьшим объемом RAM и с самым быстрым процессором среди всех ПК, имеющих наименьший объем RAM. Вывести: Maker\n",
        "\n",
        "  SELECT DISTINCT maker\n",
        "  FROM product\n",
        "   WHERE model IN (\n",
        "  SELECT model\n",
        "  FROM pc\n",
        "  WHERE ram = (\n",
        "    SELECT MIN(ram)\n",
        "    FROM pc\n",
        "    )\n",
        "  AND speed = (\n",
        "    SELECT MAX(speed)\n",
        "    FROM pc\n",
        "    WHERE ram = (\n",
        "     SELECT MIN(ram)\n",
        "     FROM pc\n",
        "     )\n",
        "    )\n",
        "  )\n",
        "  AND\n",
        "  maker IN (\n",
        "  SELECT maker\n",
        "  FROM product\n",
        "  WHERE type='printer'\n",
        "  )"
      ],
      "metadata": {
        "id": "8yyjsu7qiaw_"
      }
    },
    {
      "cell_type": "code",
      "source": [],
      "metadata": {
        "id": "phUlVWmShfdd",
        "colab": {
          "base_uri": "https://localhost:8080/"
        },
        "outputId": "b5cfccac-215e-49cf-e961-bbdeeb60e430"
      },
      "execution_count": null,
      "outputs": [
        {
          "output_type": "stream",
          "name": "stdout",
          "text": [
            "+-----+-----+-------+\n",
            "|Maker|Model|   Type|\n",
            "+-----+-----+-------+\n",
            "|    B| 1121|     PC|\n",
            "|    A| 1232|     PC|\n",
            "|    A| 1233|     PC|\n",
            "|    E| 1260|     PC|\n",
            "|    A| 1276|Printer|\n",
            "|    D| 1288|Printer|\n",
            "|    A| 1298| Laptop|\n",
            "|    C| 1321| Laptop|\n",
            "|    A| 1401|Printer|\n",
            "|    A| 1408|Printer|\n",
            "|    D| 1433|Printer|\n",
            "|    E| 1434|Printer|\n",
            "|    B| 1750| Laptop|\n",
            "|    A| 1752| Laptop|\n",
            "|    E| 2113|     PC|\n",
            "|    E| 2112|     PC|\n",
            "+-----+-----+-------+\n",
            "\n"
          ]
        }
      ]
    },
    {
      "cell_type": "code",
      "source": [],
      "metadata": {
        "id": "5RBFmqeejyZ8"
      },
      "execution_count": null,
      "outputs": []
    }
  ]
}