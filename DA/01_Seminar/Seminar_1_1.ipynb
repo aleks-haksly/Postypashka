{
  "nbformat": 4,
  "nbformat_minor": 0,
  "metadata": {
    "colab": {
      "provenance": []
    },
    "kernelspec": {
      "name": "python3",
      "display_name": "Python 3"
    },
    "language_info": {
      "name": "python"
    }
  },
  "cells": [
    {
      "cell_type": "code",
      "execution_count": null,
      "metadata": {
        "id": "cZA51hxsORmE"
      },
      "outputs": [],
      "source": [
        "!pip install pyspark"
      ]
    },
    {
      "cell_type": "code",
      "source": [
        "from pyspark.sql import SparkSession\n",
        "spark = SparkSession.builder.master('local[*]').getOrCreate()"
      ],
      "metadata": {
        "id": "Q3Cfbn2HOkAk"
      },
      "execution_count": null,
      "outputs": []
    },
    {
      "cell_type": "markdown",
      "source": [
        "#**RDD**"
      ],
      "metadata": {
        "id": "AAJjAlqsDu0M"
      }
    },
    {
      "cell_type": "markdown",
      "source": [
        "# Вспомогательные функции\n"
      ],
      "metadata": {
        "id": "_l3bTFHPkxqd"
      }
    },
    {
      "cell_type": "code",
      "source": [
        "path_to_order = \"/content/drive/MyDrive/DE/LabRDD/dataset/order/order.csv\"\n",
        "path_to_customer = \"/content/drive/MyDrive/DE/LabRDD/dataset/customer/customer.csv\"\n",
        "path_to_product = \"/content/drive/MyDrive/DE/LabRDD/dataset/product/product.csv\"\n"
      ],
      "metadata": {
        "id": "0gcVpRsKk2aF"
      },
      "execution_count": null,
      "outputs": []
    },
    {
      "cell_type": "markdown",
      "source": [
        "  # Задача 1\n",
        "  * 1. Загрузить в RDD файл src/test/resources/input/order\n",
        "  * 2. Выбрать строки в которых поле статус заказа delivered\n",
        "  * 3. Выбрать ключ (customerID), значение (numberOfProduct, 1)\n",
        "  * 4. Написать функцию reduce для расчёта\n",
        "  * 5. Применит к RDD из п.3 метод reduceByKey c функцией из п.4\n",
        "  * 6. Вывести или записать результат"
      ],
      "metadata": {
        "id": "BcACIvWiYggX"
      }
    },
    {
      "cell_type": "code",
      "source": [],
      "metadata": {
        "id": "uHHHEkYhSnAL"
      },
      "execution_count": null,
      "outputs": []
    },
    {
      "cell_type": "markdown",
      "source": [
        "# Задача 2\n",
        "   * 1. Загрузить в RDD файл src/test/resources/input/order\n",
        "   * 2. Распарсить строки RDD\n",
        "   * 3. Выбрать ключ поле (customerID), в значение (orderDate, numberOfProduct, productID)\n",
        "   * 4. Загрузить в RDD файл customer\n",
        "   * 5. Распарсить строки RDD\n",
        "   * 6. Выбрать ключ поле (id), в значение (name)\n",
        "   * 7. Выполнить внутреннее соединение RDD из п.6 и п.9\n",
        "   * 8. Выбрать ключ (productID), в значение (customer.name, orderDate,  numberOfProduct)\n",
        "   * 9. Загрузить в RDD файл product.csv\n",
        "   * 10. Распарсить строки RDD\n",
        "   * 11. Выбрать ключ (id), значение (price)\n",
        "   * 12. Выполнить внутреннее соединение с RDD из п.11 и п.14\n",
        "   * 13. Выбрать ключ (customer.name, order.orderDate), значение (order.numberOfProduct * product.price)\n",
        "   * 14. Расчитать сумму в значении по ключу\n",
        "   * 15. Вывести результат"
      ],
      "metadata": {
        "id": "ioq_0k79XVIX"
      }
    },
    {
      "cell_type": "code",
      "source": [],
      "metadata": {
        "id": "smNWeMqmS6D5"
      },
      "execution_count": null,
      "outputs": []
    },
    {
      "cell_type": "code",
      "source": [],
      "metadata": {
        "id": "p1-sB4PGdoDb"
      },
      "execution_count": null,
      "outputs": []
    },
    {
      "cell_type": "code",
      "source": [],
      "metadata": {
        "id": "dHB531_FjTKi"
      },
      "execution_count": null,
      "outputs": []
    },
    {
      "cell_type": "markdown",
      "source": [
        "# Задача 3\n",
        " * 1. Загрузить в RDD файл src/test/resources/input/product\n",
        " * 2. Распарсить строки в RDD\n",
        " * 3. Выбрать ключ поле id, в значение name\n",
        " * 4. Загрузить в RDD файд src/test/resources/input/order\n",
        " * 5. Распарсить строки в RDD\n",
        " * 6. Выбрать ключ поле productID, в значение numberOfProduct\n",
        " * 7. Посчитать кол-во проданных продуктов\n",
        " * 8. Выполнить левое соединение двух RDD\n",
        " * 9. Выполнить фильтрацию и оставить только те строки где значение numberOfProducts 0 или None\n",
        " * 10. Вывести результат или записать в директорию"
      ],
      "metadata": {
        "id": "45RHgDpy37fv"
      }
    },
    {
      "cell_type": "code",
      "source": [],
      "metadata": {
        "id": "u6Gmt7NjqmV0"
      },
      "execution_count": null,
      "outputs": []
    },
    {
      "cell_type": "code",
      "source": [],
      "metadata": {
        "id": "4YVCo_Zm4WFy"
      },
      "execution_count": null,
      "outputs": []
    },
    {
      "cell_type": "markdown",
      "source": [
        "# Задача 4\n",
        " * 1. Загрузить в RDD файд src/test/resources/input/order.csv\n",
        " * 2. Распарсить строки в RDD\n",
        " * 3. Выбрать только те транзакции у которых статус delivered\n",
        " * 4. Выбрать ключ (customerID), значение (numberOfProducts)\n",
        " * 5. Выполнить группировку по ключу\n",
        " * 6. Посчитать сумму по значению и разделить на размер коллекции\n",
        " * 7. Вывести результат или записать в директорию"
      ],
      "metadata": {
        "id": "ke2CWIlEID37"
      }
    },
    {
      "cell_type": "code",
      "source": [],
      "metadata": {
        "id": "TcNB5yIUIDSf"
      },
      "execution_count": null,
      "outputs": []
    },
    {
      "cell_type": "markdown",
      "source": [
        "# **DATAFRAME**"
      ],
      "metadata": {
        "id": "ojob0rIRD7aU"
      }
    },
    {
      "cell_type": "markdown",
      "source": [
        "# Вспомогательные функции"
      ],
      "metadata": {
        "id": "RimZITiTdfgW"
      }
    },
    {
      "cell_type": "code",
      "source": [],
      "metadata": {
        "id": "Xn9zKwS0K6rL"
      },
      "execution_count": null,
      "outputs": []
    },
    {
      "cell_type": "code",
      "source": [],
      "metadata": {
        "id": "8orCH6v_TaX6"
      },
      "execution_count": null,
      "outputs": []
    },
    {
      "cell_type": "code",
      "source": [],
      "metadata": {
        "id": "TxRB6jrHUGN2"
      },
      "execution_count": null,
      "outputs": []
    },
    {
      "cell_type": "markdown",
      "source": [
        "# Задача 1\n",
        "Для каждого значения скорости ПК, превышающего 600 МГц, определите среднюю цену ПК с такой же скоростью.\n",
        "Вывести: speed, средняя цена.\n",
        "\n",
        "SELECT pc.speed, AVG(pc.price)\n",
        "FROM pc\n",
        "WHERE pc.speed > 600\n",
        "GROUP BY pc.speed\n",
        ")"
      ],
      "metadata": {
        "id": "OQWCmmxMdo0X"
      }
    },
    {
      "cell_type": "code",
      "source": [],
      "metadata": {
        "id": "kTTcefXbdobG"
      },
      "execution_count": null,
      "outputs": []
    },
    {
      "cell_type": "markdown",
      "source": [
        "# Задача 2\n",
        "Вывести все строки из таблицы Product, кроме трех строк с наименьшими номерами моделей и трех строк с наибольшими номерами моделей.\n",
        "\n",
        "  Select maker, model, type from\n",
        "  (\n",
        "  Select\n",
        "  row_number() over (order by model) p1,\n",
        "  row_number() over (order by model DESC) p2,\n",
        "  from Product\n",
        "  ) t1\n",
        "  where p1 > 3 and p2 > 3\n"
      ],
      "metadata": {
        "id": "tNLA4oxPfL-L"
      }
    },
    {
      "cell_type": "code",
      "source": [],
      "metadata": {
        "id": "QdHwvInSVnve"
      },
      "execution_count": null,
      "outputs": []
    },
    {
      "cell_type": "markdown",
      "source": [
        "# Задача 3\n",
        "  Найти тех производителей ПК, все модели ПК которых имеются в таблице PC.\n",
        "\n",
        "  SELECT p.maker\n",
        "  FROM product p\n",
        "  LEFT JOIN pc ON pc.model = p.model\n",
        "  WHERE p.type = 'PC'\n",
        "  GROUP BY p.maker\n",
        "  HAVING COUNT(p.model) = COUNT(pc.model)"
      ],
      "metadata": {
        "id": "Qfa0ZPrQg0FD"
      }
    },
    {
      "cell_type": "code",
      "source": [],
      "metadata": {
        "id": "SZgIWpgzdZyF"
      },
      "execution_count": null,
      "outputs": []
    },
    {
      "cell_type": "markdown",
      "source": [
        "# Задача 4\n",
        "Найдите производителей принтеров, которые производят ПК с наименьшим объемом RAM и с самым быстрым процессором среди всех ПК, имеющих наименьший объем RAM. Вывести: Maker\n",
        "\n",
        "  SELECT DISTINCT maker\n",
        "  FROM product\n",
        "   WHERE model IN (\n",
        "  SELECT model\n",
        "  FROM pc\n",
        "  WHERE ram = (\n",
        "    SELECT MIN(ram)\n",
        "    FROM pc\n",
        "    )\n",
        "  AND speed = (\n",
        "    SELECT MAX(speed)\n",
        "    FROM pc\n",
        "    WHERE ram = (\n",
        "     SELECT MIN(ram)\n",
        "     FROM pc\n",
        "     )\n",
        "    )\n",
        "  )\n",
        "  AND\n",
        "  maker IN (\n",
        "  SELECT maker\n",
        "  FROM product\n",
        "  WHERE type='printer'\n",
        "  )"
      ],
      "metadata": {
        "id": "8yyjsu7qiaw_"
      }
    },
    {
      "cell_type": "code",
      "source": [
        "\n"
      ],
      "metadata": {
        "id": "phUlVWmShfdd"
      },
      "execution_count": null,
      "outputs": []
    },
    {
      "cell_type": "code",
      "source": [],
      "metadata": {
        "id": "5RBFmqeejyZ8"
      },
      "execution_count": null,
      "outputs": []
    }
  ]
}