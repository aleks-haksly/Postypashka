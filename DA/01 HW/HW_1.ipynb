{
  "cells": [
    {
      "cell_type": "markdown",
      "metadata": {
        "id": "view-in-github",
        "colab_type": "text"
      },
      "source": [
        "<a href=\"https://colab.research.google.com/github/aleks-haksly/Postypashka/blob/main/DA/01%20HW/HW_1.ipynb\" target=\"_parent\"><img src=\"https://colab.research.google.com/assets/colab-badge.svg\" alt=\"Open In Colab\"/></a>"
      ]
    },
    {
      "cell_type": "code",
      "execution_count": 1,
      "metadata": {
        "ExecuteTime": {
          "end_time": "2024-05-14T21:38:46.578163Z",
          "start_time": "2024-05-14T21:38:40.641188Z"
        },
        "id": "1qzEqvohoZfB"
      },
      "outputs": [],
      "source": [
        "# Всё необходимое для выполнения данной лабораторной работы!\n",
        "import requests\n",
        "from time import sleep\n",
        "\n",
        "import numpy as np\n",
        "import pandas as pd\n",
        "import matplotlib.pyplot as plt\n",
        "import seaborn as sns"
      ]
    },
    {
      "cell_type": "code",
      "source": [
        "pd.set_option('display.max_columns', 100)"
      ],
      "metadata": {
        "id": "8Kyw0avoOtzx"
      },
      "execution_count": 2,
      "outputs": []
    },
    {
      "cell_type": "markdown",
      "metadata": {
        "id": "rB_FYHU2k8w-"
      },
      "source": [
        "## Задание 1. Парсинг - 10 баллов"
      ]
    },
    {
      "cell_type": "markdown",
      "metadata": {
        "id": "F0gr5cjaoQJy"
      },
      "source": [
        "В этом задании Вам предстоит работать с API сайта <a target=\"_blank\" href=\"hh.ru\">hh.ru</a>. Документация доступна по <a target=\"_blank\" href=\"https://github.com/hhru/api/blob/master/docs/vacancies.md#search\">ссылке</a>."
      ]
    },
    {
      "cell_type": "markdown",
      "metadata": {
        "id": "-HAm80rqRqAZ"
      },
      "source": [
        "**Задача:**\n",
        "1. выбрать 5 интересующих вас профессий (не смежных, т.е. Аналатик и Data Engineer не считается корректным)\n",
        "2. затем получить доступные по данным профессиям вакансии в Москве и выделить их физические координаты\n",
        "3. нанести полученные координаты на карту местоположения компаний"
      ]
    },
    {
      "cell_type": "code",
      "source": [
        "URL_areas = 'https://api.hh.ru/areas'\n",
        "URL_professions = 'https://api.hh.ru/professional_roles'\n",
        "URL_vacancies = 'https://api.hh.ru/vacancies'"
      ],
      "metadata": {
        "id": "zh6WRshwzKUv"
      },
      "execution_count": 3,
      "outputs": []
    },
    {
      "cell_type": "code",
      "source": [
        "data_areas = requests.get(URL_areas).json()\n",
        "sleep(0.5)\n",
        "data_professions = requests.get(URL_professions).json()"
      ],
      "metadata": {
        "id": "hMQsvp2RYr4x"
      },
      "execution_count": 4,
      "outputs": []
    },
    {
      "cell_type": "code",
      "source": [
        "def get_city_id_by_name(data:dict=data_areas, county_name:str='Россия', city_name:str='Москва') -> str | None:\n",
        "    \"\"\"\n",
        "    Returns the city ID given a country name and city name.\n",
        "\n",
        "    :param data: A dictionary containing country and city data.\n",
        "    :param county_name: The name of the country.\n",
        "    :param city_name: The name of the city.\n",
        "    :return: The ID of the city if found, otherwise None\n",
        "    \"\"\"\n",
        "    for country in data_areas:\n",
        "        if country.get('name', []) == county_name:\n",
        "            for city in country['areas']:\n",
        "                if city.get('name', []) == city_name:\n",
        "                    return city.get('id', None)"
      ],
      "metadata": {
        "id": "_Tzzg7eyW53J"
      },
      "execution_count": 5,
      "outputs": []
    },
    {
      "cell_type": "code",
      "source": [
        "def get_random_professions_names(data:dict=data_professions, n:int=5) -> list:\n",
        "    \"\"\"\n",
        "    Returns a list of random profession names.\n",
        "\n",
        "    :param data: A dictionary containing professions data.\n",
        "    :param n: The number of profession names to return.\n",
        "    :return: A list of random profession names\n",
        "    \"\"\"\n",
        "    result = []\n",
        "    profession_categories = [profession_categories.get('name') for profession_categories in data.get('categories')][:-1] #Категорию \"другое\" не рассматриваем\n",
        "    # Выберем по 1 случайной профессии из n случайных категорий\n",
        "    for profession_category in np.random.choice(profession_categories, size=n, replace=False):\n",
        "        for profession in data_professions.get('categories'):\n",
        "            if profession.get('name', []) == profession_category:\n",
        "                result.append(np.random.choice(profession.get('roles'), size=1, replace=False)[0].get('name'))\n",
        "                break\n",
        "    return result\n"
      ],
      "metadata": {
        "id": "P5yAeTYI-wJs"
      },
      "execution_count": 6,
      "outputs": []
    },
    {
      "cell_type": "markdown",
      "metadata": {
        "id": "H0GhQJvipXYj"
      },
      "source": [
        "*Пример запроса для профессии:*"
      ]
    },
    {
      "cell_type": "code",
      "source": [
        "def get_vacancies_page(vacancy_name:str, page:int=0, city:str='Москва') -> dict:\n",
        "    \"\"\"\n",
        "    Fetches a page of vacancies based on the vacancy name and city.\n",
        "\n",
        "    :param vacancy_name: The name of the vacancy to search for.\n",
        "    :param page: The page number to fetch (defaults to 0).\n",
        "    :param city: The city to filter vacancies by (defaults to 'Москва').\n",
        "    :return: A JSON object containing the vacancies or None if an error occurs.\n",
        "    \"\"\"\n",
        "    params = {\n",
        "        'text': vacancy_name,\n",
        "        'area': get_city_id_by_name(city_name=city),\n",
        "        'page': page,\n",
        "        'per_page': 10\n",
        "    }\n",
        "    try:\n",
        "        response = requests.get(URL_vacancies, params)\n",
        "        response.raise_for_status()\n",
        "    except requests.exceptions.RequestException as e:\n",
        "        print(f\"Error fetching vacancies: {e}\")\n",
        "        return None\n",
        "    return response.json()"
      ],
      "metadata": {
        "id": "LBKRdvkQCFQP"
      },
      "execution_count": 45,
      "outputs": []
    },
    {
      "cell_type": "code",
      "source": [
        "def get_vacancies(vacancy_name, city='Москва'):\n",
        "    \"\"\"\n",
        "    Retrieves all vacancies matching the specified vacancy name and city by paginating through the API results.\n",
        "\n",
        "    :param vacancy_name: The name of the vacancy to search for.\n",
        "    :param city: The city to filter the vacancies by (defaults to 'Москва').\n",
        "    :return: A dictionary containing a list of vacancies and the total number found.\n",
        "    \"\"\"\n",
        "\n",
        "    page = 0\n",
        "    vacancies = []\n",
        "    current_page = get_vacancies_page(vacancy_name=vacancy_name, page=page, city=city)\n",
        "\n",
        "    if not current_page:\n",
        "        return {'items': [], 'found': 0}\n",
        "\n",
        "    total_pages = current_page.get('pages', 0)\n",
        "\n",
        "    while total_pages > page:\n",
        "        vacancies.extend(current_page.get('items', []))\n",
        "        page += 1\n",
        "        sleep(np.random.rand() + 0.5)\n",
        "        current_page = get_vacancies_page(vacancy_name=vacancy_name, page=page, city=city)\n",
        "        if not current_page:\n",
        "          break\n",
        "    return {'items': vacancies, 'found': len(vacancies)}"
      ],
      "metadata": {
        "id": "-ZysyxVn2s9-"
      },
      "execution_count": 59,
      "outputs": []
    },
    {
      "cell_type": "code",
      "source": [
        "np.random.seed(42)\n",
        "data = []\n",
        "for vacancy_name in get_random_professions_names(n=5):\n",
        "    vacancies = get_vacancies(vacancy_name=vacancy_name)\n",
        "    data.extend(vacancies.get('items'))\n",
        "    print(f'{vacancies.get(\"found\")} vacancies for {vacancy_name} fetched')"
      ],
      "metadata": {
        "colab": {
          "base_uri": "https://localhost:8080/"
        },
        "id": "6WofyegHFi6v",
        "outputId": "5151a5cd-7c11-4418-ea19-0c47a0badd6d"
      },
      "execution_count": 63,
      "outputs": [
        {
          "output_type": "stream",
          "name": "stdout",
          "text": [
            "8 vacancies for Артист, актер, аниматор fetched\n",
            "52 vacancies for Агроном fetched\n",
            "115 vacancies for Автомойщик fetched\n",
            "555 vacancies for Финансовый директор (CFO) fetched\n",
            "Error fetching vacancies: 400 Client Error: Bad Request for url: https://api.hh.ru/vacancies?text=%D0%9F%D1%81%D0%B8%D1%85%D0%BE%D0%BB%D0%BE%D0%B3&area=1&page=200&per_page=10\n",
            "2000 vacancies for Психолог fetched\n"
          ]
        }
      ]
    },
    {
      "cell_type": "code",
      "source": [
        "len(data)"
      ],
      "metadata": {
        "colab": {
          "base_uri": "https://localhost:8080/"
        },
        "id": "x59Sex3I2Ndr",
        "outputId": "46a268ba-745d-47e9-dac0-7a848974b21f"
      },
      "execution_count": 65,
      "outputs": [
        {
          "output_type": "execute_result",
          "data": {
            "text/plain": [
              "2730"
            ]
          },
          "metadata": {},
          "execution_count": 65
        }
      ]
    },
    {
      "cell_type": "code",
      "source": [],
      "metadata": {
        "id": "ooqeARkfI8iW"
      },
      "execution_count": null,
      "outputs": []
    },
    {
      "cell_type": "code",
      "source": [],
      "metadata": {
        "id": "Cgjyr30zI8fT"
      },
      "execution_count": null,
      "outputs": []
    },
    {
      "cell_type": "code",
      "source": [],
      "metadata": {
        "id": "K3BmdBS4I8dK"
      },
      "execution_count": null,
      "outputs": []
    },
    {
      "cell_type": "code",
      "source": [],
      "metadata": {
        "id": "s8tOcooYI8an"
      },
      "execution_count": null,
      "outputs": []
    },
    {
      "cell_type": "code",
      "source": [],
      "metadata": {
        "id": "oMMvCRMcI8YG"
      },
      "execution_count": null,
      "outputs": []
    },
    {
      "cell_type": "code",
      "source": [],
      "metadata": {
        "id": "7jr0BwftI8VE"
      },
      "execution_count": null,
      "outputs": []
    },
    {
      "cell_type": "code",
      "source": [],
      "metadata": {
        "id": "lnecRnbeI8R7"
      },
      "execution_count": null,
      "outputs": []
    },
    {
      "cell_type": "code",
      "source": [
        "df1 = df.copy()"
      ],
      "metadata": {
        "id": "C7-FB-ATOSKR"
      },
      "execution_count": 213,
      "outputs": []
    },
    {
      "cell_type": "code",
      "source": [
        "df1['area'] = df1.area.apply(lambda x: x.get('name'))\n",
        "df1['salary_from'] = df1.salary.apply(lambda x: x.get('from', None) if x else None)\n",
        "df1['salary_to'] = df1.salary.apply(lambda x: x.get('to', None) if x else None)\n",
        "df1['salary_currency'] = df1.salary.apply(lambda x: x.get('currency', None) if x else None)\n",
        "df1['salary_gross'] = df1.salary.apply(lambda x: x.get('gross', None) if x else None)\n",
        "df1.drop(columns=['salary'], inplace=True)\n",
        "df1.type\t= df1.type.apply(lambda x: x.get('name', None) if x else None)\n",
        "df1['city_address'] = df1.address.apply(lambda x: x.get('city', None) if x else None)\n",
        "df1['street_adress'] = df1.address.apply(lambda x: x.get('street', None) if x else None)\n",
        "df1['metro_station'] = df1.address.apply(lambda x: x.get('metro_station', None)\n",
        "df1['metro_line'] = df1.address.apply(lambda x: x.get('metro_line', None)\n",
        "df1['metro_distance'] = df1.address.apply(lambda x: x.get('metro_distance', None)\n",
        "df1['r']\n",
        "#df1.drop(columns=['address'], inplace=True)\n"
      ],
      "metadata": {
        "id": "aatP1YLtNKyG"
      },
      "execution_count": 211,
      "outputs": []
    },
    {
      "cell_type": "code",
      "source": [
        "df1"
      ],
      "metadata": {
        "colab": {
          "base_uri": "https://localhost:8080/",
          "height": 1000
        },
        "id": "cm1lxBqNPVjG",
        "outputId": "b1f4d045-7e9d-4683-a828-40fac1c296df"
      },
      "execution_count": 212,
      "outputs": [
        {
          "output_type": "execute_result",
          "data": {
            "text/plain": [
              "          id  premium                                               name  \\\n",
              "0  107214681    False                                    Главный агроном   \n",
              "1  106335339    False  Управляющий агрофермой (Агроном) релокация на ...   \n",
              "2  106435824    False    Ландшафтный дизайнер/Садовник/Дендролог/Агроном   \n",
              "3  106918725    False                                            Агроном   \n",
              "4  105672373    False                                   Агроном/овощевод   \n",
              "5  107065128    False  Специалист по уходу за офисными растениями (са...   \n",
              "6  106702001    False                          Агроном (Растениеводство)   \n",
              "7  106066250    False  Биолог/специалист по уходу за горшечными расте...   \n",
              "8  106107473    False                                            Агроном   \n",
              "9  106267536    False                                            Агроном   \n",
              "\n",
              "  department  has_test  response_letter_required    area      type  \\\n",
              "0       None     False                     False  Москва  Открытая   \n",
              "1       None     False                      True  Москва  Открытая   \n",
              "2       None     False                     False  Москва  Открытая   \n",
              "3       None     False                     False  Москва  Открытая   \n",
              "4       None     False                     False  Москва  Открытая   \n",
              "5       None     False                     False  Москва  Открытая   \n",
              "6       None     False                     False  Москва  Открытая   \n",
              "7       None     False                     False  Москва  Открытая   \n",
              "8       None     False                     False  Москва  Открытая   \n",
              "9       None     False                     False  Москва  Открытая   \n",
              "\n",
              "  response_url sort_point_distance              published_at  \\\n",
              "0         None                None  2024-09-12T17:36:02+0300   \n",
              "1         None                None  2024-08-26T14:39:27+0300   \n",
              "2         None                None  2024-09-02T10:32:17+0300   \n",
              "3         None                None  2024-09-06T16:36:22+0300   \n",
              "4         None                None  2024-08-28T12:27:02+0300   \n",
              "5         None                None  2024-09-10T15:15:41+0300   \n",
              "6         None                None  2024-09-12T11:55:28+0300   \n",
              "7         None                None  2024-08-20T14:14:14+0300   \n",
              "8         None                None  2024-08-21T11:17:36+0300   \n",
              "9         None                None  2024-09-10T15:49:41+0300   \n",
              "\n",
              "                 created_at  archived  \\\n",
              "0  2024-09-12T17:36:02+0300     False   \n",
              "1  2024-08-26T14:39:27+0300     False   \n",
              "2  2024-09-02T10:32:17+0300     False   \n",
              "3  2024-09-06T16:36:22+0300     False   \n",
              "4  2024-08-28T12:27:02+0300     False   \n",
              "5  2024-09-10T15:15:41+0300     False   \n",
              "6  2024-09-12T11:55:28+0300     False   \n",
              "7  2024-08-20T14:14:14+0300     False   \n",
              "8  2024-08-21T11:17:36+0300     False   \n",
              "9  2024-09-10T15:49:41+0300     False   \n",
              "\n",
              "                                 apply_alternate_url  show_logo_in_search  \\\n",
              "0  https://hh.ru/applicant/vacancy_response?vacan...                  NaN   \n",
              "1  https://hh.ru/applicant/vacancy_response?vacan...                  NaN   \n",
              "2  https://hh.ru/applicant/vacancy_response?vacan...                  NaN   \n",
              "3  https://hh.ru/applicant/vacancy_response?vacan...                  NaN   \n",
              "4  https://hh.ru/applicant/vacancy_response?vacan...                  NaN   \n",
              "5  https://hh.ru/applicant/vacancy_response?vacan...                  NaN   \n",
              "6  https://hh.ru/applicant/vacancy_response?vacan...                  NaN   \n",
              "7  https://hh.ru/applicant/vacancy_response?vacan...                  NaN   \n",
              "8  https://hh.ru/applicant/vacancy_response?vacan...                  NaN   \n",
              "9  https://hh.ru/applicant/vacancy_response?vacan...                  NaN   \n",
              "\n",
              "  insider_interview                                               url  \\\n",
              "0              None  https://api.hh.ru/vacancies/107214681?host=hh.ru   \n",
              "1              None  https://api.hh.ru/vacancies/106335339?host=hh.ru   \n",
              "2              None  https://api.hh.ru/vacancies/106435824?host=hh.ru   \n",
              "3              None  https://api.hh.ru/vacancies/106918725?host=hh.ru   \n",
              "4              None  https://api.hh.ru/vacancies/105672373?host=hh.ru   \n",
              "5              None  https://api.hh.ru/vacancies/107065128?host=hh.ru   \n",
              "6              None  https://api.hh.ru/vacancies/106702001?host=hh.ru   \n",
              "7              None  https://api.hh.ru/vacancies/106066250?host=hh.ru   \n",
              "8              None  https://api.hh.ru/vacancies/106107473?host=hh.ru   \n",
              "9              None  https://api.hh.ru/vacancies/106267536?host=hh.ru   \n",
              "\n",
              "                     alternate_url relations  \\\n",
              "0  https://hh.ru/vacancy/107214681        []   \n",
              "1  https://hh.ru/vacancy/106335339        []   \n",
              "2  https://hh.ru/vacancy/106435824        []   \n",
              "3  https://hh.ru/vacancy/106918725        []   \n",
              "4  https://hh.ru/vacancy/105672373        []   \n",
              "5  https://hh.ru/vacancy/107065128        []   \n",
              "6  https://hh.ru/vacancy/106702001        []   \n",
              "7  https://hh.ru/vacancy/106066250        []   \n",
              "8  https://hh.ru/vacancy/106107473        []   \n",
              "9  https://hh.ru/vacancy/106267536        []   \n",
              "\n",
              "                                            employer  \\\n",
              "0  {'id': '1069209', 'name': 'Кадровый центр През...   \n",
              "1  {'id': '11217206', 'name': 'Всё, я увольняюсь!...   \n",
              "2  {'id': '56479', 'name': 'Дэстэн Партнерс', 'ur...   \n",
              "3  {'id': '11412752', 'name': 'Здоровый Сад', 'ur...   \n",
              "4  {'id': '2161246', 'name': 'МОСМАКС ТРЕТЬЯКОВСК...   \n",
              "5  {'id': '3926338', 'name': 'Дизайн Инжиниринг',...   \n",
              "6  {'id': '161720', 'name': 'КОРНИ, Питомник раст...   \n",
              "7  {'id': '787380', 'name': 'Бюро Фитодизайна Фик...   \n",
              "8  {'id': '10797718', 'name': 'Райдер СНГ', 'url'...   \n",
              "9  {'id': '1197490', 'name': 'Озеленитель Стройгр...   \n",
              "\n",
              "                                             snippet contacts  \\\n",
              "0  {'requirement': 'Высшее профильное образование...     None   \n",
              "1  {'requirement': 'Профильное образование. Релев...     None   \n",
              "2  {'requirement': 'Опыт работы в смежной должнос...     None   \n",
              "3  {'requirement': 'Ответственность. Кропотливост...     None   \n",
              "4  {'requirement': 'Честность, добросовестность, ...     None   \n",
              "5  {'requirement': 'Диплом об профильном образова...     None   \n",
              "6  {'requirement': 'Опыт работы в питомнике, садо...     None   \n",
              "7  {'requirement': 'Организованность. Высокая отв...     None   \n",
              "8  {'requirement': 'Tребовaния к вaм:  Bысшee или...     None   \n",
              "9  {'requirement': 'Образование не ниже среднего ...     None   \n",
              "\n",
              "                                      schedule working_days  \\\n",
              "0     {'id': 'fullDay', 'name': 'Полный день'}           []   \n",
              "1     {'id': 'fullDay', 'name': 'Полный день'}           []   \n",
              "2     {'id': 'fullDay', 'name': 'Полный день'}           []   \n",
              "3     {'id': 'fullDay', 'name': 'Полный день'}           []   \n",
              "4     {'id': 'fullDay', 'name': 'Полный день'}           []   \n",
              "5  {'id': 'flexible', 'name': 'Гибкий график'}           []   \n",
              "6     {'id': 'fullDay', 'name': 'Полный день'}           []   \n",
              "7     {'id': 'fullDay', 'name': 'Полный день'}           []   \n",
              "8     {'id': 'fullDay', 'name': 'Полный день'}           []   \n",
              "9     {'id': 'fullDay', 'name': 'Полный день'}           []   \n",
              "\n",
              "                              working_time_intervals working_time_modes  \\\n",
              "0                                                 []                 []   \n",
              "1                                                 []                 []   \n",
              "2                                                 []                 []   \n",
              "3                                                 []                 []   \n",
              "4                                                 []                 []   \n",
              "5  [{'id': 'from_four_to_six_hours_in_a_day', 'na...                 []   \n",
              "6                                                 []                 []   \n",
              "7                                                 []                 []   \n",
              "8                                                 []                 []   \n",
              "9                                                 []                 []   \n",
              "\n",
              "   accept_temporary                            professional_roles  \\\n",
              "0             False              [{'id': '7', 'name': 'Агроном'}]   \n",
              "1             False              [{'id': '7', 'name': 'Агроном'}]   \n",
              "2             False  [{'id': '34', 'name': 'Дизайнер, художник'}]   \n",
              "3              True              [{'id': '7', 'name': 'Агроном'}]   \n",
              "4             False              [{'id': '7', 'name': 'Агроном'}]   \n",
              "5              True              [{'id': '7', 'name': 'Агроном'}]   \n",
              "6              True              [{'id': '7', 'name': 'Агроном'}]   \n",
              "7             False              [{'id': '40', 'name': 'Другое'}]   \n",
              "8             False              [{'id': '7', 'name': 'Агроном'}]   \n",
              "9             False              [{'id': '7', 'name': 'Агроном'}]   \n",
              "\n",
              "   accept_incomplete_resumes  \\\n",
              "0                      False   \n",
              "1                      False   \n",
              "2                      False   \n",
              "3                      False   \n",
              "4                       True   \n",
              "5                      False   \n",
              "6                       True   \n",
              "7                       True   \n",
              "8                      False   \n",
              "9                      False   \n",
              "\n",
              "                                          experience  \\\n",
              "0    {'id': 'between3And6', 'name': 'От 3 до 6 лет'}   \n",
              "1    {'id': 'between3And6', 'name': 'От 3 до 6 лет'}   \n",
              "2  {'id': 'between1And3', 'name': 'От 1 года до 3...   \n",
              "3  {'id': 'between1And3', 'name': 'От 1 года до 3...   \n",
              "4  {'id': 'between1And3', 'name': 'От 1 года до 3...   \n",
              "5  {'id': 'between1And3', 'name': 'От 1 года до 3...   \n",
              "6    {'id': 'between3And6', 'name': 'От 3 до 6 лет'}   \n",
              "7  {'id': 'between1And3', 'name': 'От 1 года до 3...   \n",
              "8        {'id': 'noExperience', 'name': 'Нет опыта'}   \n",
              "9        {'id': 'noExperience', 'name': 'Нет опыта'}   \n",
              "\n",
              "                                      employment adv_response_url  \\\n",
              "0     {'id': 'full', 'name': 'Полная занятость'}             None   \n",
              "1     {'id': 'full', 'name': 'Полная занятость'}             None   \n",
              "2     {'id': 'full', 'name': 'Полная занятость'}             None   \n",
              "3  {'id': 'part', 'name': 'Частичная занятость'}             None   \n",
              "4     {'id': 'full', 'name': 'Полная занятость'}             None   \n",
              "5  {'id': 'part', 'name': 'Частичная занятость'}             None   \n",
              "6     {'id': 'full', 'name': 'Полная занятость'}             None   \n",
              "7     {'id': 'full', 'name': 'Полная занятость'}             None   \n",
              "8     {'id': 'full', 'name': 'Полная занятость'}             None   \n",
              "9     {'id': 'full', 'name': 'Полная занятость'}             None   \n",
              "\n",
              "   is_adv_vacancy adv_context  salary_from  salary_to salary_currency  \\\n",
              "0           False        None       180000        NaN             RUR   \n",
              "1           False        None         2000        NaN             USD   \n",
              "2           False        None       180000        NaN             RUR   \n",
              "3           False        None        30000    40000.0             RUR   \n",
              "4           False        None       120000        NaN             RUR   \n",
              "5           False        None        25000   100000.0             RUR   \n",
              "6           False        None       130000   150000.0             RUR   \n",
              "7           False        None        35000    68000.0             RUR   \n",
              "8           False        None        50000   100000.0             RUR   \n",
              "9           False        None        80000        NaN             RUR   \n",
              "\n",
              "   salary_gross      city_address           street_adress  \n",
              "0         False              None                    None  \n",
              "1          True              None                    None  \n",
              "2         False              None                    None  \n",
              "3         False            Москва         улица Плеханова  \n",
              "4         False              None                    None  \n",
              "5         False            Москва  Пресненская набережная  \n",
              "6         False  деревня Кончинка                    None  \n",
              "7         False   деревня Аносино   Университетская улица  \n",
              "8         False              None                    None  \n",
              "9         False              None                    None  "
            ],
            "text/html": [
              "\n",
              "  <div id=\"df-984c67a7-8716-48b8-bcb0-d8211dbf6805\" class=\"colab-df-container\">\n",
              "    <div>\n",
              "<style scoped>\n",
              "    .dataframe tbody tr th:only-of-type {\n",
              "        vertical-align: middle;\n",
              "    }\n",
              "\n",
              "    .dataframe tbody tr th {\n",
              "        vertical-align: top;\n",
              "    }\n",
              "\n",
              "    .dataframe thead th {\n",
              "        text-align: right;\n",
              "    }\n",
              "</style>\n",
              "<table border=\"1\" class=\"dataframe\">\n",
              "  <thead>\n",
              "    <tr style=\"text-align: right;\">\n",
              "      <th></th>\n",
              "      <th>id</th>\n",
              "      <th>premium</th>\n",
              "      <th>name</th>\n",
              "      <th>department</th>\n",
              "      <th>has_test</th>\n",
              "      <th>response_letter_required</th>\n",
              "      <th>area</th>\n",
              "      <th>type</th>\n",
              "      <th>response_url</th>\n",
              "      <th>sort_point_distance</th>\n",
              "      <th>published_at</th>\n",
              "      <th>created_at</th>\n",
              "      <th>archived</th>\n",
              "      <th>apply_alternate_url</th>\n",
              "      <th>show_logo_in_search</th>\n",
              "      <th>insider_interview</th>\n",
              "      <th>url</th>\n",
              "      <th>alternate_url</th>\n",
              "      <th>relations</th>\n",
              "      <th>employer</th>\n",
              "      <th>snippet</th>\n",
              "      <th>contacts</th>\n",
              "      <th>schedule</th>\n",
              "      <th>working_days</th>\n",
              "      <th>working_time_intervals</th>\n",
              "      <th>working_time_modes</th>\n",
              "      <th>accept_temporary</th>\n",
              "      <th>professional_roles</th>\n",
              "      <th>accept_incomplete_resumes</th>\n",
              "      <th>experience</th>\n",
              "      <th>employment</th>\n",
              "      <th>adv_response_url</th>\n",
              "      <th>is_adv_vacancy</th>\n",
              "      <th>adv_context</th>\n",
              "      <th>salary_from</th>\n",
              "      <th>salary_to</th>\n",
              "      <th>salary_currency</th>\n",
              "      <th>salary_gross</th>\n",
              "      <th>city_address</th>\n",
              "      <th>street_adress</th>\n",
              "    </tr>\n",
              "  </thead>\n",
              "  <tbody>\n",
              "    <tr>\n",
              "      <th>0</th>\n",
              "      <td>107214681</td>\n",
              "      <td>False</td>\n",
              "      <td>Главный агроном</td>\n",
              "      <td>None</td>\n",
              "      <td>False</td>\n",
              "      <td>False</td>\n",
              "      <td>Москва</td>\n",
              "      <td>Открытая</td>\n",
              "      <td>None</td>\n",
              "      <td>None</td>\n",
              "      <td>2024-09-12T17:36:02+0300</td>\n",
              "      <td>2024-09-12T17:36:02+0300</td>\n",
              "      <td>False</td>\n",
              "      <td>https://hh.ru/applicant/vacancy_response?vacan...</td>\n",
              "      <td>NaN</td>\n",
              "      <td>None</td>\n",
              "      <td>https://api.hh.ru/vacancies/107214681?host=hh.ru</td>\n",
              "      <td>https://hh.ru/vacancy/107214681</td>\n",
              "      <td>[]</td>\n",
              "      <td>{'id': '1069209', 'name': 'Кадровый центр През...</td>\n",
              "      <td>{'requirement': 'Высшее профильное образование...</td>\n",
              "      <td>None</td>\n",
              "      <td>{'id': 'fullDay', 'name': 'Полный день'}</td>\n",
              "      <td>[]</td>\n",
              "      <td>[]</td>\n",
              "      <td>[]</td>\n",
              "      <td>False</td>\n",
              "      <td>[{'id': '7', 'name': 'Агроном'}]</td>\n",
              "      <td>False</td>\n",
              "      <td>{'id': 'between3And6', 'name': 'От 3 до 6 лет'}</td>\n",
              "      <td>{'id': 'full', 'name': 'Полная занятость'}</td>\n",
              "      <td>None</td>\n",
              "      <td>False</td>\n",
              "      <td>None</td>\n",
              "      <td>180000</td>\n",
              "      <td>NaN</td>\n",
              "      <td>RUR</td>\n",
              "      <td>False</td>\n",
              "      <td>None</td>\n",
              "      <td>None</td>\n",
              "    </tr>\n",
              "    <tr>\n",
              "      <th>1</th>\n",
              "      <td>106335339</td>\n",
              "      <td>False</td>\n",
              "      <td>Управляющий агрофермой (Агроном) релокация на ...</td>\n",
              "      <td>None</td>\n",
              "      <td>False</td>\n",
              "      <td>True</td>\n",
              "      <td>Москва</td>\n",
              "      <td>Открытая</td>\n",
              "      <td>None</td>\n",
              "      <td>None</td>\n",
              "      <td>2024-08-26T14:39:27+0300</td>\n",
              "      <td>2024-08-26T14:39:27+0300</td>\n",
              "      <td>False</td>\n",
              "      <td>https://hh.ru/applicant/vacancy_response?vacan...</td>\n",
              "      <td>NaN</td>\n",
              "      <td>None</td>\n",
              "      <td>https://api.hh.ru/vacancies/106335339?host=hh.ru</td>\n",
              "      <td>https://hh.ru/vacancy/106335339</td>\n",
              "      <td>[]</td>\n",
              "      <td>{'id': '11217206', 'name': 'Всё, я увольняюсь!...</td>\n",
              "      <td>{'requirement': 'Профильное образование. Релев...</td>\n",
              "      <td>None</td>\n",
              "      <td>{'id': 'fullDay', 'name': 'Полный день'}</td>\n",
              "      <td>[]</td>\n",
              "      <td>[]</td>\n",
              "      <td>[]</td>\n",
              "      <td>False</td>\n",
              "      <td>[{'id': '7', 'name': 'Агроном'}]</td>\n",
              "      <td>False</td>\n",
              "      <td>{'id': 'between3And6', 'name': 'От 3 до 6 лет'}</td>\n",
              "      <td>{'id': 'full', 'name': 'Полная занятость'}</td>\n",
              "      <td>None</td>\n",
              "      <td>False</td>\n",
              "      <td>None</td>\n",
              "      <td>2000</td>\n",
              "      <td>NaN</td>\n",
              "      <td>USD</td>\n",
              "      <td>True</td>\n",
              "      <td>None</td>\n",
              "      <td>None</td>\n",
              "    </tr>\n",
              "    <tr>\n",
              "      <th>2</th>\n",
              "      <td>106435824</td>\n",
              "      <td>False</td>\n",
              "      <td>Ландшафтный дизайнер/Садовник/Дендролог/Агроном</td>\n",
              "      <td>None</td>\n",
              "      <td>False</td>\n",
              "      <td>False</td>\n",
              "      <td>Москва</td>\n",
              "      <td>Открытая</td>\n",
              "      <td>None</td>\n",
              "      <td>None</td>\n",
              "      <td>2024-09-02T10:32:17+0300</td>\n",
              "      <td>2024-09-02T10:32:17+0300</td>\n",
              "      <td>False</td>\n",
              "      <td>https://hh.ru/applicant/vacancy_response?vacan...</td>\n",
              "      <td>NaN</td>\n",
              "      <td>None</td>\n",
              "      <td>https://api.hh.ru/vacancies/106435824?host=hh.ru</td>\n",
              "      <td>https://hh.ru/vacancy/106435824</td>\n",
              "      <td>[]</td>\n",
              "      <td>{'id': '56479', 'name': 'Дэстэн Партнерс', 'ur...</td>\n",
              "      <td>{'requirement': 'Опыт работы в смежной должнос...</td>\n",
              "      <td>None</td>\n",
              "      <td>{'id': 'fullDay', 'name': 'Полный день'}</td>\n",
              "      <td>[]</td>\n",
              "      <td>[]</td>\n",
              "      <td>[]</td>\n",
              "      <td>False</td>\n",
              "      <td>[{'id': '34', 'name': 'Дизайнер, художник'}]</td>\n",
              "      <td>False</td>\n",
              "      <td>{'id': 'between1And3', 'name': 'От 1 года до 3...</td>\n",
              "      <td>{'id': 'full', 'name': 'Полная занятость'}</td>\n",
              "      <td>None</td>\n",
              "      <td>False</td>\n",
              "      <td>None</td>\n",
              "      <td>180000</td>\n",
              "      <td>NaN</td>\n",
              "      <td>RUR</td>\n",
              "      <td>False</td>\n",
              "      <td>None</td>\n",
              "      <td>None</td>\n",
              "    </tr>\n",
              "    <tr>\n",
              "      <th>3</th>\n",
              "      <td>106918725</td>\n",
              "      <td>False</td>\n",
              "      <td>Агроном</td>\n",
              "      <td>None</td>\n",
              "      <td>False</td>\n",
              "      <td>False</td>\n",
              "      <td>Москва</td>\n",
              "      <td>Открытая</td>\n",
              "      <td>None</td>\n",
              "      <td>None</td>\n",
              "      <td>2024-09-06T16:36:22+0300</td>\n",
              "      <td>2024-09-06T16:36:22+0300</td>\n",
              "      <td>False</td>\n",
              "      <td>https://hh.ru/applicant/vacancy_response?vacan...</td>\n",
              "      <td>NaN</td>\n",
              "      <td>None</td>\n",
              "      <td>https://api.hh.ru/vacancies/106918725?host=hh.ru</td>\n",
              "      <td>https://hh.ru/vacancy/106918725</td>\n",
              "      <td>[]</td>\n",
              "      <td>{'id': '11412752', 'name': 'Здоровый Сад', 'ur...</td>\n",
              "      <td>{'requirement': 'Ответственность. Кропотливост...</td>\n",
              "      <td>None</td>\n",
              "      <td>{'id': 'fullDay', 'name': 'Полный день'}</td>\n",
              "      <td>[]</td>\n",
              "      <td>[]</td>\n",
              "      <td>[]</td>\n",
              "      <td>True</td>\n",
              "      <td>[{'id': '7', 'name': 'Агроном'}]</td>\n",
              "      <td>False</td>\n",
              "      <td>{'id': 'between1And3', 'name': 'От 1 года до 3...</td>\n",
              "      <td>{'id': 'part', 'name': 'Частичная занятость'}</td>\n",
              "      <td>None</td>\n",
              "      <td>False</td>\n",
              "      <td>None</td>\n",
              "      <td>30000</td>\n",
              "      <td>40000.0</td>\n",
              "      <td>RUR</td>\n",
              "      <td>False</td>\n",
              "      <td>Москва</td>\n",
              "      <td>улица Плеханова</td>\n",
              "    </tr>\n",
              "    <tr>\n",
              "      <th>4</th>\n",
              "      <td>105672373</td>\n",
              "      <td>False</td>\n",
              "      <td>Агроном/овощевод</td>\n",
              "      <td>None</td>\n",
              "      <td>False</td>\n",
              "      <td>False</td>\n",
              "      <td>Москва</td>\n",
              "      <td>Открытая</td>\n",
              "      <td>None</td>\n",
              "      <td>None</td>\n",
              "      <td>2024-08-28T12:27:02+0300</td>\n",
              "      <td>2024-08-28T12:27:02+0300</td>\n",
              "      <td>False</td>\n",
              "      <td>https://hh.ru/applicant/vacancy_response?vacan...</td>\n",
              "      <td>NaN</td>\n",
              "      <td>None</td>\n",
              "      <td>https://api.hh.ru/vacancies/105672373?host=hh.ru</td>\n",
              "      <td>https://hh.ru/vacancy/105672373</td>\n",
              "      <td>[]</td>\n",
              "      <td>{'id': '2161246', 'name': 'МОСМАКС ТРЕТЬЯКОВСК...</td>\n",
              "      <td>{'requirement': 'Честность, добросовестность, ...</td>\n",
              "      <td>None</td>\n",
              "      <td>{'id': 'fullDay', 'name': 'Полный день'}</td>\n",
              "      <td>[]</td>\n",
              "      <td>[]</td>\n",
              "      <td>[]</td>\n",
              "      <td>False</td>\n",
              "      <td>[{'id': '7', 'name': 'Агроном'}]</td>\n",
              "      <td>True</td>\n",
              "      <td>{'id': 'between1And3', 'name': 'От 1 года до 3...</td>\n",
              "      <td>{'id': 'full', 'name': 'Полная занятость'}</td>\n",
              "      <td>None</td>\n",
              "      <td>False</td>\n",
              "      <td>None</td>\n",
              "      <td>120000</td>\n",
              "      <td>NaN</td>\n",
              "      <td>RUR</td>\n",
              "      <td>False</td>\n",
              "      <td>None</td>\n",
              "      <td>None</td>\n",
              "    </tr>\n",
              "    <tr>\n",
              "      <th>5</th>\n",
              "      <td>107065128</td>\n",
              "      <td>False</td>\n",
              "      <td>Специалист по уходу за офисными растениями (са...</td>\n",
              "      <td>None</td>\n",
              "      <td>False</td>\n",
              "      <td>False</td>\n",
              "      <td>Москва</td>\n",
              "      <td>Открытая</td>\n",
              "      <td>None</td>\n",
              "      <td>None</td>\n",
              "      <td>2024-09-10T15:15:41+0300</td>\n",
              "      <td>2024-09-10T15:15:41+0300</td>\n",
              "      <td>False</td>\n",
              "      <td>https://hh.ru/applicant/vacancy_response?vacan...</td>\n",
              "      <td>NaN</td>\n",
              "      <td>None</td>\n",
              "      <td>https://api.hh.ru/vacancies/107065128?host=hh.ru</td>\n",
              "      <td>https://hh.ru/vacancy/107065128</td>\n",
              "      <td>[]</td>\n",
              "      <td>{'id': '3926338', 'name': 'Дизайн Инжиниринг',...</td>\n",
              "      <td>{'requirement': 'Диплом об профильном образова...</td>\n",
              "      <td>None</td>\n",
              "      <td>{'id': 'flexible', 'name': 'Гибкий график'}</td>\n",
              "      <td>[]</td>\n",
              "      <td>[{'id': 'from_four_to_six_hours_in_a_day', 'na...</td>\n",
              "      <td>[]</td>\n",
              "      <td>True</td>\n",
              "      <td>[{'id': '7', 'name': 'Агроном'}]</td>\n",
              "      <td>False</td>\n",
              "      <td>{'id': 'between1And3', 'name': 'От 1 года до 3...</td>\n",
              "      <td>{'id': 'part', 'name': 'Частичная занятость'}</td>\n",
              "      <td>None</td>\n",
              "      <td>False</td>\n",
              "      <td>None</td>\n",
              "      <td>25000</td>\n",
              "      <td>100000.0</td>\n",
              "      <td>RUR</td>\n",
              "      <td>False</td>\n",
              "      <td>Москва</td>\n",
              "      <td>Пресненская набережная</td>\n",
              "    </tr>\n",
              "    <tr>\n",
              "      <th>6</th>\n",
              "      <td>106702001</td>\n",
              "      <td>False</td>\n",
              "      <td>Агроном (Растениеводство)</td>\n",
              "      <td>None</td>\n",
              "      <td>False</td>\n",
              "      <td>False</td>\n",
              "      <td>Москва</td>\n",
              "      <td>Открытая</td>\n",
              "      <td>None</td>\n",
              "      <td>None</td>\n",
              "      <td>2024-09-12T11:55:28+0300</td>\n",
              "      <td>2024-09-12T11:55:28+0300</td>\n",
              "      <td>False</td>\n",
              "      <td>https://hh.ru/applicant/vacancy_response?vacan...</td>\n",
              "      <td>NaN</td>\n",
              "      <td>None</td>\n",
              "      <td>https://api.hh.ru/vacancies/106702001?host=hh.ru</td>\n",
              "      <td>https://hh.ru/vacancy/106702001</td>\n",
              "      <td>[]</td>\n",
              "      <td>{'id': '161720', 'name': 'КОРНИ, Питомник раст...</td>\n",
              "      <td>{'requirement': 'Опыт работы в питомнике, садо...</td>\n",
              "      <td>None</td>\n",
              "      <td>{'id': 'fullDay', 'name': 'Полный день'}</td>\n",
              "      <td>[]</td>\n",
              "      <td>[]</td>\n",
              "      <td>[]</td>\n",
              "      <td>True</td>\n",
              "      <td>[{'id': '7', 'name': 'Агроном'}]</td>\n",
              "      <td>True</td>\n",
              "      <td>{'id': 'between3And6', 'name': 'От 3 до 6 лет'}</td>\n",
              "      <td>{'id': 'full', 'name': 'Полная занятость'}</td>\n",
              "      <td>None</td>\n",
              "      <td>False</td>\n",
              "      <td>None</td>\n",
              "      <td>130000</td>\n",
              "      <td>150000.0</td>\n",
              "      <td>RUR</td>\n",
              "      <td>False</td>\n",
              "      <td>деревня Кончинка</td>\n",
              "      <td>None</td>\n",
              "    </tr>\n",
              "    <tr>\n",
              "      <th>7</th>\n",
              "      <td>106066250</td>\n",
              "      <td>False</td>\n",
              "      <td>Биолог/специалист по уходу за горшечными расте...</td>\n",
              "      <td>None</td>\n",
              "      <td>False</td>\n",
              "      <td>False</td>\n",
              "      <td>Москва</td>\n",
              "      <td>Открытая</td>\n",
              "      <td>None</td>\n",
              "      <td>None</td>\n",
              "      <td>2024-08-20T14:14:14+0300</td>\n",
              "      <td>2024-08-20T14:14:14+0300</td>\n",
              "      <td>False</td>\n",
              "      <td>https://hh.ru/applicant/vacancy_response?vacan...</td>\n",
              "      <td>NaN</td>\n",
              "      <td>None</td>\n",
              "      <td>https://api.hh.ru/vacancies/106066250?host=hh.ru</td>\n",
              "      <td>https://hh.ru/vacancy/106066250</td>\n",
              "      <td>[]</td>\n",
              "      <td>{'id': '787380', 'name': 'Бюро Фитодизайна Фик...</td>\n",
              "      <td>{'requirement': 'Организованность. Высокая отв...</td>\n",
              "      <td>None</td>\n",
              "      <td>{'id': 'fullDay', 'name': 'Полный день'}</td>\n",
              "      <td>[]</td>\n",
              "      <td>[]</td>\n",
              "      <td>[]</td>\n",
              "      <td>False</td>\n",
              "      <td>[{'id': '40', 'name': 'Другое'}]</td>\n",
              "      <td>True</td>\n",
              "      <td>{'id': 'between1And3', 'name': 'От 1 года до 3...</td>\n",
              "      <td>{'id': 'full', 'name': 'Полная занятость'}</td>\n",
              "      <td>None</td>\n",
              "      <td>False</td>\n",
              "      <td>None</td>\n",
              "      <td>35000</td>\n",
              "      <td>68000.0</td>\n",
              "      <td>RUR</td>\n",
              "      <td>False</td>\n",
              "      <td>деревня Аносино</td>\n",
              "      <td>Университетская улица</td>\n",
              "    </tr>\n",
              "    <tr>\n",
              "      <th>8</th>\n",
              "      <td>106107473</td>\n",
              "      <td>False</td>\n",
              "      <td>Агроном</td>\n",
              "      <td>None</td>\n",
              "      <td>False</td>\n",
              "      <td>False</td>\n",
              "      <td>Москва</td>\n",
              "      <td>Открытая</td>\n",
              "      <td>None</td>\n",
              "      <td>None</td>\n",
              "      <td>2024-08-21T11:17:36+0300</td>\n",
              "      <td>2024-08-21T11:17:36+0300</td>\n",
              "      <td>False</td>\n",
              "      <td>https://hh.ru/applicant/vacancy_response?vacan...</td>\n",
              "      <td>NaN</td>\n",
              "      <td>None</td>\n",
              "      <td>https://api.hh.ru/vacancies/106107473?host=hh.ru</td>\n",
              "      <td>https://hh.ru/vacancy/106107473</td>\n",
              "      <td>[]</td>\n",
              "      <td>{'id': '10797718', 'name': 'Райдер СНГ', 'url'...</td>\n",
              "      <td>{'requirement': 'Tребовaния к вaм:  Bысшee или...</td>\n",
              "      <td>None</td>\n",
              "      <td>{'id': 'fullDay', 'name': 'Полный день'}</td>\n",
              "      <td>[]</td>\n",
              "      <td>[]</td>\n",
              "      <td>[]</td>\n",
              "      <td>False</td>\n",
              "      <td>[{'id': '7', 'name': 'Агроном'}]</td>\n",
              "      <td>False</td>\n",
              "      <td>{'id': 'noExperience', 'name': 'Нет опыта'}</td>\n",
              "      <td>{'id': 'full', 'name': 'Полная занятость'}</td>\n",
              "      <td>None</td>\n",
              "      <td>False</td>\n",
              "      <td>None</td>\n",
              "      <td>50000</td>\n",
              "      <td>100000.0</td>\n",
              "      <td>RUR</td>\n",
              "      <td>False</td>\n",
              "      <td>None</td>\n",
              "      <td>None</td>\n",
              "    </tr>\n",
              "    <tr>\n",
              "      <th>9</th>\n",
              "      <td>106267536</td>\n",
              "      <td>False</td>\n",
              "      <td>Агроном</td>\n",
              "      <td>None</td>\n",
              "      <td>False</td>\n",
              "      <td>False</td>\n",
              "      <td>Москва</td>\n",
              "      <td>Открытая</td>\n",
              "      <td>None</td>\n",
              "      <td>None</td>\n",
              "      <td>2024-09-10T15:49:41+0300</td>\n",
              "      <td>2024-09-10T15:49:41+0300</td>\n",
              "      <td>False</td>\n",
              "      <td>https://hh.ru/applicant/vacancy_response?vacan...</td>\n",
              "      <td>NaN</td>\n",
              "      <td>None</td>\n",
              "      <td>https://api.hh.ru/vacancies/106267536?host=hh.ru</td>\n",
              "      <td>https://hh.ru/vacancy/106267536</td>\n",
              "      <td>[]</td>\n",
              "      <td>{'id': '1197490', 'name': 'Озеленитель Стройгр...</td>\n",
              "      <td>{'requirement': 'Образование не ниже среднего ...</td>\n",
              "      <td>None</td>\n",
              "      <td>{'id': 'fullDay', 'name': 'Полный день'}</td>\n",
              "      <td>[]</td>\n",
              "      <td>[]</td>\n",
              "      <td>[]</td>\n",
              "      <td>False</td>\n",
              "      <td>[{'id': '7', 'name': 'Агроном'}]</td>\n",
              "      <td>False</td>\n",
              "      <td>{'id': 'noExperience', 'name': 'Нет опыта'}</td>\n",
              "      <td>{'id': 'full', 'name': 'Полная занятость'}</td>\n",
              "      <td>None</td>\n",
              "      <td>False</td>\n",
              "      <td>None</td>\n",
              "      <td>80000</td>\n",
              "      <td>NaN</td>\n",
              "      <td>RUR</td>\n",
              "      <td>False</td>\n",
              "      <td>None</td>\n",
              "      <td>None</td>\n",
              "    </tr>\n",
              "  </tbody>\n",
              "</table>\n",
              "</div>\n",
              "    <div class=\"colab-df-buttons\">\n",
              "\n",
              "  <div class=\"colab-df-container\">\n",
              "    <button class=\"colab-df-convert\" onclick=\"convertToInteractive('df-984c67a7-8716-48b8-bcb0-d8211dbf6805')\"\n",
              "            title=\"Convert this dataframe to an interactive table.\"\n",
              "            style=\"display:none;\">\n",
              "\n",
              "  <svg xmlns=\"http://www.w3.org/2000/svg\" height=\"24px\" viewBox=\"0 -960 960 960\">\n",
              "    <path d=\"M120-120v-720h720v720H120Zm60-500h600v-160H180v160Zm220 220h160v-160H400v160Zm0 220h160v-160H400v160ZM180-400h160v-160H180v160Zm440 0h160v-160H620v160ZM180-180h160v-160H180v160Zm440 0h160v-160H620v160Z\"/>\n",
              "  </svg>\n",
              "    </button>\n",
              "\n",
              "  <style>\n",
              "    .colab-df-container {\n",
              "      display:flex;\n",
              "      gap: 12px;\n",
              "    }\n",
              "\n",
              "    .colab-df-convert {\n",
              "      background-color: #E8F0FE;\n",
              "      border: none;\n",
              "      border-radius: 50%;\n",
              "      cursor: pointer;\n",
              "      display: none;\n",
              "      fill: #1967D2;\n",
              "      height: 32px;\n",
              "      padding: 0 0 0 0;\n",
              "      width: 32px;\n",
              "    }\n",
              "\n",
              "    .colab-df-convert:hover {\n",
              "      background-color: #E2EBFA;\n",
              "      box-shadow: 0px 1px 2px rgba(60, 64, 67, 0.3), 0px 1px 3px 1px rgba(60, 64, 67, 0.15);\n",
              "      fill: #174EA6;\n",
              "    }\n",
              "\n",
              "    .colab-df-buttons div {\n",
              "      margin-bottom: 4px;\n",
              "    }\n",
              "\n",
              "    [theme=dark] .colab-df-convert {\n",
              "      background-color: #3B4455;\n",
              "      fill: #D2E3FC;\n",
              "    }\n",
              "\n",
              "    [theme=dark] .colab-df-convert:hover {\n",
              "      background-color: #434B5C;\n",
              "      box-shadow: 0px 1px 3px 1px rgba(0, 0, 0, 0.15);\n",
              "      filter: drop-shadow(0px 1px 2px rgba(0, 0, 0, 0.3));\n",
              "      fill: #FFFFFF;\n",
              "    }\n",
              "  </style>\n",
              "\n",
              "    <script>\n",
              "      const buttonEl =\n",
              "        document.querySelector('#df-984c67a7-8716-48b8-bcb0-d8211dbf6805 button.colab-df-convert');\n",
              "      buttonEl.style.display =\n",
              "        google.colab.kernel.accessAllowed ? 'block' : 'none';\n",
              "\n",
              "      async function convertToInteractive(key) {\n",
              "        const element = document.querySelector('#df-984c67a7-8716-48b8-bcb0-d8211dbf6805');\n",
              "        const dataTable =\n",
              "          await google.colab.kernel.invokeFunction('convertToInteractive',\n",
              "                                                    [key], {});\n",
              "        if (!dataTable) return;\n",
              "\n",
              "        const docLinkHtml = 'Like what you see? Visit the ' +\n",
              "          '<a target=\"_blank\" href=https://colab.research.google.com/notebooks/data_table.ipynb>data table notebook</a>'\n",
              "          + ' to learn more about interactive tables.';\n",
              "        element.innerHTML = '';\n",
              "        dataTable['output_type'] = 'display_data';\n",
              "        await google.colab.output.renderOutput(dataTable, element);\n",
              "        const docLink = document.createElement('div');\n",
              "        docLink.innerHTML = docLinkHtml;\n",
              "        element.appendChild(docLink);\n",
              "      }\n",
              "    </script>\n",
              "  </div>\n",
              "\n",
              "\n",
              "<div id=\"df-686100a6-7c1e-4713-9672-d2b93fbaf6b2\">\n",
              "  <button class=\"colab-df-quickchart\" onclick=\"quickchart('df-686100a6-7c1e-4713-9672-d2b93fbaf6b2')\"\n",
              "            title=\"Suggest charts\"\n",
              "            style=\"display:none;\">\n",
              "\n",
              "<svg xmlns=\"http://www.w3.org/2000/svg\" height=\"24px\"viewBox=\"0 0 24 24\"\n",
              "     width=\"24px\">\n",
              "    <g>\n",
              "        <path d=\"M19 3H5c-1.1 0-2 .9-2 2v14c0 1.1.9 2 2 2h14c1.1 0 2-.9 2-2V5c0-1.1-.9-2-2-2zM9 17H7v-7h2v7zm4 0h-2V7h2v10zm4 0h-2v-4h2v4z\"/>\n",
              "    </g>\n",
              "</svg>\n",
              "  </button>\n",
              "\n",
              "<style>\n",
              "  .colab-df-quickchart {\n",
              "      --bg-color: #E8F0FE;\n",
              "      --fill-color: #1967D2;\n",
              "      --hover-bg-color: #E2EBFA;\n",
              "      --hover-fill-color: #174EA6;\n",
              "      --disabled-fill-color: #AAA;\n",
              "      --disabled-bg-color: #DDD;\n",
              "  }\n",
              "\n",
              "  [theme=dark] .colab-df-quickchart {\n",
              "      --bg-color: #3B4455;\n",
              "      --fill-color: #D2E3FC;\n",
              "      --hover-bg-color: #434B5C;\n",
              "      --hover-fill-color: #FFFFFF;\n",
              "      --disabled-bg-color: #3B4455;\n",
              "      --disabled-fill-color: #666;\n",
              "  }\n",
              "\n",
              "  .colab-df-quickchart {\n",
              "    background-color: var(--bg-color);\n",
              "    border: none;\n",
              "    border-radius: 50%;\n",
              "    cursor: pointer;\n",
              "    display: none;\n",
              "    fill: var(--fill-color);\n",
              "    height: 32px;\n",
              "    padding: 0;\n",
              "    width: 32px;\n",
              "  }\n",
              "\n",
              "  .colab-df-quickchart:hover {\n",
              "    background-color: var(--hover-bg-color);\n",
              "    box-shadow: 0 1px 2px rgba(60, 64, 67, 0.3), 0 1px 3px 1px rgba(60, 64, 67, 0.15);\n",
              "    fill: var(--button-hover-fill-color);\n",
              "  }\n",
              "\n",
              "  .colab-df-quickchart-complete:disabled,\n",
              "  .colab-df-quickchart-complete:disabled:hover {\n",
              "    background-color: var(--disabled-bg-color);\n",
              "    fill: var(--disabled-fill-color);\n",
              "    box-shadow: none;\n",
              "  }\n",
              "\n",
              "  .colab-df-spinner {\n",
              "    border: 2px solid var(--fill-color);\n",
              "    border-color: transparent;\n",
              "    border-bottom-color: var(--fill-color);\n",
              "    animation:\n",
              "      spin 1s steps(1) infinite;\n",
              "  }\n",
              "\n",
              "  @keyframes spin {\n",
              "    0% {\n",
              "      border-color: transparent;\n",
              "      border-bottom-color: var(--fill-color);\n",
              "      border-left-color: var(--fill-color);\n",
              "    }\n",
              "    20% {\n",
              "      border-color: transparent;\n",
              "      border-left-color: var(--fill-color);\n",
              "      border-top-color: var(--fill-color);\n",
              "    }\n",
              "    30% {\n",
              "      border-color: transparent;\n",
              "      border-left-color: var(--fill-color);\n",
              "      border-top-color: var(--fill-color);\n",
              "      border-right-color: var(--fill-color);\n",
              "    }\n",
              "    40% {\n",
              "      border-color: transparent;\n",
              "      border-right-color: var(--fill-color);\n",
              "      border-top-color: var(--fill-color);\n",
              "    }\n",
              "    60% {\n",
              "      border-color: transparent;\n",
              "      border-right-color: var(--fill-color);\n",
              "    }\n",
              "    80% {\n",
              "      border-color: transparent;\n",
              "      border-right-color: var(--fill-color);\n",
              "      border-bottom-color: var(--fill-color);\n",
              "    }\n",
              "    90% {\n",
              "      border-color: transparent;\n",
              "      border-bottom-color: var(--fill-color);\n",
              "    }\n",
              "  }\n",
              "</style>\n",
              "\n",
              "  <script>\n",
              "    async function quickchart(key) {\n",
              "      const quickchartButtonEl =\n",
              "        document.querySelector('#' + key + ' button');\n",
              "      quickchartButtonEl.disabled = true;  // To prevent multiple clicks.\n",
              "      quickchartButtonEl.classList.add('colab-df-spinner');\n",
              "      try {\n",
              "        const charts = await google.colab.kernel.invokeFunction(\n",
              "            'suggestCharts', [key], {});\n",
              "      } catch (error) {\n",
              "        console.error('Error during call to suggestCharts:', error);\n",
              "      }\n",
              "      quickchartButtonEl.classList.remove('colab-df-spinner');\n",
              "      quickchartButtonEl.classList.add('colab-df-quickchart-complete');\n",
              "    }\n",
              "    (() => {\n",
              "      let quickchartButtonEl =\n",
              "        document.querySelector('#df-686100a6-7c1e-4713-9672-d2b93fbaf6b2 button');\n",
              "      quickchartButtonEl.style.display =\n",
              "        google.colab.kernel.accessAllowed ? 'block' : 'none';\n",
              "    })();\n",
              "  </script>\n",
              "</div>\n",
              "\n",
              "  <div id=\"id_f0f60032-a2b4-475a-8126-4fed7256271a\">\n",
              "    <style>\n",
              "      .colab-df-generate {\n",
              "        background-color: #E8F0FE;\n",
              "        border: none;\n",
              "        border-radius: 50%;\n",
              "        cursor: pointer;\n",
              "        display: none;\n",
              "        fill: #1967D2;\n",
              "        height: 32px;\n",
              "        padding: 0 0 0 0;\n",
              "        width: 32px;\n",
              "      }\n",
              "\n",
              "      .colab-df-generate:hover {\n",
              "        background-color: #E2EBFA;\n",
              "        box-shadow: 0px 1px 2px rgba(60, 64, 67, 0.3), 0px 1px 3px 1px rgba(60, 64, 67, 0.15);\n",
              "        fill: #174EA6;\n",
              "      }\n",
              "\n",
              "      [theme=dark] .colab-df-generate {\n",
              "        background-color: #3B4455;\n",
              "        fill: #D2E3FC;\n",
              "      }\n",
              "\n",
              "      [theme=dark] .colab-df-generate:hover {\n",
              "        background-color: #434B5C;\n",
              "        box-shadow: 0px 1px 3px 1px rgba(0, 0, 0, 0.15);\n",
              "        filter: drop-shadow(0px 1px 2px rgba(0, 0, 0, 0.3));\n",
              "        fill: #FFFFFF;\n",
              "      }\n",
              "    </style>\n",
              "    <button class=\"colab-df-generate\" onclick=\"generateWithVariable('df1')\"\n",
              "            title=\"Generate code using this dataframe.\"\n",
              "            style=\"display:none;\">\n",
              "\n",
              "  <svg xmlns=\"http://www.w3.org/2000/svg\" height=\"24px\"viewBox=\"0 0 24 24\"\n",
              "       width=\"24px\">\n",
              "    <path d=\"M7,19H8.4L18.45,9,17,7.55,7,17.6ZM5,21V16.75L18.45,3.32a2,2,0,0,1,2.83,0l1.4,1.43a1.91,1.91,0,0,1,.58,1.4,1.91,1.91,0,0,1-.58,1.4L9.25,21ZM18.45,9,17,7.55Zm-12,3A5.31,5.31,0,0,0,4.9,8.1,5.31,5.31,0,0,0,1,6.5,5.31,5.31,0,0,0,4.9,4.9,5.31,5.31,0,0,0,6.5,1,5.31,5.31,0,0,0,8.1,4.9,5.31,5.31,0,0,0,12,6.5,5.46,5.46,0,0,0,6.5,12Z\"/>\n",
              "  </svg>\n",
              "    </button>\n",
              "    <script>\n",
              "      (() => {\n",
              "      const buttonEl =\n",
              "        document.querySelector('#id_f0f60032-a2b4-475a-8126-4fed7256271a button.colab-df-generate');\n",
              "      buttonEl.style.display =\n",
              "        google.colab.kernel.accessAllowed ? 'block' : 'none';\n",
              "\n",
              "      buttonEl.onclick = () => {\n",
              "        google.colab.notebook.generateWithVariable('df1');\n",
              "      }\n",
              "      })();\n",
              "    </script>\n",
              "  </div>\n",
              "\n",
              "    </div>\n",
              "  </div>\n"
            ],
            "application/vnd.google.colaboratory.intrinsic+json": {
              "type": "dataframe",
              "variable_name": "df1"
            }
          },
          "metadata": {},
          "execution_count": 212
        }
      ]
    },
    {
      "cell_type": "markdown",
      "metadata": {
        "id": "yHQtIBRQp91_"
      },
      "source": [
        "Если Ваш запрос прошел успешно, то вы получите следующие ключи (значения данных ключей вы найдете по ссылке на документацию):"
      ]
    },
    {
      "cell_type": "code",
      "execution_count": null,
      "metadata": {
        "ExecuteTime": {
          "end_time": "2024-05-15T15:01:45.574171Z",
          "start_time": "2024-05-15T15:01:45.555159Z"
        },
        "colab": {
          "base_uri": "https://localhost:8080/"
        },
        "id": "DW6mxzggpvKw",
        "outputId": "60509ad4-6597-4375-9416-0dc61a895c8e"
      },
      "outputs": [
        {
          "data": {
            "text/plain": [
              "dict_keys(['items', 'found', 'pages', 'page', 'per_page', 'clusters', 'arguments', 'fixes', 'suggests', 'alternate_url'])"
            ]
          },
          "execution_count": 19,
          "metadata": {},
          "output_type": "execute_result"
        }
      ],
      "source": [
        "data.keys()"
      ]
    },
    {
      "cell_type": "markdown",
      "metadata": {
        "id": "JWvkFrh9qhkj"
      },
      "source": [
        "Выберете для нас 5 наиболее интересных специальностей и получите по ним имеющиеся вакансии:"
      ]
    },
    {
      "cell_type": "code",
      "execution_count": null,
      "metadata": {
        "ExecuteTime": {
          "end_time": "2024-05-15T15:47:20.186258Z",
          "start_time": "2024-05-15T15:46:51.470448Z"
        },
        "id": "_Nm-vyiBqugq"
      },
      "outputs": [],
      "source": []
    },
    {
      "cell_type": "markdown",
      "metadata": {
        "id": "g0bdgyNWquuY"
      },
      "source": [
        "Посчитайте сколько всего найдено вакансий:"
      ]
    },
    {
      "cell_type": "code",
      "execution_count": null,
      "metadata": {
        "ExecuteTime": {
          "end_time": "2024-05-15T15:14:38.868539Z",
          "start_time": "2024-05-15T15:14:38.824906Z"
        },
        "id": "lxyXtIs6q5cc"
      },
      "outputs": [],
      "source": []
    },
    {
      "cell_type": "markdown",
      "metadata": {
        "id": "wQeULnNyq5wk"
      },
      "source": [
        "Создайте структуру данных, которая будет хранить в себе имя компании и ее координаты (широта и долгота):"
      ]
    },
    {
      "cell_type": "code",
      "execution_count": null,
      "metadata": {
        "ExecuteTime": {
          "end_time": "2024-05-15T15:24:37.331297Z",
          "start_time": "2024-05-15T15:24:37.301272Z"
        },
        "id": "aR501yltVdLm"
      },
      "outputs": [],
      "source": []
    },
    {
      "cell_type": "markdown",
      "metadata": {
        "id": "ccIi3wIvVkG0"
      },
      "source": [
        "Создайте экземпляр этой структуры данных для каждой компании, которая выставила вакансию:"
      ]
    },
    {
      "cell_type": "code",
      "execution_count": null,
      "metadata": {
        "ExecuteTime": {
          "end_time": "2024-05-15T15:24:38.870106Z",
          "start_time": "2024-05-15T15:24:38.555752Z"
        },
        "id": "tR6mYW7jtcCQ"
      },
      "outputs": [],
      "source": []
    },
    {
      "cell_type": "markdown",
      "metadata": {
        "id": "SyBpNd0vtcNu"
      },
      "source": [
        "Найдите количество вакансий, у которых заданы координаты (значения данных может быть пустым):"
      ]
    },
    {
      "cell_type": "code",
      "execution_count": null,
      "metadata": {
        "ExecuteTime": {
          "end_time": "2024-05-15T15:40:59.604269Z",
          "start_time": "2024-05-15T15:40:59.429739Z"
        },
        "id": "lVgNCVALt2qJ"
      },
      "outputs": [],
      "source": []
    },
    {
      "cell_type": "markdown",
      "metadata": {
        "id": "aWNXrM-cu5Vi"
      },
      "source": [
        "Отберите вакансии, которые расположены в пределах МКАД (можно грубо):"
      ]
    },
    {
      "cell_type": "code",
      "execution_count": null,
      "metadata": {
        "ExecuteTime": {
          "end_time": "2024-05-15T15:49:38.798920Z",
          "start_time": "2024-05-15T15:49:38.747894Z"
        },
        "id": "01g9wVEyyn-J"
      },
      "outputs": [],
      "source": []
    },
    {
      "cell_type": "markdown",
      "metadata": {
        "id": "4LCb9IL_bgB_"
      },
      "source": [
        "Постройте график в координатах \"широта-долгота\" для отображения вакансий внутри МКАД (не забывайте прописать прозрачность, чтобы увидеть скопления):"
      ]
    },
    {
      "cell_type": "code",
      "execution_count": null,
      "metadata": {
        "ExecuteTime": {
          "end_time": "2024-05-15T15:51:07.021308Z",
          "start_time": "2024-05-15T15:51:06.706890Z"
        },
        "id": "6ogiXDvKcDV8"
      },
      "outputs": [],
      "source": []
    },
    {
      "cell_type": "markdown",
      "metadata": {
        "id": "u-p3Llc361PN"
      },
      "source": [
        "**Сделайте выводы о проделанной работе:**"
      ]
    },
    {
      "cell_type": "markdown",
      "metadata": {
        "id": "gkPpbtBuVqwc"
      },
      "source": []
    },
    {
      "cell_type": "markdown",
      "metadata": {
        "id": "lii5YFuucxR2"
      },
      "source": [
        "Вам предстоит проанализировать датасет, содержащий информацию об бриллианта, их стоимости и остальных характеристиках."
      ]
    },
    {
      "cell_type": "markdown",
      "metadata": {
        "id": "CvEO3-NI0Gez"
      },
      "source": [
        "\n",
        "\n",
        "Поясним значения хранящиеся в колонках:\n",
        "*   `cut` - огранка бриллианта (относится к одной из примерно 10 наиболее распространенных)\n",
        "*   `color` - цвет бриллианта, прозрачные бриллианты имеют градацию `D-Z`, \"более высокие\" буквы - более желтоватые, но часто имеют лучшие значения, поскольку цвет трудно определить один раз в кольце\n",
        "*   `clarity` - чистота бриллианта, наличие включений (внутренних дефектов), чем меньше и мельче, тем лучше\n",
        "*   `carat_weight` - масса бриллианта (слабо связана с размером бриллианта, т.к. огранка и качество огранки, как правило, играют большую роль)\n",
        "*   `cut_quality` - качество ограники по системе оценки GIA Cut\n",
        "*   `lab` - лаборатория оценивания\n",
        "*   `meas_length` - длина бриллианта\n",
        "*   `meas_width` - ширина бриллианта\n",
        "*   `meas_depth` - глубина бриллианта\n",
        "*   `total_sales_price` - цена бриллианта в долларах.\n",
        "*    **и прочие колонки**"
      ]
    },
    {
      "cell_type": "markdown",
      "metadata": {
        "id": "7mK1QntN6ZXh"
      },
      "source": [
        "Скачаем данные:"
      ]
    },
    {
      "cell_type": "code",
      "execution_count": null,
      "metadata": {
        "id": "1cfyeotzHg8F"
      },
      "outputs": [],
      "source": [
        "!gdown 10OJ30qlkE-7zK4JuVTDMY3U4nRB4tu_8\n",
        "# если работайте в jupyter то скачайте датасет с https://drive.google.com/uc?id=10OJ30qlkE-7zK4JuVTDMY3U4nRB4tu_8"
      ]
    },
    {
      "cell_type": "markdown",
      "metadata": {
        "id": "wfSqVYoIfi3-"
      },
      "source": [
        "Создадим DataFrame:"
      ]
    },
    {
      "cell_type": "code",
      "execution_count": null,
      "metadata": {
        "id": "K6X9TSsdHg8F"
      },
      "outputs": [],
      "source": [
        "import pandas as pd\n",
        "\n",
        "diamonds = pd.read_csv(\"diamonds.csv\")"
      ]
    },
    {
      "cell_type": "markdown",
      "metadata": {
        "id": "vlw_3lXG6bhv"
      },
      "source": [
        "Выведете первые 5 строк датасета:"
      ]
    },
    {
      "cell_type": "code",
      "execution_count": null,
      "metadata": {
        "ExecuteTime": {
          "end_time": "2024-05-15T11:35:42.155983Z",
          "start_time": "2024-05-15T11:35:42.135289Z"
        },
        "id": "gHA-AnSE6fth"
      },
      "outputs": [],
      "source": []
    },
    {
      "cell_type": "markdown",
      "metadata": {
        "id": "gat7bnPQ6fCE"
      },
      "source": [
        "Найдите количество бриллиантов всего в данном датасете:"
      ]
    },
    {
      "cell_type": "code",
      "execution_count": null,
      "metadata": {
        "ExecuteTime": {
          "end_time": "2024-05-15T11:35:43.448231Z",
          "start_time": "2024-05-15T11:35:43.434174Z"
        },
        "id": "-9x6z3-J7C-v"
      },
      "outputs": [],
      "source": []
    },
    {
      "cell_type": "markdown",
      "metadata": {
        "id": "fYQuIdtL7DFp"
      },
      "source": [
        "Выведите максимальную и минимальную цену бриллианта в формате `номер - цена`:"
      ]
    },
    {
      "cell_type": "code",
      "execution_count": null,
      "metadata": {
        "ExecuteTime": {
          "end_time": "2024-05-15T11:35:45.144353Z",
          "start_time": "2024-05-15T11:35:45.126127Z"
        },
        "id": "D_7sjzjP7SEj"
      },
      "outputs": [],
      "source": []
    },
    {
      "cell_type": "markdown",
      "metadata": {
        "id": "E2mf4IIO7SOg"
      },
      "source": [
        "Посчитайте количество пропусков (пропуском считается значение `unknown` или `None`):"
      ]
    },
    {
      "cell_type": "code",
      "execution_count": null,
      "metadata": {
        "ExecuteTime": {
          "end_time": "2024-05-15T11:35:46.337365Z",
          "start_time": "2024-05-15T11:35:46.087358Z"
        },
        "id": "BuJZ0UoN7qAU"
      },
      "outputs": [],
      "source": []
    },
    {
      "cell_type": "markdown",
      "metadata": {
        "id": "d5LWUc_fh0vb"
      },
      "source": [
        "Найдите в каких столбцах присутствуют пропуски:"
      ]
    },
    {
      "cell_type": "code",
      "execution_count": null,
      "metadata": {
        "ExecuteTime": {
          "end_time": "2024-05-15T11:36:02.951027Z",
          "start_time": "2024-05-15T11:36:02.681500Z"
        },
        "id": "IsU49Fouh5vy"
      },
      "outputs": [],
      "source": []
    },
    {
      "cell_type": "markdown",
      "metadata": {
        "id": "UznNZpJ47qGX"
      },
      "source": [
        "В нашем датасете присутствуют колонки, которые начинаются с `fancy_color_` или `fluor_`. Большинство значений в этих колонках - `unknown` или `None`, поэтому мы считаем их малоинформативными."
      ]
    },
    {
      "cell_type": "markdown",
      "metadata": {
        "id": "Rkk6Hr2Ui87X"
      },
      "source": [
        "Ваша задача:"
      ]
    },
    {
      "cell_type": "markdown",
      "metadata": {
        "id": "YYBDAgSSi-JU"
      },
      "source": [
        "найти количество таких колонок, которые начинаются с `fancy_color_` или `fluor_`:"
      ]
    },
    {
      "cell_type": "code",
      "execution_count": null,
      "metadata": {
        "ExecuteTime": {
          "end_time": "2024-05-15T10:19:15.104626Z",
          "start_time": "2024-05-15T10:19:15.084696Z"
        },
        "id": "nbTUkk4T8-wO"
      },
      "outputs": [],
      "source": []
    },
    {
      "cell_type": "markdown",
      "metadata": {
        "id": "imop6nNujA6z"
      },
      "source": [
        "найти количество информативных (не `None` или `unknown`) значений в этих колонках:"
      ]
    },
    {
      "cell_type": "code",
      "execution_count": null,
      "metadata": {
        "ExecuteTime": {
          "end_time": "2024-05-15T11:42:14.621948Z",
          "start_time": "2024-05-15T11:42:14.417875Z"
        },
        "id": "jtJcBwAVjPHU"
      },
      "outputs": [],
      "source": []
    },
    {
      "cell_type": "markdown",
      "metadata": {
        "id": "wFbuTnkbjPeq"
      },
      "source": [
        "удалить данные колонки из датасета, сохранив изменения (в дальнейшем работаем измененным датасетом):"
      ]
    },
    {
      "cell_type": "code",
      "execution_count": null,
      "metadata": {
        "ExecuteTime": {
          "end_time": "2024-05-15T10:33:37.613419Z",
          "start_time": "2024-05-15T10:33:37.302003Z"
        },
        "id": "qSZ5cmKWjutz"
      },
      "outputs": [],
      "source": []
    },
    {
      "cell_type": "markdown",
      "metadata": {
        "id": "JID3q4vr8-2h"
      },
      "source": [
        "Проделайте тоже самое для колонок, начинающихся с `culet_`:"
      ]
    },
    {
      "cell_type": "code",
      "execution_count": null,
      "metadata": {
        "ExecuteTime": {
          "end_time": "2024-05-15T10:37:57.979940Z",
          "start_time": "2024-05-15T10:37:57.850463Z"
        },
        "id": "Wfsvzyad-T6P"
      },
      "outputs": [],
      "source": []
    },
    {
      "cell_type": "markdown",
      "metadata": {
        "id": "7_qYv5Xm-UCz"
      },
      "source": [
        "Посчитайте сколько бы стоил (в тысячах долларов) сейф, в котором хранились бы все бриллианты из датасета:"
      ]
    },
    {
      "cell_type": "code",
      "execution_count": null,
      "metadata": {
        "ExecuteTime": {
          "end_time": "2024-05-15T10:26:51.080089Z",
          "start_time": "2024-05-15T10:26:51.070747Z"
        },
        "id": "g2wVyz5U-cx7"
      },
      "outputs": [],
      "source": []
    },
    {
      "cell_type": "markdown",
      "metadata": {
        "id": "GVwspHrUkRFv"
      },
      "source": [
        "Немного необоснованных манипуляций."
      ]
    },
    {
      "cell_type": "markdown",
      "metadata": {
        "id": "0j5Yr0mFxxfu"
      },
      "source": [
        "Выберите из датасета строки с четными индексами и выведете значения (не меняя нумерацию индексов):"
      ]
    },
    {
      "cell_type": "code",
      "execution_count": null,
      "metadata": {
        "ExecuteTime": {
          "end_time": "2024-05-15T10:45:59.731283Z",
          "start_time": "2024-05-15T10:45:59.707586Z"
        },
        "id": "dW2GOROfx6yd"
      },
      "outputs": [],
      "source": []
    },
    {
      "cell_type": "markdown",
      "metadata": {
        "id": "mNXqS4oox7TF"
      },
      "source": [
        "А теперь с индексами, кратными 6:"
      ]
    },
    {
      "cell_type": "code",
      "execution_count": null,
      "metadata": {
        "ExecuteTime": {
          "end_time": "2024-05-15T10:46:18.482946Z",
          "start_time": "2024-05-15T10:46:18.457743Z"
        },
        "id": "hy8LyzXix_SB"
      },
      "outputs": [],
      "source": []
    },
    {
      "cell_type": "markdown",
      "metadata": {
        "id": "cbpEX7OBHg8K"
      },
      "source": [
        "Выберете из датасета только категорильные признаки и выведете датасет:"
      ]
    },
    {
      "cell_type": "code",
      "execution_count": null,
      "metadata": {
        "id": "_8vy_ylrHg8K"
      },
      "outputs": [],
      "source": []
    },
    {
      "cell_type": "markdown",
      "metadata": {
        "id": "Pz02uapbkbGk"
      },
      "source": [
        "### Построение графиков"
      ]
    },
    {
      "cell_type": "markdown",
      "metadata": {
        "id": "_zhww-rd-c5c"
      },
      "source": [
        "**Требования к графику:**\n",
        "\n",
        "1.   График должен быть подписан\n",
        "2.   Оси должны быть подписаны\n",
        "3.   Должна быть легенда графика\n",
        "4.   График должен быть информативным (желательно без сильных выбросов)\n",
        "\n",
        "**Все надписи на русском языке!**"
      ]
    },
    {
      "cell_type": "markdown",
      "metadata": {
        "id": "mfebCvk0k2mo"
      },
      "source": [
        ">**Примечание**\n",
        ">\n",
        ">График необходимо строить для очищенных данных - в них не должно быть пропусков по осям, по которым строите график. При этом **не перезатирайте** имеющийся датафрейм!"
      ]
    },
    {
      "cell_type": "markdown",
      "metadata": {
        "id": "4R9Rwxdq-l21"
      },
      "source": [
        "Постройте график `цвет бриллианта - стоимость`:"
      ]
    },
    {
      "cell_type": "code",
      "execution_count": null,
      "metadata": {
        "ExecuteTime": {
          "end_time": "2024-05-15T10:29:14.066669Z",
          "start_time": "2024-05-15T10:29:12.723721Z"
        },
        "id": "Fo6I0j5o-vQh"
      },
      "outputs": [],
      "source": []
    },
    {
      "cell_type": "markdown",
      "metadata": {
        "id": "W_UgFji5-vWx"
      },
      "source": [
        "Постройте график `лабараторная оценка - кол-во бриллиантов`:"
      ]
    },
    {
      "cell_type": "code",
      "execution_count": null,
      "metadata": {
        "ExecuteTime": {
          "end_time": "2024-05-15T10:14:06.917161Z",
          "start_time": "2024-05-15T10:14:06.616626Z"
        },
        "id": "nyT8-TRb_c24"
      },
      "outputs": [],
      "source": []
    },
    {
      "cell_type": "markdown",
      "metadata": {
        "id": "AgsMclnJ_c9H"
      },
      "source": [
        "Постройте график `вес бриллианта - стоимость`:"
      ]
    },
    {
      "cell_type": "code",
      "execution_count": null,
      "metadata": {
        "ExecuteTime": {
          "end_time": "2024-05-15T08:41:06.649728Z",
          "start_time": "2024-05-15T08:41:05.799964Z"
        },
        "id": "tn-x3pwmANQe"
      },
      "outputs": [],
      "source": []
    },
    {
      "cell_type": "markdown",
      "metadata": {
        "id": "0LVC1KfEAwuw"
      },
      "source": [
        "Постройте график `система оценки GIA Cut - кол-во бриллиантов`:"
      ]
    },
    {
      "cell_type": "code",
      "execution_count": null,
      "metadata": {
        "ExecuteTime": {
          "end_time": "2024-05-15T10:41:02.674735Z",
          "start_time": "2024-05-15T10:41:01.679746Z"
        },
        "id": "IeuLooSIA232"
      },
      "outputs": [],
      "source": []
    },
    {
      "cell_type": "markdown",
      "metadata": {
        "id": "qFxDpCSIHg8L"
      },
      "source": [
        "Сделайте выводы по построенным графикам"
      ]
    },
    {
      "cell_type": "markdown",
      "metadata": {
        "id": "xI2IkVmmHg8L"
      },
      "source": []
    }
  ],
  "metadata": {
    "colab": {
      "provenance": [],
      "include_colab_link": true
    },
    "kernelspec": {
      "display_name": "Python 3 (ipykernel)",
      "language": "python",
      "name": "python3"
    },
    "language_info": {
      "codemirror_mode": {
        "name": "ipython",
        "version": 3
      },
      "file_extension": ".py",
      "mimetype": "text/x-python",
      "name": "python",
      "nbconvert_exporter": "python",
      "pygments_lexer": "ipython3",
      "version": "3.10.8"
    },
    "toc": {
      "base_numbering": 1,
      "nav_menu": {},
      "number_sections": true,
      "sideBar": true,
      "skip_h1_title": false,
      "title_cell": "Table of Contents",
      "title_sidebar": "Contents",
      "toc_cell": false,
      "toc_position": {},
      "toc_section_display": true,
      "toc_window_display": false
    }
  },
  "nbformat": 4,
  "nbformat_minor": 0
}