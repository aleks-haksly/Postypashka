{
  "cells": [
    {
      "cell_type": "markdown",
      "metadata": {
        "id": "view-in-github",
        "colab_type": "text"
      },
      "source": [
        "<a href=\"https://colab.research.google.com/github/aleks-haksly/Postypashka/blob/main/DA/01%20HW/HW_1.ipynb\" target=\"_parent\"><img src=\"https://colab.research.google.com/assets/colab-badge.svg\" alt=\"Open In Colab\"/></a>"
      ]
    },
    {
      "cell_type": "code",
      "execution_count": 1,
      "metadata": {
        "ExecuteTime": {
          "end_time": "2024-05-14T21:38:46.578163Z",
          "start_time": "2024-05-14T21:38:40.641188Z"
        },
        "id": "1qzEqvohoZfB"
      },
      "outputs": [],
      "source": [
        "# Всё необходимое для выполнения данной лабораторной работы!\n",
        "import requests\n",
        "from time import sleep\n",
        "\n",
        "import numpy as np\n",
        "import pandas as pd\n",
        "import matplotlib.pyplot as plt\n",
        "import seaborn as sns"
      ]
    },
    {
      "cell_type": "code",
      "source": [
        "pd.set_option('display.max_columns', 100)"
      ],
      "metadata": {
        "id": "8Kyw0avoOtzx"
      },
      "execution_count": 2,
      "outputs": []
    },
    {
      "cell_type": "markdown",
      "metadata": {
        "id": "rB_FYHU2k8w-"
      },
      "source": [
        "## Задание 1. Парсинг - 10 баллов"
      ]
    },
    {
      "cell_type": "markdown",
      "metadata": {
        "id": "F0gr5cjaoQJy"
      },
      "source": [
        "В этом задании Вам предстоит работать с API сайта <a target=\"_blank\" href=\"hh.ru\">hh.ru</a>. Документация доступна по <a target=\"_blank\" href=\"https://github.com/hhru/api/blob/master/docs/vacancies.md#search\">ссылке</a>."
      ]
    },
    {
      "cell_type": "markdown",
      "metadata": {
        "id": "-HAm80rqRqAZ"
      },
      "source": [
        "**Задача:**\n",
        "1. выбрать 5 интересующих вас профессий (не смежных, т.е. Аналатик и Data Engineer не считается корректным)\n",
        "2. затем получить доступные по данным профессиям вакансии в Москве и выделить их физические координаты\n",
        "3. нанести полученные координаты на карту местоположения компаний"
      ]
    },
    {
      "cell_type": "markdown",
      "source": [
        "*Пример запроса для профессии:*"
      ],
      "metadata": {
        "id": "57i_BKIhkMQl"
      }
    },
    {
      "cell_type": "code",
      "source": [
        "URL = 'https://api.hh.ru/vacancies'\n",
        "\n",
        "params = {\n",
        "    'text': \"Физик-ядерщик\",\n",
        "    'area': 1,\n",
        "    'page': 0,\n",
        "    'per_page': 10\n",
        "}\n",
        "\n",
        "data = requests.get(URL, params).json()\n",
        "data"
      ],
      "metadata": {
        "colab": {
          "base_uri": "https://localhost:8080/"
        },
        "id": "mIhJy3hWj_XZ",
        "outputId": "8725f1a8-25cd-4ac3-fb97-c7e5444340bd"
      },
      "execution_count": 3,
      "outputs": [
        {
          "output_type": "execute_result",
          "data": {
            "text/plain": [
              "{'items': [],\n",
              " 'found': 0,\n",
              " 'pages': 1,\n",
              " 'page': 0,\n",
              " 'per_page': 10,\n",
              " 'clusters': None,\n",
              " 'arguments': None,\n",
              " 'fixes': None,\n",
              " 'suggests': None,\n",
              " 'alternate_url': 'https://hh.ru/search/vacancy?area=1&enable_snippets=true&items_on_page=10&text=%D0%A4%D0%B8%D0%B7%D0%B8%D0%BA-%D1%8F%D0%B4%D0%B5%D1%80%D1%89%D0%B8%D0%BA'}"
            ]
          },
          "metadata": {},
          "execution_count": 3
        }
      ]
    },
    {
      "cell_type": "markdown",
      "metadata": {
        "id": "yHQtIBRQp91_"
      },
      "source": [
        "Если Ваш запрос прошел успешно, то вы получите следующие ключи (значения данных ключей вы найдете по ссылке на документацию):"
      ]
    },
    {
      "cell_type": "code",
      "execution_count": 4,
      "metadata": {
        "ExecuteTime": {
          "end_time": "2024-05-15T15:01:45.574171Z",
          "start_time": "2024-05-15T15:01:45.555159Z"
        },
        "colab": {
          "base_uri": "https://localhost:8080/"
        },
        "id": "DW6mxzggpvKw",
        "outputId": "0e68d675-3b1a-44bd-c5f4-fbf9d2abc323"
      },
      "outputs": [
        {
          "output_type": "execute_result",
          "data": {
            "text/plain": [
              "dict_keys(['items', 'found', 'pages', 'page', 'per_page', 'clusters', 'arguments', 'fixes', 'suggests', 'alternate_url'])"
            ]
          },
          "metadata": {},
          "execution_count": 4
        }
      ],
      "source": [
        "data.keys()"
      ]
    },
    {
      "cell_type": "markdown",
      "metadata": {
        "id": "JWvkFrh9qhkj"
      },
      "source": [
        "Выберете для нас 5 наиболее интересных специальностей и получите по ним имеющиеся вакансии:"
      ]
    },
    {
      "cell_type": "code",
      "source": [
        "URL_areas = 'https://api.hh.ru/areas'\n",
        "URL_professions = 'https://api.hh.ru/professional_roles'\n",
        "URL_vacancies = 'https://api.hh.ru/vacancies'"
      ],
      "metadata": {
        "id": "zh6WRshwzKUv"
      },
      "execution_count": 5,
      "outputs": []
    },
    {
      "cell_type": "code",
      "source": [
        "data_areas = requests.get(URL_areas).json()\n",
        "sleep(0.5)\n",
        "data_professions = requests.get(URL_professions).json()"
      ],
      "metadata": {
        "id": "hMQsvp2RYr4x"
      },
      "execution_count": 6,
      "outputs": []
    },
    {
      "cell_type": "code",
      "source": [
        "def get_city_id_by_name(data:dict=data_areas, county_name:str='Россия', city_name:str='Москва') -> str | None:\n",
        "    \"\"\"\n",
        "    Returns the city ID given a country name and city name.\n",
        "\n",
        "    :param data: A dictionary containing country and city data.\n",
        "    :param county_name: The name of the country.\n",
        "    :param city_name: The name of the city.\n",
        "    :return: The ID of the city if found, otherwise None\n",
        "    \"\"\"\n",
        "    for country in data_areas:\n",
        "        if country.get('name', []) == county_name:\n",
        "            for city in country['areas']:\n",
        "                if city.get('name', []) == city_name:\n",
        "                    return city.get('id', None)"
      ],
      "metadata": {
        "id": "_Tzzg7eyW53J"
      },
      "execution_count": 7,
      "outputs": []
    },
    {
      "cell_type": "code",
      "source": [
        "def get_random_professions_names(data:dict=data_professions, n:int=5) -> list:\n",
        "    \"\"\"\n",
        "    Returns a list of random profession names.\n",
        "\n",
        "    :param data: A dictionary containing professions data.\n",
        "    :param n: The number of profession names to return.\n",
        "    :return: A list of random profession names\n",
        "    \"\"\"\n",
        "    result = []\n",
        "    profession_categories = [profession_categories.get('name') for profession_categories in data.get('categories')][:-1] #Категорию \"другое\" не рассматриваем\n",
        "    # Выберем по 1 случайной профессии из n случайных категорий\n",
        "    for profession_category in np.random.choice(profession_categories, size=n, replace=False):\n",
        "        for profession in data_professions.get('categories'):\n",
        "            if profession.get('name', []) == profession_category:\n",
        "                result.append(np.random.choice(profession.get('roles'), size=1, replace=False)[0].get('name'))\n",
        "                break\n",
        "    return result\n"
      ],
      "metadata": {
        "id": "P5yAeTYI-wJs"
      },
      "execution_count": 8,
      "outputs": []
    },
    {
      "cell_type": "code",
      "source": [
        "def get_vacancies_page(vacancy_name:str, page:int=0, city_id:str='1') -> dict:\n",
        "    \"\"\"\n",
        "    Fetches a page of vacancies based on the vacancy name and city.\n",
        "\n",
        "    :param vacancy_name: The name of the vacancy to search for.\n",
        "    :param page: The page number to fetch (defaults to 0).\n",
        "    :param city: The city to filter vacancies by (defaults to 'Москва').\n",
        "    :return: A JSON object containing the vacancies or None if an error occurs.\n",
        "    \"\"\"\n",
        "    params = {\n",
        "        'text': vacancy_name,\n",
        "        'area': city_id,\n",
        "        'page': page,\n",
        "        'per_page': 100\n",
        "    }\n",
        "    try:\n",
        "        response = requests.get(URL_vacancies, params)\n",
        "        response.raise_for_status()\n",
        "    except requests.exceptions.RequestException as e:\n",
        "        print(f\"Error fetching vacancies: {e}\")\n",
        "        return None\n",
        "    return response.json()"
      ],
      "metadata": {
        "id": "LBKRdvkQCFQP"
      },
      "execution_count": 9,
      "outputs": []
    },
    {
      "cell_type": "code",
      "source": [
        "def get_vacancies(vacancy_name, city='Москва'):\n",
        "    \"\"\"\n",
        "    Retrieves all vacancies matching the specified vacancy name and city by paginating through the API results.\n",
        "\n",
        "    :param vacancy_name: The name of the vacancy to search for.\n",
        "    :param city: The city to filter the vacancies by (defaults to 'Москва').\n",
        "    :return: A dictionary containing a list of vacancies and the total number found.\n",
        "    \"\"\"\n",
        "    city_id = get_city_id_by_name(city_name=city)\n",
        "    page = 0\n",
        "    vacancies = []\n",
        "    current_page = get_vacancies_page(vacancy_name=vacancy_name, page=page, city_id=city_id)\n",
        "    if not current_page:\n",
        "        return{'items': [], 'found': 0, 'fetched': 0}\n",
        "\n",
        "    vacancies.extend(current_page.get('items', []))\n",
        "    total_pages = current_page.get('pages', 0)\n",
        "    total_vacancies = current_page.get('found', 0)\n",
        "\n",
        "    for page in range(1, total_pages):\n",
        "\n",
        "        sleep(np.random.rand() + 0.5)\n",
        "\n",
        "        current_page = get_vacancies_page(vacancy_name=vacancy_name, page=page, city_id=city_id)\n",
        "        if not current_page:\n",
        "            break\n",
        "        vacancies.extend(current_page.get('items', []))\n",
        "\n",
        "    return {'items': vacancies, 'found': total_vacancies, 'fetched': len(vacancies)}"
      ],
      "metadata": {
        "id": "-ZysyxVn2s9-"
      },
      "execution_count": 10,
      "outputs": []
    },
    {
      "cell_type": "code",
      "source": [
        "np.random.seed(42)\n",
        "vacancies_info = dict()\n",
        "data = []\n",
        "for vacancy_name in get_random_professions_names(n=5):\n",
        "    vacancies = get_vacancies(vacancy_name=vacancy_name)\n",
        "    data.extend(vacancies.get('items'))\n",
        "    vacancies_info[vacancy_name] = {\n",
        "        'found': vacancies.get('found'),\n",
        "        'fetched': vacancies.get('fetched')\n",
        "    }\n",
        "    print(f'{vacancies.get(\"fetched\")} of {vacancies.get(\"found\")} vacancies for {vacancy_name} fetched')"
      ],
      "metadata": {
        "colab": {
          "base_uri": "https://localhost:8080/"
        },
        "id": "6WofyegHFi6v",
        "outputId": "ba9bae32-1466-4694-da7a-f4ea4c0d86ce"
      },
      "execution_count": 11,
      "outputs": [
        {
          "output_type": "stream",
          "name": "stdout",
          "text": [
            "9 of 9 vacancies for Артист, актер, аниматор fetched\n",
            "52 of 52 vacancies for Агроном fetched\n",
            "116 of 116 vacancies for Автомойщик fetched\n",
            "533 of 533 vacancies for Финансовый директор (CFO) fetched\n",
            "2000 of 7525 vacancies for Психолог fetched\n"
          ]
        }
      ]
    },
    {
      "cell_type": "code",
      "source": [
        "data[4]"
      ],
      "metadata": {
        "id": "kmuopwuAW7if",
        "outputId": "84b3cbba-5894-460a-a316-3dfa58ca372c",
        "colab": {
          "base_uri": "https://localhost:8080/"
        }
      },
      "execution_count": 41,
      "outputs": [
        {
          "output_type": "execute_result",
          "data": {
            "text/plain": [
              "{'id': '106861019',\n",
              " 'premium': False,\n",
              " 'name': 'Шеф анимации в загородный отель',\n",
              " 'department': None,\n",
              " 'has_test': False,\n",
              " 'response_letter_required': False,\n",
              " 'area': {'id': '1', 'name': 'Москва', 'url': 'https://api.hh.ru/areas/1'},\n",
              " 'salary': {'from': 80000, 'to': None, 'currency': 'RUR', 'gross': False},\n",
              " 'type': {'id': 'open', 'name': 'Открытая'},\n",
              " 'address': None,\n",
              " 'response_url': None,\n",
              " 'sort_point_distance': None,\n",
              " 'published_at': '2024-09-05T17:55:04+0300',\n",
              " 'created_at': '2024-09-05T17:55:04+0300',\n",
              " 'archived': False,\n",
              " 'apply_alternate_url': 'https://hh.ru/applicant/vacancy_response?vacancyId=106861019',\n",
              " 'branding': {'type': 'MAKEUP', 'tariff': None},\n",
              " 'show_logo_in_search': True,\n",
              " 'insider_interview': None,\n",
              " 'url': 'https://api.hh.ru/vacancies/106861019?host=hh.ru',\n",
              " 'alternate_url': 'https://hh.ru/vacancy/106861019',\n",
              " 'relations': [],\n",
              " 'employer': {'id': '2596486',\n",
              "  'name': 'Группа Компаний «ОСНОВА»',\n",
              "  'url': 'https://api.hh.ru/employers/2596486',\n",
              "  'alternate_url': 'https://hh.ru/employer/2596486',\n",
              "  'logo_urls': {'240': 'https://img.hhcdn.ru/employer-logo/2339829.jpeg',\n",
              "   '90': 'https://img.hhcdn.ru/employer-logo/2339828.jpeg',\n",
              "   'original': 'https://img.hhcdn.ru/employer-logo-original/474494.jpg'},\n",
              "  'vacancies_url': 'https://api.hh.ru/vacancies?employer_id=2596486',\n",
              "  'accredited_it_employer': False,\n",
              "  'trusted': True},\n",
              " 'snippet': {'requirement': 'Уверенный пользователь ПК. Опыт работы в успешных проектах в сфере организации творческих, массовых, зрелищных мероприятий, event. Уметь создавать интересные сценарии...',\n",
              "  'responsibility': 'Обеспечение административно-хозяйственной работы службы анимации (закупка костюмов, оборудования, реквизита, распределение бюджета и т.п.). Работа с <highlighttext>артистами</highlighttext>, <highlighttext>актёрами</highlighttext>-<highlighttext>аниматорами</highlighttext>...'},\n",
              " 'contacts': None,\n",
              " 'schedule': {'id': 'fullDay', 'name': 'Полный день'},\n",
              " 'working_days': [],\n",
              " 'working_time_intervals': [],\n",
              " 'working_time_modes': [],\n",
              " 'accept_temporary': False,\n",
              " 'professional_roles': [{'id': '74', 'name': 'Менеджер ресторана'}],\n",
              " 'accept_incomplete_resumes': True,\n",
              " 'experience': {'id': 'between1And3', 'name': 'От 1 года до 3 лет'},\n",
              " 'employment': {'id': 'full', 'name': 'Полная занятость'},\n",
              " 'adv_response_url': None,\n",
              " 'is_adv_vacancy': False,\n",
              " 'adv_context': None}"
            ]
          },
          "metadata": {},
          "execution_count": 41
        }
      ]
    },
    {
      "cell_type": "markdown",
      "metadata": {
        "id": "g0bdgyNWquuY"
      },
      "source": [
        "Посчитайте сколько всего найдено вакансий:"
      ]
    },
    {
      "cell_type": "code",
      "execution_count": 13,
      "metadata": {
        "ExecuteTime": {
          "end_time": "2024-05-15T15:14:38.868539Z",
          "start_time": "2024-05-15T15:14:38.824906Z"
        },
        "id": "lxyXtIs6q5cc",
        "colab": {
          "base_uri": "https://localhost:8080/"
        },
        "outputId": "db92ad6b-d612-48f3-8c5d-6839a627b4b1"
      },
      "outputs": [
        {
          "output_type": "execute_result",
          "data": {
            "text/plain": [
              "{'Артист, актер, аниматор': {'found': 9, 'fetched': 9},\n",
              " 'Агроном': {'found': 52, 'fetched': 52},\n",
              " 'Автомойщик': {'found': 116, 'fetched': 116},\n",
              " 'Финансовый директор (CFO)': {'found': 533, 'fetched': 533},\n",
              " 'Психолог': {'found': 7525, 'fetched': 2000}}"
            ]
          },
          "metadata": {},
          "execution_count": 13
        }
      ],
      "source": [
        "vacancies_info"
      ]
    },
    {
      "cell_type": "code",
      "source": [
        "print(f\" Всего вакансий найдено: {sum(v['found'] for v in vacancies_info.values())}\")\n"
      ],
      "metadata": {
        "id": "4w_QqWBYWRdk",
        "outputId": "0a113b20-23b1-4c22-90be-6a4d738f593a",
        "colab": {
          "base_uri": "https://localhost:8080/"
        }
      },
      "execution_count": 14,
      "outputs": [
        {
          "output_type": "stream",
          "name": "stdout",
          "text": [
            " Всего вакансий найдено: 8235\n"
          ]
        }
      ]
    },
    {
      "cell_type": "markdown",
      "metadata": {
        "id": "wQeULnNyq5wk"
      },
      "source": [
        "Создайте структуру данных, которая будет хранить в себе имя компании и ее координаты (широта и долгота):"
      ]
    },
    {
      "cell_type": "code",
      "execution_count": 48,
      "metadata": {
        "ExecuteTime": {
          "end_time": "2024-05-15T15:24:37.331297Z",
          "start_time": "2024-05-15T15:24:37.301272Z"
        },
        "id": "aR501yltVdLm"
      },
      "outputs": [],
      "source": [
        "from collections import namedtuple\n",
        "\n",
        "Company = namedtuple('Company', ['name', 'lat', 'lng'])"
      ]
    },
    {
      "cell_type": "markdown",
      "metadata": {
        "id": "ccIi3wIvVkG0"
      },
      "source": [
        "Создайте экземпляр этой структуры данных для каждой компании, которая выставила вакансию:"
      ]
    },
    {
      "cell_type": "code",
      "execution_count": 49,
      "metadata": {
        "ExecuteTime": {
          "end_time": "2024-05-15T15:24:38.870106Z",
          "start_time": "2024-05-15T15:24:38.555752Z"
        },
        "id": "tR6mYW7jtcCQ"
      },
      "outputs": [],
      "source": [
        "companies = set(Company(company.get('employer').get('name'), \\\n",
        "                       (company.get('address') or dict()).get('lat'), \\\n",
        "                       (company.get('address') or dict()).get('lng')) \\\n",
        "                for company in data\n",
        "                )"
      ]
    },
    {
      "cell_type": "markdown",
      "metadata": {
        "id": "SyBpNd0vtcNu"
      },
      "source": [
        "Найдите количество вакансий, у которых заданы координаты (значения данных может быть пустым):"
      ]
    },
    {
      "cell_type": "code",
      "source": [
        "n_vacances = sum(bool((vacancy.get('address') or dict()).get('lat') and \\\n",
        "                      (vacancy.get('address') or dict()).get('lng')\n",
        "                     )\n",
        "                for vacancy in data\n",
        "                )"
      ],
      "metadata": {
        "id": "9kZd7CtswSKT"
      },
      "execution_count": 64,
      "outputs": []
    },
    {
      "cell_type": "code",
      "source": [
        "print(f'Всего вакансий с координатами: {n_vacances}')"
      ],
      "metadata": {
        "colab": {
          "base_uri": "https://localhost:8080/"
        },
        "id": "oZz8kg1XzSrG",
        "outputId": "e6df49e5-d699-4f85-c862-e0b1819c0ba2"
      },
      "execution_count": 65,
      "outputs": [
        {
          "output_type": "stream",
          "name": "stdout",
          "text": [
            "Всего вакансий с координатами: 1588\n"
          ]
        }
      ]
    },
    {
      "cell_type": "markdown",
      "metadata": {
        "id": "aWNXrM-cu5Vi"
      },
      "source": [
        "Отберите вакансии, которые расположены в пределах МКАД (можно грубо):"
      ]
    },
    {
      "cell_type": "code",
      "execution_count": 61,
      "metadata": {
        "ExecuteTime": {
          "end_time": "2024-05-15T15:49:38.798920Z",
          "start_time": "2024-05-15T15:49:38.747894Z"
        },
        "id": "01g9wVEyyn-J"
      },
      "outputs": [],
      "source": [
        "# with gratitude to: https://misha.agency/javascript/rasschet-rasstoyaniya-ot-mkad.html#mkad-coordinates\n",
        "mkadPoints =  [\n",
        "\t[ 55.774558, 37.842762 ],\n",
        "\t[ 55.76522, 37.842789 ],\n",
        "\t[ 55.755723, 37.842627 ],\n",
        "\t[ 55.747399, 37.841828 ],\n",
        "\t[ 55.739103, 37.841217 ],\n",
        "\t[ 55.730482, 37.840175 ],\n",
        "\t[ 55.721939, 37.83916 ],\n",
        "\t[ 55.712203, 37.837121 ],\n",
        "\t[ 55.703048, 37.83262 ],\n",
        "\t[ 55.694287, 37.829512 ],\n",
        "\t[ 55.68529, 37.831353 ],\n",
        "\t[ 55.675945, 37.834605 ],\n",
        "\t[ 55.667752, 37.837597 ],\n",
        "\t[ 55.658667, 37.839348 ],\n",
        "\t[ 55.650053, 37.833842 ],\n",
        "\t[ 55.643713, 37.824787 ],\n",
        "\t[ 55.637347, 37.814564 ],\n",
        "\t[ 55.62913, 37.802473 ],\n",
        "\t[ 55.623758, 37.794235 ],\n",
        "\t[ 55.617713, 37.781928 ],\n",
        "\t[ 55.611755, 37.771139 ],\n",
        "\t[ 55.604956, 37.758725 ],\n",
        "\t[ 55.599677, 37.747945 ],\n",
        "\t[ 55.594143, 37.734785 ],\n",
        "\t[ 55.589234, 37.723062 ],\n",
        "\t[ 55.583983, 37.709425 ],\n",
        "\t[ 55.578834, 37.696256 ],\n",
        "\t[ 55.574019, 37.683167 ],\n",
        "\t[ 55.571999, 37.668911 ],\n",
        "\t[ 55.573093, 37.647765 ],\n",
        "\t[ 55.573928, 37.633419 ],\n",
        "\t[ 55.574732, 37.616719 ],\n",
        "\t[ 55.575816, 37.60107 ],\n",
        "\t[ 55.5778, 37.586536 ],\n",
        "\t[ 55.581271, 37.571938 ],\n",
        "\t[ 55.585143, 37.555732 ],\n",
        "\t[ 55.587509, 37.545132 ],\n",
        "\t[ 55.5922, 37.526366 ],\n",
        "\t[ 55.594728, 37.516108 ],\n",
        "\t[ 55.60249, 37.502274 ],\n",
        "\t[ 55.609685, 37.49391 ],\n",
        "\t[ 55.617424, 37.484846 ],\n",
        "\t[ 55.625801, 37.474668 ],\n",
        "\t[ 55.630207, 37.469925 ],\n",
        "\t[ 55.641041, 37.456864 ],\n",
        "\t[ 55.648794, 37.448195 ],\n",
        "\t[ 55.654675, 37.441125 ],\n",
        "\t[ 55.660424, 37.434424 ],\n",
        "\t[ 55.670701, 37.42598 ],\n",
        "\t[ 55.67994, 37.418712 ],\n",
        "\t[ 55.686873, 37.414868 ],\n",
        "\t[ 55.695697, 37.407528 ],\n",
        "\t[ 55.702805, 37.397952 ],\n",
        "\t[ 55.709657, 37.388969 ],\n",
        "\t[ 55.718273, 37.383283 ],\n",
        "\t[ 55.728581, 37.378369 ],\n",
        "\t[ 55.735201, 37.374991 ],\n",
        "\t[ 55.744789, 37.370248 ],\n",
        "\t[ 55.75435, 37.369188 ],\n",
        "\t[ 55.762936, 37.369053 ],\n",
        "\t[ 55.771444, 37.369619 ],\n",
        "\t[ 55.779722, 37.369853 ],\n",
        "\t[ 55.789542, 37.372943 ],\n",
        "\t[ 55.79723, 37.379824 ],\n",
        "\t[ 55.805796, 37.386876 ],\n",
        "\t[ 55.814629, 37.390397 ],\n",
        "\t[ 55.823606, 37.393236 ],\n",
        "\t[ 55.83251, 37.395275 ],\n",
        "\t[ 55.840376, 37.394709 ],\n",
        "\t[ 55.850141, 37.393056 ],\n",
        "\t[ 55.858801, 37.397314 ],\n",
        "\t[ 55.867051, 37.405588 ],\n",
        "\t[ 55.872703, 37.416601 ],\n",
        "\t[ 55.877041, 37.429429 ],\n",
        "\t[ 55.881091, 37.443596 ],\n",
        "\t[ 55.882828, 37.459065 ],\n",
        "\t[ 55.884625, 37.473096 ],\n",
        "\t[ 55.888897, 37.48861 ],\n",
        "\t[ 55.894232, 37.5016 ],\n",
        "\t[ 55.899578, 37.513206 ],\n",
        "\t[ 55.90526, 37.527597 ],\n",
        "\t[ 55.907687, 37.543443 ],\n",
        "\t[ 55.909388, 37.559577 ],\n",
        "\t[ 55.910907, 37.575531 ],\n",
        "\t[ 55.909257, 37.590344 ],\n",
        "\t[ 55.905472, 37.604637 ],\n",
        "\t[ 55.901637, 37.619603 ],\n",
        "\t[ 55.898533, 37.635961 ],\n",
        "\t[ 55.896973, 37.647648 ],\n",
        "\t[ 55.895449, 37.667878 ],\n",
        "\t[ 55.894868, 37.681721 ],\n",
        "\t[ 55.893884, 37.698807 ],\n",
        "\t[ 55.889094, 37.712363 ],\n",
        "\t[ 55.883555, 37.723636 ],\n",
        "\t[ 55.877501, 37.735791 ],\n",
        "\t[ 55.874698, 37.741261 ],\n",
        "\t[ 55.862464, 37.764519 ],\n",
        "\t[ 55.861979, 37.765992 ],\n",
        "\t[ 55.850257, 37.788216 ],\n",
        "\t[ 55.850383, 37.788522 ],\n",
        "\t[ 55.844167, 37.800586 ],\n",
        "\t[ 55.832707, 37.822819 ],\n",
        "\t[ 55.828789, 37.829754 ],\n",
        "\t[ 55.821072, 37.837148 ],\n",
        "\t[ 55.811599, 37.838926 ],\n",
        "\t[ 55.802781, 37.840004 ],\n",
        "\t[ 55.793991, 37.840965 ],\n",
        "\t[ 55.785017, 37.841576 ],\n",
        "\t[ 55.780825, 37.842095 ]\n",
        "]"
      ]
    },
    {
      "cell_type": "code",
      "source": [
        "def in_poly(point, poly = mkadPoints):\n",
        "    \"\"\"\n",
        "    Определяет, находится ли геоточка внутри полигона геоточек или за его пределами.\n",
        "\n",
        "    :param point: Заданная геоточка в формате [широта, долгота]\n",
        "    :param poly: Массив геоточек полигона (например, МКАДа)\n",
        "    :return: True/False (находится внутри/находится за пределами)\n",
        "    \"\"\"\n",
        "    x, y = point\n",
        "    inside = False\n",
        "    if not all([x, y]):\n",
        "        return inside\n",
        "    j = len(poly) - 1\n",
        "    for i in range(len(poly)):\n",
        "        xi, yi = poly[i]\n",
        "        xj, yj = poly[j]\n",
        "\n",
        "        intersect = ((yi > y) != (yj > y)) and (x < (xj - xi) * (y - yi) / (yj - yi) + xi)\n",
        "        if intersect:\n",
        "            inside = not inside\n",
        "\n",
        "        j = i\n",
        "\n",
        "    return inside"
      ],
      "metadata": {
        "id": "d_8yqYco0GDA"
      },
      "execution_count": 74,
      "outputs": []
    },
    {
      "cell_type": "code",
      "source": [
        "vacancies_inside_mkad = list(filter(lambda vacancy: in_poly([(vacancy.get('address') or dict()).get('lat'), (vacancy.get('address') or dict()).get('lng')]), data))\n",
        "len(vacancies_inside_mkad)"
      ],
      "metadata": {
        "colab": {
          "base_uri": "https://localhost:8080/"
        },
        "id": "eFOtvhNj0dKZ",
        "outputId": "61378a26-dada-44fd-86c5-60edec060c97"
      },
      "execution_count": 79,
      "outputs": [
        {
          "output_type": "execute_result",
          "data": {
            "text/plain": [
              "1343"
            ]
          },
          "metadata": {},
          "execution_count": 79
        }
      ]
    },
    {
      "cell_type": "markdown",
      "metadata": {
        "id": "4LCb9IL_bgB_"
      },
      "source": [
        "Постройте график в координатах \"широта-долгота\" для отображения вакансий внутри МКАД (не забывайте прописать прозрачность, чтобы увидеть скопления):"
      ]
    },
    {
      "cell_type": "code",
      "source": [
        "lat = [vacany.get('address').get('lat') for  vacany in vacancies_inside_mkad]\n",
        "lng = [vacany.get('address').get('lng') for  vacany in vacancies_inside_mkad]"
      ],
      "metadata": {
        "id": "s04pKLth42DC"
      },
      "execution_count": 81,
      "outputs": []
    },
    {
      "cell_type": "code",
      "execution_count": 95,
      "metadata": {
        "ExecuteTime": {
          "end_time": "2024-05-15T15:51:07.021308Z",
          "start_time": "2024-05-15T15:51:06.706890Z"
        },
        "id": "6ogiXDvKcDV8",
        "colab": {
          "base_uri": "https://localhost:8080/",
          "height": 472
        },
        "outputId": "750f24b0-24ea-4bdb-c766-941b997db0a4"
      },
      "outputs": [
        {
          "output_type": "display_data",
          "data": {
            "text/plain": [
              "<Figure size 640x480 with 1 Axes>"
            ],
            "image/png": "[encoded data removed]"
          },
          "metadata": {}
        }
      ],
      "source": [
        "sns.scatterplot(data=pd.DataFrame(vacancies_inside_mkad), x=lng, y=lat, alpha=0.3,).set_title('Вакансии внутри МКАД')\n",
        "for y, x in mkadPoints:\n",
        "  plt.plot(x, y, 'r*')\n",
        "plt.xlabel('Долгота')\n",
        "plt.ylabel('Широта')\n",
        "plt.legend(['Координаты вакансий', 'МКАД']);"
      ]
    },
    {
      "cell_type": "markdown",
      "metadata": {
        "id": "u-p3Llc361PN"
      },
      "source": [
        "**Сделайте выводы о проделанной работе:**"
      ]
    },
    {
      "cell_type": "markdown",
      "metadata": {
        "id": "gkPpbtBuVqwc"
      },
      "source": []
    },
    {
      "cell_type": "markdown",
      "metadata": {
        "id": "lii5YFuucxR2"
      },
      "source": [
        "Вам предстоит проанализировать датасет, содержащий информацию об бриллианта, их стоимости и остальных характеристиках."
      ]
    },
    {
      "cell_type": "markdown",
      "metadata": {
        "id": "CvEO3-NI0Gez"
      },
      "source": [
        "\n",
        "\n",
        "Поясним значения хранящиеся в колонках:\n",
        "*   `cut` - огранка бриллианта (относится к одной из примерно 10 наиболее распространенных)\n",
        "*   `color` - цвет бриллианта, прозрачные бриллианты имеют градацию `D-Z`, \"более высокие\" буквы - более желтоватые, но часто имеют лучшие значения, поскольку цвет трудно определить один раз в кольце\n",
        "*   `clarity` - чистота бриллианта, наличие включений (внутренних дефектов), чем меньше и мельче, тем лучше\n",
        "*   `carat_weight` - масса бриллианта (слабо связана с размером бриллианта, т.к. огранка и качество огранки, как правило, играют большую роль)\n",
        "*   `cut_quality` - качество ограники по системе оценки GIA Cut\n",
        "*   `lab` - лаборатория оценивания\n",
        "*   `meas_length` - длина бриллианта\n",
        "*   `meas_width` - ширина бриллианта\n",
        "*   `meas_depth` - глубина бриллианта\n",
        "*   `total_sales_price` - цена бриллианта в долларах.\n",
        "*    **и прочие колонки**"
      ]
    },
    {
      "cell_type": "markdown",
      "metadata": {
        "id": "7mK1QntN6ZXh"
      },
      "source": [
        "Скачаем данные:"
      ]
    },
    {
      "cell_type": "code",
      "execution_count": 16,
      "metadata": {
        "id": "1cfyeotzHg8F",
        "colab": {
          "base_uri": "https://localhost:8080/"
        },
        "outputId": "02afa794-a5de-41fc-8888-bf16b3a22b4e"
      },
      "outputs": [
        {
          "output_type": "stream",
          "name": "stdout",
          "text": [
            "Downloading...\n",
            "From: https://drive.google.com/uc?id=10OJ30qlkE-7zK4JuVTDMY3U4nRB4tu_8\n",
            "To: /content/diamonds.csv\n",
            "100% 35.4M/35.4M [00:00<00:00, 77.5MB/s]\n"
          ]
        }
      ],
      "source": [
        "!gdown 10OJ30qlkE-7zK4JuVTDMY3U4nRB4tu_8\n",
        "# если работайте в jupyter то скачайте датасет с https://drive.google.com/uc?id=10OJ30qlkE-7zK4JuVTDMY3U4nRB4tu_8"
      ]
    },
    {
      "cell_type": "markdown",
      "metadata": {
        "id": "wfSqVYoIfi3-"
      },
      "source": [
        "Создадим DataFrame:"
      ]
    },
    {
      "cell_type": "code",
      "execution_count": 17,
      "metadata": {
        "id": "K6X9TSsdHg8F"
      },
      "outputs": [],
      "source": [
        "import pandas as pd\n",
        "\n",
        "diamonds = pd.read_csv(\"diamonds.csv\")"
      ]
    },
    {
      "cell_type": "markdown",
      "metadata": {
        "id": "vlw_3lXG6bhv"
      },
      "source": [
        "Выведете первые 5 строк датасета:"
      ]
    },
    {
      "cell_type": "code",
      "execution_count": 17,
      "metadata": {
        "ExecuteTime": {
          "end_time": "2024-05-15T11:35:42.155983Z",
          "start_time": "2024-05-15T11:35:42.135289Z"
        },
        "id": "gHA-AnSE6fth"
      },
      "outputs": [],
      "source": []
    },
    {
      "cell_type": "markdown",
      "metadata": {
        "id": "gat7bnPQ6fCE"
      },
      "source": [
        "Найдите количество бриллиантов всего в данном датасете:"
      ]
    },
    {
      "cell_type": "code",
      "execution_count": 17,
      "metadata": {
        "ExecuteTime": {
          "end_time": "2024-05-15T11:35:43.448231Z",
          "start_time": "2024-05-15T11:35:43.434174Z"
        },
        "id": "-9x6z3-J7C-v"
      },
      "outputs": [],
      "source": []
    },
    {
      "cell_type": "markdown",
      "metadata": {
        "id": "fYQuIdtL7DFp"
      },
      "source": [
        "Выведите максимальную и минимальную цену бриллианта в формате `номер - цена`:"
      ]
    },
    {
      "cell_type": "code",
      "execution_count": 17,
      "metadata": {
        "ExecuteTime": {
          "end_time": "2024-05-15T11:35:45.144353Z",
          "start_time": "2024-05-15T11:35:45.126127Z"
        },
        "id": "D_7sjzjP7SEj"
      },
      "outputs": [],
      "source": []
    },
    {
      "cell_type": "markdown",
      "metadata": {
        "id": "E2mf4IIO7SOg"
      },
      "source": [
        "Посчитайте количество пропусков (пропуском считается значение `unknown` или `None`):"
      ]
    },
    {
      "cell_type": "code",
      "execution_count": 17,
      "metadata": {
        "ExecuteTime": {
          "end_time": "2024-05-15T11:35:46.337365Z",
          "start_time": "2024-05-15T11:35:46.087358Z"
        },
        "id": "BuJZ0UoN7qAU"
      },
      "outputs": [],
      "source": []
    },
    {
      "cell_type": "markdown",
      "metadata": {
        "id": "d5LWUc_fh0vb"
      },
      "source": [
        "Найдите в каких столбцах присутствуют пропуски:"
      ]
    },
    {
      "cell_type": "code",
      "execution_count": 17,
      "metadata": {
        "ExecuteTime": {
          "end_time": "2024-05-15T11:36:02.951027Z",
          "start_time": "2024-05-15T11:36:02.681500Z"
        },
        "id": "IsU49Fouh5vy"
      },
      "outputs": [],
      "source": []
    },
    {
      "cell_type": "markdown",
      "metadata": {
        "id": "UznNZpJ47qGX"
      },
      "source": [
        "В нашем датасете присутствуют колонки, которые начинаются с `fancy_color_` или `fluor_`. Большинство значений в этих колонках - `unknown` или `None`, поэтому мы считаем их малоинформативными."
      ]
    },
    {
      "cell_type": "markdown",
      "metadata": {
        "id": "Rkk6Hr2Ui87X"
      },
      "source": [
        "Ваша задача:"
      ]
    },
    {
      "cell_type": "markdown",
      "metadata": {
        "id": "YYBDAgSSi-JU"
      },
      "source": [
        "найти количество таких колонок, которые начинаются с `fancy_color_` или `fluor_`:"
      ]
    },
    {
      "cell_type": "code",
      "execution_count": 17,
      "metadata": {
        "ExecuteTime": {
          "end_time": "2024-05-15T10:19:15.104626Z",
          "start_time": "2024-05-15T10:19:15.084696Z"
        },
        "id": "nbTUkk4T8-wO"
      },
      "outputs": [],
      "source": []
    },
    {
      "cell_type": "markdown",
      "metadata": {
        "id": "imop6nNujA6z"
      },
      "source": [
        "найти количество информативных (не `None` или `unknown`) значений в этих колонках:"
      ]
    },
    {
      "cell_type": "code",
      "execution_count": 17,
      "metadata": {
        "ExecuteTime": {
          "end_time": "2024-05-15T11:42:14.621948Z",
          "start_time": "2024-05-15T11:42:14.417875Z"
        },
        "id": "jtJcBwAVjPHU"
      },
      "outputs": [],
      "source": []
    },
    {
      "cell_type": "markdown",
      "metadata": {
        "id": "wFbuTnkbjPeq"
      },
      "source": [
        "удалить данные колонки из датасета, сохранив изменения (в дальнейшем работаем измененным датасетом):"
      ]
    },
    {
      "cell_type": "code",
      "execution_count": 17,
      "metadata": {
        "ExecuteTime": {
          "end_time": "2024-05-15T10:33:37.613419Z",
          "start_time": "2024-05-15T10:33:37.302003Z"
        },
        "id": "qSZ5cmKWjutz"
      },
      "outputs": [],
      "source": []
    },
    {
      "cell_type": "markdown",
      "metadata": {
        "id": "JID3q4vr8-2h"
      },
      "source": [
        "Проделайте тоже самое для колонок, начинающихся с `culet_`:"
      ]
    },
    {
      "cell_type": "code",
      "execution_count": 17,
      "metadata": {
        "ExecuteTime": {
          "end_time": "2024-05-15T10:37:57.979940Z",
          "start_time": "2024-05-15T10:37:57.850463Z"
        },
        "id": "Wfsvzyad-T6P"
      },
      "outputs": [],
      "source": []
    },
    {
      "cell_type": "markdown",
      "metadata": {
        "id": "7_qYv5Xm-UCz"
      },
      "source": [
        "Посчитайте сколько бы стоил (в тысячах долларов) сейф, в котором хранились бы все бриллианты из датасета:"
      ]
    },
    {
      "cell_type": "code",
      "execution_count": 17,
      "metadata": {
        "ExecuteTime": {
          "end_time": "2024-05-15T10:26:51.080089Z",
          "start_time": "2024-05-15T10:26:51.070747Z"
        },
        "id": "g2wVyz5U-cx7"
      },
      "outputs": [],
      "source": []
    },
    {
      "cell_type": "markdown",
      "metadata": {
        "id": "GVwspHrUkRFv"
      },
      "source": [
        "Немного необоснованных манипуляций."
      ]
    },
    {
      "cell_type": "markdown",
      "metadata": {
        "id": "0j5Yr0mFxxfu"
      },
      "source": [
        "Выберите из датасета строки с четными индексами и выведете значения (не меняя нумерацию индексов):"
      ]
    },
    {
      "cell_type": "code",
      "execution_count": 17,
      "metadata": {
        "ExecuteTime": {
          "end_time": "2024-05-15T10:45:59.731283Z",
          "start_time": "2024-05-15T10:45:59.707586Z"
        },
        "id": "dW2GOROfx6yd"
      },
      "outputs": [],
      "source": []
    },
    {
      "cell_type": "markdown",
      "metadata": {
        "id": "mNXqS4oox7TF"
      },
      "source": [
        "А теперь с индексами, кратными 6:"
      ]
    },
    {
      "cell_type": "code",
      "execution_count": 17,
      "metadata": {
        "ExecuteTime": {
          "end_time": "2024-05-15T10:46:18.482946Z",
          "start_time": "2024-05-15T10:46:18.457743Z"
        },
        "id": "hy8LyzXix_SB"
      },
      "outputs": [],
      "source": []
    },
    {
      "cell_type": "markdown",
      "metadata": {
        "id": "cbpEX7OBHg8K"
      },
      "source": [
        "Выберете из датасета только категорильные признаки и выведете датасет:"
      ]
    },
    {
      "cell_type": "code",
      "execution_count": 17,
      "metadata": {
        "id": "_8vy_ylrHg8K"
      },
      "outputs": [],
      "source": []
    },
    {
      "cell_type": "markdown",
      "metadata": {
        "id": "Pz02uapbkbGk"
      },
      "source": [
        "### Построение графиков"
      ]
    },
    {
      "cell_type": "markdown",
      "metadata": {
        "id": "_zhww-rd-c5c"
      },
      "source": [
        "**Требования к графику:**\n",
        "\n",
        "1.   График должен быть подписан\n",
        "2.   Оси должны быть подписаны\n",
        "3.   Должна быть легенда графика\n",
        "4.   График должен быть информативным (желательно без сильных выбросов)\n",
        "\n",
        "**Все надписи на русском языке!**"
      ]
    },
    {
      "cell_type": "markdown",
      "metadata": {
        "id": "mfebCvk0k2mo"
      },
      "source": [
        ">**Примечание**\n",
        ">\n",
        ">График необходимо строить для очищенных данных - в них не должно быть пропусков по осям, по которым строите график. При этом **не перезатирайте** имеющийся датафрейм!"
      ]
    },
    {
      "cell_type": "markdown",
      "metadata": {
        "id": "4R9Rwxdq-l21"
      },
      "source": [
        "Постройте график `цвет бриллианта - стоимость`:"
      ]
    },
    {
      "cell_type": "code",
      "execution_count": 17,
      "metadata": {
        "ExecuteTime": {
          "end_time": "2024-05-15T10:29:14.066669Z",
          "start_time": "2024-05-15T10:29:12.723721Z"
        },
        "id": "Fo6I0j5o-vQh"
      },
      "outputs": [],
      "source": []
    },
    {
      "cell_type": "markdown",
      "metadata": {
        "id": "W_UgFji5-vWx"
      },
      "source": [
        "Постройте график `лабараторная оценка - кол-во бриллиантов`:"
      ]
    },
    {
      "cell_type": "code",
      "execution_count": 17,
      "metadata": {
        "ExecuteTime": {
          "end_time": "2024-05-15T10:14:06.917161Z",
          "start_time": "2024-05-15T10:14:06.616626Z"
        },
        "id": "nyT8-TRb_c24"
      },
      "outputs": [],
      "source": []
    },
    {
      "cell_type": "markdown",
      "metadata": {
        "id": "AgsMclnJ_c9H"
      },
      "source": [
        "Постройте график `вес бриллианта - стоимость`:"
      ]
    },
    {
      "cell_type": "code",
      "execution_count": 17,
      "metadata": {
        "ExecuteTime": {
          "end_time": "2024-05-15T08:41:06.649728Z",
          "start_time": "2024-05-15T08:41:05.799964Z"
        },
        "id": "tn-x3pwmANQe"
      },
      "outputs": [],
      "source": []
    },
    {
      "cell_type": "markdown",
      "metadata": {
        "id": "0LVC1KfEAwuw"
      },
      "source": [
        "Постройте график `система оценки GIA Cut - кол-во бриллиантов`:"
      ]
    },
    {
      "cell_type": "code",
      "execution_count": 17,
      "metadata": {
        "ExecuteTime": {
          "end_time": "2024-05-15T10:41:02.674735Z",
          "start_time": "2024-05-15T10:41:01.679746Z"
        },
        "id": "IeuLooSIA232"
      },
      "outputs": [],
      "source": []
    },
    {
      "cell_type": "markdown",
      "metadata": {
        "id": "qFxDpCSIHg8L"
      },
      "source": [
        "Сделайте выводы по построенным графикам"
      ]
    },
    {
      "cell_type": "markdown",
      "metadata": {
        "id": "xI2IkVmmHg8L"
      },
      "source": []
    }
  ],
  "metadata": {
    "colab": {
      "provenance": [],
      "include_colab_link": true
    },
    "kernelspec": {
      "display_name": "Python 3 (ipykernel)",
      "language": "python",
      "name": "python3"
    },
    "language_info": {
      "codemirror_mode": {
        "name": "ipython",
        "version": 3
      },
      "file_extension": ".py",
      "mimetype": "text/x-python",
      "name": "python",
      "nbconvert_exporter": "python",
      "pygments_lexer": "ipython3",
      "version": "3.10.8"
    },
    "toc": {
      "base_numbering": 1,
      "nav_menu": {},
      "number_sections": true,
      "sideBar": true,
      "skip_h1_title": false,
      "title_cell": "Table of Contents",
      "title_sidebar": "Contents",
      "toc_cell": false,
      "toc_position": {},
      "toc_section_display": true,
      "toc_window_display": false
    }
  },
  "nbformat": 4,
  "nbformat_minor": 0
}