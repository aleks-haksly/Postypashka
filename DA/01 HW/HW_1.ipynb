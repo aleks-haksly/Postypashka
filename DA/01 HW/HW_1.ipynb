{
  "cells": [
    {
      "cell_type": "markdown",
      "metadata": {
        "id": "view-in-github",
        "colab_type": "text"
      },
      "source": [
        "<a href=\"https://colab.research.google.com/github/aleks-haksly/Postypashka/blob/main/DA/01%20HW/HW_1.ipynb\" target=\"_parent\"><img src=\"https://colab.research.google.com/assets/colab-badge.svg\" alt=\"Open In Colab\"/></a>"
      ]
    },
    {
      "cell_type": "code",
      "execution_count": 218,
      "metadata": {
        "ExecuteTime": {
          "end_time": "2024-05-14T21:38:46.578163Z",
          "start_time": "2024-05-14T21:38:40.641188Z"
        },
        "id": "1qzEqvohoZfB"
      },
      "outputs": [],
      "source": [
        "# Всё необходимое для выполнения данной лабораторной работы!\n",
        "import requests\n",
        "from time import sleep\n",
        "\n",
        "import numpy as np\n",
        "import pandas as pd\n",
        "import matplotlib.pyplot as plt\n",
        "import seaborn as sns"
      ]
    },
    {
      "cell_type": "code",
      "source": [
        "pd.set_option('display.max_columns', 100)"
      ],
      "metadata": {
        "id": "8Kyw0avoOtzx"
      },
      "execution_count": 219,
      "outputs": []
    },
    {
      "cell_type": "markdown",
      "metadata": {
        "id": "rB_FYHU2k8w-"
      },
      "source": [
        "## Задание 1. Парсинг - 10 баллов"
      ]
    },
    {
      "cell_type": "markdown",
      "metadata": {
        "id": "F0gr5cjaoQJy"
      },
      "source": [
        "В этом задании Вам предстоит работать с API сайта <a target=\"_blank\" href=\"hh.ru\">hh.ru</a>. Документация доступна по <a target=\"_blank\" href=\"https://github.com/hhru/api/blob/master/docs/vacancies.md#search\">ссылке</a>."
      ]
    },
    {
      "cell_type": "markdown",
      "metadata": {
        "id": "-HAm80rqRqAZ"
      },
      "source": [
        "**Задача:**\n",
        "1. выбрать 5 интересующих вас профессий (не смежных, т.е. Аналатик и Data Engineer не считается корректным)\n",
        "2. затем получить доступные по данным профессиям вакансии в Москве и выделить их физические координаты\n",
        "3. нанести полученные координаты на карту местоположения компаний"
      ]
    },
    {
      "cell_type": "markdown",
      "source": [
        "*Пример запроса для профессии:*"
      ],
      "metadata": {
        "id": "57i_BKIhkMQl"
      }
    },
    {
      "cell_type": "code",
      "source": [
        "URL = 'https://api.hh.ru/vacancies'\n",
        "\n",
        "params = {\n",
        "    'text': \"Физик-ядерщик\",\n",
        "    'area': 1,\n",
        "    'page': 0,\n",
        "    'per_page': 10\n",
        "}\n",
        "\n",
        "data = requests.get(URL, params).json()\n",
        "data"
      ],
      "metadata": {
        "colab": {
          "base_uri": "https://localhost:8080/",
          "height": 0
        },
        "id": "mIhJy3hWj_XZ",
        "outputId": "6d50a9d4-2b70-4574-f076-c72d163d5f44"
      },
      "execution_count": 220,
      "outputs": [
        {
          "output_type": "execute_result",
          "data": {
            "text/plain": [
              "{'items': [],\n",
              " 'found': 0,\n",
              " 'pages': 1,\n",
              " 'page': 0,\n",
              " 'per_page': 10,\n",
              " 'clusters': None,\n",
              " 'arguments': None,\n",
              " 'fixes': None,\n",
              " 'suggests': None,\n",
              " 'alternate_url': 'https://hh.ru/search/vacancy?area=1&enable_snippets=true&items_on_page=10&text=%D0%A4%D0%B8%D0%B7%D0%B8%D0%BA-%D1%8F%D0%B4%D0%B5%D1%80%D1%89%D0%B8%D0%BA'}"
            ]
          },
          "metadata": {},
          "execution_count": 220
        }
      ]
    },
    {
      "cell_type": "markdown",
      "metadata": {
        "id": "yHQtIBRQp91_"
      },
      "source": [
        "Если Ваш запрос прошел успешно, то вы получите следующие ключи (значения данных ключей вы найдете по ссылке на документацию):"
      ]
    },
    {
      "cell_type": "code",
      "execution_count": 221,
      "metadata": {
        "ExecuteTime": {
          "end_time": "2024-05-15T15:01:45.574171Z",
          "start_time": "2024-05-15T15:01:45.555159Z"
        },
        "colab": {
          "base_uri": "https://localhost:8080/",
          "height": 0
        },
        "id": "DW6mxzggpvKw",
        "outputId": "a226fbaf-2d8e-4c57-e8af-f1444498ae82"
      },
      "outputs": [
        {
          "output_type": "execute_result",
          "data": {
            "text/plain": [
              "dict_keys(['items', 'found', 'pages', 'page', 'per_page', 'clusters', 'arguments', 'fixes', 'suggests', 'alternate_url'])"
            ]
          },
          "metadata": {},
          "execution_count": 221
        }
      ],
      "source": [
        "data.keys()"
      ]
    },
    {
      "cell_type": "markdown",
      "metadata": {
        "id": "JWvkFrh9qhkj"
      },
      "source": [
        "Выберете для нас 5 наиболее интересных специальностей и получите по ним имеющиеся вакансии:"
      ]
    },
    {
      "cell_type": "code",
      "source": [
        "URL_areas = 'https://api.hh.ru/areas'\n",
        "URL_professions = 'https://api.hh.ru/professional_roles'\n",
        "URL_vacancies = 'https://api.hh.ru/vacancies'"
      ],
      "metadata": {
        "id": "zh6WRshwzKUv"
      },
      "execution_count": 222,
      "outputs": []
    },
    {
      "cell_type": "code",
      "source": [
        "data_areas = requests.get(URL_areas).json()\n",
        "sleep(0.5)\n",
        "data_professions = requests.get(URL_professions).json()"
      ],
      "metadata": {
        "id": "hMQsvp2RYr4x"
      },
      "execution_count": 223,
      "outputs": []
    },
    {
      "cell_type": "code",
      "source": [
        "def get_city_id_by_name(data:dict=data_areas, county_name:str='Россия', city_name:str='Москва') -> str | None:\n",
        "    \"\"\"\n",
        "    Returns the city ID given a country name and city name.\n",
        "\n",
        "    :param data: A dictionary containing country and city data.\n",
        "    :param county_name: The name of the country.\n",
        "    :param city_name: The name of the city.\n",
        "    :return: The ID of the city if found, otherwise None\n",
        "    \"\"\"\n",
        "    for country in data_areas:\n",
        "        if country.get('name', []) == county_name:\n",
        "            for city in country['areas']:\n",
        "                if city.get('name', []) == city_name:\n",
        "                    return city.get('id', None)"
      ],
      "metadata": {
        "id": "_Tzzg7eyW53J"
      },
      "execution_count": 224,
      "outputs": []
    },
    {
      "cell_type": "code",
      "source": [
        "def get_random_professions_names(data:dict=data_professions, n:int=5) -> list:\n",
        "    \"\"\"\n",
        "    Returns a list of random profession names.\n",
        "\n",
        "    :param data: A dictionary containing professions data.\n",
        "    :param n: The number of profession names to return.\n",
        "    :return: A list of random profession names\n",
        "    \"\"\"\n",
        "    result = []\n",
        "    profession_categories = [profession_categories.get('name') for profession_categories in data.get('categories')][:-1] #Категорию \"другое\" не рассматриваем\n",
        "    # Выберем по 1 случайной профессии из n случайных категорий\n",
        "    for profession_category in np.random.choice(profession_categories, size=n, replace=False):\n",
        "        for profession in data_professions.get('categories'):\n",
        "            if profession.get('name', []) == profession_category:\n",
        "                result.append(np.random.choice(profession.get('roles'), size=1, replace=False)[0].get('name'))\n",
        "                break\n",
        "    return result\n"
      ],
      "metadata": {
        "id": "P5yAeTYI-wJs"
      },
      "execution_count": 225,
      "outputs": []
    },
    {
      "cell_type": "code",
      "source": [
        "def get_vacancies_page(vacancy_name:str, page:int=0, city_id:str='1') -> dict:\n",
        "    \"\"\"\n",
        "    Fetches a page of vacancies based on the vacancy name and city.\n",
        "\n",
        "    :param vacancy_name: The name of the vacancy to search for.\n",
        "    :param page: The page number to fetch (defaults to 0).\n",
        "    :param city: The city to filter vacancies by (defaults to 'Москва').\n",
        "    :return: A JSON object containing the vacancies or None if an error occurs.\n",
        "    \"\"\"\n",
        "    params = {\n",
        "        'text': vacancy_name,\n",
        "        'area': city_id,\n",
        "        'page': page,\n",
        "        'per_page': 100,\n",
        "        'search_field': \"name\" # чтобы отсеить поиск в описании вакансии, иначе в выдаче много мусора\n",
        "    }\n",
        "    try:\n",
        "        response = requests.get(URL_vacancies, params)\n",
        "        response.raise_for_status()\n",
        "    except requests.exceptions.RequestException as e:\n",
        "        print(f\"Error fetching vacancies: {e}\")\n",
        "        return None\n",
        "    return response.json()"
      ],
      "metadata": {
        "id": "LBKRdvkQCFQP"
      },
      "execution_count": 226,
      "outputs": []
    },
    {
      "cell_type": "code",
      "source": [
        "def get_vacancies(vacancy_name, city='Москва'):\n",
        "    \"\"\"\n",
        "    Retrieves all vacancies matching the specified vacancy name and city by paginating through the API results.\n",
        "\n",
        "    :param vacancy_name: The name of the vacancy to search for.\n",
        "    :param city: The city to filter the vacancies by (defaults to 'Москва').\n",
        "    :return: A dictionary containing a list of vacancies and the total number found.\n",
        "    \"\"\"\n",
        "    city_id = get_city_id_by_name(city_name=city)\n",
        "    page = 0\n",
        "    vacancies = []\n",
        "    current_page = get_vacancies_page(vacancy_name=vacancy_name, page=page, city_id=city_id)\n",
        "    if not current_page:\n",
        "        return{'items': [], 'found': 0, 'fetched': 0}\n",
        "\n",
        "    vacancies.extend(current_page.get('items', []))\n",
        "    total_pages = current_page.get('pages', 0)\n",
        "    total_vacancies = current_page.get('found', 0)\n",
        "\n",
        "    for page in range(1, total_pages):\n",
        "\n",
        "        sleep(np.random.rand() + 0.5)\n",
        "\n",
        "        current_page = get_vacancies_page(vacancy_name=vacancy_name, page=page, city_id=city_id)\n",
        "        if not current_page:\n",
        "            break\n",
        "        vacancies.extend(current_page.get('items', []))\n",
        "\n",
        "    return {'items': vacancies, 'found': total_vacancies, 'fetched': len(vacancies)}"
      ],
      "metadata": {
        "id": "-ZysyxVn2s9-"
      },
      "execution_count": 227,
      "outputs": []
    },
    {
      "cell_type": "code",
      "source": [
        "np.random.seed(42)\n",
        "vacancies_info = dict()\n",
        "data = []\n",
        "for vacancy_name in get_random_professions_names(n=5):\n",
        "    vacancies = get_vacancies(vacancy_name=vacancy_name)\n",
        "    data.extend(vacancies.get('items'))\n",
        "    vacancies_info[vacancy_name] = {\n",
        "        'found': vacancies.get('found'),\n",
        "        'fetched': vacancies.get('fetched')\n",
        "    }\n",
        "    print(f'{vacancies.get(\"fetched\")} of {vacancies.get(\"found\")} vacancies for {vacancy_name} fetched')"
      ],
      "metadata": {
        "colab": {
          "base_uri": "https://localhost:8080/",
          "height": 0
        },
        "id": "6WofyegHFi6v",
        "outputId": "4c2cd4a0-17db-4bbe-87a1-00f7f0454c46"
      },
      "execution_count": 228,
      "outputs": [
        {
          "output_type": "stream",
          "name": "stdout",
          "text": [
            "1 of 1 vacancies for Артист, актер, аниматор fetched\n",
            "43 of 43 vacancies for Агроном fetched\n",
            "92 of 92 vacancies for Автомойщик fetched\n",
            "252 of 252 vacancies for Финансовый директор (CFO) fetched\n",
            "184 of 184 vacancies for Психолог fetched\n"
          ]
        }
      ]
    },
    {
      "cell_type": "markdown",
      "metadata": {
        "id": "g0bdgyNWquuY"
      },
      "source": [
        "Посчитайте сколько всего найдено вакансий:"
      ]
    },
    {
      "cell_type": "code",
      "execution_count": 229,
      "metadata": {
        "ExecuteTime": {
          "end_time": "2024-05-15T15:14:38.868539Z",
          "start_time": "2024-05-15T15:14:38.824906Z"
        },
        "id": "lxyXtIs6q5cc",
        "colab": {
          "base_uri": "https://localhost:8080/",
          "height": 0
        },
        "outputId": "6ec5e5f1-09aa-4315-a978-ec36b99268b8"
      },
      "outputs": [
        {
          "output_type": "execute_result",
          "data": {
            "text/plain": [
              "{'Артист, актер, аниматор': {'found': 1, 'fetched': 1},\n",
              " 'Агроном': {'found': 43, 'fetched': 43},\n",
              " 'Автомойщик': {'found': 92, 'fetched': 92},\n",
              " 'Финансовый директор (CFO)': {'found': 252, 'fetched': 252},\n",
              " 'Психолог': {'found': 184, 'fetched': 184}}"
            ]
          },
          "metadata": {},
          "execution_count": 229
        }
      ],
      "source": [
        "vacancies_info"
      ]
    },
    {
      "cell_type": "code",
      "source": [
        "print(f\" Всего вакансий найдено: {sum(v['found'] for v in vacancies_info.values())}\")"
      ],
      "metadata": {
        "id": "4w_QqWBYWRdk",
        "outputId": "ce2fe9b7-5373-4815-c695-fc3bad803da2",
        "colab": {
          "base_uri": "https://localhost:8080/",
          "height": 0
        }
      },
      "execution_count": 230,
      "outputs": [
        {
          "output_type": "stream",
          "name": "stdout",
          "text": [
            " Всего вакансий найдено: 572\n"
          ]
        }
      ]
    },
    {
      "cell_type": "markdown",
      "metadata": {
        "id": "wQeULnNyq5wk"
      },
      "source": [
        "Создайте структуру данных, которая будет хранить в себе имя компании и ее координаты (широта и долгота):"
      ]
    },
    {
      "cell_type": "code",
      "execution_count": 231,
      "metadata": {
        "ExecuteTime": {
          "end_time": "2024-05-15T15:24:37.331297Z",
          "start_time": "2024-05-15T15:24:37.301272Z"
        },
        "id": "aR501yltVdLm"
      },
      "outputs": [],
      "source": [
        "from collections import namedtuple\n",
        "\n",
        "Company = namedtuple('Company', ['name', 'lat', 'lng'])"
      ]
    },
    {
      "cell_type": "markdown",
      "metadata": {
        "id": "ccIi3wIvVkG0"
      },
      "source": [
        "Создайте экземпляр этой структуры данных для каждой компании, которая выставила вакансию:"
      ]
    },
    {
      "cell_type": "code",
      "execution_count": 232,
      "metadata": {
        "ExecuteTime": {
          "end_time": "2024-05-15T15:24:38.870106Z",
          "start_time": "2024-05-15T15:24:38.555752Z"
        },
        "id": "tR6mYW7jtcCQ"
      },
      "outputs": [],
      "source": [
        "companies = set(Company(company.get('employer').get('name'), \\\n",
        "                       (company.get('address') or dict()).get('lat'), \\\n",
        "                       (company.get('address') or dict()).get('lng')) \\\n",
        "                for company in data\n",
        "                )"
      ]
    },
    {
      "cell_type": "markdown",
      "metadata": {
        "id": "SyBpNd0vtcNu"
      },
      "source": [
        "Найдите количество вакансий, у которых заданы координаты (значения данных может быть пустым):"
      ]
    },
    {
      "cell_type": "code",
      "source": [
        "n_vacances = sum(bool((vacancy.get('address') or dict()).get('lat') and \\\n",
        "                      (vacancy.get('address') or dict()).get('lng')\n",
        "                     )\n",
        "                for vacancy in data\n",
        "                )"
      ],
      "metadata": {
        "id": "9kZd7CtswSKT"
      },
      "execution_count": 233,
      "outputs": []
    },
    {
      "cell_type": "code",
      "source": [
        "print(f'Всего вакансий с координатами: {n_vacances}')"
      ],
      "metadata": {
        "colab": {
          "base_uri": "https://localhost:8080/",
          "height": 0
        },
        "id": "oZz8kg1XzSrG",
        "outputId": "c408ea1d-cebb-44a1-adc3-922c0c9adbb1"
      },
      "execution_count": 234,
      "outputs": [
        {
          "output_type": "stream",
          "name": "stdout",
          "text": [
            "Всего вакансий с координатами: 337\n"
          ]
        }
      ]
    },
    {
      "cell_type": "markdown",
      "metadata": {
        "id": "aWNXrM-cu5Vi"
      },
      "source": [
        "Отберите вакансии, которые расположены в пределах МКАД (можно грубо):"
      ]
    },
    {
      "cell_type": "code",
      "execution_count": 235,
      "metadata": {
        "ExecuteTime": {
          "end_time": "2024-05-15T15:49:38.798920Z",
          "start_time": "2024-05-15T15:49:38.747894Z"
        },
        "id": "01g9wVEyyn-J"
      },
      "outputs": [],
      "source": [
        "# with gratitude to: https://misha.agency/javascript/rasschet-rasstoyaniya-ot-mkad.html#mkad-coordinates\n",
        "mkadPoints =  [\n",
        "\t[ 55.774558, 37.842762 ],\n",
        "\t[ 55.76522, 37.842789 ],\n",
        "\t[ 55.755723, 37.842627 ],\n",
        "\t[ 55.747399, 37.841828 ],\n",
        "\t[ 55.739103, 37.841217 ],\n",
        "\t[ 55.730482, 37.840175 ],\n",
        "\t[ 55.721939, 37.83916 ],\n",
        "\t[ 55.712203, 37.837121 ],\n",
        "\t[ 55.703048, 37.83262 ],\n",
        "\t[ 55.694287, 37.829512 ],\n",
        "\t[ 55.68529, 37.831353 ],\n",
        "\t[ 55.675945, 37.834605 ],\n",
        "\t[ 55.667752, 37.837597 ],\n",
        "\t[ 55.658667, 37.839348 ],\n",
        "\t[ 55.650053, 37.833842 ],\n",
        "\t[ 55.643713, 37.824787 ],\n",
        "\t[ 55.637347, 37.814564 ],\n",
        "\t[ 55.62913, 37.802473 ],\n",
        "\t[ 55.623758, 37.794235 ],\n",
        "\t[ 55.617713, 37.781928 ],\n",
        "\t[ 55.611755, 37.771139 ],\n",
        "\t[ 55.604956, 37.758725 ],\n",
        "\t[ 55.599677, 37.747945 ],\n",
        "\t[ 55.594143, 37.734785 ],\n",
        "\t[ 55.589234, 37.723062 ],\n",
        "\t[ 55.583983, 37.709425 ],\n",
        "\t[ 55.578834, 37.696256 ],\n",
        "\t[ 55.574019, 37.683167 ],\n",
        "\t[ 55.571999, 37.668911 ],\n",
        "\t[ 55.573093, 37.647765 ],\n",
        "\t[ 55.573928, 37.633419 ],\n",
        "\t[ 55.574732, 37.616719 ],\n",
        "\t[ 55.575816, 37.60107 ],\n",
        "\t[ 55.5778, 37.586536 ],\n",
        "\t[ 55.581271, 37.571938 ],\n",
        "\t[ 55.585143, 37.555732 ],\n",
        "\t[ 55.587509, 37.545132 ],\n",
        "\t[ 55.5922, 37.526366 ],\n",
        "\t[ 55.594728, 37.516108 ],\n",
        "\t[ 55.60249, 37.502274 ],\n",
        "\t[ 55.609685, 37.49391 ],\n",
        "\t[ 55.617424, 37.484846 ],\n",
        "\t[ 55.625801, 37.474668 ],\n",
        "\t[ 55.630207, 37.469925 ],\n",
        "\t[ 55.641041, 37.456864 ],\n",
        "\t[ 55.648794, 37.448195 ],\n",
        "\t[ 55.654675, 37.441125 ],\n",
        "\t[ 55.660424, 37.434424 ],\n",
        "\t[ 55.670701, 37.42598 ],\n",
        "\t[ 55.67994, 37.418712 ],\n",
        "\t[ 55.686873, 37.414868 ],\n",
        "\t[ 55.695697, 37.407528 ],\n",
        "\t[ 55.702805, 37.397952 ],\n",
        "\t[ 55.709657, 37.388969 ],\n",
        "\t[ 55.718273, 37.383283 ],\n",
        "\t[ 55.728581, 37.378369 ],\n",
        "\t[ 55.735201, 37.374991 ],\n",
        "\t[ 55.744789, 37.370248 ],\n",
        "\t[ 55.75435, 37.369188 ],\n",
        "\t[ 55.762936, 37.369053 ],\n",
        "\t[ 55.771444, 37.369619 ],\n",
        "\t[ 55.779722, 37.369853 ],\n",
        "\t[ 55.789542, 37.372943 ],\n",
        "\t[ 55.79723, 37.379824 ],\n",
        "\t[ 55.805796, 37.386876 ],\n",
        "\t[ 55.814629, 37.390397 ],\n",
        "\t[ 55.823606, 37.393236 ],\n",
        "\t[ 55.83251, 37.395275 ],\n",
        "\t[ 55.840376, 37.394709 ],\n",
        "\t[ 55.850141, 37.393056 ],\n",
        "\t[ 55.858801, 37.397314 ],\n",
        "\t[ 55.867051, 37.405588 ],\n",
        "\t[ 55.872703, 37.416601 ],\n",
        "\t[ 55.877041, 37.429429 ],\n",
        "\t[ 55.881091, 37.443596 ],\n",
        "\t[ 55.882828, 37.459065 ],\n",
        "\t[ 55.884625, 37.473096 ],\n",
        "\t[ 55.888897, 37.48861 ],\n",
        "\t[ 55.894232, 37.5016 ],\n",
        "\t[ 55.899578, 37.513206 ],\n",
        "\t[ 55.90526, 37.527597 ],\n",
        "\t[ 55.907687, 37.543443 ],\n",
        "\t[ 55.909388, 37.559577 ],\n",
        "\t[ 55.910907, 37.575531 ],\n",
        "\t[ 55.909257, 37.590344 ],\n",
        "\t[ 55.905472, 37.604637 ],\n",
        "\t[ 55.901637, 37.619603 ],\n",
        "\t[ 55.898533, 37.635961 ],\n",
        "\t[ 55.896973, 37.647648 ],\n",
        "\t[ 55.895449, 37.667878 ],\n",
        "\t[ 55.894868, 37.681721 ],\n",
        "\t[ 55.893884, 37.698807 ],\n",
        "\t[ 55.889094, 37.712363 ],\n",
        "\t[ 55.883555, 37.723636 ],\n",
        "\t[ 55.877501, 37.735791 ],\n",
        "\t[ 55.874698, 37.741261 ],\n",
        "\t[ 55.862464, 37.764519 ],\n",
        "\t[ 55.861979, 37.765992 ],\n",
        "\t[ 55.850257, 37.788216 ],\n",
        "\t[ 55.850383, 37.788522 ],\n",
        "\t[ 55.844167, 37.800586 ],\n",
        "\t[ 55.832707, 37.822819 ],\n",
        "\t[ 55.828789, 37.829754 ],\n",
        "\t[ 55.821072, 37.837148 ],\n",
        "\t[ 55.811599, 37.838926 ],\n",
        "\t[ 55.802781, 37.840004 ],\n",
        "\t[ 55.793991, 37.840965 ],\n",
        "\t[ 55.785017, 37.841576 ],\n",
        "\t[ 55.780825, 37.842095 ]\n",
        "]"
      ]
    },
    {
      "cell_type": "code",
      "source": [
        "def in_poly(point, poly = mkadPoints):\n",
        "    \"\"\"\n",
        "    Определяет, находится ли геоточка внутри полигона геоточек или за его пределами.\n",
        "\n",
        "    :param point: Заданная геоточка в формате [широта, долгота]\n",
        "    :param poly: Массив геоточек полигона (например, МКАДа)\n",
        "    :return: True/False (находится внутри/находится за пределами)\n",
        "    \"\"\"\n",
        "    x, y = point\n",
        "    inside = False\n",
        "    if not all([x, y]):\n",
        "        return inside\n",
        "    j = len(poly) - 1\n",
        "    for i in range(len(poly)):\n",
        "        xi, yi = poly[i]\n",
        "        xj, yj = poly[j]\n",
        "\n",
        "        intersect = ((yi > y) != (yj > y)) and (x < (xj - xi) * (y - yi) / (yj - yi) + xi)\n",
        "        if intersect:\n",
        "            inside = not inside\n",
        "\n",
        "        j = i\n",
        "\n",
        "    return inside"
      ],
      "metadata": {
        "id": "d_8yqYco0GDA"
      },
      "execution_count": 236,
      "outputs": []
    },
    {
      "cell_type": "code",
      "source": [
        "vacancies_inside_mkad = list(filter(lambda vacancy: in_poly([(vacancy.get('address') or dict()).get('lat'), (vacancy.get('address') or dict()).get('lng')]), data))\n",
        "len(vacancies_inside_mkad)"
      ],
      "metadata": {
        "colab": {
          "base_uri": "https://localhost:8080/",
          "height": 0
        },
        "id": "eFOtvhNj0dKZ",
        "outputId": "9c835dc1-18ee-4ccd-a7c6-9d9af921a878"
      },
      "execution_count": 237,
      "outputs": [
        {
          "output_type": "execute_result",
          "data": {
            "text/plain": [
              "239"
            ]
          },
          "metadata": {},
          "execution_count": 237
        }
      ]
    },
    {
      "cell_type": "markdown",
      "metadata": {
        "id": "4LCb9IL_bgB_"
      },
      "source": [
        "Постройте график в координатах \"широта-долгота\" для отображения вакансий внутри МКАД (не забывайте прописать прозрачность, чтобы увидеть скопления):"
      ]
    },
    {
      "cell_type": "code",
      "source": [
        "lat = [vacany.get('address').get('lat') for  vacany in vacancies_inside_mkad]\n",
        "lng = [vacany.get('address').get('lng') for  vacany in vacancies_inside_mkad]"
      ],
      "metadata": {
        "id": "s04pKLth42DC"
      },
      "execution_count": 238,
      "outputs": []
    },
    {
      "cell_type": "code",
      "execution_count": 245,
      "metadata": {
        "ExecuteTime": {
          "end_time": "2024-05-15T15:51:07.021308Z",
          "start_time": "2024-05-15T15:51:06.706890Z"
        },
        "id": "6ogiXDvKcDV8",
        "colab": {
          "base_uri": "https://localhost:8080/",
          "height": 472
        },
        "outputId": "4953407a-124e-4c04-cff7-371da6c4a187"
      },
      "outputs": [
        {
          "output_type": "display_data",
          "data": {
            "text/plain": [
              "<Figure size 640x480 with 1 Axes>"
            ],
            "image/png": "[encoded data removed]"
          },
          "metadata": {}
        }
      ],
      "source": [
        "sns.scatterplot(data=pd.DataFrame(vacancies_inside_mkad), x=lng, y=lat, alpha=0.3).set_title('Вакансии внутри МКАД')\n",
        "for y, x in mkadPoints:\n",
        "  plt.plot(x, y, 'r*')\n",
        "plt.xlabel('Долгота')\n",
        "plt.ylabel('Широта')\n",
        "plt.legend(['Вакансии', 'МКАД']);"
      ]
    },
    {
      "cell_type": "markdown",
      "metadata": {
        "id": "u-p3Llc361PN"
      },
      "source": [
        "**Сделайте выводы о проделанной работе:**"
      ]
    },
    {
      "cell_type": "markdown",
      "source": [
        "Вакансии найдены и отфильтрованы по признаку нахождения внутри МКАД, в дальнейшем интересно было бы добавить возможность фильтрации по зарпатаной вилке, требуемому опыту работы и свежести вакансии."
      ],
      "metadata": {
        "id": "eKTkrsigBx7n"
      }
    },
    {
      "cell_type": "code",
      "source": [],
      "metadata": {
        "id": "3VY-qH8CJZlH"
      },
      "execution_count": null,
      "outputs": []
    },
    {
      "cell_type": "markdown",
      "metadata": {
        "id": "lii5YFuucxR2"
      },
      "source": [
        "Вам предстоит проанализировать датасет, содержащий информацию об бриллианта, их стоимости и остальных характеристиках."
      ]
    },
    {
      "cell_type": "markdown",
      "metadata": {
        "id": "CvEO3-NI0Gez"
      },
      "source": [
        "\n",
        "\n",
        "Поясним значения хранящиеся в колонках:\n",
        "*   `cut` - огранка бриллианта (относится к одной из примерно 10 наиболее распространенных)\n",
        "*   `color` - цвет бриллианта, прозрачные бриллианты имеют градацию `D-Z`, \"более высокие\" буквы - более желтоватые, но часто имеют лучшие значения, поскольку цвет трудно определить один раз в кольце\n",
        "*   `clarity` - чистота бриллианта, наличие включений (внутренних дефектов), чем меньше и мельче, тем лучше\n",
        "*   `carat_weight` - масса бриллианта (слабо связана с размером бриллианта, т.к. огранка и качество огранки, как правило, играют большую роль)\n",
        "*   `cut_quality` - качество ограники по системе оценки GIA Cut\n",
        "*   `lab` - лаборатория оценивания\n",
        "*   `meas_length` - длина бриллианта\n",
        "*   `meas_width` - ширина бриллианта\n",
        "*   `meas_depth` - глубина бриллианта\n",
        "*   `total_sales_price` - цена бриллианта в долларах.\n",
        "*    **и прочие колонки**"
      ]
    },
    {
      "cell_type": "markdown",
      "metadata": {
        "id": "7mK1QntN6ZXh"
      },
      "source": [
        "Скачаем данные:"
      ]
    },
    {
      "cell_type": "code",
      "execution_count": 240,
      "metadata": {
        "id": "1cfyeotzHg8F",
        "colab": {
          "base_uri": "https://localhost:8080/",
          "height": 0
        },
        "outputId": "f6723566-b65b-4c32-dd33-affa84868e2c"
      },
      "outputs": [
        {
          "output_type": "stream",
          "name": "stdout",
          "text": [
            "Downloading...\n",
            "From: https://drive.google.com/uc?id=10OJ30qlkE-7zK4JuVTDMY3U4nRB4tu_8\n",
            "To: /content/diamonds.csv\n",
            "100% 35.4M/35.4M [00:00<00:00, 162MB/s]\n"
          ]
        }
      ],
      "source": [
        "!gdown 10OJ30qlkE-7zK4JuVTDMY3U4nRB4tu_8\n",
        "# если работайте в jupyter то скачайте датасет с https://drive.google.com/uc?id=10OJ30qlkE-7zK4JuVTDMY3U4nRB4tu_8"
      ]
    },
    {
      "cell_type": "markdown",
      "metadata": {
        "id": "wfSqVYoIfi3-"
      },
      "source": [
        "Создадим DataFrame:"
      ]
    },
    {
      "cell_type": "code",
      "execution_count": 309,
      "metadata": {
        "id": "K6X9TSsdHg8F"
      },
      "outputs": [],
      "source": [
        "import pandas as pd\n",
        "\n",
        "diamonds = pd.read_csv(\"diamonds.csv\", index_col=0)"
      ]
    },
    {
      "cell_type": "markdown",
      "metadata": {
        "id": "vlw_3lXG6bhv"
      },
      "source": [
        "Выведете первые 5 строк датасета:"
      ]
    },
    {
      "cell_type": "code",
      "source": [
        "diamonds.head(5)"
      ],
      "metadata": {
        "colab": {
          "base_uri": "https://localhost:8080/",
          "height": 313
        },
        "id": "xPFwHeESLtk5",
        "outputId": "fdf61855-8df8-46f9-ee3f-6ea89172b0ef"
      },
      "execution_count": 310,
      "outputs": [
        {
          "output_type": "execute_result",
          "data": {
            "text/plain": [
              "     cut color clarity  carat_weight cut_quality  lab   symmetry     polish  \\\n",
              "0  Round     E    VVS2          0.09   Excellent  IGI  Very Good  Very Good   \n",
              "1  Round     E    VVS2          0.09   Very Good  IGI  Very Good  Very Good   \n",
              "2  Round     E    VVS2          0.09   Excellent  IGI  Very Good  Very Good   \n",
              "3  Round     E    VVS2          0.09   Excellent  IGI  Very Good  Very Good   \n",
              "4  Round     E    VVS2          0.09   Very Good  IGI  Very Good  Excellent   \n",
              "\n",
              "  eye_clean culet_size culet_condition  depth_percent  table_percent  \\\n",
              "0   unknown          N         unknown           62.7           59.0   \n",
              "1   unknown          N         unknown           61.9           59.0   \n",
              "2   unknown    unknown         unknown           61.1           59.0   \n",
              "3   unknown    unknown         unknown           62.0           59.0   \n",
              "4   unknown          N         unknown           64.9           58.5   \n",
              "\n",
              "   meas_length  meas_width  meas_depth girdle_min girdle_max fluor_color  \\\n",
              "0         2.85        2.87        1.79          M          M     unknown   \n",
              "1         2.84        2.89        1.78        STK        STK     unknown   \n",
              "2         2.88        2.90        1.77         TN          M     unknown   \n",
              "3         2.86        2.88        1.78          M        STK     unknown   \n",
              "4         2.79        2.83        1.82        STK        STK     unknown   \n",
              "\n",
              "  fluor_intensity fancy_color_dominant_color fancy_color_secondary_color  \\\n",
              "0             NaN                    unknown                     unknown   \n",
              "1             NaN                    unknown                     unknown   \n",
              "2             NaN                    unknown                     unknown   \n",
              "3             NaN                    unknown                     unknown   \n",
              "4             NaN                    unknown                     unknown   \n",
              "\n",
              "  fancy_color_overtone fancy_color_intensity  total_sales_price  \n",
              "0              unknown               unknown                200  \n",
              "1              unknown               unknown                200  \n",
              "2              unknown               unknown                200  \n",
              "3              unknown               unknown                200  \n",
              "4              unknown               unknown                200  "
            ],
            "text/html": [
              "\n",
              "  <div id=\"df-1bb54adb-47f6-4738-a8ee-5f36066e4ba0\" class=\"colab-df-container\">\n",
              "    <div>\n",
              "<style scoped>\n",
              "    .dataframe tbody tr th:only-of-type {\n",
              "        vertical-align: middle;\n",
              "    }\n",
              "\n",
              "    .dataframe tbody tr th {\n",
              "        vertical-align: top;\n",
              "    }\n",
              "\n",
              "    .dataframe thead th {\n",
              "        text-align: right;\n",
              "    }\n",
              "</style>\n",
              "<table border=\"1\" class=\"dataframe\">\n",
              "  <thead>\n",
              "    <tr style=\"text-align: right;\">\n",
              "      <th></th>\n",
              "      <th>cut</th>\n",
              "      <th>color</th>\n",
              "      <th>clarity</th>\n",
              "      <th>carat_weight</th>\n",
              "      <th>cut_quality</th>\n",
              "      <th>lab</th>\n",
              "      <th>symmetry</th>\n",
              "      <th>polish</th>\n",
              "      <th>eye_clean</th>\n",
              "      <th>culet_size</th>\n",
              "      <th>culet_condition</th>\n",
              "      <th>depth_percent</th>\n",
              "      <th>table_percent</th>\n",
              "      <th>meas_length</th>\n",
              "      <th>meas_width</th>\n",
              "      <th>meas_depth</th>\n",
              "      <th>girdle_min</th>\n",
              "      <th>girdle_max</th>\n",
              "      <th>fluor_color</th>\n",
              "      <th>fluor_intensity</th>\n",
              "      <th>fancy_color_dominant_color</th>\n",
              "      <th>fancy_color_secondary_color</th>\n",
              "      <th>fancy_color_overtone</th>\n",
              "      <th>fancy_color_intensity</th>\n",
              "      <th>total_sales_price</th>\n",
              "    </tr>\n",
              "  </thead>\n",
              "  <tbody>\n",
              "    <tr>\n",
              "      <th>0</th>\n",
              "      <td>Round</td>\n",
              "      <td>E</td>\n",
              "      <td>VVS2</td>\n",
              "      <td>0.09</td>\n",
              "      <td>Excellent</td>\n",
              "      <td>IGI</td>\n",
              "      <td>Very Good</td>\n",
              "      <td>Very Good</td>\n",
              "      <td>unknown</td>\n",
              "      <td>N</td>\n",
              "      <td>unknown</td>\n",
              "      <td>62.7</td>\n",
              "      <td>59.0</td>\n",
              "      <td>2.85</td>\n",
              "      <td>2.87</td>\n",
              "      <td>1.79</td>\n",
              "      <td>M</td>\n",
              "      <td>M</td>\n",
              "      <td>unknown</td>\n",
              "      <td>NaN</td>\n",
              "      <td>unknown</td>\n",
              "      <td>unknown</td>\n",
              "      <td>unknown</td>\n",
              "      <td>unknown</td>\n",
              "      <td>200</td>\n",
              "    </tr>\n",
              "    <tr>\n",
              "      <th>1</th>\n",
              "      <td>Round</td>\n",
              "      <td>E</td>\n",
              "      <td>VVS2</td>\n",
              "      <td>0.09</td>\n",
              "      <td>Very Good</td>\n",
              "      <td>IGI</td>\n",
              "      <td>Very Good</td>\n",
              "      <td>Very Good</td>\n",
              "      <td>unknown</td>\n",
              "      <td>N</td>\n",
              "      <td>unknown</td>\n",
              "      <td>61.9</td>\n",
              "      <td>59.0</td>\n",
              "      <td>2.84</td>\n",
              "      <td>2.89</td>\n",
              "      <td>1.78</td>\n",
              "      <td>STK</td>\n",
              "      <td>STK</td>\n",
              "      <td>unknown</td>\n",
              "      <td>NaN</td>\n",
              "      <td>unknown</td>\n",
              "      <td>unknown</td>\n",
              "      <td>unknown</td>\n",
              "      <td>unknown</td>\n",
              "      <td>200</td>\n",
              "    </tr>\n",
              "    <tr>\n",
              "      <th>2</th>\n",
              "      <td>Round</td>\n",
              "      <td>E</td>\n",
              "      <td>VVS2</td>\n",
              "      <td>0.09</td>\n",
              "      <td>Excellent</td>\n",
              "      <td>IGI</td>\n",
              "      <td>Very Good</td>\n",
              "      <td>Very Good</td>\n",
              "      <td>unknown</td>\n",
              "      <td>unknown</td>\n",
              "      <td>unknown</td>\n",
              "      <td>61.1</td>\n",
              "      <td>59.0</td>\n",
              "      <td>2.88</td>\n",
              "      <td>2.90</td>\n",
              "      <td>1.77</td>\n",
              "      <td>TN</td>\n",
              "      <td>M</td>\n",
              "      <td>unknown</td>\n",
              "      <td>NaN</td>\n",
              "      <td>unknown</td>\n",
              "      <td>unknown</td>\n",
              "      <td>unknown</td>\n",
              "      <td>unknown</td>\n",
              "      <td>200</td>\n",
              "    </tr>\n",
              "    <tr>\n",
              "      <th>3</th>\n",
              "      <td>Round</td>\n",
              "      <td>E</td>\n",
              "      <td>VVS2</td>\n",
              "      <td>0.09</td>\n",
              "      <td>Excellent</td>\n",
              "      <td>IGI</td>\n",
              "      <td>Very Good</td>\n",
              "      <td>Very Good</td>\n",
              "      <td>unknown</td>\n",
              "      <td>unknown</td>\n",
              "      <td>unknown</td>\n",
              "      <td>62.0</td>\n",
              "      <td>59.0</td>\n",
              "      <td>2.86</td>\n",
              "      <td>2.88</td>\n",
              "      <td>1.78</td>\n",
              "      <td>M</td>\n",
              "      <td>STK</td>\n",
              "      <td>unknown</td>\n",
              "      <td>NaN</td>\n",
              "      <td>unknown</td>\n",
              "      <td>unknown</td>\n",
              "      <td>unknown</td>\n",
              "      <td>unknown</td>\n",
              "      <td>200</td>\n",
              "    </tr>\n",
              "    <tr>\n",
              "      <th>4</th>\n",
              "      <td>Round</td>\n",
              "      <td>E</td>\n",
              "      <td>VVS2</td>\n",
              "      <td>0.09</td>\n",
              "      <td>Very Good</td>\n",
              "      <td>IGI</td>\n",
              "      <td>Very Good</td>\n",
              "      <td>Excellent</td>\n",
              "      <td>unknown</td>\n",
              "      <td>N</td>\n",
              "      <td>unknown</td>\n",
              "      <td>64.9</td>\n",
              "      <td>58.5</td>\n",
              "      <td>2.79</td>\n",
              "      <td>2.83</td>\n",
              "      <td>1.82</td>\n",
              "      <td>STK</td>\n",
              "      <td>STK</td>\n",
              "      <td>unknown</td>\n",
              "      <td>NaN</td>\n",
              "      <td>unknown</td>\n",
              "      <td>unknown</td>\n",
              "      <td>unknown</td>\n",
              "      <td>unknown</td>\n",
              "      <td>200</td>\n",
              "    </tr>\n",
              "  </tbody>\n",
              "</table>\n",
              "</div>\n",
              "    <div class=\"colab-df-buttons\">\n",
              "\n",
              "  <div class=\"colab-df-container\">\n",
              "    <button class=\"colab-df-convert\" onclick=\"convertToInteractive('df-1bb54adb-47f6-4738-a8ee-5f36066e4ba0')\"\n",
              "            title=\"Convert this dataframe to an interactive table.\"\n",
              "            style=\"display:none;\">\n",
              "\n",
              "  <svg xmlns=\"http://www.w3.org/2000/svg\" height=\"24px\" viewBox=\"0 -960 960 960\">\n",
              "    <path d=\"M120-120v-720h720v720H120Zm60-500h600v-160H180v160Zm220 220h160v-160H400v160Zm0 220h160v-160H400v160ZM180-400h160v-160H180v160Zm440 0h160v-160H620v160ZM180-180h160v-160H180v160Zm440 0h160v-160H620v160Z\"/>\n",
              "  </svg>\n",
              "    </button>\n",
              "\n",
              "  <style>\n",
              "    .colab-df-container {\n",
              "      display:flex;\n",
              "      gap: 12px;\n",
              "    }\n",
              "\n",
              "    .colab-df-convert {\n",
              "      background-color: #E8F0FE;\n",
              "      border: none;\n",
              "      border-radius: 50%;\n",
              "      cursor: pointer;\n",
              "      display: none;\n",
              "      fill: #1967D2;\n",
              "      height: 32px;\n",
              "      padding: 0 0 0 0;\n",
              "      width: 32px;\n",
              "    }\n",
              "\n",
              "    .colab-df-convert:hover {\n",
              "      background-color: #E2EBFA;\n",
              "      box-shadow: 0px 1px 2px rgba(60, 64, 67, 0.3), 0px 1px 3px 1px rgba(60, 64, 67, 0.15);\n",
              "      fill: #174EA6;\n",
              "    }\n",
              "\n",
              "    .colab-df-buttons div {\n",
              "      margin-bottom: 4px;\n",
              "    }\n",
              "\n",
              "    [theme=dark] .colab-df-convert {\n",
              "      background-color: #3B4455;\n",
              "      fill: #D2E3FC;\n",
              "    }\n",
              "\n",
              "    [theme=dark] .colab-df-convert:hover {\n",
              "      background-color: #434B5C;\n",
              "      box-shadow: 0px 1px 3px 1px rgba(0, 0, 0, 0.15);\n",
              "      filter: drop-shadow(0px 1px 2px rgba(0, 0, 0, 0.3));\n",
              "      fill: #FFFFFF;\n",
              "    }\n",
              "  </style>\n",
              "\n",
              "    <script>\n",
              "      const buttonEl =\n",
              "        document.querySelector('#df-1bb54adb-47f6-4738-a8ee-5f36066e4ba0 button.colab-df-convert');\n",
              "      buttonEl.style.display =\n",
              "        google.colab.kernel.accessAllowed ? 'block' : 'none';\n",
              "\n",
              "      async function convertToInteractive(key) {\n",
              "        const element = document.querySelector('#df-1bb54adb-47f6-4738-a8ee-5f36066e4ba0');\n",
              "        const dataTable =\n",
              "          await google.colab.kernel.invokeFunction('convertToInteractive',\n",
              "                                                    [key], {});\n",
              "        if (!dataTable) return;\n",
              "\n",
              "        const docLinkHtml = 'Like what you see? Visit the ' +\n",
              "          '<a target=\"_blank\" href=https://colab.research.google.com/notebooks/data_table.ipynb>data table notebook</a>'\n",
              "          + ' to learn more about interactive tables.';\n",
              "        element.innerHTML = '';\n",
              "        dataTable['output_type'] = 'display_data';\n",
              "        await google.colab.output.renderOutput(dataTable, element);\n",
              "        const docLink = document.createElement('div');\n",
              "        docLink.innerHTML = docLinkHtml;\n",
              "        element.appendChild(docLink);\n",
              "      }\n",
              "    </script>\n",
              "  </div>\n",
              "\n",
              "\n",
              "<div id=\"df-2c905e99-0230-4b6b-96f4-7fb03bcc0a70\">\n",
              "  <button class=\"colab-df-quickchart\" onclick=\"quickchart('df-2c905e99-0230-4b6b-96f4-7fb03bcc0a70')\"\n",
              "            title=\"Suggest charts\"\n",
              "            style=\"display:none;\">\n",
              "\n",
              "<svg xmlns=\"http://www.w3.org/2000/svg\" height=\"24px\"viewBox=\"0 0 24 24\"\n",
              "     width=\"24px\">\n",
              "    <g>\n",
              "        <path d=\"M19 3H5c-1.1 0-2 .9-2 2v14c0 1.1.9 2 2 2h14c1.1 0 2-.9 2-2V5c0-1.1-.9-2-2-2zM9 17H7v-7h2v7zm4 0h-2V7h2v10zm4 0h-2v-4h2v4z\"/>\n",
              "    </g>\n",
              "</svg>\n",
              "  </button>\n",
              "\n",
              "<style>\n",
              "  .colab-df-quickchart {\n",
              "      --bg-color: #E8F0FE;\n",
              "      --fill-color: #1967D2;\n",
              "      --hover-bg-color: #E2EBFA;\n",
              "      --hover-fill-color: #174EA6;\n",
              "      --disabled-fill-color: #AAA;\n",
              "      --disabled-bg-color: #DDD;\n",
              "  }\n",
              "\n",
              "  [theme=dark] .colab-df-quickchart {\n",
              "      --bg-color: #3B4455;\n",
              "      --fill-color: #D2E3FC;\n",
              "      --hover-bg-color: #434B5C;\n",
              "      --hover-fill-color: #FFFFFF;\n",
              "      --disabled-bg-color: #3B4455;\n",
              "      --disabled-fill-color: #666;\n",
              "  }\n",
              "\n",
              "  .colab-df-quickchart {\n",
              "    background-color: var(--bg-color);\n",
              "    border: none;\n",
              "    border-radius: 50%;\n",
              "    cursor: pointer;\n",
              "    display: none;\n",
              "    fill: var(--fill-color);\n",
              "    height: 32px;\n",
              "    padding: 0;\n",
              "    width: 32px;\n",
              "  }\n",
              "\n",
              "  .colab-df-quickchart:hover {\n",
              "    background-color: var(--hover-bg-color);\n",
              "    box-shadow: 0 1px 2px rgba(60, 64, 67, 0.3), 0 1px 3px 1px rgba(60, 64, 67, 0.15);\n",
              "    fill: var(--button-hover-fill-color);\n",
              "  }\n",
              "\n",
              "  .colab-df-quickchart-complete:disabled,\n",
              "  .colab-df-quickchart-complete:disabled:hover {\n",
              "    background-color: var(--disabled-bg-color);\n",
              "    fill: var(--disabled-fill-color);\n",
              "    box-shadow: none;\n",
              "  }\n",
              "\n",
              "  .colab-df-spinner {\n",
              "    border: 2px solid var(--fill-color);\n",
              "    border-color: transparent;\n",
              "    border-bottom-color: var(--fill-color);\n",
              "    animation:\n",
              "      spin 1s steps(1) infinite;\n",
              "  }\n",
              "\n",
              "  @keyframes spin {\n",
              "    0% {\n",
              "      border-color: transparent;\n",
              "      border-bottom-color: var(--fill-color);\n",
              "      border-left-color: var(--fill-color);\n",
              "    }\n",
              "    20% {\n",
              "      border-color: transparent;\n",
              "      border-left-color: var(--fill-color);\n",
              "      border-top-color: var(--fill-color);\n",
              "    }\n",
              "    30% {\n",
              "      border-color: transparent;\n",
              "      border-left-color: var(--fill-color);\n",
              "      border-top-color: var(--fill-color);\n",
              "      border-right-color: var(--fill-color);\n",
              "    }\n",
              "    40% {\n",
              "      border-color: transparent;\n",
              "      border-right-color: var(--fill-color);\n",
              "      border-top-color: var(--fill-color);\n",
              "    }\n",
              "    60% {\n",
              "      border-color: transparent;\n",
              "      border-right-color: var(--fill-color);\n",
              "    }\n",
              "    80% {\n",
              "      border-color: transparent;\n",
              "      border-right-color: var(--fill-color);\n",
              "      border-bottom-color: var(--fill-color);\n",
              "    }\n",
              "    90% {\n",
              "      border-color: transparent;\n",
              "      border-bottom-color: var(--fill-color);\n",
              "    }\n",
              "  }\n",
              "</style>\n",
              "\n",
              "  <script>\n",
              "    async function quickchart(key) {\n",
              "      const quickchartButtonEl =\n",
              "        document.querySelector('#' + key + ' button');\n",
              "      quickchartButtonEl.disabled = true;  // To prevent multiple clicks.\n",
              "      quickchartButtonEl.classList.add('colab-df-spinner');\n",
              "      try {\n",
              "        const charts = await google.colab.kernel.invokeFunction(\n",
              "            'suggestCharts', [key], {});\n",
              "      } catch (error) {\n",
              "        console.error('Error during call to suggestCharts:', error);\n",
              "      }\n",
              "      quickchartButtonEl.classList.remove('colab-df-spinner');\n",
              "      quickchartButtonEl.classList.add('colab-df-quickchart-complete');\n",
              "    }\n",
              "    (() => {\n",
              "      let quickchartButtonEl =\n",
              "        document.querySelector('#df-2c905e99-0230-4b6b-96f4-7fb03bcc0a70 button');\n",
              "      quickchartButtonEl.style.display =\n",
              "        google.colab.kernel.accessAllowed ? 'block' : 'none';\n",
              "    })();\n",
              "  </script>\n",
              "</div>\n",
              "\n",
              "    </div>\n",
              "  </div>\n"
            ],
            "application/vnd.google.colaboratory.intrinsic+json": {
              "type": "dataframe",
              "variable_name": "diamonds"
            }
          },
          "metadata": {},
          "execution_count": 310
        }
      ]
    },
    {
      "cell_type": "markdown",
      "metadata": {
        "id": "gat7bnPQ6fCE"
      },
      "source": [
        "Найдите количество бриллиантов всего в данном датасете:"
      ]
    },
    {
      "cell_type": "code",
      "execution_count": 311,
      "metadata": {
        "ExecuteTime": {
          "end_time": "2024-05-15T11:35:43.448231Z",
          "start_time": "2024-05-15T11:35:43.434174Z"
        },
        "id": "-9x6z3-J7C-v",
        "colab": {
          "base_uri": "https://localhost:8080/"
        },
        "outputId": "029cb597-57a6-4d91-e97c-681b739ffe26"
      },
      "outputs": [
        {
          "output_type": "execute_result",
          "data": {
            "text/plain": [
              "219703"
            ]
          },
          "metadata": {},
          "execution_count": 311
        }
      ],
      "source": [
        "diamonds.shape[0]"
      ]
    },
    {
      "cell_type": "markdown",
      "metadata": {
        "id": "fYQuIdtL7DFp"
      },
      "source": [
        "Выведите максимальную и минимальную цену бриллианта в формате `номер - цена`:"
      ]
    },
    {
      "cell_type": "code",
      "source": [
        "print('Максимальная цена: \\n номер', ' - ', 'цена')\n",
        "for idx in diamonds.loc[diamonds['total_sales_price'] == diamonds['total_sales_price'].max()].index:\n",
        "  print(f'{idx:6d}', ' - ', diamonds['total_sales_price'].max())\n",
        "  print()\n",
        "print('Минимальная цена: \\n номер', ' - ', 'цена')\n",
        "for idx in diamonds.loc[diamonds['total_sales_price'] == diamonds['total_sales_price'].min()].index:\n",
        "  print(f'{idx:6d}', ' - ', diamonds['total_sales_price'].min())"
      ],
      "metadata": {
        "colab": {
          "base_uri": "https://localhost:8080/"
        },
        "id": "fGizYNg2MHw0",
        "outputId": "19ee8e6f-c3fb-4905-beed-2af941244f39"
      },
      "execution_count": 312,
      "outputs": [
        {
          "output_type": "stream",
          "name": "stdout",
          "text": [
            "Максимальная цена: \n",
            " номер  -  цена\n",
            "219703  -  1449881\n",
            "\n",
            "Минимальная цена: \n",
            " номер  -  цена\n",
            "     0  -  200\n",
            "     1  -  200\n",
            "     2  -  200\n",
            "     3  -  200\n",
            "     4  -  200\n",
            "     5  -  200\n",
            "     6  -  200\n",
            "     7  -  200\n",
            "     8  -  200\n",
            "     9  -  200\n",
            "    10  -  200\n",
            "    11  -  200\n",
            "    12  -  200\n",
            "    13  -  200\n",
            "    14  -  200\n",
            "    15  -  200\n",
            "    16  -  200\n",
            "    17  -  200\n",
            "    18  -  200\n",
            "    19  -  200\n",
            "    20  -  200\n",
            "    21  -  200\n",
            "    22  -  200\n"
          ]
        }
      ]
    },
    {
      "cell_type": "markdown",
      "metadata": {
        "id": "E2mf4IIO7SOg"
      },
      "source": [
        "Посчитайте количество пропусков (пропуском считается значение `unknown` или `None`):"
      ]
    },
    {
      "cell_type": "code",
      "execution_count": 314,
      "metadata": {
        "ExecuteTime": {
          "end_time": "2024-05-15T11:35:46.337365Z",
          "start_time": "2024-05-15T11:35:46.087358Z"
        },
        "id": "BuJZ0UoN7qAU",
        "colab": {
          "base_uri": "https://localhost:8080/",
          "height": 868
        },
        "outputId": "db2d1eb6-d464-48be-8eb6-d20f4aaa0fd4"
      },
      "outputs": [
        {
          "output_type": "execute_result",
          "data": {
            "text/plain": [
              "cut                                 0\n",
              "color                            9162\n",
              "clarity                             0\n",
              "carat_weight                        0\n",
              "cut_quality                     60607\n",
              "lab                                 0\n",
              "symmetry                            0\n",
              "polish                              0\n",
              "eye_clean                      156916\n",
              "culet_size                      85740\n",
              "culet_condition                204384\n",
              "depth_percent                       0\n",
              "table_percent                       0\n",
              "meas_length                         0\n",
              "meas_width                          0\n",
              "meas_depth                          0\n",
              "girdle_min                      83432\n",
              "girdle_max                      84295\n",
              "fluor_color                    203977\n",
              "fluor_intensity                143619\n",
              "fancy_color_dominant_color     210539\n",
              "fancy_color_secondary_color    218641\n",
              "fancy_color_overtone           219315\n",
              "fancy_color_intensity          210541\n",
              "total_sales_price                   0\n",
              "Name: Количество пропусков, dtype: int64"
            ],
            "text/html": [
              "<div>\n",
              "<style scoped>\n",
              "    .dataframe tbody tr th:only-of-type {\n",
              "        vertical-align: middle;\n",
              "    }\n",
              "\n",
              "    .dataframe tbody tr th {\n",
              "        vertical-align: top;\n",
              "    }\n",
              "\n",
              "    .dataframe thead th {\n",
              "        text-align: right;\n",
              "    }\n",
              "</style>\n",
              "<table border=\"1\" class=\"dataframe\">\n",
              "  <thead>\n",
              "    <tr style=\"text-align: right;\">\n",
              "      <th></th>\n",
              "      <th>Количество пропусков</th>\n",
              "    </tr>\n",
              "  </thead>\n",
              "  <tbody>\n",
              "    <tr>\n",
              "      <th>cut</th>\n",
              "      <td>0</td>\n",
              "    </tr>\n",
              "    <tr>\n",
              "      <th>color</th>\n",
              "      <td>9162</td>\n",
              "    </tr>\n",
              "    <tr>\n",
              "      <th>clarity</th>\n",
              "      <td>0</td>\n",
              "    </tr>\n",
              "    <tr>\n",
              "      <th>carat_weight</th>\n",
              "      <td>0</td>\n",
              "    </tr>\n",
              "    <tr>\n",
              "      <th>cut_quality</th>\n",
              "      <td>60607</td>\n",
              "    </tr>\n",
              "    <tr>\n",
              "      <th>lab</th>\n",
              "      <td>0</td>\n",
              "    </tr>\n",
              "    <tr>\n",
              "      <th>symmetry</th>\n",
              "      <td>0</td>\n",
              "    </tr>\n",
              "    <tr>\n",
              "      <th>polish</th>\n",
              "      <td>0</td>\n",
              "    </tr>\n",
              "    <tr>\n",
              "      <th>eye_clean</th>\n",
              "      <td>156916</td>\n",
              "    </tr>\n",
              "    <tr>\n",
              "      <th>culet_size</th>\n",
              "      <td>85740</td>\n",
              "    </tr>\n",
              "    <tr>\n",
              "      <th>culet_condition</th>\n",
              "      <td>204384</td>\n",
              "    </tr>\n",
              "    <tr>\n",
              "      <th>depth_percent</th>\n",
              "      <td>0</td>\n",
              "    </tr>\n",
              "    <tr>\n",
              "      <th>table_percent</th>\n",
              "      <td>0</td>\n",
              "    </tr>\n",
              "    <tr>\n",
              "      <th>meas_length</th>\n",
              "      <td>0</td>\n",
              "    </tr>\n",
              "    <tr>\n",
              "      <th>meas_width</th>\n",
              "      <td>0</td>\n",
              "    </tr>\n",
              "    <tr>\n",
              "      <th>meas_depth</th>\n",
              "      <td>0</td>\n",
              "    </tr>\n",
              "    <tr>\n",
              "      <th>girdle_min</th>\n",
              "      <td>83432</td>\n",
              "    </tr>\n",
              "    <tr>\n",
              "      <th>girdle_max</th>\n",
              "      <td>84295</td>\n",
              "    </tr>\n",
              "    <tr>\n",
              "      <th>fluor_color</th>\n",
              "      <td>203977</td>\n",
              "    </tr>\n",
              "    <tr>\n",
              "      <th>fluor_intensity</th>\n",
              "      <td>143619</td>\n",
              "    </tr>\n",
              "    <tr>\n",
              "      <th>fancy_color_dominant_color</th>\n",
              "      <td>210539</td>\n",
              "    </tr>\n",
              "    <tr>\n",
              "      <th>fancy_color_secondary_color</th>\n",
              "      <td>218641</td>\n",
              "    </tr>\n",
              "    <tr>\n",
              "      <th>fancy_color_overtone</th>\n",
              "      <td>219315</td>\n",
              "    </tr>\n",
              "    <tr>\n",
              "      <th>fancy_color_intensity</th>\n",
              "      <td>210541</td>\n",
              "    </tr>\n",
              "    <tr>\n",
              "      <th>total_sales_price</th>\n",
              "      <td>0</td>\n",
              "    </tr>\n",
              "  </tbody>\n",
              "</table>\n",
              "</div><br><label><b>dtype:</b> int64</label>"
            ]
          },
          "metadata": {},
          "execution_count": 314
        }
      ],
      "source": [
        "diamonds.replace('unknown', np.nan, inplace=True)\n",
        "diamonds.isna().sum().rename('Количество пропусков')"
      ]
    },
    {
      "cell_type": "code",
      "source": [
        "print(f'Общее число полпусков: {diamonds.isna().sum().sum()}')"
      ],
      "metadata": {
        "colab": {
          "base_uri": "https://localhost:8080/"
        },
        "id": "uHFLb7IeR69E",
        "outputId": "efc237d5-a3c6-4d02-cf35-d593aed88e88"
      },
      "execution_count": 323,
      "outputs": [
        {
          "output_type": "stream",
          "name": "stdout",
          "text": [
            "Общее число полпусков: 1891168\n"
          ]
        }
      ]
    },
    {
      "cell_type": "markdown",
      "metadata": {
        "id": "d5LWUc_fh0vb"
      },
      "source": [
        "Найдите в каких столбцах присутствуют пропуски:"
      ]
    },
    {
      "cell_type": "code",
      "execution_count": 324,
      "metadata": {
        "ExecuteTime": {
          "end_time": "2024-05-15T11:36:02.951027Z",
          "start_time": "2024-05-15T11:36:02.681500Z"
        },
        "id": "IsU49Fouh5vy",
        "colab": {
          "base_uri": "https://localhost:8080/",
          "height": 492
        },
        "outputId": "2ac31a66-df13-4821-f9f0-c2b61f3a5e58"
      },
      "outputs": [
        {
          "output_type": "execute_result",
          "data": {
            "text/plain": [
              "color                            9162\n",
              "cut_quality                     60607\n",
              "eye_clean                      156916\n",
              "culet_size                      85740\n",
              "culet_condition                204384\n",
              "girdle_min                      83432\n",
              "girdle_max                      84295\n",
              "fluor_color                    203977\n",
              "fluor_intensity                143619\n",
              "fancy_color_dominant_color     210539\n",
              "fancy_color_secondary_color    218641\n",
              "fancy_color_overtone           219315\n",
              "fancy_color_intensity          210541\n",
              "Name: Количество пропусков, dtype: int64"
            ],
            "text/html": [
              "<div>\n",
              "<style scoped>\n",
              "    .dataframe tbody tr th:only-of-type {\n",
              "        vertical-align: middle;\n",
              "    }\n",
              "\n",
              "    .dataframe tbody tr th {\n",
              "        vertical-align: top;\n",
              "    }\n",
              "\n",
              "    .dataframe thead th {\n",
              "        text-align: right;\n",
              "    }\n",
              "</style>\n",
              "<table border=\"1\" class=\"dataframe\">\n",
              "  <thead>\n",
              "    <tr style=\"text-align: right;\">\n",
              "      <th></th>\n",
              "      <th>Количество пропусков</th>\n",
              "    </tr>\n",
              "  </thead>\n",
              "  <tbody>\n",
              "    <tr>\n",
              "      <th>color</th>\n",
              "      <td>9162</td>\n",
              "    </tr>\n",
              "    <tr>\n",
              "      <th>cut_quality</th>\n",
              "      <td>60607</td>\n",
              "    </tr>\n",
              "    <tr>\n",
              "      <th>eye_clean</th>\n",
              "      <td>156916</td>\n",
              "    </tr>\n",
              "    <tr>\n",
              "      <th>culet_size</th>\n",
              "      <td>85740</td>\n",
              "    </tr>\n",
              "    <tr>\n",
              "      <th>culet_condition</th>\n",
              "      <td>204384</td>\n",
              "    </tr>\n",
              "    <tr>\n",
              "      <th>girdle_min</th>\n",
              "      <td>83432</td>\n",
              "    </tr>\n",
              "    <tr>\n",
              "      <th>girdle_max</th>\n",
              "      <td>84295</td>\n",
              "    </tr>\n",
              "    <tr>\n",
              "      <th>fluor_color</th>\n",
              "      <td>203977</td>\n",
              "    </tr>\n",
              "    <tr>\n",
              "      <th>fluor_intensity</th>\n",
              "      <td>143619</td>\n",
              "    </tr>\n",
              "    <tr>\n",
              "      <th>fancy_color_dominant_color</th>\n",
              "      <td>210539</td>\n",
              "    </tr>\n",
              "    <tr>\n",
              "      <th>fancy_color_secondary_color</th>\n",
              "      <td>218641</td>\n",
              "    </tr>\n",
              "    <tr>\n",
              "      <th>fancy_color_overtone</th>\n",
              "      <td>219315</td>\n",
              "    </tr>\n",
              "    <tr>\n",
              "      <th>fancy_color_intensity</th>\n",
              "      <td>210541</td>\n",
              "    </tr>\n",
              "  </tbody>\n",
              "</table>\n",
              "</div><br><label><b>dtype:</b> int64</label>"
            ]
          },
          "metadata": {},
          "execution_count": 324
        }
      ],
      "source": [
        "diamonds.isna().sum().loc[diamonds.isna().sum() > 0].rename('Количество пропусков')"
      ]
    },
    {
      "cell_type": "markdown",
      "metadata": {
        "id": "UznNZpJ47qGX"
      },
      "source": [
        "В нашем датасете присутствуют колонки, которые начинаются с `fancy_color_` или `fluor_`. Большинство значений в этих колонках - `unknown` или `None`, поэтому мы считаем их малоинформативными."
      ]
    },
    {
      "cell_type": "markdown",
      "metadata": {
        "id": "Rkk6Hr2Ui87X"
      },
      "source": [
        "Ваша задача:"
      ]
    },
    {
      "cell_type": "markdown",
      "metadata": {
        "id": "YYBDAgSSi-JU"
      },
      "source": [
        "найти количество таких колонок, которые начинаются с `fancy_color_` или `fluor_`:"
      ]
    },
    {
      "cell_type": "code",
      "execution_count": 330,
      "metadata": {
        "ExecuteTime": {
          "end_time": "2024-05-15T10:19:15.104626Z",
          "start_time": "2024-05-15T10:19:15.084696Z"
        },
        "id": "nbTUkk4T8-wO",
        "colab": {
          "base_uri": "https://localhost:8080/"
        },
        "outputId": "c5b175af-7026-45ff-ad14-af396175b0f3"
      },
      "outputs": [
        {
          "output_type": "execute_result",
          "data": {
            "text/plain": [
              "6"
            ]
          },
          "metadata": {},
          "execution_count": 330
        }
      ],
      "source": [
        "cols_to_drop = diamonds.columns[diamonds.columns.str.startswith('fancy_color_') | diamonds.columns.str.startswith('fluor_')]\n",
        "len(cols_to_drop)"
      ]
    },
    {
      "cell_type": "markdown",
      "metadata": {
        "id": "imop6nNujA6z"
      },
      "source": [
        "найти количество информативных (не `None` или `unknown`) значений в этих колонках:"
      ]
    },
    {
      "cell_type": "code",
      "execution_count": 333,
      "metadata": {
        "ExecuteTime": {
          "end_time": "2024-05-15T11:42:14.621948Z",
          "start_time": "2024-05-15T11:42:14.417875Z"
        },
        "id": "jtJcBwAVjPHU",
        "colab": {
          "base_uri": "https://localhost:8080/",
          "height": 272
        },
        "outputId": "fbdd07be-2b2e-4c16-8141-99928f744c85"
      },
      "outputs": [
        {
          "output_type": "execute_result",
          "data": {
            "text/plain": [
              "fluor_color                    15726\n",
              "fluor_intensity                76084\n",
              "fancy_color_dominant_color      9164\n",
              "fancy_color_secondary_color     1062\n",
              "fancy_color_overtone             388\n",
              "fancy_color_intensity           9162\n",
              "Name: Количество информативных значений, dtype: int64"
            ],
            "text/html": [
              "<div>\n",
              "<style scoped>\n",
              "    .dataframe tbody tr th:only-of-type {\n",
              "        vertical-align: middle;\n",
              "    }\n",
              "\n",
              "    .dataframe tbody tr th {\n",
              "        vertical-align: top;\n",
              "    }\n",
              "\n",
              "    .dataframe thead th {\n",
              "        text-align: right;\n",
              "    }\n",
              "</style>\n",
              "<table border=\"1\" class=\"dataframe\">\n",
              "  <thead>\n",
              "    <tr style=\"text-align: right;\">\n",
              "      <th></th>\n",
              "      <th>Количество информативных значений</th>\n",
              "    </tr>\n",
              "  </thead>\n",
              "  <tbody>\n",
              "    <tr>\n",
              "      <th>fluor_color</th>\n",
              "      <td>15726</td>\n",
              "    </tr>\n",
              "    <tr>\n",
              "      <th>fluor_intensity</th>\n",
              "      <td>76084</td>\n",
              "    </tr>\n",
              "    <tr>\n",
              "      <th>fancy_color_dominant_color</th>\n",
              "      <td>9164</td>\n",
              "    </tr>\n",
              "    <tr>\n",
              "      <th>fancy_color_secondary_color</th>\n",
              "      <td>1062</td>\n",
              "    </tr>\n",
              "    <tr>\n",
              "      <th>fancy_color_overtone</th>\n",
              "      <td>388</td>\n",
              "    </tr>\n",
              "    <tr>\n",
              "      <th>fancy_color_intensity</th>\n",
              "      <td>9162</td>\n",
              "    </tr>\n",
              "  </tbody>\n",
              "</table>\n",
              "</div><br><label><b>dtype:</b> int64</label>"
            ]
          },
          "metadata": {},
          "execution_count": 333
        }
      ],
      "source": [
        "diamonds[cols_to_drop].isna().sum().apply(lambda x: diamonds.shape[0] - x).rename('Количество информативных значений')"
      ]
    },
    {
      "cell_type": "markdown",
      "metadata": {
        "id": "wFbuTnkbjPeq"
      },
      "source": [
        "удалить данные колонки из датасета, сохранив изменения (в дальнейшем работаем измененным датасетом):"
      ]
    },
    {
      "cell_type": "code",
      "execution_count": 334,
      "metadata": {
        "ExecuteTime": {
          "end_time": "2024-05-15T10:33:37.613419Z",
          "start_time": "2024-05-15T10:33:37.302003Z"
        },
        "id": "qSZ5cmKWjutz"
      },
      "outputs": [],
      "source": [
        "diamonds.drop(columns=cols_to_drop, inplace=True)"
      ]
    },
    {
      "cell_type": "markdown",
      "metadata": {
        "id": "JID3q4vr8-2h"
      },
      "source": [
        "Проделайте тоже самое для колонок, начинающихся с `culet_`:"
      ]
    },
    {
      "cell_type": "code",
      "execution_count": 336,
      "metadata": {
        "ExecuteTime": {
          "end_time": "2024-05-15T10:37:57.979940Z",
          "start_time": "2024-05-15T10:37:57.850463Z"
        },
        "id": "Wfsvzyad-T6P"
      },
      "outputs": [],
      "source": [
        "\n",
        "diamonds.drop(columns=diamonds.columns[diamonds.columns.str.startswith('culet_')], inplace=True)"
      ]
    },
    {
      "cell_type": "markdown",
      "metadata": {
        "id": "7_qYv5Xm-UCz"
      },
      "source": [
        "Посчитайте сколько бы стоил (в тысячах долларов) сейф, в котором хранились бы все бриллианты из датасета:"
      ]
    },
    {
      "cell_type": "code",
      "execution_count": 356,
      "metadata": {
        "ExecuteTime": {
          "end_time": "2024-05-15T10:26:51.080089Z",
          "start_time": "2024-05-15T10:26:51.070747Z"
        },
        "id": "g2wVyz5U-cx7",
        "colab": {
          "base_uri": "https://localhost:8080/"
        },
        "outputId": "8cc7a1d2-5f9d-4cdf-ff14-29204b7c591d"
      },
      "outputs": [
        {
          "output_type": "stream",
          "name": "stdout",
          "text": [
            " 1517722\n"
          ]
        }
      ],
      "source": [
        "# стоимостью сейфа принебрегаем\n",
        "print(f'{diamonds.total_sales_price.sum() / 1e3: .0f}')"
      ]
    },
    {
      "cell_type": "markdown",
      "metadata": {
        "id": "GVwspHrUkRFv"
      },
      "source": [
        "Немного необоснованных манипуляций."
      ]
    },
    {
      "cell_type": "markdown",
      "metadata": {
        "id": "0j5Yr0mFxxfu"
      },
      "source": [
        "Выберите из датасета строки с четными индексами и выведете значения (не меняя нумерацию индексов):"
      ]
    },
    {
      "cell_type": "code",
      "execution_count": 357,
      "metadata": {
        "ExecuteTime": {
          "end_time": "2024-05-15T10:45:59.731283Z",
          "start_time": "2024-05-15T10:45:59.707586Z"
        },
        "id": "dW2GOROfx6yd",
        "colab": {
          "base_uri": "https://localhost:8080/",
          "height": 423
        },
        "outputId": "2b4771ad-0237-44f3-e4a7-093326b0fc93"
      },
      "outputs": [
        {
          "output_type": "execute_result",
          "data": {
            "text/plain": [
              "          cut color clarity  carat_weight cut_quality  lab   symmetry  \\\n",
              "0       Round     E    VVS2          0.09   Excellent  IGI  Very Good   \n",
              "2       Round     E    VVS2          0.09   Excellent  IGI  Very Good   \n",
              "4       Round     E    VVS2          0.09   Very Good  IGI  Very Good   \n",
              "6       Round     E    VVS2          0.09   Very Good  IGI  Very Good   \n",
              "8       Round     E    VVS2          0.09   Very Good  IGI  Very Good   \n",
              "...       ...   ...     ...           ...         ...  ...        ...   \n",
              "219695  Round     D      IF         12.52   Excellent  HRD  Excellent   \n",
              "219697   Oval     H     VS2         18.88         NaN  GIA  Excellent   \n",
              "219699  Round     E     VS1         10.65   Excellent  GIA  Excellent   \n",
              "219701  Round     E     VS1         18.07   Excellent  GIA  Excellent   \n",
              "219703   Pear   NaN    VVS2         10.03         NaN  GIA  Very Good   \n",
              "\n",
              "           polish eye_clean  depth_percent  table_percent  meas_length  \\\n",
              "0       Very Good       NaN           62.7           59.0         2.85   \n",
              "2       Very Good       NaN           61.1           59.0         2.88   \n",
              "4       Excellent       NaN           64.9           58.5         2.79   \n",
              "6       Very Good       NaN           64.0           57.0         2.85   \n",
              "8       Very Good       NaN           63.5           59.5         2.89   \n",
              "...           ...       ...            ...            ...          ...   \n",
              "219695  Excellent       NaN           62.1           58.0        14.84   \n",
              "219697  Excellent       NaN           57.1           55.0        21.34   \n",
              "219699  Excellent       NaN           61.3           58.0        14.06   \n",
              "219701  Excellent       NaN           60.2           59.0        17.06   \n",
              "219703  Excellent       NaN           66.7           65.0        15.61   \n",
              "\n",
              "        meas_width  meas_depth girdle_min girdle_max  total_sales_price  \n",
              "0             2.87        1.79          M          M                200  \n",
              "2             2.90        1.77         TN          M                200  \n",
              "4             2.83        1.82        STK        STK                200  \n",
              "6             2.88        1.84        STK        STK                200  \n",
              "8             2.92        1.85        STK         TK                200  \n",
              "...            ...         ...        ...        ...                ...  \n",
              "219695       14.91        9.24        NaN        NaN            1121792  \n",
              "219697       15.23        8.69         TN        STK            1132347  \n",
              "219699       14.18        8.66          M        STK            1210692  \n",
              "219701       17.10       10.20         TN          M            1315496  \n",
              "219703       11.09        7.39        NaN        NaN            1449881  \n",
              "\n",
              "[109852 rows x 17 columns]"
            ],
            "text/html": [
              "\n",
              "  <div id=\"df-e5e7da03-bb94-447f-b5af-8679b2a850be\" class=\"colab-df-container\">\n",
              "    <div>\n",
              "<style scoped>\n",
              "    .dataframe tbody tr th:only-of-type {\n",
              "        vertical-align: middle;\n",
              "    }\n",
              "\n",
              "    .dataframe tbody tr th {\n",
              "        vertical-align: top;\n",
              "    }\n",
              "\n",
              "    .dataframe thead th {\n",
              "        text-align: right;\n",
              "    }\n",
              "</style>\n",
              "<table border=\"1\" class=\"dataframe\">\n",
              "  <thead>\n",
              "    <tr style=\"text-align: right;\">\n",
              "      <th></th>\n",
              "      <th>cut</th>\n",
              "      <th>color</th>\n",
              "      <th>clarity</th>\n",
              "      <th>carat_weight</th>\n",
              "      <th>cut_quality</th>\n",
              "      <th>lab</th>\n",
              "      <th>symmetry</th>\n",
              "      <th>polish</th>\n",
              "      <th>eye_clean</th>\n",
              "      <th>depth_percent</th>\n",
              "      <th>table_percent</th>\n",
              "      <th>meas_length</th>\n",
              "      <th>meas_width</th>\n",
              "      <th>meas_depth</th>\n",
              "      <th>girdle_min</th>\n",
              "      <th>girdle_max</th>\n",
              "      <th>total_sales_price</th>\n",
              "    </tr>\n",
              "  </thead>\n",
              "  <tbody>\n",
              "    <tr>\n",
              "      <th>0</th>\n",
              "      <td>Round</td>\n",
              "      <td>E</td>\n",
              "      <td>VVS2</td>\n",
              "      <td>0.09</td>\n",
              "      <td>Excellent</td>\n",
              "      <td>IGI</td>\n",
              "      <td>Very Good</td>\n",
              "      <td>Very Good</td>\n",
              "      <td>NaN</td>\n",
              "      <td>62.7</td>\n",
              "      <td>59.0</td>\n",
              "      <td>2.85</td>\n",
              "      <td>2.87</td>\n",
              "      <td>1.79</td>\n",
              "      <td>M</td>\n",
              "      <td>M</td>\n",
              "      <td>200</td>\n",
              "    </tr>\n",
              "    <tr>\n",
              "      <th>2</th>\n",
              "      <td>Round</td>\n",
              "      <td>E</td>\n",
              "      <td>VVS2</td>\n",
              "      <td>0.09</td>\n",
              "      <td>Excellent</td>\n",
              "      <td>IGI</td>\n",
              "      <td>Very Good</td>\n",
              "      <td>Very Good</td>\n",
              "      <td>NaN</td>\n",
              "      <td>61.1</td>\n",
              "      <td>59.0</td>\n",
              "      <td>2.88</td>\n",
              "      <td>2.90</td>\n",
              "      <td>1.77</td>\n",
              "      <td>TN</td>\n",
              "      <td>M</td>\n",
              "      <td>200</td>\n",
              "    </tr>\n",
              "    <tr>\n",
              "      <th>4</th>\n",
              "      <td>Round</td>\n",
              "      <td>E</td>\n",
              "      <td>VVS2</td>\n",
              "      <td>0.09</td>\n",
              "      <td>Very Good</td>\n",
              "      <td>IGI</td>\n",
              "      <td>Very Good</td>\n",
              "      <td>Excellent</td>\n",
              "      <td>NaN</td>\n",
              "      <td>64.9</td>\n",
              "      <td>58.5</td>\n",
              "      <td>2.79</td>\n",
              "      <td>2.83</td>\n",
              "      <td>1.82</td>\n",
              "      <td>STK</td>\n",
              "      <td>STK</td>\n",
              "      <td>200</td>\n",
              "    </tr>\n",
              "    <tr>\n",
              "      <th>6</th>\n",
              "      <td>Round</td>\n",
              "      <td>E</td>\n",
              "      <td>VVS2</td>\n",
              "      <td>0.09</td>\n",
              "      <td>Very Good</td>\n",
              "      <td>IGI</td>\n",
              "      <td>Very Good</td>\n",
              "      <td>Very Good</td>\n",
              "      <td>NaN</td>\n",
              "      <td>64.0</td>\n",
              "      <td>57.0</td>\n",
              "      <td>2.85</td>\n",
              "      <td>2.88</td>\n",
              "      <td>1.84</td>\n",
              "      <td>STK</td>\n",
              "      <td>STK</td>\n",
              "      <td>200</td>\n",
              "    </tr>\n",
              "    <tr>\n",
              "      <th>8</th>\n",
              "      <td>Round</td>\n",
              "      <td>E</td>\n",
              "      <td>VVS2</td>\n",
              "      <td>0.09</td>\n",
              "      <td>Very Good</td>\n",
              "      <td>IGI</td>\n",
              "      <td>Very Good</td>\n",
              "      <td>Very Good</td>\n",
              "      <td>NaN</td>\n",
              "      <td>63.5</td>\n",
              "      <td>59.5</td>\n",
              "      <td>2.89</td>\n",
              "      <td>2.92</td>\n",
              "      <td>1.85</td>\n",
              "      <td>STK</td>\n",
              "      <td>TK</td>\n",
              "      <td>200</td>\n",
              "    </tr>\n",
              "    <tr>\n",
              "      <th>...</th>\n",
              "      <td>...</td>\n",
              "      <td>...</td>\n",
              "      <td>...</td>\n",
              "      <td>...</td>\n",
              "      <td>...</td>\n",
              "      <td>...</td>\n",
              "      <td>...</td>\n",
              "      <td>...</td>\n",
              "      <td>...</td>\n",
              "      <td>...</td>\n",
              "      <td>...</td>\n",
              "      <td>...</td>\n",
              "      <td>...</td>\n",
              "      <td>...</td>\n",
              "      <td>...</td>\n",
              "      <td>...</td>\n",
              "      <td>...</td>\n",
              "    </tr>\n",
              "    <tr>\n",
              "      <th>219695</th>\n",
              "      <td>Round</td>\n",
              "      <td>D</td>\n",
              "      <td>IF</td>\n",
              "      <td>12.52</td>\n",
              "      <td>Excellent</td>\n",
              "      <td>HRD</td>\n",
              "      <td>Excellent</td>\n",
              "      <td>Excellent</td>\n",
              "      <td>NaN</td>\n",
              "      <td>62.1</td>\n",
              "      <td>58.0</td>\n",
              "      <td>14.84</td>\n",
              "      <td>14.91</td>\n",
              "      <td>9.24</td>\n",
              "      <td>NaN</td>\n",
              "      <td>NaN</td>\n",
              "      <td>1121792</td>\n",
              "    </tr>\n",
              "    <tr>\n",
              "      <th>219697</th>\n",
              "      <td>Oval</td>\n",
              "      <td>H</td>\n",
              "      <td>VS2</td>\n",
              "      <td>18.88</td>\n",
              "      <td>NaN</td>\n",
              "      <td>GIA</td>\n",
              "      <td>Excellent</td>\n",
              "      <td>Excellent</td>\n",
              "      <td>NaN</td>\n",
              "      <td>57.1</td>\n",
              "      <td>55.0</td>\n",
              "      <td>21.34</td>\n",
              "      <td>15.23</td>\n",
              "      <td>8.69</td>\n",
              "      <td>TN</td>\n",
              "      <td>STK</td>\n",
              "      <td>1132347</td>\n",
              "    </tr>\n",
              "    <tr>\n",
              "      <th>219699</th>\n",
              "      <td>Round</td>\n",
              "      <td>E</td>\n",
              "      <td>VS1</td>\n",
              "      <td>10.65</td>\n",
              "      <td>Excellent</td>\n",
              "      <td>GIA</td>\n",
              "      <td>Excellent</td>\n",
              "      <td>Excellent</td>\n",
              "      <td>NaN</td>\n",
              "      <td>61.3</td>\n",
              "      <td>58.0</td>\n",
              "      <td>14.06</td>\n",
              "      <td>14.18</td>\n",
              "      <td>8.66</td>\n",
              "      <td>M</td>\n",
              "      <td>STK</td>\n",
              "      <td>1210692</td>\n",
              "    </tr>\n",
              "    <tr>\n",
              "      <th>219701</th>\n",
              "      <td>Round</td>\n",
              "      <td>E</td>\n",
              "      <td>VS1</td>\n",
              "      <td>18.07</td>\n",
              "      <td>Excellent</td>\n",
              "      <td>GIA</td>\n",
              "      <td>Excellent</td>\n",
              "      <td>Excellent</td>\n",
              "      <td>NaN</td>\n",
              "      <td>60.2</td>\n",
              "      <td>59.0</td>\n",
              "      <td>17.06</td>\n",
              "      <td>17.10</td>\n",
              "      <td>10.20</td>\n",
              "      <td>TN</td>\n",
              "      <td>M</td>\n",
              "      <td>1315496</td>\n",
              "    </tr>\n",
              "    <tr>\n",
              "      <th>219703</th>\n",
              "      <td>Pear</td>\n",
              "      <td>NaN</td>\n",
              "      <td>VVS2</td>\n",
              "      <td>10.03</td>\n",
              "      <td>NaN</td>\n",
              "      <td>GIA</td>\n",
              "      <td>Very Good</td>\n",
              "      <td>Excellent</td>\n",
              "      <td>NaN</td>\n",
              "      <td>66.7</td>\n",
              "      <td>65.0</td>\n",
              "      <td>15.61</td>\n",
              "      <td>11.09</td>\n",
              "      <td>7.39</td>\n",
              "      <td>NaN</td>\n",
              "      <td>NaN</td>\n",
              "      <td>1449881</td>\n",
              "    </tr>\n",
              "  </tbody>\n",
              "</table>\n",
              "<p>109852 rows × 17 columns</p>\n",
              "</div>\n",
              "    <div class=\"colab-df-buttons\">\n",
              "\n",
              "  <div class=\"colab-df-container\">\n",
              "    <button class=\"colab-df-convert\" onclick=\"convertToInteractive('df-e5e7da03-bb94-447f-b5af-8679b2a850be')\"\n",
              "            title=\"Convert this dataframe to an interactive table.\"\n",
              "            style=\"display:none;\">\n",
              "\n",
              "  <svg xmlns=\"http://www.w3.org/2000/svg\" height=\"24px\" viewBox=\"0 -960 960 960\">\n",
              "    <path d=\"M120-120v-720h720v720H120Zm60-500h600v-160H180v160Zm220 220h160v-160H400v160Zm0 220h160v-160H400v160ZM180-400h160v-160H180v160Zm440 0h160v-160H620v160ZM180-180h160v-160H180v160Zm440 0h160v-160H620v160Z\"/>\n",
              "  </svg>\n",
              "    </button>\n",
              "\n",
              "  <style>\n",
              "    .colab-df-container {\n",
              "      display:flex;\n",
              "      gap: 12px;\n",
              "    }\n",
              "\n",
              "    .colab-df-convert {\n",
              "      background-color: #E8F0FE;\n",
              "      border: none;\n",
              "      border-radius: 50%;\n",
              "      cursor: pointer;\n",
              "      display: none;\n",
              "      fill: #1967D2;\n",
              "      height: 32px;\n",
              "      padding: 0 0 0 0;\n",
              "      width: 32px;\n",
              "    }\n",
              "\n",
              "    .colab-df-convert:hover {\n",
              "      background-color: #E2EBFA;\n",
              "      box-shadow: 0px 1px 2px rgba(60, 64, 67, 0.3), 0px 1px 3px 1px rgba(60, 64, 67, 0.15);\n",
              "      fill: #174EA6;\n",
              "    }\n",
              "\n",
              "    .colab-df-buttons div {\n",
              "      margin-bottom: 4px;\n",
              "    }\n",
              "\n",
              "    [theme=dark] .colab-df-convert {\n",
              "      background-color: #3B4455;\n",
              "      fill: #D2E3FC;\n",
              "    }\n",
              "\n",
              "    [theme=dark] .colab-df-convert:hover {\n",
              "      background-color: #434B5C;\n",
              "      box-shadow: 0px 1px 3px 1px rgba(0, 0, 0, 0.15);\n",
              "      filter: drop-shadow(0px 1px 2px rgba(0, 0, 0, 0.3));\n",
              "      fill: #FFFFFF;\n",
              "    }\n",
              "  </style>\n",
              "\n",
              "    <script>\n",
              "      const buttonEl =\n",
              "        document.querySelector('#df-e5e7da03-bb94-447f-b5af-8679b2a850be button.colab-df-convert');\n",
              "      buttonEl.style.display =\n",
              "        google.colab.kernel.accessAllowed ? 'block' : 'none';\n",
              "\n",
              "      async function convertToInteractive(key) {\n",
              "        const element = document.querySelector('#df-e5e7da03-bb94-447f-b5af-8679b2a850be');\n",
              "        const dataTable =\n",
              "          await google.colab.kernel.invokeFunction('convertToInteractive',\n",
              "                                                    [key], {});\n",
              "        if (!dataTable) return;\n",
              "\n",
              "        const docLinkHtml = 'Like what you see? Visit the ' +\n",
              "          '<a target=\"_blank\" href=https://colab.research.google.com/notebooks/data_table.ipynb>data table notebook</a>'\n",
              "          + ' to learn more about interactive tables.';\n",
              "        element.innerHTML = '';\n",
              "        dataTable['output_type'] = 'display_data';\n",
              "        await google.colab.output.renderOutput(dataTable, element);\n",
              "        const docLink = document.createElement('div');\n",
              "        docLink.innerHTML = docLinkHtml;\n",
              "        element.appendChild(docLink);\n",
              "      }\n",
              "    </script>\n",
              "  </div>\n",
              "\n",
              "\n",
              "<div id=\"df-45e5f32a-ce96-4e19-9a0c-19d2f6afd807\">\n",
              "  <button class=\"colab-df-quickchart\" onclick=\"quickchart('df-45e5f32a-ce96-4e19-9a0c-19d2f6afd807')\"\n",
              "            title=\"Suggest charts\"\n",
              "            style=\"display:none;\">\n",
              "\n",
              "<svg xmlns=\"http://www.w3.org/2000/svg\" height=\"24px\"viewBox=\"0 0 24 24\"\n",
              "     width=\"24px\">\n",
              "    <g>\n",
              "        <path d=\"M19 3H5c-1.1 0-2 .9-2 2v14c0 1.1.9 2 2 2h14c1.1 0 2-.9 2-2V5c0-1.1-.9-2-2-2zM9 17H7v-7h2v7zm4 0h-2V7h2v10zm4 0h-2v-4h2v4z\"/>\n",
              "    </g>\n",
              "</svg>\n",
              "  </button>\n",
              "\n",
              "<style>\n",
              "  .colab-df-quickchart {\n",
              "      --bg-color: #E8F0FE;\n",
              "      --fill-color: #1967D2;\n",
              "      --hover-bg-color: #E2EBFA;\n",
              "      --hover-fill-color: #174EA6;\n",
              "      --disabled-fill-color: #AAA;\n",
              "      --disabled-bg-color: #DDD;\n",
              "  }\n",
              "\n",
              "  [theme=dark] .colab-df-quickchart {\n",
              "      --bg-color: #3B4455;\n",
              "      --fill-color: #D2E3FC;\n",
              "      --hover-bg-color: #434B5C;\n",
              "      --hover-fill-color: #FFFFFF;\n",
              "      --disabled-bg-color: #3B4455;\n",
              "      --disabled-fill-color: #666;\n",
              "  }\n",
              "\n",
              "  .colab-df-quickchart {\n",
              "    background-color: var(--bg-color);\n",
              "    border: none;\n",
              "    border-radius: 50%;\n",
              "    cursor: pointer;\n",
              "    display: none;\n",
              "    fill: var(--fill-color);\n",
              "    height: 32px;\n",
              "    padding: 0;\n",
              "    width: 32px;\n",
              "  }\n",
              "\n",
              "  .colab-df-quickchart:hover {\n",
              "    background-color: var(--hover-bg-color);\n",
              "    box-shadow: 0 1px 2px rgba(60, 64, 67, 0.3), 0 1px 3px 1px rgba(60, 64, 67, 0.15);\n",
              "    fill: var(--button-hover-fill-color);\n",
              "  }\n",
              "\n",
              "  .colab-df-quickchart-complete:disabled,\n",
              "  .colab-df-quickchart-complete:disabled:hover {\n",
              "    background-color: var(--disabled-bg-color);\n",
              "    fill: var(--disabled-fill-color);\n",
              "    box-shadow: none;\n",
              "  }\n",
              "\n",
              "  .colab-df-spinner {\n",
              "    border: 2px solid var(--fill-color);\n",
              "    border-color: transparent;\n",
              "    border-bottom-color: var(--fill-color);\n",
              "    animation:\n",
              "      spin 1s steps(1) infinite;\n",
              "  }\n",
              "\n",
              "  @keyframes spin {\n",
              "    0% {\n",
              "      border-color: transparent;\n",
              "      border-bottom-color: var(--fill-color);\n",
              "      border-left-color: var(--fill-color);\n",
              "    }\n",
              "    20% {\n",
              "      border-color: transparent;\n",
              "      border-left-color: var(--fill-color);\n",
              "      border-top-color: var(--fill-color);\n",
              "    }\n",
              "    30% {\n",
              "      border-color: transparent;\n",
              "      border-left-color: var(--fill-color);\n",
              "      border-top-color: var(--fill-color);\n",
              "      border-right-color: var(--fill-color);\n",
              "    }\n",
              "    40% {\n",
              "      border-color: transparent;\n",
              "      border-right-color: var(--fill-color);\n",
              "      border-top-color: var(--fill-color);\n",
              "    }\n",
              "    60% {\n",
              "      border-color: transparent;\n",
              "      border-right-color: var(--fill-color);\n",
              "    }\n",
              "    80% {\n",
              "      border-color: transparent;\n",
              "      border-right-color: var(--fill-color);\n",
              "      border-bottom-color: var(--fill-color);\n",
              "    }\n",
              "    90% {\n",
              "      border-color: transparent;\n",
              "      border-bottom-color: var(--fill-color);\n",
              "    }\n",
              "  }\n",
              "</style>\n",
              "\n",
              "  <script>\n",
              "    async function quickchart(key) {\n",
              "      const quickchartButtonEl =\n",
              "        document.querySelector('#' + key + ' button');\n",
              "      quickchartButtonEl.disabled = true;  // To prevent multiple clicks.\n",
              "      quickchartButtonEl.classList.add('colab-df-spinner');\n",
              "      try {\n",
              "        const charts = await google.colab.kernel.invokeFunction(\n",
              "            'suggestCharts', [key], {});\n",
              "      } catch (error) {\n",
              "        console.error('Error during call to suggestCharts:', error);\n",
              "      }\n",
              "      quickchartButtonEl.classList.remove('colab-df-spinner');\n",
              "      quickchartButtonEl.classList.add('colab-df-quickchart-complete');\n",
              "    }\n",
              "    (() => {\n",
              "      let quickchartButtonEl =\n",
              "        document.querySelector('#df-45e5f32a-ce96-4e19-9a0c-19d2f6afd807 button');\n",
              "      quickchartButtonEl.style.display =\n",
              "        google.colab.kernel.accessAllowed ? 'block' : 'none';\n",
              "    })();\n",
              "  </script>\n",
              "</div>\n",
              "\n",
              "    </div>\n",
              "  </div>\n"
            ],
            "application/vnd.google.colaboratory.intrinsic+json": {
              "type": "dataframe"
            }
          },
          "metadata": {},
          "execution_count": 357
        }
      ],
      "source": [
        "diamonds.iloc[::2]"
      ]
    },
    {
      "cell_type": "markdown",
      "metadata": {
        "id": "mNXqS4oox7TF"
      },
      "source": [
        "А теперь с индексами, кратными 6:"
      ]
    },
    {
      "cell_type": "code",
      "execution_count": 358,
      "metadata": {
        "ExecuteTime": {
          "end_time": "2024-05-15T10:46:18.482946Z",
          "start_time": "2024-05-15T10:46:18.457743Z"
        },
        "id": "hy8LyzXix_SB",
        "colab": {
          "base_uri": "https://localhost:8080/",
          "height": 423
        },
        "outputId": "56b8b7a4-fa6b-4d7d-bf17-a58817e6d153"
      },
      "outputs": [
        {
          "output_type": "execute_result",
          "data": {
            "text/plain": [
              "            cut color clarity  carat_weight cut_quality  lab   symmetry  \\\n",
              "0         Round     E    VVS2          0.09   Excellent  IGI  Very Good   \n",
              "6         Round     E    VVS2          0.09   Very Good  IGI  Very Good   \n",
              "12        Round     E    VVS2          0.09   Very Good  IGI  Very Good   \n",
              "18        Round     E    VVS2          0.09   Excellent  IGI  Very Good   \n",
              "24        Round     L      I1          0.34   Excellent  IGI  Excellent   \n",
              "...         ...   ...     ...           ...         ...  ...        ...   \n",
              "219679    Round     G     VS1         10.23   Excellent  GIA  Excellent   \n",
              "219685  Radiant   NaN      I1          0.89         NaN  GIA       Good   \n",
              "219691    Round     D    VVS2         10.10   Excellent  GIA  Excellent   \n",
              "219697     Oval     H     VS2         18.88         NaN  GIA  Excellent   \n",
              "219703     Pear   NaN    VVS2         10.03         NaN  GIA  Very Good   \n",
              "\n",
              "           polish eye_clean  depth_percent  table_percent  meas_length  \\\n",
              "0       Very Good       NaN           62.7           59.0         2.85   \n",
              "6       Very Good       NaN           64.0           57.0         2.85   \n",
              "12      Very Good       NaN           61.8           58.5         2.85   \n",
              "18      Very Good       NaN           61.0           60.0         2.91   \n",
              "24      Excellent       NaN            0.0            0.0         0.00   \n",
              "...           ...       ...            ...            ...          ...   \n",
              "219679  Excellent       NaN           62.7           55.0        13.82   \n",
              "219685       Good       NaN           63.8           57.0         6.44   \n",
              "219691  Excellent       NaN           59.4           59.0        14.07   \n",
              "219697  Excellent       NaN           57.1           55.0        21.34   \n",
              "219703  Excellent       NaN           66.7           65.0        15.61   \n",
              "\n",
              "        meas_width  meas_depth girdle_min girdle_max  total_sales_price  \n",
              "0             2.87        1.79          M          M                200  \n",
              "6             2.88        1.84        STK        STK                200  \n",
              "12            2.89        1.77        STK         TK                200  \n",
              "18            2.92        1.78          M          M                200  \n",
              "24            0.00        0.00        NaN        NaN                204  \n",
              "...            ...         ...        ...        ...                ...  \n",
              "219679       13.92        8.69         TN          M             859320  \n",
              "219685        4.96        3.16         TK        VTK             982560  \n",
              "219691       14.15        8.39          M        STK            1040739  \n",
              "219697       15.23        8.69         TN        STK            1132347  \n",
              "219703       11.09        7.39        NaN        NaN            1449881  \n",
              "\n",
              "[36618 rows x 17 columns]"
            ],
            "text/html": [
              "\n",
              "  <div id=\"df-ba1fe094-a5db-4fdf-ad79-0e92399cc668\" class=\"colab-df-container\">\n",
              "    <div>\n",
              "<style scoped>\n",
              "    .dataframe tbody tr th:only-of-type {\n",
              "        vertical-align: middle;\n",
              "    }\n",
              "\n",
              "    .dataframe tbody tr th {\n",
              "        vertical-align: top;\n",
              "    }\n",
              "\n",
              "    .dataframe thead th {\n",
              "        text-align: right;\n",
              "    }\n",
              "</style>\n",
              "<table border=\"1\" class=\"dataframe\">\n",
              "  <thead>\n",
              "    <tr style=\"text-align: right;\">\n",
              "      <th></th>\n",
              "      <th>cut</th>\n",
              "      <th>color</th>\n",
              "      <th>clarity</th>\n",
              "      <th>carat_weight</th>\n",
              "      <th>cut_quality</th>\n",
              "      <th>lab</th>\n",
              "      <th>symmetry</th>\n",
              "      <th>polish</th>\n",
              "      <th>eye_clean</th>\n",
              "      <th>depth_percent</th>\n",
              "      <th>table_percent</th>\n",
              "      <th>meas_length</th>\n",
              "      <th>meas_width</th>\n",
              "      <th>meas_depth</th>\n",
              "      <th>girdle_min</th>\n",
              "      <th>girdle_max</th>\n",
              "      <th>total_sales_price</th>\n",
              "    </tr>\n",
              "  </thead>\n",
              "  <tbody>\n",
              "    <tr>\n",
              "      <th>0</th>\n",
              "      <td>Round</td>\n",
              "      <td>E</td>\n",
              "      <td>VVS2</td>\n",
              "      <td>0.09</td>\n",
              "      <td>Excellent</td>\n",
              "      <td>IGI</td>\n",
              "      <td>Very Good</td>\n",
              "      <td>Very Good</td>\n",
              "      <td>NaN</td>\n",
              "      <td>62.7</td>\n",
              "      <td>59.0</td>\n",
              "      <td>2.85</td>\n",
              "      <td>2.87</td>\n",
              "      <td>1.79</td>\n",
              "      <td>M</td>\n",
              "      <td>M</td>\n",
              "      <td>200</td>\n",
              "    </tr>\n",
              "    <tr>\n",
              "      <th>6</th>\n",
              "      <td>Round</td>\n",
              "      <td>E</td>\n",
              "      <td>VVS2</td>\n",
              "      <td>0.09</td>\n",
              "      <td>Very Good</td>\n",
              "      <td>IGI</td>\n",
              "      <td>Very Good</td>\n",
              "      <td>Very Good</td>\n",
              "      <td>NaN</td>\n",
              "      <td>64.0</td>\n",
              "      <td>57.0</td>\n",
              "      <td>2.85</td>\n",
              "      <td>2.88</td>\n",
              "      <td>1.84</td>\n",
              "      <td>STK</td>\n",
              "      <td>STK</td>\n",
              "      <td>200</td>\n",
              "    </tr>\n",
              "    <tr>\n",
              "      <th>12</th>\n",
              "      <td>Round</td>\n",
              "      <td>E</td>\n",
              "      <td>VVS2</td>\n",
              "      <td>0.09</td>\n",
              "      <td>Very Good</td>\n",
              "      <td>IGI</td>\n",
              "      <td>Very Good</td>\n",
              "      <td>Very Good</td>\n",
              "      <td>NaN</td>\n",
              "      <td>61.8</td>\n",
              "      <td>58.5</td>\n",
              "      <td>2.85</td>\n",
              "      <td>2.89</td>\n",
              "      <td>1.77</td>\n",
              "      <td>STK</td>\n",
              "      <td>TK</td>\n",
              "      <td>200</td>\n",
              "    </tr>\n",
              "    <tr>\n",
              "      <th>18</th>\n",
              "      <td>Round</td>\n",
              "      <td>E</td>\n",
              "      <td>VVS2</td>\n",
              "      <td>0.09</td>\n",
              "      <td>Excellent</td>\n",
              "      <td>IGI</td>\n",
              "      <td>Very Good</td>\n",
              "      <td>Very Good</td>\n",
              "      <td>NaN</td>\n",
              "      <td>61.0</td>\n",
              "      <td>60.0</td>\n",
              "      <td>2.91</td>\n",
              "      <td>2.92</td>\n",
              "      <td>1.78</td>\n",
              "      <td>M</td>\n",
              "      <td>M</td>\n",
              "      <td>200</td>\n",
              "    </tr>\n",
              "    <tr>\n",
              "      <th>24</th>\n",
              "      <td>Round</td>\n",
              "      <td>L</td>\n",
              "      <td>I1</td>\n",
              "      <td>0.34</td>\n",
              "      <td>Excellent</td>\n",
              "      <td>IGI</td>\n",
              "      <td>Excellent</td>\n",
              "      <td>Excellent</td>\n",
              "      <td>NaN</td>\n",
              "      <td>0.0</td>\n",
              "      <td>0.0</td>\n",
              "      <td>0.00</td>\n",
              "      <td>0.00</td>\n",
              "      <td>0.00</td>\n",
              "      <td>NaN</td>\n",
              "      <td>NaN</td>\n",
              "      <td>204</td>\n",
              "    </tr>\n",
              "    <tr>\n",
              "      <th>...</th>\n",
              "      <td>...</td>\n",
              "      <td>...</td>\n",
              "      <td>...</td>\n",
              "      <td>...</td>\n",
              "      <td>...</td>\n",
              "      <td>...</td>\n",
              "      <td>...</td>\n",
              "      <td>...</td>\n",
              "      <td>...</td>\n",
              "      <td>...</td>\n",
              "      <td>...</td>\n",
              "      <td>...</td>\n",
              "      <td>...</td>\n",
              "      <td>...</td>\n",
              "      <td>...</td>\n",
              "      <td>...</td>\n",
              "      <td>...</td>\n",
              "    </tr>\n",
              "    <tr>\n",
              "      <th>219679</th>\n",
              "      <td>Round</td>\n",
              "      <td>G</td>\n",
              "      <td>VS1</td>\n",
              "      <td>10.23</td>\n",
              "      <td>Excellent</td>\n",
              "      <td>GIA</td>\n",
              "      <td>Excellent</td>\n",
              "      <td>Excellent</td>\n",
              "      <td>NaN</td>\n",
              "      <td>62.7</td>\n",
              "      <td>55.0</td>\n",
              "      <td>13.82</td>\n",
              "      <td>13.92</td>\n",
              "      <td>8.69</td>\n",
              "      <td>TN</td>\n",
              "      <td>M</td>\n",
              "      <td>859320</td>\n",
              "    </tr>\n",
              "    <tr>\n",
              "      <th>219685</th>\n",
              "      <td>Radiant</td>\n",
              "      <td>NaN</td>\n",
              "      <td>I1</td>\n",
              "      <td>0.89</td>\n",
              "      <td>NaN</td>\n",
              "      <td>GIA</td>\n",
              "      <td>Good</td>\n",
              "      <td>Good</td>\n",
              "      <td>NaN</td>\n",
              "      <td>63.8</td>\n",
              "      <td>57.0</td>\n",
              "      <td>6.44</td>\n",
              "      <td>4.96</td>\n",
              "      <td>3.16</td>\n",
              "      <td>TK</td>\n",
              "      <td>VTK</td>\n",
              "      <td>982560</td>\n",
              "    </tr>\n",
              "    <tr>\n",
              "      <th>219691</th>\n",
              "      <td>Round</td>\n",
              "      <td>D</td>\n",
              "      <td>VVS2</td>\n",
              "      <td>10.10</td>\n",
              "      <td>Excellent</td>\n",
              "      <td>GIA</td>\n",
              "      <td>Excellent</td>\n",
              "      <td>Excellent</td>\n",
              "      <td>NaN</td>\n",
              "      <td>59.4</td>\n",
              "      <td>59.0</td>\n",
              "      <td>14.07</td>\n",
              "      <td>14.15</td>\n",
              "      <td>8.39</td>\n",
              "      <td>M</td>\n",
              "      <td>STK</td>\n",
              "      <td>1040739</td>\n",
              "    </tr>\n",
              "    <tr>\n",
              "      <th>219697</th>\n",
              "      <td>Oval</td>\n",
              "      <td>H</td>\n",
              "      <td>VS2</td>\n",
              "      <td>18.88</td>\n",
              "      <td>NaN</td>\n",
              "      <td>GIA</td>\n",
              "      <td>Excellent</td>\n",
              "      <td>Excellent</td>\n",
              "      <td>NaN</td>\n",
              "      <td>57.1</td>\n",
              "      <td>55.0</td>\n",
              "      <td>21.34</td>\n",
              "      <td>15.23</td>\n",
              "      <td>8.69</td>\n",
              "      <td>TN</td>\n",
              "      <td>STK</td>\n",
              "      <td>1132347</td>\n",
              "    </tr>\n",
              "    <tr>\n",
              "      <th>219703</th>\n",
              "      <td>Pear</td>\n",
              "      <td>NaN</td>\n",
              "      <td>VVS2</td>\n",
              "      <td>10.03</td>\n",
              "      <td>NaN</td>\n",
              "      <td>GIA</td>\n",
              "      <td>Very Good</td>\n",
              "      <td>Excellent</td>\n",
              "      <td>NaN</td>\n",
              "      <td>66.7</td>\n",
              "      <td>65.0</td>\n",
              "      <td>15.61</td>\n",
              "      <td>11.09</td>\n",
              "      <td>7.39</td>\n",
              "      <td>NaN</td>\n",
              "      <td>NaN</td>\n",
              "      <td>1449881</td>\n",
              "    </tr>\n",
              "  </tbody>\n",
              "</table>\n",
              "<p>36618 rows × 17 columns</p>\n",
              "</div>\n",
              "    <div class=\"colab-df-buttons\">\n",
              "\n",
              "  <div class=\"colab-df-container\">\n",
              "    <button class=\"colab-df-convert\" onclick=\"convertToInteractive('df-ba1fe094-a5db-4fdf-ad79-0e92399cc668')\"\n",
              "            title=\"Convert this dataframe to an interactive table.\"\n",
              "            style=\"display:none;\">\n",
              "\n",
              "  <svg xmlns=\"http://www.w3.org/2000/svg\" height=\"24px\" viewBox=\"0 -960 960 960\">\n",
              "    <path d=\"M120-120v-720h720v720H120Zm60-500h600v-160H180v160Zm220 220h160v-160H400v160Zm0 220h160v-160H400v160ZM180-400h160v-160H180v160Zm440 0h160v-160H620v160ZM180-180h160v-160H180v160Zm440 0h160v-160H620v160Z\"/>\n",
              "  </svg>\n",
              "    </button>\n",
              "\n",
              "  <style>\n",
              "    .colab-df-container {\n",
              "      display:flex;\n",
              "      gap: 12px;\n",
              "    }\n",
              "\n",
              "    .colab-df-convert {\n",
              "      background-color: #E8F0FE;\n",
              "      border: none;\n",
              "      border-radius: 50%;\n",
              "      cursor: pointer;\n",
              "      display: none;\n",
              "      fill: #1967D2;\n",
              "      height: 32px;\n",
              "      padding: 0 0 0 0;\n",
              "      width: 32px;\n",
              "    }\n",
              "\n",
              "    .colab-df-convert:hover {\n",
              "      background-color: #E2EBFA;\n",
              "      box-shadow: 0px 1px 2px rgba(60, 64, 67, 0.3), 0px 1px 3px 1px rgba(60, 64, 67, 0.15);\n",
              "      fill: #174EA6;\n",
              "    }\n",
              "\n",
              "    .colab-df-buttons div {\n",
              "      margin-bottom: 4px;\n",
              "    }\n",
              "\n",
              "    [theme=dark] .colab-df-convert {\n",
              "      background-color: #3B4455;\n",
              "      fill: #D2E3FC;\n",
              "    }\n",
              "\n",
              "    [theme=dark] .colab-df-convert:hover {\n",
              "      background-color: #434B5C;\n",
              "      box-shadow: 0px 1px 3px 1px rgba(0, 0, 0, 0.15);\n",
              "      filter: drop-shadow(0px 1px 2px rgba(0, 0, 0, 0.3));\n",
              "      fill: #FFFFFF;\n",
              "    }\n",
              "  </style>\n",
              "\n",
              "    <script>\n",
              "      const buttonEl =\n",
              "        document.querySelector('#df-ba1fe094-a5db-4fdf-ad79-0e92399cc668 button.colab-df-convert');\n",
              "      buttonEl.style.display =\n",
              "        google.colab.kernel.accessAllowed ? 'block' : 'none';\n",
              "\n",
              "      async function convertToInteractive(key) {\n",
              "        const element = document.querySelector('#df-ba1fe094-a5db-4fdf-ad79-0e92399cc668');\n",
              "        const dataTable =\n",
              "          await google.colab.kernel.invokeFunction('convertToInteractive',\n",
              "                                                    [key], {});\n",
              "        if (!dataTable) return;\n",
              "\n",
              "        const docLinkHtml = 'Like what you see? Visit the ' +\n",
              "          '<a target=\"_blank\" href=https://colab.research.google.com/notebooks/data_table.ipynb>data table notebook</a>'\n",
              "          + ' to learn more about interactive tables.';\n",
              "        element.innerHTML = '';\n",
              "        dataTable['output_type'] = 'display_data';\n",
              "        await google.colab.output.renderOutput(dataTable, element);\n",
              "        const docLink = document.createElement('div');\n",
              "        docLink.innerHTML = docLinkHtml;\n",
              "        element.appendChild(docLink);\n",
              "      }\n",
              "    </script>\n",
              "  </div>\n",
              "\n",
              "\n",
              "<div id=\"df-c5fa0c40-9dfa-4644-a6a4-55fa01b3eb2c\">\n",
              "  <button class=\"colab-df-quickchart\" onclick=\"quickchart('df-c5fa0c40-9dfa-4644-a6a4-55fa01b3eb2c')\"\n",
              "            title=\"Suggest charts\"\n",
              "            style=\"display:none;\">\n",
              "\n",
              "<svg xmlns=\"http://www.w3.org/2000/svg\" height=\"24px\"viewBox=\"0 0 24 24\"\n",
              "     width=\"24px\">\n",
              "    <g>\n",
              "        <path d=\"M19 3H5c-1.1 0-2 .9-2 2v14c0 1.1.9 2 2 2h14c1.1 0 2-.9 2-2V5c0-1.1-.9-2-2-2zM9 17H7v-7h2v7zm4 0h-2V7h2v10zm4 0h-2v-4h2v4z\"/>\n",
              "    </g>\n",
              "</svg>\n",
              "  </button>\n",
              "\n",
              "<style>\n",
              "  .colab-df-quickchart {\n",
              "      --bg-color: #E8F0FE;\n",
              "      --fill-color: #1967D2;\n",
              "      --hover-bg-color: #E2EBFA;\n",
              "      --hover-fill-color: #174EA6;\n",
              "      --disabled-fill-color: #AAA;\n",
              "      --disabled-bg-color: #DDD;\n",
              "  }\n",
              "\n",
              "  [theme=dark] .colab-df-quickchart {\n",
              "      --bg-color: #3B4455;\n",
              "      --fill-color: #D2E3FC;\n",
              "      --hover-bg-color: #434B5C;\n",
              "      --hover-fill-color: #FFFFFF;\n",
              "      --disabled-bg-color: #3B4455;\n",
              "      --disabled-fill-color: #666;\n",
              "  }\n",
              "\n",
              "  .colab-df-quickchart {\n",
              "    background-color: var(--bg-color);\n",
              "    border: none;\n",
              "    border-radius: 50%;\n",
              "    cursor: pointer;\n",
              "    display: none;\n",
              "    fill: var(--fill-color);\n",
              "    height: 32px;\n",
              "    padding: 0;\n",
              "    width: 32px;\n",
              "  }\n",
              "\n",
              "  .colab-df-quickchart:hover {\n",
              "    background-color: var(--hover-bg-color);\n",
              "    box-shadow: 0 1px 2px rgba(60, 64, 67, 0.3), 0 1px 3px 1px rgba(60, 64, 67, 0.15);\n",
              "    fill: var(--button-hover-fill-color);\n",
              "  }\n",
              "\n",
              "  .colab-df-quickchart-complete:disabled,\n",
              "  .colab-df-quickchart-complete:disabled:hover {\n",
              "    background-color: var(--disabled-bg-color);\n",
              "    fill: var(--disabled-fill-color);\n",
              "    box-shadow: none;\n",
              "  }\n",
              "\n",
              "  .colab-df-spinner {\n",
              "    border: 2px solid var(--fill-color);\n",
              "    border-color: transparent;\n",
              "    border-bottom-color: var(--fill-color);\n",
              "    animation:\n",
              "      spin 1s steps(1) infinite;\n",
              "  }\n",
              "\n",
              "  @keyframes spin {\n",
              "    0% {\n",
              "      border-color: transparent;\n",
              "      border-bottom-color: var(--fill-color);\n",
              "      border-left-color: var(--fill-color);\n",
              "    }\n",
              "    20% {\n",
              "      border-color: transparent;\n",
              "      border-left-color: var(--fill-color);\n",
              "      border-top-color: var(--fill-color);\n",
              "    }\n",
              "    30% {\n",
              "      border-color: transparent;\n",
              "      border-left-color: var(--fill-color);\n",
              "      border-top-color: var(--fill-color);\n",
              "      border-right-color: var(--fill-color);\n",
              "    }\n",
              "    40% {\n",
              "      border-color: transparent;\n",
              "      border-right-color: var(--fill-color);\n",
              "      border-top-color: var(--fill-color);\n",
              "    }\n",
              "    60% {\n",
              "      border-color: transparent;\n",
              "      border-right-color: var(--fill-color);\n",
              "    }\n",
              "    80% {\n",
              "      border-color: transparent;\n",
              "      border-right-color: var(--fill-color);\n",
              "      border-bottom-color: var(--fill-color);\n",
              "    }\n",
              "    90% {\n",
              "      border-color: transparent;\n",
              "      border-bottom-color: var(--fill-color);\n",
              "    }\n",
              "  }\n",
              "</style>\n",
              "\n",
              "  <script>\n",
              "    async function quickchart(key) {\n",
              "      const quickchartButtonEl =\n",
              "        document.querySelector('#' + key + ' button');\n",
              "      quickchartButtonEl.disabled = true;  // To prevent multiple clicks.\n",
              "      quickchartButtonEl.classList.add('colab-df-spinner');\n",
              "      try {\n",
              "        const charts = await google.colab.kernel.invokeFunction(\n",
              "            'suggestCharts', [key], {});\n",
              "      } catch (error) {\n",
              "        console.error('Error during call to suggestCharts:', error);\n",
              "      }\n",
              "      quickchartButtonEl.classList.remove('colab-df-spinner');\n",
              "      quickchartButtonEl.classList.add('colab-df-quickchart-complete');\n",
              "    }\n",
              "    (() => {\n",
              "      let quickchartButtonEl =\n",
              "        document.querySelector('#df-c5fa0c40-9dfa-4644-a6a4-55fa01b3eb2c button');\n",
              "      quickchartButtonEl.style.display =\n",
              "        google.colab.kernel.accessAllowed ? 'block' : 'none';\n",
              "    })();\n",
              "  </script>\n",
              "</div>\n",
              "\n",
              "    </div>\n",
              "  </div>\n"
            ],
            "application/vnd.google.colaboratory.intrinsic+json": {
              "type": "dataframe",
              "summary": "{\n  \"name\": \"diamonds\",\n  \"rows\": 36618,\n  \"fields\": [\n    {\n      \"column\": \"cut\",\n      \"properties\": {\n        \"dtype\": \"category\",\n        \"num_unique_values\": 11,\n        \"samples\": [\n          \"Marquise\",\n          \"Round\",\n          \"Cushion Modified\"\n        ],\n        \"semantic_type\": \"\",\n        \"description\": \"\"\n      }\n    },\n    {\n      \"column\": \"color\",\n      \"properties\": {\n        \"dtype\": \"category\",\n        \"num_unique_values\": 10,\n        \"samples\": [\n          \"I\",\n          \"L\",\n          \"M\"\n        ],\n        \"semantic_type\": \"\",\n        \"description\": \"\"\n      }\n    },\n    {\n      \"column\": \"clarity\",\n      \"properties\": {\n        \"dtype\": \"category\",\n        \"num_unique_values\": 11,\n        \"samples\": [\n          \"SI1\",\n          \"VVS2\",\n          \"IF\"\n        ],\n        \"semantic_type\": \"\",\n        \"description\": \"\"\n      }\n    },\n    {\n      \"column\": \"carat_weight\",\n      \"properties\": {\n        \"dtype\": \"number\",\n        \"std\": 0.8445525162179178,\n        \"min\": 0.09,\n        \"max\": 18.88,\n        \"num_unique_values\": 522,\n        \"samples\": [\n          3.77,\n          3.6,\n          0.13\n        ],\n        \"semantic_type\": \"\",\n        \"description\": \"\"\n      }\n    },\n    {\n      \"column\": \"cut_quality\",\n      \"properties\": {\n        \"dtype\": \"category\",\n        \"num_unique_values\": 4,\n        \"samples\": [\n          \"Very Good\",\n          \"Fair\",\n          \"Excellent\"\n        ],\n        \"semantic_type\": \"\",\n        \"description\": \"\"\n      }\n    },\n    {\n      \"column\": \"lab\",\n      \"properties\": {\n        \"dtype\": \"category\",\n        \"num_unique_values\": 3,\n        \"samples\": [\n          \"IGI\",\n          \"GIA\",\n          \"HRD\"\n        ],\n        \"semantic_type\": \"\",\n        \"description\": \"\"\n      }\n    },\n    {\n      \"column\": \"symmetry\",\n      \"properties\": {\n        \"dtype\": \"category\",\n        \"num_unique_values\": 5,\n        \"samples\": [\n          \"Excellent\",\n          \"Poor\",\n          \"Good\"\n        ],\n        \"semantic_type\": \"\",\n        \"description\": \"\"\n      }\n    },\n    {\n      \"column\": \"polish\",\n      \"properties\": {\n        \"dtype\": \"category\",\n        \"num_unique_values\": 4,\n        \"samples\": [\n          \"Excellent\",\n          \"Fair\",\n          \"Very Good\"\n        ],\n        \"semantic_type\": \"\",\n        \"description\": \"\"\n      }\n    },\n    {\n      \"column\": \"eye_clean\",\n      \"properties\": {\n        \"dtype\": \"category\",\n        \"num_unique_values\": 4,\n        \"samples\": [\n          \"E1\",\n          \"Borderline\",\n          \"Yes\"\n        ],\n        \"semantic_type\": \"\",\n        \"description\": \"\"\n      }\n    },\n    {\n      \"column\": \"depth_percent\",\n      \"properties\": {\n        \"dtype\": \"number\",\n        \"std\": 10.02860636109646,\n        \"min\": 0.0,\n        \"max\": 91.3,\n        \"num_unique_values\": 391,\n        \"samples\": [\n          62.2,\n          66.4,\n          64.2\n        ],\n        \"semantic_type\": \"\",\n        \"description\": \"\"\n      }\n    },\n    {\n      \"column\": \"table_percent\",\n      \"properties\": {\n        \"dtype\": \"number\",\n        \"std\": 9.972442166553039,\n        \"min\": 0.0,\n        \"max\": 94.0,\n        \"num_unique_values\": 125,\n        \"samples\": [\n          79.0,\n          0.62,\n          74.0\n        ],\n        \"semantic_type\": \"\",\n        \"description\": \"\"\n      }\n    },\n    {\n      \"column\": \"meas_length\",\n      \"properties\": {\n        \"dtype\": \"number\",\n        \"std\": 1.8106039447710995,\n        \"min\": 0.0,\n        \"max\": 93.66,\n        \"num_unique_values\": 1065,\n        \"samples\": [\n          3.74,\n          11.07,\n          8.08\n        ],\n        \"semantic_type\": \"\",\n        \"description\": \"\"\n      }\n    },\n    {\n      \"column\": \"meas_width\",\n      \"properties\": {\n        \"dtype\": \"number\",\n        \"std\": 1.4255172055433956,\n        \"min\": 0.0,\n        \"max\": 62.1,\n        \"num_unique_values\": 901,\n        \"samples\": [\n          4.18,\n          4.13,\n          7.11\n        ],\n        \"semantic_type\": \"\",\n        \"description\": \"\"\n      }\n    },\n    {\n      \"column\": \"meas_depth\",\n      \"properties\": {\n        \"dtype\": \"number\",\n        \"std\": 1.9933027318353473,\n        \"min\": 0.0,\n        \"max\": 72.3,\n        \"num_unique_values\": 622,\n        \"samples\": [\n          4.05,\n          5.81,\n          3.49\n        ],\n        \"semantic_type\": \"\",\n        \"description\": \"\"\n      }\n    },\n    {\n      \"column\": \"girdle_min\",\n      \"properties\": {\n        \"dtype\": \"category\",\n        \"num_unique_values\": 9,\n        \"samples\": [\n          \"XTK\",\n          \"STK\",\n          \"XTN\"\n        ],\n        \"semantic_type\": \"\",\n        \"description\": \"\"\n      }\n    },\n    {\n      \"column\": \"girdle_max\",\n      \"properties\": {\n        \"dtype\": \"category\",\n        \"num_unique_values\": 9,\n        \"samples\": [\n          \"STN\",\n          \"STK\",\n          \"XTK\"\n        ],\n        \"semantic_type\": \"\",\n        \"description\": \"\"\n      }\n    },\n    {\n      \"column\": \"total_sales_price\",\n      \"properties\": {\n        \"dtype\": \"number\",\n        \"std\": 26390,\n        \"min\": 200,\n        \"max\": 1449881,\n        \"num_unique_values\": 10234,\n        \"samples\": [\n          448,\n          2106,\n          9004\n        ],\n        \"semantic_type\": \"\",\n        \"description\": \"\"\n      }\n    }\n  ]\n}"
            }
          },
          "metadata": {},
          "execution_count": 358
        }
      ],
      "source": [
        "diamonds.iloc[::6]"
      ]
    },
    {
      "cell_type": "markdown",
      "metadata": {
        "id": "cbpEX7OBHg8K"
      },
      "source": [
        "Выберете из датасета только категорильные признаки и выведете датасет:"
      ]
    },
    {
      "cell_type": "code",
      "execution_count": 361,
      "metadata": {
        "id": "_8vy_ylrHg8K",
        "colab": {
          "base_uri": "https://localhost:8080/",
          "height": 423
        },
        "outputId": "cf63590d-3d75-4358-f8ed-0d3868d19187"
      },
      "outputs": [
        {
          "output_type": "execute_result",
          "data": {
            "text/plain": [
              "             cut color clarity cut_quality  lab   symmetry     polish  \\\n",
              "0          Round     E    VVS2   Excellent  IGI  Very Good  Very Good   \n",
              "1          Round     E    VVS2   Very Good  IGI  Very Good  Very Good   \n",
              "2          Round     E    VVS2   Excellent  IGI  Very Good  Very Good   \n",
              "3          Round     E    VVS2   Excellent  IGI  Very Good  Very Good   \n",
              "4          Round     E    VVS2   Very Good  IGI  Very Good  Excellent   \n",
              "...          ...   ...     ...         ...  ...        ...        ...   \n",
              "219699     Round     E     VS1   Excellent  GIA  Excellent  Excellent   \n",
              "219700   Radiant   NaN     VS2         NaN  GIA  Very Good  Very Good   \n",
              "219701     Round     E     VS1   Excellent  GIA  Excellent  Excellent   \n",
              "219702  Princess   NaN     SI2         NaN  GIA       Good       Good   \n",
              "219703      Pear   NaN    VVS2         NaN  GIA  Very Good  Excellent   \n",
              "\n",
              "       eye_clean girdle_min girdle_max  \n",
              "0            NaN          M          M  \n",
              "1            NaN        STK        STK  \n",
              "2            NaN         TN          M  \n",
              "3            NaN          M        STK  \n",
              "4            NaN        STK        STK  \n",
              "...          ...        ...        ...  \n",
              "219699       NaN          M        STK  \n",
              "219700       NaN         TK        XTK  \n",
              "219701       NaN         TN          M  \n",
              "219702       NaN        XTN        VTK  \n",
              "219703       NaN        NaN        NaN  \n",
              "\n",
              "[219703 rows x 10 columns]"
            ],
            "text/html": [
              "\n",
              "  <div id=\"df-59578679-520f-4470-b339-525dc2b093b5\" class=\"colab-df-container\">\n",
              "    <div>\n",
              "<style scoped>\n",
              "    .dataframe tbody tr th:only-of-type {\n",
              "        vertical-align: middle;\n",
              "    }\n",
              "\n",
              "    .dataframe tbody tr th {\n",
              "        vertical-align: top;\n",
              "    }\n",
              "\n",
              "    .dataframe thead th {\n",
              "        text-align: right;\n",
              "    }\n",
              "</style>\n",
              "<table border=\"1\" class=\"dataframe\">\n",
              "  <thead>\n",
              "    <tr style=\"text-align: right;\">\n",
              "      <th></th>\n",
              "      <th>cut</th>\n",
              "      <th>color</th>\n",
              "      <th>clarity</th>\n",
              "      <th>cut_quality</th>\n",
              "      <th>lab</th>\n",
              "      <th>symmetry</th>\n",
              "      <th>polish</th>\n",
              "      <th>eye_clean</th>\n",
              "      <th>girdle_min</th>\n",
              "      <th>girdle_max</th>\n",
              "    </tr>\n",
              "  </thead>\n",
              "  <tbody>\n",
              "    <tr>\n",
              "      <th>0</th>\n",
              "      <td>Round</td>\n",
              "      <td>E</td>\n",
              "      <td>VVS2</td>\n",
              "      <td>Excellent</td>\n",
              "      <td>IGI</td>\n",
              "      <td>Very Good</td>\n",
              "      <td>Very Good</td>\n",
              "      <td>NaN</td>\n",
              "      <td>M</td>\n",
              "      <td>M</td>\n",
              "    </tr>\n",
              "    <tr>\n",
              "      <th>1</th>\n",
              "      <td>Round</td>\n",
              "      <td>E</td>\n",
              "      <td>VVS2</td>\n",
              "      <td>Very Good</td>\n",
              "      <td>IGI</td>\n",
              "      <td>Very Good</td>\n",
              "      <td>Very Good</td>\n",
              "      <td>NaN</td>\n",
              "      <td>STK</td>\n",
              "      <td>STK</td>\n",
              "    </tr>\n",
              "    <tr>\n",
              "      <th>2</th>\n",
              "      <td>Round</td>\n",
              "      <td>E</td>\n",
              "      <td>VVS2</td>\n",
              "      <td>Excellent</td>\n",
              "      <td>IGI</td>\n",
              "      <td>Very Good</td>\n",
              "      <td>Very Good</td>\n",
              "      <td>NaN</td>\n",
              "      <td>TN</td>\n",
              "      <td>M</td>\n",
              "    </tr>\n",
              "    <tr>\n",
              "      <th>3</th>\n",
              "      <td>Round</td>\n",
              "      <td>E</td>\n",
              "      <td>VVS2</td>\n",
              "      <td>Excellent</td>\n",
              "      <td>IGI</td>\n",
              "      <td>Very Good</td>\n",
              "      <td>Very Good</td>\n",
              "      <td>NaN</td>\n",
              "      <td>M</td>\n",
              "      <td>STK</td>\n",
              "    </tr>\n",
              "    <tr>\n",
              "      <th>4</th>\n",
              "      <td>Round</td>\n",
              "      <td>E</td>\n",
              "      <td>VVS2</td>\n",
              "      <td>Very Good</td>\n",
              "      <td>IGI</td>\n",
              "      <td>Very Good</td>\n",
              "      <td>Excellent</td>\n",
              "      <td>NaN</td>\n",
              "      <td>STK</td>\n",
              "      <td>STK</td>\n",
              "    </tr>\n",
              "    <tr>\n",
              "      <th>...</th>\n",
              "      <td>...</td>\n",
              "      <td>...</td>\n",
              "      <td>...</td>\n",
              "      <td>...</td>\n",
              "      <td>...</td>\n",
              "      <td>...</td>\n",
              "      <td>...</td>\n",
              "      <td>...</td>\n",
              "      <td>...</td>\n",
              "      <td>...</td>\n",
              "    </tr>\n",
              "    <tr>\n",
              "      <th>219699</th>\n",
              "      <td>Round</td>\n",
              "      <td>E</td>\n",
              "      <td>VS1</td>\n",
              "      <td>Excellent</td>\n",
              "      <td>GIA</td>\n",
              "      <td>Excellent</td>\n",
              "      <td>Excellent</td>\n",
              "      <td>NaN</td>\n",
              "      <td>M</td>\n",
              "      <td>STK</td>\n",
              "    </tr>\n",
              "    <tr>\n",
              "      <th>219700</th>\n",
              "      <td>Radiant</td>\n",
              "      <td>NaN</td>\n",
              "      <td>VS2</td>\n",
              "      <td>NaN</td>\n",
              "      <td>GIA</td>\n",
              "      <td>Very Good</td>\n",
              "      <td>Very Good</td>\n",
              "      <td>NaN</td>\n",
              "      <td>TK</td>\n",
              "      <td>XTK</td>\n",
              "    </tr>\n",
              "    <tr>\n",
              "      <th>219701</th>\n",
              "      <td>Round</td>\n",
              "      <td>E</td>\n",
              "      <td>VS1</td>\n",
              "      <td>Excellent</td>\n",
              "      <td>GIA</td>\n",
              "      <td>Excellent</td>\n",
              "      <td>Excellent</td>\n",
              "      <td>NaN</td>\n",
              "      <td>TN</td>\n",
              "      <td>M</td>\n",
              "    </tr>\n",
              "    <tr>\n",
              "      <th>219702</th>\n",
              "      <td>Princess</td>\n",
              "      <td>NaN</td>\n",
              "      <td>SI2</td>\n",
              "      <td>NaN</td>\n",
              "      <td>GIA</td>\n",
              "      <td>Good</td>\n",
              "      <td>Good</td>\n",
              "      <td>NaN</td>\n",
              "      <td>XTN</td>\n",
              "      <td>VTK</td>\n",
              "    </tr>\n",
              "    <tr>\n",
              "      <th>219703</th>\n",
              "      <td>Pear</td>\n",
              "      <td>NaN</td>\n",
              "      <td>VVS2</td>\n",
              "      <td>NaN</td>\n",
              "      <td>GIA</td>\n",
              "      <td>Very Good</td>\n",
              "      <td>Excellent</td>\n",
              "      <td>NaN</td>\n",
              "      <td>NaN</td>\n",
              "      <td>NaN</td>\n",
              "    </tr>\n",
              "  </tbody>\n",
              "</table>\n",
              "<p>219703 rows × 10 columns</p>\n",
              "</div>\n",
              "    <div class=\"colab-df-buttons\">\n",
              "\n",
              "  <div class=\"colab-df-container\">\n",
              "    <button class=\"colab-df-convert\" onclick=\"convertToInteractive('df-59578679-520f-4470-b339-525dc2b093b5')\"\n",
              "            title=\"Convert this dataframe to an interactive table.\"\n",
              "            style=\"display:none;\">\n",
              "\n",
              "  <svg xmlns=\"http://www.w3.org/2000/svg\" height=\"24px\" viewBox=\"0 -960 960 960\">\n",
              "    <path d=\"M120-120v-720h720v720H120Zm60-500h600v-160H180v160Zm220 220h160v-160H400v160Zm0 220h160v-160H400v160ZM180-400h160v-160H180v160Zm440 0h160v-160H620v160ZM180-180h160v-160H180v160Zm440 0h160v-160H620v160Z\"/>\n",
              "  </svg>\n",
              "    </button>\n",
              "\n",
              "  <style>\n",
              "    .colab-df-container {\n",
              "      display:flex;\n",
              "      gap: 12px;\n",
              "    }\n",
              "\n",
              "    .colab-df-convert {\n",
              "      background-color: #E8F0FE;\n",
              "      border: none;\n",
              "      border-radius: 50%;\n",
              "      cursor: pointer;\n",
              "      display: none;\n",
              "      fill: #1967D2;\n",
              "      height: 32px;\n",
              "      padding: 0 0 0 0;\n",
              "      width: 32px;\n",
              "    }\n",
              "\n",
              "    .colab-df-convert:hover {\n",
              "      background-color: #E2EBFA;\n",
              "      box-shadow: 0px 1px 2px rgba(60, 64, 67, 0.3), 0px 1px 3px 1px rgba(60, 64, 67, 0.15);\n",
              "      fill: #174EA6;\n",
              "    }\n",
              "\n",
              "    .colab-df-buttons div {\n",
              "      margin-bottom: 4px;\n",
              "    }\n",
              "\n",
              "    [theme=dark] .colab-df-convert {\n",
              "      background-color: #3B4455;\n",
              "      fill: #D2E3FC;\n",
              "    }\n",
              "\n",
              "    [theme=dark] .colab-df-convert:hover {\n",
              "      background-color: #434B5C;\n",
              "      box-shadow: 0px 1px 3px 1px rgba(0, 0, 0, 0.15);\n",
              "      filter: drop-shadow(0px 1px 2px rgba(0, 0, 0, 0.3));\n",
              "      fill: #FFFFFF;\n",
              "    }\n",
              "  </style>\n",
              "\n",
              "    <script>\n",
              "      const buttonEl =\n",
              "        document.querySelector('#df-59578679-520f-4470-b339-525dc2b093b5 button.colab-df-convert');\n",
              "      buttonEl.style.display =\n",
              "        google.colab.kernel.accessAllowed ? 'block' : 'none';\n",
              "\n",
              "      async function convertToInteractive(key) {\n",
              "        const element = document.querySelector('#df-59578679-520f-4470-b339-525dc2b093b5');\n",
              "        const dataTable =\n",
              "          await google.colab.kernel.invokeFunction('convertToInteractive',\n",
              "                                                    [key], {});\n",
              "        if (!dataTable) return;\n",
              "\n",
              "        const docLinkHtml = 'Like what you see? Visit the ' +\n",
              "          '<a target=\"_blank\" href=https://colab.research.google.com/notebooks/data_table.ipynb>data table notebook</a>'\n",
              "          + ' to learn more about interactive tables.';\n",
              "        element.innerHTML = '';\n",
              "        dataTable['output_type'] = 'display_data';\n",
              "        await google.colab.output.renderOutput(dataTable, element);\n",
              "        const docLink = document.createElement('div');\n",
              "        docLink.innerHTML = docLinkHtml;\n",
              "        element.appendChild(docLink);\n",
              "      }\n",
              "    </script>\n",
              "  </div>\n",
              "\n",
              "\n",
              "<div id=\"df-63f4a50f-5934-4ee1-a6a0-adef7d3762a9\">\n",
              "  <button class=\"colab-df-quickchart\" onclick=\"quickchart('df-63f4a50f-5934-4ee1-a6a0-adef7d3762a9')\"\n",
              "            title=\"Suggest charts\"\n",
              "            style=\"display:none;\">\n",
              "\n",
              "<svg xmlns=\"http://www.w3.org/2000/svg\" height=\"24px\"viewBox=\"0 0 24 24\"\n",
              "     width=\"24px\">\n",
              "    <g>\n",
              "        <path d=\"M19 3H5c-1.1 0-2 .9-2 2v14c0 1.1.9 2 2 2h14c1.1 0 2-.9 2-2V5c0-1.1-.9-2-2-2zM9 17H7v-7h2v7zm4 0h-2V7h2v10zm4 0h-2v-4h2v4z\"/>\n",
              "    </g>\n",
              "</svg>\n",
              "  </button>\n",
              "\n",
              "<style>\n",
              "  .colab-df-quickchart {\n",
              "      --bg-color: #E8F0FE;\n",
              "      --fill-color: #1967D2;\n",
              "      --hover-bg-color: #E2EBFA;\n",
              "      --hover-fill-color: #174EA6;\n",
              "      --disabled-fill-color: #AAA;\n",
              "      --disabled-bg-color: #DDD;\n",
              "  }\n",
              "\n",
              "  [theme=dark] .colab-df-quickchart {\n",
              "      --bg-color: #3B4455;\n",
              "      --fill-color: #D2E3FC;\n",
              "      --hover-bg-color: #434B5C;\n",
              "      --hover-fill-color: #FFFFFF;\n",
              "      --disabled-bg-color: #3B4455;\n",
              "      --disabled-fill-color: #666;\n",
              "  }\n",
              "\n",
              "  .colab-df-quickchart {\n",
              "    background-color: var(--bg-color);\n",
              "    border: none;\n",
              "    border-radius: 50%;\n",
              "    cursor: pointer;\n",
              "    display: none;\n",
              "    fill: var(--fill-color);\n",
              "    height: 32px;\n",
              "    padding: 0;\n",
              "    width: 32px;\n",
              "  }\n",
              "\n",
              "  .colab-df-quickchart:hover {\n",
              "    background-color: var(--hover-bg-color);\n",
              "    box-shadow: 0 1px 2px rgba(60, 64, 67, 0.3), 0 1px 3px 1px rgba(60, 64, 67, 0.15);\n",
              "    fill: var(--button-hover-fill-color);\n",
              "  }\n",
              "\n",
              "  .colab-df-quickchart-complete:disabled,\n",
              "  .colab-df-quickchart-complete:disabled:hover {\n",
              "    background-color: var(--disabled-bg-color);\n",
              "    fill: var(--disabled-fill-color);\n",
              "    box-shadow: none;\n",
              "  }\n",
              "\n",
              "  .colab-df-spinner {\n",
              "    border: 2px solid var(--fill-color);\n",
              "    border-color: transparent;\n",
              "    border-bottom-color: var(--fill-color);\n",
              "    animation:\n",
              "      spin 1s steps(1) infinite;\n",
              "  }\n",
              "\n",
              "  @keyframes spin {\n",
              "    0% {\n",
              "      border-color: transparent;\n",
              "      border-bottom-color: var(--fill-color);\n",
              "      border-left-color: var(--fill-color);\n",
              "    }\n",
              "    20% {\n",
              "      border-color: transparent;\n",
              "      border-left-color: var(--fill-color);\n",
              "      border-top-color: var(--fill-color);\n",
              "    }\n",
              "    30% {\n",
              "      border-color: transparent;\n",
              "      border-left-color: var(--fill-color);\n",
              "      border-top-color: var(--fill-color);\n",
              "      border-right-color: var(--fill-color);\n",
              "    }\n",
              "    40% {\n",
              "      border-color: transparent;\n",
              "      border-right-color: var(--fill-color);\n",
              "      border-top-color: var(--fill-color);\n",
              "    }\n",
              "    60% {\n",
              "      border-color: transparent;\n",
              "      border-right-color: var(--fill-color);\n",
              "    }\n",
              "    80% {\n",
              "      border-color: transparent;\n",
              "      border-right-color: var(--fill-color);\n",
              "      border-bottom-color: var(--fill-color);\n",
              "    }\n",
              "    90% {\n",
              "      border-color: transparent;\n",
              "      border-bottom-color: var(--fill-color);\n",
              "    }\n",
              "  }\n",
              "</style>\n",
              "\n",
              "  <script>\n",
              "    async function quickchart(key) {\n",
              "      const quickchartButtonEl =\n",
              "        document.querySelector('#' + key + ' button');\n",
              "      quickchartButtonEl.disabled = true;  // To prevent multiple clicks.\n",
              "      quickchartButtonEl.classList.add('colab-df-spinner');\n",
              "      try {\n",
              "        const charts = await google.colab.kernel.invokeFunction(\n",
              "            'suggestCharts', [key], {});\n",
              "      } catch (error) {\n",
              "        console.error('Error during call to suggestCharts:', error);\n",
              "      }\n",
              "      quickchartButtonEl.classList.remove('colab-df-spinner');\n",
              "      quickchartButtonEl.classList.add('colab-df-quickchart-complete');\n",
              "    }\n",
              "    (() => {\n",
              "      let quickchartButtonEl =\n",
              "        document.querySelector('#df-63f4a50f-5934-4ee1-a6a0-adef7d3762a9 button');\n",
              "      quickchartButtonEl.style.display =\n",
              "        google.colab.kernel.accessAllowed ? 'block' : 'none';\n",
              "    })();\n",
              "  </script>\n",
              "</div>\n",
              "\n",
              "    </div>\n",
              "  </div>\n"
            ],
            "application/vnd.google.colaboratory.intrinsic+json": {
              "type": "dataframe"
            }
          },
          "metadata": {},
          "execution_count": 361
        }
      ],
      "source": [
        "diamonds.select_dtypes(include='object')"
      ]
    },
    {
      "cell_type": "markdown",
      "metadata": {
        "id": "Pz02uapbkbGk"
      },
      "source": [
        "### Построение графиков"
      ]
    },
    {
      "cell_type": "markdown",
      "metadata": {
        "id": "_zhww-rd-c5c"
      },
      "source": [
        "**Требования к графику:**\n",
        "\n",
        "1.   График должен быть подписан\n",
        "2.   Оси должны быть подписаны\n",
        "3.   Должна быть легенда графика\n",
        "4.   График должен быть информативным (желательно без сильных выбросов)\n",
        "\n",
        "**Все надписи на русском языке!**"
      ]
    },
    {
      "cell_type": "markdown",
      "metadata": {
        "id": "mfebCvk0k2mo"
      },
      "source": [
        ">**Примечание**\n",
        ">\n",
        ">График необходимо строить для очищенных данных - в них не должно быть пропусков по осям, по которым строите график. При этом **не перезатирайте** имеющийся датафрейм!"
      ]
    },
    {
      "cell_type": "markdown",
      "metadata": {
        "id": "4R9Rwxdq-l21"
      },
      "source": [
        "Постройте график `цвет бриллианта - стоимость`:"
      ]
    },
    {
      "cell_type": "code",
      "execution_count": 444,
      "metadata": {
        "ExecuteTime": {
          "end_time": "2024-05-15T10:29:14.066669Z",
          "start_time": "2024-05-15T10:29:12.723721Z"
        },
        "id": "Fo6I0j5o-vQh",
        "colab": {
          "base_uri": "https://localhost:8080/",
          "height": 507
        },
        "outputId": "4c99e9dc-c4e8-4da9-b6cd-daa0c78bc180"
      },
      "outputs": [
        {
          "output_type": "display_data",
          "data": {
            "text/plain": [
              "<Figure size 1800x500 with 3 Axes>"
            ],
            "image/png": "[encoded data removed]"
          },
          "metadata": {}
        }
      ],
      "source": [
        "fig, axes = plt.subplots(1, 3, figsize=(18, 5))\n",
        "sns.barplot(data=diamonds[['color', 'total_sales_price']].dropna(), x='color', y='total_sales_price', estimator='mean', errorbar=('ci', 95), ax=axes[0], color='gray')\n",
        "sns.kdeplot(data=diamonds[['color', 'total_sales_price']].dropna(), hue='color', x='total_sales_price', log_scale=True, ax=axes[1])\n",
        "sns.boxplot(data=diamonds[['color', 'total_sales_price']].dropna(), x='color', y='total_sales_price', log_scale=True)\n",
        "axes[0].set(xlabel='Цвет бриллианта', ylabel='Средняя стоимость, $', title='Цвет бриллианта - средняя стоимость \\n с 95% доверительным интервалом')\n",
        "axes[1].set(xlabel='Стоимость бриллианта, $', ylabel='Плотность распределеления стоимости', title='Распределение стоимости бриллиантов по цветам')\n",
        "axes[1].get_legend().set_title('Цвет бриллианта')\n",
        "axes[2].set(xlabel='Цвет бриллианта', ylabel='Стоимость бриллианта, $', title='Цвет бриллианта - стоимость');\n",
        "plt.tight_layout()"
      ]
    },
    {
      "cell_type": "markdown",
      "metadata": {
        "id": "W_UgFji5-vWx"
      },
      "source": [
        "Постройте график `лабараторная оценка - кол-во бриллиантов`:"
      ]
    },
    {
      "cell_type": "code",
      "source": [
        "ax = sns.countplot(data=diamonds[['lab']].dropna(), x='lab', color='skyblue', order=diamonds.lab.value_counts().index)\n",
        "ax.set(xlabel='Лаборатория оценивания', ylabel='Количество бриллиантов', title='Лаборатория оценивания - количество бриллиантов')\n",
        "ax.bar_label(ax.containers[0]);"
      ],
      "metadata": {
        "colab": {
          "base_uri": "https://localhost:8080/",
          "height": 472
        },
        "id": "ZYRgTHnlySB0",
        "outputId": "4bd844e9-f9ef-45a0-ab61-c4f5eb53385b"
      },
      "execution_count": 493,
      "outputs": [
        {
          "output_type": "display_data",
          "data": {
            "text/plain": [
              "<Figure size 640x480 with 1 Axes>"
            ],
            "image/png": "[encoded data removed]"
          },
          "metadata": {}
        }
      ]
    },
    {
      "cell_type": "markdown",
      "metadata": {
        "id": "AgsMclnJ_c9H"
      },
      "source": [
        "Постройте график `вес бриллианта - стоимость`:"
      ]
    },
    {
      "cell_type": "code",
      "execution_count": 492,
      "metadata": {
        "ExecuteTime": {
          "end_time": "2024-05-15T08:41:06.649728Z",
          "start_time": "2024-05-15T08:41:05.799964Z"
        },
        "id": "tn-x3pwmANQe",
        "colab": {
          "base_uri": "https://localhost:8080/",
          "height": 472
        },
        "outputId": "302c3deb-550e-4d56-b06c-0415874bb68f"
      },
      "outputs": [
        {
          "output_type": "display_data",
          "data": {
            "text/plain": [
              "<Figure size 640x480 with 1 Axes>"
            ],
            "image/png": "[encoded data removed]"
          },
          "metadata": {}
        }
      ],
      "source": [
        "sns.regplot(data=diamonds[['carat_weight', 'total_sales_price']].dropna(), x='carat_weight', y='total_sales_price', order=2, color='darkgreen').set_title('Вес бриллианта - стоимость')\n",
        "plt.xlabel('Вес бриллианта, карат')\n",
        "plt.ylabel('Стоимость бриллианта, $');"
      ]
    },
    {
      "cell_type": "markdown",
      "metadata": {
        "id": "0LVC1KfEAwuw"
      },
      "source": [
        "Постройте график `система оценки GIA Cut - кол-во бриллиантов`:"
      ]
    },
    {
      "cell_type": "code",
      "execution_count": 494,
      "metadata": {
        "ExecuteTime": {
          "end_time": "2024-05-15T10:41:02.674735Z",
          "start_time": "2024-05-15T10:41:01.679746Z"
        },
        "id": "IeuLooSIA232",
        "colab": {
          "base_uri": "https://localhost:8080/",
          "height": 472
        },
        "outputId": "8a1f34f2-fdd5-4986-ec1f-5ed7f4c69f90"
      },
      "outputs": [
        {
          "output_type": "display_data",
          "data": {
            "text/plain": [
              "<Figure size 640x480 with 1 Axes>"
            ],
            "image/png": "[encoded data removed]"
          },
          "metadata": {}
        }
      ],
      "source": [
        "ax = sns.countplot(data=diamonds[['cut_quality']].dropna(), x='cut_quality', color='skyblue', order=diamonds.cut_quality.value_counts().index)\n",
        "ax.set(xlabel='Система оценки GIA Cut', ylabel='Количество бриллиантов', title='Система оценки GIA Cut - количество бриллиантов')\n",
        "ax.bar_label(ax.containers[0]);"
      ]
    },
    {
      "cell_type": "markdown",
      "metadata": {
        "id": "qFxDpCSIHg8L"
      },
      "source": [
        "Сделайте выводы по построенным графикам"
      ]
    },
    {
      "cell_type": "code",
      "source": [
        "diamonds.color.value_counts()"
      ],
      "metadata": {
        "id": "bof0RI8n58Rp",
        "outputId": "2bce0da9-b045-4aec-f043-db82fac4cf70",
        "colab": {
          "base_uri": "https://localhost:8080/",
          "height": 429
        }
      },
      "execution_count": 495,
      "outputs": [
        {
          "output_type": "execute_result",
          "data": {
            "text/plain": [
              "color\n",
              "E    33103\n",
              "F    31566\n",
              "D    30873\n",
              "G    29184\n",
              "H    26073\n",
              "I    22364\n",
              "J    16898\n",
              "K    11750\n",
              "L     5683\n",
              "M     3047\n",
              "Name: count, dtype: int64"
            ],
            "text/html": [
              "<div>\n",
              "<style scoped>\n",
              "    .dataframe tbody tr th:only-of-type {\n",
              "        vertical-align: middle;\n",
              "    }\n",
              "\n",
              "    .dataframe tbody tr th {\n",
              "        vertical-align: top;\n",
              "    }\n",
              "\n",
              "    .dataframe thead th {\n",
              "        text-align: right;\n",
              "    }\n",
              "</style>\n",
              "<table border=\"1\" class=\"dataframe\">\n",
              "  <thead>\n",
              "    <tr style=\"text-align: right;\">\n",
              "      <th></th>\n",
              "      <th>count</th>\n",
              "    </tr>\n",
              "    <tr>\n",
              "      <th>color</th>\n",
              "      <th></th>\n",
              "    </tr>\n",
              "  </thead>\n",
              "  <tbody>\n",
              "    <tr>\n",
              "      <th>E</th>\n",
              "      <td>33103</td>\n",
              "    </tr>\n",
              "    <tr>\n",
              "      <th>F</th>\n",
              "      <td>31566</td>\n",
              "    </tr>\n",
              "    <tr>\n",
              "      <th>D</th>\n",
              "      <td>30873</td>\n",
              "    </tr>\n",
              "    <tr>\n",
              "      <th>G</th>\n",
              "      <td>29184</td>\n",
              "    </tr>\n",
              "    <tr>\n",
              "      <th>H</th>\n",
              "      <td>26073</td>\n",
              "    </tr>\n",
              "    <tr>\n",
              "      <th>I</th>\n",
              "      <td>22364</td>\n",
              "    </tr>\n",
              "    <tr>\n",
              "      <th>J</th>\n",
              "      <td>16898</td>\n",
              "    </tr>\n",
              "    <tr>\n",
              "      <th>K</th>\n",
              "      <td>11750</td>\n",
              "    </tr>\n",
              "    <tr>\n",
              "      <th>L</th>\n",
              "      <td>5683</td>\n",
              "    </tr>\n",
              "    <tr>\n",
              "      <th>M</th>\n",
              "      <td>3047</td>\n",
              "    </tr>\n",
              "  </tbody>\n",
              "</table>\n",
              "</div><br><label><b>dtype:</b> int64</label>"
            ]
          },
          "metadata": {},
          "execution_count": 495
        }
      ]
    },
    {
      "cell_type": "markdown",
      "metadata": {
        "id": "xI2IkVmmHg8L"
      },
      "source": [
        "1. Стоимость бриллианта, верноятно, коррелирует с его цветом. Однако, достоверно утверждать об этом  по постороенным графикам нельзя, так как необходмо учитывать комбинации 4 и более признаков, таких как (вес, цвет, чистота, огранка и т.д) Возможно, бриллианты E дешевле, чем H, но это не точно.\n",
        "Бриллианты L и M представлены в датасете в меньшей степени, в достоверности распределения на графиках их характеристик уверенности еще меньше. Необходимо дополнительное исследование данных, лучше с помощью линейной регрессии.\n",
        "2. Основной лабораторией по оценке и сертификации бриллиантов является GIA\n",
        "3. Вес бриллианта в нектороорой степени коррелирует с его ценой, но проблемы те же, что и в п.1\n",
        "4. Чаще всего встречается качество огранки Excelent и Very good. Более низкое качество встречается значительно реже, а более высокое почти не встречается вообще."
      ]
    }
  ],
  "metadata": {
    "colab": {
      "provenance": [],
      "include_colab_link": true
    },
    "kernelspec": {
      "display_name": "Python 3 (ipykernel)",
      "language": "python",
      "name": "python3"
    },
    "language_info": {
      "codemirror_mode": {
        "name": "ipython",
        "version": 3
      },
      "file_extension": ".py",
      "mimetype": "text/x-python",
      "name": "python",
      "nbconvert_exporter": "python",
      "pygments_lexer": "ipython3",
      "version": "3.10.8"
    },
    "toc": {
      "base_numbering": 1,
      "nav_menu": {},
      "number_sections": true,
      "sideBar": true,
      "skip_h1_title": false,
      "title_cell": "Table of Contents",
      "title_sidebar": "Contents",
      "toc_cell": false,
      "toc_position": {},
      "toc_section_display": true,
      "toc_window_display": false
    }
  },
  "nbformat": 4,
  "nbformat_minor": 0
}