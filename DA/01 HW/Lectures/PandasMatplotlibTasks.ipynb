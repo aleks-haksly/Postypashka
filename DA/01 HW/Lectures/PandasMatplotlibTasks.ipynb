{
 "cells": [
  {
   "cell_type": "code",
   "execution_count": null,
   "metadata": {
    "ExecuteTime": {
     "end_time": "2024-05-14T21:38:46.578163Z",
     "start_time": "2024-05-14T21:38:40.641188Z"
    },
    "id": "1qzEqvohoZfB"
   },
   "outputs": [],
   "source": [
    "# Всё необходимое для выполнения данной лабораторной работы!\n",
    "import requests\n",
    "from time import sleep\n",
    "\n",
    "import numpy as np\n",
    "import pandas as pd\n",
    "import matplotlib.pyplot as plt\n",
    "import seaborn as sns"
   ]
  },
  {
   "cell_type": "markdown",
   "metadata": {
    "id": "rB_FYHU2k8w-"
   },
   "source": [
    "## Задание 1. Парсинг - 10 баллов"
   ]
  },
  {
   "cell_type": "markdown",
   "metadata": {
    "id": "F0gr5cjaoQJy"
   },
   "source": [
    "В этом задании Вам предстоит работать с API сайта <a target=\"_blank\" href=\"hh.ru\">hh.ru</a>. Документация доступна по <a target=\"_blank\" href=\"https://github.com/hhru/api/blob/master/docs/vacancies.md#search\">ссылке</a>."
   ]
  },
  {
   "cell_type": "markdown",
   "metadata": {
    "id": "-HAm80rqRqAZ"
   },
   "source": [
    "**Задача:**\n",
    "1. выбрать 5 интересующих вас профессий (не смежных, т.е. Аналатик и Data Engineer не считается корректным)\n",
    "2. затем получить доступные по данным профессиям вакансии в Москве и выделить их физические координаты\n",
    "3. нанести полученные координаты на карту местоположения компаний"
   ]
  },
  {
   "cell_type": "markdown",
   "metadata": {
    "id": "H0GhQJvipXYj"
   },
   "source": [
    "*Пример запроса для профессии:*"
   ]
  },
  {
   "cell_type": "code",
   "execution_count": null,
   "metadata": {
    "ExecuteTime": {
     "end_time": "2024-05-15T15:01:34.153176Z",
     "start_time": "2024-05-15T15:01:33.975266Z"
    },
    "colab": {
     "base_uri": "https://localhost:8080/"
    },
    "id": "aZLGoS_DpsXI",
    "outputId": "dae1cb2d-b2e7-47e1-95be-40e8b68d1b46"
   },
   "outputs": [
    {
     "data": {
      "text/plain": [
       "{'items': [],\n",
       " 'found': 0,\n",
       " 'pages': 1,\n",
       " 'page': 0,\n",
       " 'per_page': 10,\n",
       " 'clusters': None,\n",
       " 'arguments': None,\n",
       " 'fixes': None,\n",
       " 'suggests': None,\n",
       " 'alternate_url': 'https://hh.ru/search/vacancy?area=1&enable_snippets=true&items_on_page=10&text=%D0%A4%D0%B8%D0%B7%D0%B8%D0%BA-%D1%8F%D0%B4%D0%B5%D1%80%D1%89%D0%B8%D0%BA'}"
      ]
     },
     "execution_count": 18,
     "metadata": {},
     "output_type": "execute_result"
    }
   ],
   "source": [
    "URL = 'https://api.hh.ru/vacancies'\n",
    "\n",
    "params = {\n",
    "    'text': \"Физик-ядерщик\",\n",
    "    'area': 1,\n",
    "    'page': 0,\n",
    "    'per_page': 10\n",
    "}\n",
    "\n",
    "data = requests.get(URL, params).json()\n",
    "data"
   ]
  },
  {
   "cell_type": "markdown",
   "metadata": {
    "id": "yHQtIBRQp91_"
   },
   "source": [
    "Если Ваш запрос прошел успешно, то вы получите следующие ключи (значения данных ключей вы найдете по ссылке на документацию):"
   ]
  },
  {
   "cell_type": "code",
   "execution_count": null,
   "metadata": {
    "ExecuteTime": {
     "end_time": "2024-05-15T15:01:45.574171Z",
     "start_time": "2024-05-15T15:01:45.555159Z"
    },
    "colab": {
     "base_uri": "https://localhost:8080/"
    },
    "id": "DW6mxzggpvKw",
    "outputId": "60509ad4-6597-4375-9416-0dc61a895c8e"
   },
   "outputs": [
    {
     "data": {
      "text/plain": [
       "dict_keys(['items', 'found', 'pages', 'page', 'per_page', 'clusters', 'arguments', 'fixes', 'suggests', 'alternate_url'])"
      ]
     },
     "execution_count": 19,
     "metadata": {},
     "output_type": "execute_result"
    }
   ],
   "source": [
    "data.keys()"
   ]
  },
  {
   "cell_type": "markdown",
   "metadata": {
    "id": "JWvkFrh9qhkj"
   },
   "source": [
    "Выберете для нас 5 наиболее интересных специальностей и получите по ним имеющиеся вакансии:"
   ]
  },
  {
   "cell_type": "code",
   "execution_count": null,
   "metadata": {
    "ExecuteTime": {
     "end_time": "2024-05-15T15:47:20.186258Z",
     "start_time": "2024-05-15T15:46:51.470448Z"
    },
    "id": "_Nm-vyiBqugq"
   },
   "outputs": [],
   "source": []
  },
  {
   "cell_type": "markdown",
   "metadata": {
    "id": "g0bdgyNWquuY"
   },
   "source": [
    "Посчитайте сколько всего найдено вакансий:"
   ]
  },
  {
   "cell_type": "code",
   "execution_count": null,
   "metadata": {
    "ExecuteTime": {
     "end_time": "2024-05-15T15:14:38.868539Z",
     "start_time": "2024-05-15T15:14:38.824906Z"
    },
    "colab": {
     "base_uri": "https://localhost:8080/"
    },
    "id": "lxyXtIs6q5cc",
    "outputId": "a2ae411b-dcef-46a8-f976-0138a57d5d60"
   },
   "outputs": [],
   "source": []
  },
  {
   "cell_type": "markdown",
   "metadata": {
    "id": "wQeULnNyq5wk"
   },
   "source": [
    "Создайте структуру данных, которая будет хранить в себе имя компании и ее координаты (широта и долгота):"
   ]
  },
  {
   "cell_type": "code",
   "execution_count": null,
   "metadata": {
    "ExecuteTime": {
     "end_time": "2024-05-15T15:24:37.331297Z",
     "start_time": "2024-05-15T15:24:37.301272Z"
    },
    "id": "aR501yltVdLm"
   },
   "outputs": [],
   "source": []
  },
  {
   "cell_type": "markdown",
   "metadata": {
    "id": "ccIi3wIvVkG0"
   },
   "source": [
    "Создайте экземпляр этой структуры данных для каждой компании, которая выставила вакансию:"
   ]
  },
  {
   "cell_type": "code",
   "execution_count": null,
   "metadata": {
    "ExecuteTime": {
     "end_time": "2024-05-15T15:24:38.870106Z",
     "start_time": "2024-05-15T15:24:38.555752Z"
    },
    "id": "tR6mYW7jtcCQ"
   },
   "outputs": [],
   "source": []
  },
  {
   "cell_type": "markdown",
   "metadata": {
    "id": "SyBpNd0vtcNu"
   },
   "source": [
    "Найдите количество вакансий, у которых заданы координаты (значения данных может быть пустым):"
   ]
  },
  {
   "cell_type": "code",
   "execution_count": null,
   "metadata": {
    "ExecuteTime": {
     "end_time": "2024-05-15T15:40:59.604269Z",
     "start_time": "2024-05-15T15:40:59.429739Z"
    },
    "colab": {
     "base_uri": "https://localhost:8080/"
    },
    "id": "lVgNCVALt2qJ",
    "outputId": "b6b5b941-2be2-46e3-ff21-046af8838a12"
   },
   "outputs": [],
   "source": []
  },
  {
   "cell_type": "markdown",
   "metadata": {
    "id": "aWNXrM-cu5Vi"
   },
   "source": [
    "Отберите вакансии, которые расположены в пределах МКАД (можно грубо):"
   ]
  },
  {
   "cell_type": "code",
   "execution_count": null,
   "metadata": {
    "ExecuteTime": {
     "end_time": "2024-05-15T15:49:38.798920Z",
     "start_time": "2024-05-15T15:49:38.747894Z"
    },
    "id": "01g9wVEyyn-J"
   },
   "outputs": [],
   "source": []
  },
  {
   "cell_type": "markdown",
   "metadata": {
    "id": "4LCb9IL_bgB_"
   },
   "source": [
    "Постройте график в координатах \"широта-долгота\" для отображения вакансий внутри МКАД (не забывайте прописать прозрачность, чтобы увидеть скопления):"
   ]
  },
  {
   "cell_type": "code",
   "execution_count": null,
   "metadata": {
    "ExecuteTime": {
     "end_time": "2024-05-15T15:51:07.021308Z",
     "start_time": "2024-05-15T15:51:06.706890Z"
    },
    "colab": {
     "base_uri": "https://localhost:8080/",
     "height": 449
    },
    "id": "6ogiXDvKcDV8",
    "outputId": "e2138d71-a88c-4775-ad78-d33d7354e6ee"
   },
   "outputs": [],
   "source": []
  },
  {
   "cell_type": "markdown",
   "metadata": {
    "id": "u-p3Llc361PN"
   },
   "source": [
    "**Сделайте выводы о проделанной работе:**"
   ]
  },
  {
   "cell_type": "markdown",
   "metadata": {
    "id": "gkPpbtBuVqwc"
   },
   "source": []
  },
  {
   "cell_type": "markdown",
   "metadata": {
    "id": "lii5YFuucxR2"
   },
   "source": [
    "Вам предстоит проанализировать датасет, содержащий информацию об бриллианта, их стоимости и остальных характеристиках."
   ]
  },
  {
   "cell_type": "markdown",
   "metadata": {
    "id": "CvEO3-NI0Gez"
   },
   "source": [
    "\n",
    "\n",
    "Поясним значения хранящиеся в колонках:\n",
    "*   `cut` - огранка бриллианта (относится к одной из примерно 10 наиболее распространенных)\n",
    "*   `color` - цвет бриллианта, прозрачные бриллианты имеют градацию `D-Z`, \"более высокие\" буквы - более желтоватые, но часто имеют лучшие значения, поскольку цвет трудно определить один раз в кольце\n",
    "*   `clarity` - чистота бриллианта, наличие включений (внутренних дефектов), чем меньше и мельче, тем лучше\n",
    "*   `carat_weight` - масса бриллианта (слабо связана с размером бриллианта, т.к. огранка и качество огранки, как правило, играют большую роль)\n",
    "*   `cut_quality` - качество ограники по системе оценки GIA Cut\n",
    "*   `lab` - лаборатория оценивания\n",
    "*   `meas_length` - длина бриллианта\n",
    "*   `meas_width` - ширина бриллианта\n",
    "*   `meas_depth` - глубина бриллианта\n",
    "*   `total_sales_price` - цена бриллианта в долларах.\n",
    "*    **и прочие колонки**"
   ]
  },
  {
   "cell_type": "markdown",
   "metadata": {
    "id": "7mK1QntN6ZXh"
   },
   "source": [
    "Скачаем данные:"
   ]
  },
  {
   "cell_type": "code",
   "execution_count": null,
   "metadata": {},
   "outputs": [],
   "source": [
    "!gdown 10OJ30qlkE-7zK4JuVTDMY3U4nRB4tu_8\n",
    "# если работайте в jupyter то скачайте датасет с https://drive.google.com/uc?id=10OJ30qlkE-7zK4JuVTDMY3U4nRB4tu_8"
   ]
  },
  {
   "cell_type": "markdown",
   "metadata": {
    "id": "wfSqVYoIfi3-"
   },
   "source": [
    "Создадим DataFrame:"
   ]
  },
  {
   "cell_type": "code",
   "execution_count": null,
   "metadata": {},
   "outputs": [],
   "source": [
    "import pandas as pd\n",
    "\n",
    "diamonds = pd.read_csv(\"diamonds.csv\")"
   ]
  },
  {
   "cell_type": "markdown",
   "metadata": {
    "id": "vlw_3lXG6bhv"
   },
   "source": [
    "Выведете первые 5 строк датасета:"
   ]
  },
  {
   "cell_type": "code",
   "execution_count": null,
   "metadata": {
    "ExecuteTime": {
     "end_time": "2024-05-15T11:35:42.155983Z",
     "start_time": "2024-05-15T11:35:42.135289Z"
    },
    "colab": {
     "base_uri": "https://localhost:8080/",
     "height": 359
    },
    "id": "gHA-AnSE6fth",
    "outputId": "b5656aed-cf3d-41c8-a8a4-c922f2733073"
   },
   "outputs": [],
   "source": []
  },
  {
   "cell_type": "markdown",
   "metadata": {
    "id": "gat7bnPQ6fCE"
   },
   "source": [
    "Найдите количество бриллиантов всего в данном датасете:"
   ]
  },
  {
   "cell_type": "code",
   "execution_count": null,
   "metadata": {
    "ExecuteTime": {
     "end_time": "2024-05-15T11:35:43.448231Z",
     "start_time": "2024-05-15T11:35:43.434174Z"
    },
    "colab": {
     "base_uri": "https://localhost:8080/"
    },
    "id": "-9x6z3-J7C-v",
    "outputId": "eb2e24b5-a0bc-4e01-a567-0b2c4b5a7f8e"
   },
   "outputs": [],
   "source": []
  },
  {
   "cell_type": "markdown",
   "metadata": {
    "id": "fYQuIdtL7DFp"
   },
   "source": [
    "Выведите максимальную и минимальную цену бриллианта в формате `номер - цена`:"
   ]
  },
  {
   "cell_type": "code",
   "execution_count": null,
   "metadata": {
    "ExecuteTime": {
     "end_time": "2024-05-15T11:35:45.144353Z",
     "start_time": "2024-05-15T11:35:45.126127Z"
    },
    "colab": {
     "base_uri": "https://localhost:8080/"
    },
    "id": "D_7sjzjP7SEj",
    "outputId": "b4f407b8-2cd2-4b98-8919-dad9b62b2d3f"
   },
   "outputs": [],
   "source": []
  },
  {
   "cell_type": "markdown",
   "metadata": {
    "id": "E2mf4IIO7SOg"
   },
   "source": [
    "Посчитайте количество пропусков (пропуском считается значение `unknown` или `None`):"
   ]
  },
  {
   "cell_type": "code",
   "execution_count": null,
   "metadata": {
    "ExecuteTime": {
     "end_time": "2024-05-15T11:35:46.337365Z",
     "start_time": "2024-05-15T11:35:46.087358Z"
    },
    "colab": {
     "base_uri": "https://localhost:8080/"
    },
    "id": "BuJZ0UoN7qAU",
    "outputId": "18ebe524-2f0e-42bc-f857-fc6edc059781"
   },
   "outputs": [],
   "source": []
  },
  {
   "cell_type": "markdown",
   "metadata": {
    "id": "d5LWUc_fh0vb"
   },
   "source": [
    "Найдите в каких столбцах присутствуют пропуски:"
   ]
  },
  {
   "cell_type": "code",
   "execution_count": null,
   "metadata": {
    "ExecuteTime": {
     "end_time": "2024-05-15T11:36:02.951027Z",
     "start_time": "2024-05-15T11:36:02.681500Z"
    },
    "colab": {
     "base_uri": "https://localhost:8080/"
    },
    "id": "IsU49Fouh5vy",
    "outputId": "36f1f9a4-81de-46ff-f014-cb4f32c4e16a"
   },
   "outputs": [],
   "source": []
  },
  {
   "cell_type": "markdown",
   "metadata": {
    "id": "UznNZpJ47qGX"
   },
   "source": [
    "В нашем датасете присутствуют колонки, которые начинаются с `fancy_color_` или `fluor_`. Большинство значений в этих колонках - `unknown` или `None`, поэтому мы считаем их малоинформативными."
   ]
  },
  {
   "cell_type": "markdown",
   "metadata": {
    "id": "Rkk6Hr2Ui87X"
   },
   "source": [
    "Ваша задача:"
   ]
  },
  {
   "cell_type": "markdown",
   "metadata": {
    "id": "YYBDAgSSi-JU"
   },
   "source": [
    "найти количество таких колонок, которые начинаются с `fancy_color_` или `fluor_`:"
   ]
  },
  {
   "cell_type": "code",
   "execution_count": null,
   "metadata": {
    "ExecuteTime": {
     "end_time": "2024-05-15T10:19:15.104626Z",
     "start_time": "2024-05-15T10:19:15.084696Z"
    },
    "colab": {
     "base_uri": "https://localhost:8080/"
    },
    "id": "nbTUkk4T8-wO",
    "outputId": "8c3ff97e-3e04-4a84-aa98-3b5288d49da2"
   },
   "outputs": [],
   "source": []
  },
  {
   "cell_type": "markdown",
   "metadata": {
    "id": "imop6nNujA6z"
   },
   "source": [
    "найти количество информативных (не `None` или `unknown`) значений в этих колонках:"
   ]
  },
  {
   "cell_type": "code",
   "execution_count": null,
   "metadata": {
    "ExecuteTime": {
     "end_time": "2024-05-15T11:42:14.621948Z",
     "start_time": "2024-05-15T11:42:14.417875Z"
    },
    "colab": {
     "base_uri": "https://localhost:8080/"
    },
    "id": "jtJcBwAVjPHU",
    "outputId": "6708a339-0a22-4c33-f182-6c3f1633ad4a"
   },
   "outputs": [],
   "source": []
  },
  {
   "cell_type": "markdown",
   "metadata": {
    "id": "wFbuTnkbjPeq"
   },
   "source": [
    "удалить данные колонки из датасета, сохранив изменения (в дальнейшем работаем измененным датасетом):"
   ]
  },
  {
   "cell_type": "code",
   "execution_count": null,
   "metadata": {
    "ExecuteTime": {
     "end_time": "2024-05-15T10:33:37.613419Z",
     "start_time": "2024-05-15T10:33:37.302003Z"
    },
    "id": "qSZ5cmKWjutz"
   },
   "outputs": [],
   "source": []
  },
  {
   "cell_type": "markdown",
   "metadata": {
    "id": "JID3q4vr8-2h"
   },
   "source": [
    "Проделайте тоже самое для колонок, начинающихся с `culet_`:"
   ]
  },
  {
   "cell_type": "code",
   "execution_count": null,
   "metadata": {
    "ExecuteTime": {
     "end_time": "2024-05-15T10:37:57.979940Z",
     "start_time": "2024-05-15T10:37:57.850463Z"
    },
    "colab": {
     "base_uri": "https://localhost:8080/"
    },
    "id": "Wfsvzyad-T6P",
    "outputId": "01e0ceda-dac7-40ff-eb39-f68f32b45f22"
   },
   "outputs": [],
   "source": []
  },
  {
   "cell_type": "markdown",
   "metadata": {
    "id": "7_qYv5Xm-UCz"
   },
   "source": [
    "Посчитайте сколько бы стоил (в тысячах долларов) сейф, в котором хранились бы все бриллианты из датасета:"
   ]
  },
  {
   "cell_type": "code",
   "execution_count": null,
   "metadata": {
    "ExecuteTime": {
     "end_time": "2024-05-15T10:26:51.080089Z",
     "start_time": "2024-05-15T10:26:51.070747Z"
    },
    "colab": {
     "base_uri": "https://localhost:8080/"
    },
    "id": "g2wVyz5U-cx7",
    "outputId": "bf0ebd5c-0cd5-4bb4-febe-ab628a779ba9"
   },
   "outputs": [],
   "source": []
  },
  {
   "cell_type": "markdown",
   "metadata": {
    "id": "GVwspHrUkRFv"
   },
   "source": [
    "Немного необоснованных манипуляций."
   ]
  },
  {
   "cell_type": "markdown",
   "metadata": {
    "id": "0j5Yr0mFxxfu"
   },
   "source": [
    "Выберите из датасета строки с четными индексами и выведете значения (не меняя нумерацию индексов):"
   ]
  },
  {
   "cell_type": "code",
   "execution_count": null,
   "metadata": {
    "ExecuteTime": {
     "end_time": "2024-05-15T10:45:59.731283Z",
     "start_time": "2024-05-15T10:45:59.707586Z"
    },
    "colab": {
     "base_uri": "https://localhost:8080/",
     "height": 565
    },
    "id": "dW2GOROfx6yd",
    "outputId": "0fed9c64-3119-43ba-a876-44098cfa621e"
   },
   "outputs": [],
   "source": []
  },
  {
   "cell_type": "markdown",
   "metadata": {
    "id": "mNXqS4oox7TF"
   },
   "source": [
    "А теперь с индексами, кратными 6:"
   ]
  },
  {
   "cell_type": "code",
   "execution_count": null,
   "metadata": {
    "ExecuteTime": {
     "end_time": "2024-05-15T10:46:18.482946Z",
     "start_time": "2024-05-15T10:46:18.457743Z"
    },
    "colab": {
     "base_uri": "https://localhost:8080/",
     "height": 547
    },
    "id": "hy8LyzXix_SB",
    "outputId": "8ef99f53-f8bc-4776-9a63-95e962be31aa"
   },
   "outputs": [],
   "source": []
  },
  {
   "cell_type": "markdown",
   "metadata": {},
   "source": [
    "Выберете из датасета только категорильные признаки и выведете датасет:"
   ]
  },
  {
   "cell_type": "code",
   "execution_count": null,
   "metadata": {},
   "outputs": [],
   "source": []
  },
  {
   "cell_type": "markdown",
   "metadata": {
    "id": "Pz02uapbkbGk"
   },
   "source": [
    "### Построение графиков"
   ]
  },
  {
   "cell_type": "markdown",
   "metadata": {
    "id": "_zhww-rd-c5c"
   },
   "source": [
    "**Требования к графику:**\n",
    "\n",
    "1.   График должен быть подписан\n",
    "2.   Оси должны быть подписаны\n",
    "3.   Должна быть легенда графика\n",
    "4.   График должен быть информативным (желательно без сильных выбросов)\n",
    "\n",
    "**Все надписи на русском языке!**"
   ]
  },
  {
   "cell_type": "markdown",
   "metadata": {
    "id": "mfebCvk0k2mo"
   },
   "source": [
    ">**Примечание**\n",
    ">\n",
    ">График необходимо строить для очищенных данных - в них не должно быть пропусков по осям, по которым строите график. При этом **не перезатирайте** имеющийся датафрейм!"
   ]
  },
  {
   "cell_type": "markdown",
   "metadata": {
    "id": "4R9Rwxdq-l21"
   },
   "source": [
    "Постройте график `цвет бриллианта - стоимость`:"
   ]
  },
  {
   "cell_type": "code",
   "execution_count": null,
   "metadata": {
    "ExecuteTime": {
     "end_time": "2024-05-15T10:29:14.066669Z",
     "start_time": "2024-05-15T10:29:12.723721Z"
    },
    "colab": {
     "base_uri": "https://localhost:8080/",
     "height": 487
    },
    "id": "Fo6I0j5o-vQh",
    "outputId": "dfbdec31-b511-467b-b4a2-49aa3d37216b"
   },
   "outputs": [],
   "source": []
  },
  {
   "cell_type": "markdown",
   "metadata": {
    "id": "W_UgFji5-vWx"
   },
   "source": [
    "Постройте график `лабараторная оценка - кол-во бриллиантов`:"
   ]
  },
  {
   "cell_type": "code",
   "execution_count": null,
   "metadata": {
    "ExecuteTime": {
     "end_time": "2024-05-15T10:14:06.917161Z",
     "start_time": "2024-05-15T10:14:06.616626Z"
    },
    "colab": {
     "base_uri": "https://localhost:8080/",
     "height": 487
    },
    "id": "nyT8-TRb_c24",
    "outputId": "828ffd9c-22f7-472b-fad8-15b51e5f3487"
   },
   "outputs": [],
   "source": []
  },
  {
   "cell_type": "markdown",
   "metadata": {
    "id": "AgsMclnJ_c9H"
   },
   "source": [
    "Постройте график `вес бриллианта - стоимость`:"
   ]
  },
  {
   "cell_type": "code",
   "execution_count": null,
   "metadata": {
    "ExecuteTime": {
     "end_time": "2024-05-15T08:41:06.649728Z",
     "start_time": "2024-05-15T08:41:05.799964Z"
    },
    "colab": {
     "base_uri": "https://localhost:8080/",
     "height": 557
    },
    "id": "tn-x3pwmANQe",
    "outputId": "3868f934-75e7-4adc-812b-5073ce6b3127"
   },
   "outputs": [],
   "source": []
  },
  {
   "cell_type": "markdown",
   "metadata": {
    "id": "0LVC1KfEAwuw"
   },
   "source": [
    "Постройте график `система оценки GIA Cut - кол-во бриллиантов`:"
   ]
  },
  {
   "cell_type": "code",
   "execution_count": null,
   "metadata": {
    "ExecuteTime": {
     "end_time": "2024-05-15T10:41:02.674735Z",
     "start_time": "2024-05-15T10:41:01.679746Z"
    },
    "colab": {
     "base_uri": "https://localhost:8080/",
     "height": 487
    },
    "id": "IeuLooSIA232",
    "outputId": "5cecc135-b5f4-48d9-d65f-57047511ecba"
   },
   "outputs": [],
   "source": []
  },
  {
   "cell_type": "markdown",
   "metadata": {},
   "source": [
    "Сделайте выводы по построенным графикам"
   ]
  },
  {
   "cell_type": "markdown",
   "metadata": {},
   "source": []
  }
 ],
 "metadata": {
  "colab": {
   "provenance": [],
   "toc_visible": true
  },
  "kernelspec": {
   "display_name": "Python 3 (ipykernel)",
   "language": "python",
   "name": "python3"
  },
  "language_info": {
   "codemirror_mode": {
    "name": "ipython",
    "version": 3
   },
   "file_extension": ".py",
   "mimetype": "text/x-python",
   "name": "python",
   "nbconvert_exporter": "python",
   "pygments_lexer": "ipython3",
   "version": "3.10.8"
  },
  "toc": {
   "base_numbering": 1,
   "nav_menu": {},
   "number_sections": true,
   "sideBar": true,
   "skip_h1_title": false,
   "title_cell": "Table of Contents",
   "title_sidebar": "Contents",
   "toc_cell": false,
   "toc_position": {},
   "toc_section_display": true,
   "toc_window_display": false
  }
 },
 "nbformat": 4,
 "nbformat_minor": 1
}
