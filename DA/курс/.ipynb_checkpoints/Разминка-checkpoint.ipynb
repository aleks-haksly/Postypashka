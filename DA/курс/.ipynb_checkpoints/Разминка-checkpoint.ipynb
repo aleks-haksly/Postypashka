{
 "cells": [
  {
   "cell_type": "markdown",
   "metadata": {},
   "source": [
    "## Задание\n",
    "Реализуйте функцию, которая получает число и находит сколько нулей будет факториале от числа. Факториал чисал n - это $ n! = n * (n - 1)! $, где база индукции $ 1! = 1, 0! = 1 $. Также можно увидеть запись $ n! = n * (n - 1) * ... * 2 * 1 $.\n",
    "\n",
    "Пример факториала пяти: $ 5! = 5 * 4 * 3 * 2 * 1 = 120 $\n",
    "\n",
    "Примеры:\n",
    "\n",
    "1) От минимального значения\n",
    "    ```python\n",
    "    n = 0 \n",
    "    count_zero(n) -> 0\n",
    "    ```\n",
    "\n",
    "2) От 25\n",
    "    ```python\n",
    "    n = 25\n",
    "    count_zero(n) -> 6\n",
    "    ```\n",
    "\n",
    "3) От 125\n",
    "\n",
    "    ```python\n",
    "    n = 125\n",
    "    count_zero(n) -> 31\n",
    "    ```"
   ]
  },
  {
   "cell_type": "code",
   "execution_count": 95,
   "metadata": {},
   "outputs": [],
   "source": [
    "def count_zero(n: int):\n",
    "    i = 5\n",
    "    res = 0\n",
    "    while i <= n:\n",
    "        res += (n // i)\n",
    "        i *= 5\n",
    "    return res"
   ]
  },
  {
   "cell_type": "markdown",
   "metadata": {},
   "source": [
    "## Задание\n",
    "\n",
    "Пусть у нас есть список состоящий из имён. Отсоритруйте массив в обратной лексиграфическому (то есть от Я до А).\n",
    "\n",
    "```python \n",
    "    # Функция, которая решает задачу\n",
    "    def revers_sorted(list_name):\n",
    "        ...\n",
    "    \n",
    "    a = [\"Яна\", \"Аня\", \"Том\"]\n",
    "    revers_sorted(a)\n",
    "    # После вызова revers_sorted(a) будет напечатано [\"Яна\", \"Том\", \"Аня\"]\n",
    "```"
   ]
  },
  {
   "cell_type": "markdown",
   "metadata": {},
   "source": [
    "## Задание 3\n",
    "\n",
    "Нарисуйте график, зависимости частот встречания каждого числа. А также чтобы на графике было видна гистограмма. \n",
    "Список, который нам понабится: \n",
    "```python\n",
    "a = [1, 2, 1, 2, 1, 2, 6, 3, 4, 5 ,5]\n",
    "```"
   ]
  },
  {
   "cell_type": "code",
   "execution_count": 43,
   "metadata": {},
   "outputs": [
    {
     "name": "stdout",
     "output_type": "stream",
     "text": [
      "(array([1, 2, 3, 4, 5, 6]), array([3, 3, 1, 1, 2, 1]))\n",
      "CPU times: user 768 µs, sys: 1.64 ms, total: 2.41 ms\n",
      "Wall time: 1.55 ms\n"
     ]
    },
    {
     "data": {
      "text/plain": [
       "[<matplotlib.lines.Line2D at 0x1771f4790>]"
      ]
     },
     "execution_count": 43,
     "metadata": {},
     "output_type": "execute_result"
    },
    {
     "data": {
      "image/png": "[encoded data removed]",
      "text/plain": [
       "<Figure size 640x480 with 1 Axes>"
      ]
     },
     "metadata": {},
     "output_type": "display_data"
    }
   ],
   "source": [
    "import matplotlib.pyplot as plt\n",
    "import seaborn as sns\n",
    "import numpy as np\n",
    "\n",
    "a = [1, 2, 1, 2, 1, 2, 6, 3, 4, 5 ,5]\n",
    "%time print(np.unique(a, return_counts=True))\n",
    "#plt.hist(a, align='center', linewidth=2, bins=20)\n",
    "labels, counts = np.unique(a, return_counts=True)\n",
    "plt.bar(labels, counts, align='center', width=0.3)\n",
    "plt.plot(labels, counts, color='orange') #[3, 3, 3, 1, 1, 1, 2])\n"
   ]
  },
  {
   "cell_type": "markdown",
   "metadata": {},
   "source": [
    "## Задание  4\n",
    "\n",
    "В данном задании необходимо реализовать функцию суммирования, которая принимает двумерную матрицу и наша функция может принимать произвольную функцию, которая будет применятся к каждому элементу.\n",
    "1) Используя стандартные библиотеки Python. \n",
    "\n",
    "    Пример 1:\n",
    "\n",
    "    ```python\n",
    "    a = [[1, 2], [3, 4]]\n",
    "    my_sum(a) -> 10 \n",
    "    my_sum(a, operator=math.log) -> 3.1780538303479458\n",
    "    ```\n",
    "\n",
    "    *Усложнение: Матрицу любой размерности\n",
    "    \n",
    "    Пример 2:\n",
    "\n",
    "    ```python\n",
    "    a = [[[1, 2, 4], [1, 2, 3]], [[2, 3, 4], [2, 3, 4]]]\n",
    "    my_sum(a) -> 31 \n",
    "    my_sum(a, operator=math.log) -> 10.227308671603781\n",
    "    ```\n",
    "    \n",
    "2) Используя Numpy. Создайте свой виртуальное окружение, установите Numpy: `pip install numpy`, либо воспользуйтесь Anaconda или Google Colab.\n",
    "\n",
    "    Примеры: Работать должно также как и в первом пункте!\n"
   ]
  },
  {
   "cell_type": "code",
   "execution_count": 93,
   "metadata": {},
   "outputs": [],
   "source": [
    "# Реализация пункта 1\n",
    "def my_sum1(a, operator=lambda x: x):\n",
    "    return sum(sum(map(operator, line)) for line in a)\n",
    "\n",
    "def my_sum2(a, operator=lambda x: x):\n",
    "    try:\n",
    "        return sum([my_sum2(i, operator=operator) for i in a])\n",
    "    except:\n",
    "        return operator(a)"
   ]
  },
  {
   "cell_type": "code",
   "execution_count": 99,
   "metadata": {},
   "outputs": [],
   "source": [
    "# Реализация пункта 2\n",
    "import numpy as np\n",
    "\n",
    "def my_sum3(arr, operator=lambda x: x):\n",
    "    np_operator = np.vectorize(operator)\n",
    "    return np_operator(arr).sum()\n"
   ]
  },
  {
   "cell_type": "markdown",
   "metadata": {},
   "source": [
    "## Задание6 \n",
    "\n",
    "Нарисуйте плотность(pdf) и функции распределния(cdf) нормально респределения раздельно (два axes)"
   ]
  },
  {
   "cell_type": "code",
   "execution_count": null,
   "metadata": {},
   "outputs": [],
   "source": []
  },
  {
   "cell_type": "markdown",
   "metadata": {},
   "source": [
    "## Задание 7\n",
    "\n",
    "Сгенерируйте массив имеющий треугольное распределение, чрезе стандартный модуль ```random``` и через модуль ```numpy```, с разными параметрами(количество элементов может быть одинаковое, но мода, начало и конец должны быть разными). Провизуализируйте через ```matplotlib.pyplot``` на одном графике через гистограммы, а также покажите на одном графике, как должен выглядить распределение при каждом наборе параметров через непрерывные кривые. \n",
    "\n",
    "* Зафиксируйте генераторы псевдослучайных чисел на параметре 97. (seed(97))\n",
    "* Сгенерируйте треугольное распределение через модуль ```random``` с параметрами: $ start = 1, end = 100, mode = 90$\n",
    "* Сгенерируйте треугольное распределение через модуль ```numpy``` и ```scipy``` с параметрами: $ start = -3, end = 20, mode = 0$"
   ]
  },
  {
   "cell_type": "code",
   "execution_count": 253,
   "metadata": {},
   "outputs": [
    {
     "data": {
      "image/png": "[encoded data removed]",
      "text/plain": [
       "<Figure size 640x480 with 1 Axes>"
      ]
     },
     "metadata": {},
     "output_type": "display_data"
    }
   ],
   "source": [
    "import random\n",
    "import numpy as np\n",
    "import matplotlib.pyplot as plt\n",
    "import scipy.stats as sps\n",
    "\n",
    "random.seed(97)\n",
    "np.random.seed(97)\n",
    "\n",
    "low = 1\n",
    "high = 100\n",
    "mode = 90\n",
    "\n",
    "c = (mode - low) / (high - low)\n",
    "loc = low\n",
    "scale = high - low\n",
    "\n",
    "triangular_distribution = [random.triangular(low, high, mode) for _ in range(100000)]\n",
    "grid = np.linspace(loc, high, 100) \n",
    "plt.plot(grid, sps.triang.pdf(grid, c, loc, scale), 'r-')\n",
    "plt.hist(triangular_distribution, bins=2000, density=True)\n",
    "plt.axvline(90, color='red', linestyle=\"--\", lw=2)\n",
    "plt.scatter([90], [max(sps.triang.pdf(grid, c, loc, scale))], color=\"red\");\n",
    "\n",
    "grid = np.linspace(-3, 20, 100)\n",
    "plt.hist(np.random.triangular(-3, 0, 20, 100000), bins=2000, density=True)\n",
    "plt.plot(grid, sps.triang.pdf(grid, 3/23, -3, 23), 'b-')\n",
    "plt.axvline(0, color='blue', linestyle=\"--\", lw=2)\n",
    "plt.scatter([0], [max(sps.triang.pdf(grid, 3/23, -3, 23))], color=\"blue\");\n",
    "\n",
    "plt.suptitle(\"Треугольное распределение\")\n",
    "plt.show()\n"
   ]
  },
  {
   "cell_type": "markdown",
   "metadata": {},
   "source": [
    "## Задание 8\n",
    "\n",
    "Приложена CSV файл и вам необходимо будет провести минимальную аналитику.\n",
    "Все данные этой задачи сгенерированы и не имеют ничего общего с реальностью. В данных специально где-то что-то запрятано и выбрано!\n",
    "\n",
    "Вводные: В некотором регионе проводился опрос, где собирали следующие информацию:\n",
    "\n",
    "* Доход\n",
    "* Возрост\n",
    "* Ощущение социального уровня\n",
    "* и т.д.\n",
    "\n",
    "1. Соберите среднии значения по каждому показателю\n",
    "2. Собрать информацию об отклонениях(воспользуйтесь дисперсией)\n",
    "3. Убрать не нужные поля и скзать почему\n",
    "4. Собрать информацию о пустых значениях и пропусках\n",
    "5. Провести фильтрацию(заполнить пустые значения средними значениями) \n",
    "6. Выявить аномалии, по значениям\n",
    "7. Скажите какую-то информацию о регионе и о опрошенных\n",
    "8. Что-то сказать о распредлении и корреляции между значенями"
   ]
  },
  {
   "cell_type": "code",
   "execution_count": 112,
   "metadata": {},
   "outputs": [
    {
     "name": "stdout",
     "output_type": "stream",
     "text": [
      "10\n"
     ]
    }
   ],
   "source": [
    "import pandas as pd\n",
    "import numpy as np\n",
    "import scipy.stats as sps\n",
    "\n",
    "np.random.seed = 68\n",
    "\n",
    "person = range(1000)\n",
    "income = np.concatenate([np.random.chisquare(80000, size=670), np.random.normal(140000, 20000, size=280).astype(int), np.zeros(50)])\n",
    "t = np.concatenate([np.random.normal(36.6, 5, 998), np.zeros(2)])\n",
    "_age = np.array(range(16, 76))\n",
    "age = np.random.chisquare(40, size=1000).astype(int)\n",
    "_city = np.asarray([\"Москва\"] * 50 + [\"Cочи\"] * 180 + [\"Краснодар\"] * 630 + [\"Тихорецк\"] * 60 + [\"Булореченск\"] * 80)\n",
    "high_school = np.concatenate([np.random.binomial(1, 0.3, size=930), np.full(70, np.nan)])\n",
    "sex = np.asarray([\"Женщины\"] * 650 + [\"Мужчины\"] * 300 + [\"Трансформеры Д\"] * 50)\n",
    "level = np.random.chisquare(0.5, 1000).astype(int)\n",
    "df = pd.DataFrame({\"income\": income, \"t\": t, \"age\": age,\"_city\": _city,\"high_school\": high_school,\"sex\": sex, \"level\": level}, index=person)\n",
    "df.sample(frac=1).to_csv(\"survey.csv\", encoding='utf-8')"
   ]
  },
  {
   "cell_type": "code",
   "execution_count": null,
   "metadata": {},
   "outputs": [],
   "source": []
  }
 ],
 "metadata": {
  "kernelspec": {
   "display_name": "Python 3 (ipykernel)",
   "language": "python",
   "name": "python3"
  },
  "language_info": {
   "codemirror_mode": {
    "name": "ipython",
    "version": 3
   },
   "file_extension": ".py",
   "mimetype": "text/x-python",
   "name": "python",
   "nbconvert_exporter": "python",
   "pygments_lexer": "ipython3",
   "version": "3.10.8"
  },
  "toc": {
   "base_numbering": 1,
   "nav_menu": {},
   "number_sections": true,
   "sideBar": true,
   "skip_h1_title": false,
   "title_cell": "Table of Contents",
   "title_sidebar": "Contents",
   "toc_cell": false,
   "toc_position": {},
   "toc_section_display": true,
   "toc_window_display": false
  }
 },
 "nbformat": 4,
 "nbformat_minor": 2
}
