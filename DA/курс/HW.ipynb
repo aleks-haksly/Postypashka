{
 "cells": [
  {
   "cell_type": "code",
   "execution_count": null,
   "metadata": {
    "ExecuteTime": {
     "end_time": "2024-05-14T21:38:46.578163Z",
     "start_time": "2024-05-14T21:38:40.641188Z"
    },
    "id": "1qzEqvohoZfB"
   },
   "outputs": [],
   "source": [
    "# Всё необходимое для выполнения данной лабораторной работы!\n",
    "import requests\n",
    "from time import sleep\n",
    "\n",
    "import geopandas as gp\n",
    "import numpy as np\n",
    "import pandas as pd\n",
    "import matplotlib.pyplot as plt\n",
    "import seaborn as sns"
   ]
  },
  {
   "cell_type": "markdown",
   "metadata": {
    "id": "rB_FYHU2k8w-"
   },
   "source": [
    "## Задание Парсинг"
   ]
  },
  {
   "cell_type": "markdown",
   "metadata": {
    "id": "F0gr5cjaoQJy"
   },
   "source": [
    "В этом задании Вам предстоит работать с API сайта <a target=\"_blank\" href=\"hh.ru\">hh.ru</a>. Документация доступна по <a target=\"_blank\" href=\"https://github.com/hhru/api/blob/master/docs/vacancies.md#search\">ссылке</a>."
   ]
  },
  {
   "cell_type": "markdown",
   "metadata": {
    "id": "v8iCQYk7TNvK"
   },
   "source": [
    "<b><font color=\"red\">Внимание!</font> При работе с API не забывайте делать паузы между запросами, иначе вас забанят. Просрочка дедлайна по этой причине не принимается!</b>"
   ]
  },
  {
   "cell_type": "markdown",
   "metadata": {
    "id": "-HAm80rqRqAZ"
   },
   "source": [
    "**Задача:**\n",
    "1. выбрать 5 интересующих вас профессий (не смежных, т.е. Аналатик и Data Engineer не считается корректным)\n",
    "2. затем получить доступные по данным профессиям вакансии в Москве и выделить их физические координаты\n",
    "3. нанести полученные координаты на карту местоположения компаний"
   ]
  },
  {
   "cell_type": "markdown",
   "metadata": {
    "id": "H0GhQJvipXYj"
   },
   "source": [
    "*Пример запроса для профессии:*"
   ]
  },
  {
   "cell_type": "code",
   "execution_count": null,
   "metadata": {
    "ExecuteTime": {
     "end_time": "2024-05-15T15:01:34.153176Z",
     "start_time": "2024-05-15T15:01:33.975266Z"
    },
    "colab": {
     "base_uri": "https://localhost:8080/"
    },
    "id": "aZLGoS_DpsXI",
    "outputId": "dae1cb2d-b2e7-47e1-95be-40e8b68d1b46"
   },
   "outputs": [
    {
     "data": {
      "text/plain": [
       "{'items': [],\n",
       " 'found': 0,\n",
       " 'pages': 1,\n",
       " 'page': 0,\n",
       " 'per_page': 10,\n",
       " 'clusters': None,\n",
       " 'arguments': None,\n",
       " 'fixes': None,\n",
       " 'suggests': None,\n",
       " 'alternate_url': 'https://hh.ru/search/vacancy?area=1&enable_snippets=true&items_on_page=10&text=%D0%A4%D0%B8%D0%B7%D0%B8%D0%BA-%D1%8F%D0%B4%D0%B5%D1%80%D1%89%D0%B8%D0%BA'}"
      ]
     },
     "execution_count": 18,
     "metadata": {},
     "output_type": "execute_result"
    }
   ],
   "source": [
    "URL = 'https://api.hh.ru/vacancies'\n",
    "\n",
    "params = {\n",
    "    'text': \"Физик-ядерщик\",\n",
    "    'area': 1,\n",
    "    'page': 0,\n",
    "    'per_page': 10\n",
    "}\n",
    "\n",
    "data = requests.get(URL, params).json()\n",
    "data"
   ]
  },
  {
   "cell_type": "markdown",
   "metadata": {
    "id": "yHQtIBRQp91_"
   },
   "source": [
    "Если Ваш запрос прошел успешно, то вы получите следующие ключи (значения данных ключей вы найдете по ссылке на документацию):"
   ]
  },
  {
   "cell_type": "code",
   "execution_count": null,
   "metadata": {
    "ExecuteTime": {
     "end_time": "2024-05-15T15:01:45.574171Z",
     "start_time": "2024-05-15T15:01:45.555159Z"
    },
    "colab": {
     "base_uri": "https://localhost:8080/"
    },
    "id": "DW6mxzggpvKw",
    "outputId": "60509ad4-6597-4375-9416-0dc61a895c8e"
   },
   "outputs": [
    {
     "data": {
      "text/plain": [
       "dict_keys(['items', 'found', 'pages', 'page', 'per_page', 'clusters', 'arguments', 'fixes', 'suggests', 'alternate_url'])"
      ]
     },
     "execution_count": 19,
     "metadata": {},
     "output_type": "execute_result"
    }
   ],
   "source": [
    "data.keys()"
   ]
  },
  {
   "cell_type": "markdown",
   "metadata": {
    "id": "JWvkFrh9qhkj"
   },
   "source": [
    "Выберете для нас 5 наиболее интересных специальностей и получите по ним имеющиеся вакансии:"
   ]
  },
  {
   "cell_type": "code",
   "execution_count": null,
   "metadata": {
    "ExecuteTime": {
     "end_time": "2024-05-15T15:47:20.186258Z",
     "start_time": "2024-05-15T15:46:51.470448Z"
    },
    "id": "_Nm-vyiBqugq"
   },
   "outputs": [],
   "source": []
  },
  {
   "cell_type": "markdown",
   "metadata": {
    "id": "g0bdgyNWquuY"
   },
   "source": [
    "Посчитайте сколько всего найдено вакансий:"
   ]
  },
  {
   "cell_type": "code",
   "execution_count": null,
   "metadata": {
    "ExecuteTime": {
     "end_time": "2024-05-15T15:14:38.868539Z",
     "start_time": "2024-05-15T15:14:38.824906Z"
    },
    "colab": {
     "base_uri": "https://localhost:8080/"
    },
    "id": "lxyXtIs6q5cc",
    "outputId": "a2ae411b-dcef-46a8-f976-0138a57d5d60"
   },
   "outputs": [],
   "source": []
  },
  {
   "cell_type": "markdown",
   "metadata": {
    "id": "wQeULnNyq5wk"
   },
   "source": [
    "Создайте структуру данных, которая будет хранить в себе имя компании и ее координаты (широта и долгота):"
   ]
  },
  {
   "cell_type": "code",
   "execution_count": null,
   "metadata": {
    "ExecuteTime": {
     "end_time": "2024-05-15T15:24:37.331297Z",
     "start_time": "2024-05-15T15:24:37.301272Z"
    },
    "id": "aR501yltVdLm"
   },
   "outputs": [],
   "source": []
  },
  {
   "cell_type": "markdown",
   "metadata": {
    "id": "ccIi3wIvVkG0"
   },
   "source": [
    "Создайте экземпляр этой структуры данных для каждой компании, которая выставила вакансию:"
   ]
  },
  {
   "cell_type": "code",
   "execution_count": null,
   "metadata": {
    "ExecuteTime": {
     "end_time": "2024-05-15T15:24:38.870106Z",
     "start_time": "2024-05-15T15:24:38.555752Z"
    },
    "id": "tR6mYW7jtcCQ"
   },
   "outputs": [],
   "source": []
  },
  {
   "cell_type": "markdown",
   "metadata": {
    "id": "SyBpNd0vtcNu"
   },
   "source": [
    "Найдите количество вакансий, у которых заданы координаты (значения данных может быть пустым):"
   ]
  },
  {
   "cell_type": "code",
   "execution_count": null,
   "metadata": {
    "ExecuteTime": {
     "end_time": "2024-05-15T15:40:59.604269Z",
     "start_time": "2024-05-15T15:40:59.429739Z"
    },
    "colab": {
     "base_uri": "https://localhost:8080/"
    },
    "id": "lVgNCVALt2qJ",
    "outputId": "b6b5b941-2be2-46e3-ff21-046af8838a12"
   },
   "outputs": [],
   "source": []
  },
  {
   "cell_type": "markdown",
   "metadata": {
    "id": "aWNXrM-cu5Vi"
   },
   "source": [
    "Отберите вакансии, которые расположены в пределах МКАД (можно грубо):"
   ]
  },
  {
   "cell_type": "code",
   "execution_count": null,
   "metadata": {
    "ExecuteTime": {
     "end_time": "2024-05-15T15:49:38.798920Z",
     "start_time": "2024-05-15T15:49:38.747894Z"
    },
    "id": "01g9wVEyyn-J"
   },
   "outputs": [],
   "source": []
  },
  {
   "cell_type": "markdown",
   "metadata": {
    "id": "4LCb9IL_bgB_"
   },
   "source": [
    "Постройте график в координатах \"широта-долгота\" для отображения вакансий внутри МКАД (не забывайте прописать прозрачность, чтобы увидеть скопления):"
   ]
  },
  {
   "cell_type": "code",
   "execution_count": null,
   "metadata": {
    "ExecuteTime": {
     "end_time": "2024-05-15T15:51:07.021308Z",
     "start_time": "2024-05-15T15:51:06.706890Z"
    },
    "colab": {
     "base_uri": "https://localhost:8080/",
     "height": 449
    },
    "id": "6ogiXDvKcDV8",
    "outputId": "e2138d71-a88c-4775-ad78-d33d7354e6ee"
   },
   "outputs": [],
   "source": []
  },
  {
   "cell_type": "markdown",
   "metadata": {
    "id": "wVcCTF_Zz58q"
   },
   "source": [
    "## Задание "
   ]
  },
  {
   "cell_type": "markdown",
   "metadata": {
    "id": "lii5YFuucxR2"
   },
   "source": [
    "Вам предстоит проанализировать датасет, содержащий информацию об бриллианта, их стоимости и остальных характеристиках."
   ]
  },
  {
   "cell_type": "markdown",
   "metadata": {
    "id": "CvEO3-NI0Gez"
   },
   "source": [
    "\n",
    "\n",
    "Поясним значения хранящиеся в колонках:\n",
    "*   `cut` - огранка бриллианта (относится к одной из примерно 10 наиболее распространенных)\n",
    "*   `color` - цвет бриллианта, прозрачные бриллианты имеют градацию `D-Z`, \"более высокие\" буквы - более желтоватые, но часто имеют лучшие значения, поскольку цвет трудно определить один раз в кольце\n",
    "*   `clarity` - чистота бриллианта, наличие включений (внутренних дефектов), чем меньше и мельче, тем лучше\n",
    "*   `carat_weight` - масса бриллианта (слабо связана с размером бриллианта, т.к. огранка и качество огранки, как правило, играют большую роль)\n",
    "*   `cut_quality` - качество ограники по системе оценки GIA Cut\n",
    "*   `lab` - лаборатория оценивания\n",
    "*   `meas_length` - длина бриллианта\n",
    "*   `meas_width` - ширина бриллианта\n",
    "*   `meas_depth` - глубина бриллианта\n",
    "*   `total_sales_price` - цена бриллианта в долларах.\n",
    "*    **и прочие колонки**"
   ]
  },
  {
   "cell_type": "markdown",
   "metadata": {
    "id": "7mK1QntN6ZXh"
   },
   "source": [
    "Скачаем данные:"
   ]
  },
  {
   "cell_type": "code",
   "execution_count": null,
   "metadata": {
    "ExecuteTime": {
     "end_time": "2024-05-14T21:42:39.072647Z",
     "start_time": "2024-05-14T21:42:39.042057Z"
    },
    "colab": {
     "base_uri": "https://localhost:8080/"
    },
    "id": "LnCK3gCoebjw",
    "outputId": "cdd2ef58-d1a4-4b3d-902c-b02f9b836d12"
   },
   "outputs": [
    {
     "name": "stdout",
     "output_type": "stream",
     "text": [
      "Downloading...\n",
      "From: https://drive.google.com/uc?id=10OJ30qlkE-7zK4JuVTDMY3U4nRB4tu_8\n",
      "To: /content/diamonds.csv\n",
      "100% 35.4M/35.4M [00:00<00:00, 160MB/s]\n"
     ]
    }
   ],
   "source": [
    "!gdown 10OJ30qlkE-7zK4JuVTDMY3U4nRB4tu_8"
   ]
  },
  {
   "cell_type": "markdown",
   "metadata": {
    "id": "wfSqVYoIfi3-"
   },
   "source": [
    "Создадим DataFrame:"
   ]
  },
  {
   "cell_type": "code",
   "execution_count": null,
   "metadata": {
    "ExecuteTime": {
     "end_time": "2024-05-15T11:35:39.818342Z",
     "start_time": "2024-05-15T11:35:39.179932Z"
    },
    "colab": {
     "base_uri": "https://localhost:8080/",
     "height": 582
    },
    "id": "cDgRJzRp6Ow4",
    "outputId": "39d2906a-4f21-4185-cc02-4d5efff9ada6",
    "scrolled": true
   },
   "outputs": [
    {
     "data": {
      "application/vnd.google.colaboratory.intrinsic+json": {
       "type": "dataframe",
       "variable_name": "diamonds"
      },
      "text/html": [
       "\n",
       "  <div id=\"df-5138bcf1-7544-46e7-b345-ec5957fbb4df\" class=\"colab-df-container\">\n",
       "    <div>\n",
       "<style scoped>\n",
       "    .dataframe tbody tr th:only-of-type {\n",
       "        vertical-align: middle;\n",
       "    }\n",
       "\n",
       "    .dataframe tbody tr th {\n",
       "        vertical-align: top;\n",
       "    }\n",
       "\n",
       "    .dataframe thead th {\n",
       "        text-align: right;\n",
       "    }\n",
       "</style>\n",
       "<table border=\"1\" class=\"dataframe\">\n",
       "  <thead>\n",
       "    <tr style=\"text-align: right;\">\n",
       "      <th></th>\n",
       "      <th>Unnamed: 0</th>\n",
       "      <th>cut</th>\n",
       "      <th>color</th>\n",
       "      <th>clarity</th>\n",
       "      <th>carat_weight</th>\n",
       "      <th>cut_quality</th>\n",
       "      <th>lab</th>\n",
       "      <th>symmetry</th>\n",
       "      <th>polish</th>\n",
       "      <th>eye_clean</th>\n",
       "      <th>...</th>\n",
       "      <th>meas_depth</th>\n",
       "      <th>girdle_min</th>\n",
       "      <th>girdle_max</th>\n",
       "      <th>fluor_color</th>\n",
       "      <th>fluor_intensity</th>\n",
       "      <th>fancy_color_dominant_color</th>\n",
       "      <th>fancy_color_secondary_color</th>\n",
       "      <th>fancy_color_overtone</th>\n",
       "      <th>fancy_color_intensity</th>\n",
       "      <th>total_sales_price</th>\n",
       "    </tr>\n",
       "  </thead>\n",
       "  <tbody>\n",
       "    <tr>\n",
       "      <th>0</th>\n",
       "      <td>0</td>\n",
       "      <td>Round</td>\n",
       "      <td>E</td>\n",
       "      <td>VVS2</td>\n",
       "      <td>0.09</td>\n",
       "      <td>Excellent</td>\n",
       "      <td>IGI</td>\n",
       "      <td>Very Good</td>\n",
       "      <td>Very Good</td>\n",
       "      <td>unknown</td>\n",
       "      <td>...</td>\n",
       "      <td>1.79</td>\n",
       "      <td>M</td>\n",
       "      <td>M</td>\n",
       "      <td>unknown</td>\n",
       "      <td>NaN</td>\n",
       "      <td>unknown</td>\n",
       "      <td>unknown</td>\n",
       "      <td>unknown</td>\n",
       "      <td>unknown</td>\n",
       "      <td>200</td>\n",
       "    </tr>\n",
       "    <tr>\n",
       "      <th>1</th>\n",
       "      <td>1</td>\n",
       "      <td>Round</td>\n",
       "      <td>E</td>\n",
       "      <td>VVS2</td>\n",
       "      <td>0.09</td>\n",
       "      <td>Very Good</td>\n",
       "      <td>IGI</td>\n",
       "      <td>Very Good</td>\n",
       "      <td>Very Good</td>\n",
       "      <td>unknown</td>\n",
       "      <td>...</td>\n",
       "      <td>1.78</td>\n",
       "      <td>STK</td>\n",
       "      <td>STK</td>\n",
       "      <td>unknown</td>\n",
       "      <td>NaN</td>\n",
       "      <td>unknown</td>\n",
       "      <td>unknown</td>\n",
       "      <td>unknown</td>\n",
       "      <td>unknown</td>\n",
       "      <td>200</td>\n",
       "    </tr>\n",
       "    <tr>\n",
       "      <th>2</th>\n",
       "      <td>2</td>\n",
       "      <td>Round</td>\n",
       "      <td>E</td>\n",
       "      <td>VVS2</td>\n",
       "      <td>0.09</td>\n",
       "      <td>Excellent</td>\n",
       "      <td>IGI</td>\n",
       "      <td>Very Good</td>\n",
       "      <td>Very Good</td>\n",
       "      <td>unknown</td>\n",
       "      <td>...</td>\n",
       "      <td>1.77</td>\n",
       "      <td>TN</td>\n",
       "      <td>M</td>\n",
       "      <td>unknown</td>\n",
       "      <td>NaN</td>\n",
       "      <td>unknown</td>\n",
       "      <td>unknown</td>\n",
       "      <td>unknown</td>\n",
       "      <td>unknown</td>\n",
       "      <td>200</td>\n",
       "    </tr>\n",
       "    <tr>\n",
       "      <th>3</th>\n",
       "      <td>3</td>\n",
       "      <td>Round</td>\n",
       "      <td>E</td>\n",
       "      <td>VVS2</td>\n",
       "      <td>0.09</td>\n",
       "      <td>Excellent</td>\n",
       "      <td>IGI</td>\n",
       "      <td>Very Good</td>\n",
       "      <td>Very Good</td>\n",
       "      <td>unknown</td>\n",
       "      <td>...</td>\n",
       "      <td>1.78</td>\n",
       "      <td>M</td>\n",
       "      <td>STK</td>\n",
       "      <td>unknown</td>\n",
       "      <td>NaN</td>\n",
       "      <td>unknown</td>\n",
       "      <td>unknown</td>\n",
       "      <td>unknown</td>\n",
       "      <td>unknown</td>\n",
       "      <td>200</td>\n",
       "    </tr>\n",
       "    <tr>\n",
       "      <th>4</th>\n",
       "      <td>4</td>\n",
       "      <td>Round</td>\n",
       "      <td>E</td>\n",
       "      <td>VVS2</td>\n",
       "      <td>0.09</td>\n",
       "      <td>Very Good</td>\n",
       "      <td>IGI</td>\n",
       "      <td>Very Good</td>\n",
       "      <td>Excellent</td>\n",
       "      <td>unknown</td>\n",
       "      <td>...</td>\n",
       "      <td>1.82</td>\n",
       "      <td>STK</td>\n",
       "      <td>STK</td>\n",
       "      <td>unknown</td>\n",
       "      <td>NaN</td>\n",
       "      <td>unknown</td>\n",
       "      <td>unknown</td>\n",
       "      <td>unknown</td>\n",
       "      <td>unknown</td>\n",
       "      <td>200</td>\n",
       "    </tr>\n",
       "    <tr>\n",
       "      <th>...</th>\n",
       "      <td>...</td>\n",
       "      <td>...</td>\n",
       "      <td>...</td>\n",
       "      <td>...</td>\n",
       "      <td>...</td>\n",
       "      <td>...</td>\n",
       "      <td>...</td>\n",
       "      <td>...</td>\n",
       "      <td>...</td>\n",
       "      <td>...</td>\n",
       "      <td>...</td>\n",
       "      <td>...</td>\n",
       "      <td>...</td>\n",
       "      <td>...</td>\n",
       "      <td>...</td>\n",
       "      <td>...</td>\n",
       "      <td>...</td>\n",
       "      <td>...</td>\n",
       "      <td>...</td>\n",
       "      <td>...</td>\n",
       "      <td>...</td>\n",
       "    </tr>\n",
       "    <tr>\n",
       "      <th>219698</th>\n",
       "      <td>219699</td>\n",
       "      <td>Round</td>\n",
       "      <td>E</td>\n",
       "      <td>VS1</td>\n",
       "      <td>10.65</td>\n",
       "      <td>Excellent</td>\n",
       "      <td>GIA</td>\n",
       "      <td>Excellent</td>\n",
       "      <td>Excellent</td>\n",
       "      <td>unknown</td>\n",
       "      <td>...</td>\n",
       "      <td>8.66</td>\n",
       "      <td>M</td>\n",
       "      <td>STK</td>\n",
       "      <td>unknown</td>\n",
       "      <td>NaN</td>\n",
       "      <td>unknown</td>\n",
       "      <td>unknown</td>\n",
       "      <td>unknown</td>\n",
       "      <td>unknown</td>\n",
       "      <td>1210692</td>\n",
       "    </tr>\n",
       "    <tr>\n",
       "      <th>219699</th>\n",
       "      <td>219700</td>\n",
       "      <td>Radiant</td>\n",
       "      <td>unknown</td>\n",
       "      <td>VS2</td>\n",
       "      <td>5.17</td>\n",
       "      <td>unknown</td>\n",
       "      <td>GIA</td>\n",
       "      <td>Very Good</td>\n",
       "      <td>Very Good</td>\n",
       "      <td>unknown</td>\n",
       "      <td>...</td>\n",
       "      <td>5.71</td>\n",
       "      <td>TK</td>\n",
       "      <td>XTK</td>\n",
       "      <td>unknown</td>\n",
       "      <td>NaN</td>\n",
       "      <td>Green</td>\n",
       "      <td>unknown</td>\n",
       "      <td>NaN</td>\n",
       "      <td>Fancy Light</td>\n",
       "      <td>1292500</td>\n",
       "    </tr>\n",
       "    <tr>\n",
       "      <th>219700</th>\n",
       "      <td>219701</td>\n",
       "      <td>Round</td>\n",
       "      <td>E</td>\n",
       "      <td>VS1</td>\n",
       "      <td>18.07</td>\n",
       "      <td>Excellent</td>\n",
       "      <td>GIA</td>\n",
       "      <td>Excellent</td>\n",
       "      <td>Excellent</td>\n",
       "      <td>unknown</td>\n",
       "      <td>...</td>\n",
       "      <td>10.20</td>\n",
       "      <td>TN</td>\n",
       "      <td>M</td>\n",
       "      <td>unknown</td>\n",
       "      <td>NaN</td>\n",
       "      <td>unknown</td>\n",
       "      <td>unknown</td>\n",
       "      <td>unknown</td>\n",
       "      <td>unknown</td>\n",
       "      <td>1315496</td>\n",
       "    </tr>\n",
       "    <tr>\n",
       "      <th>219701</th>\n",
       "      <td>219702</td>\n",
       "      <td>Princess</td>\n",
       "      <td>unknown</td>\n",
       "      <td>SI2</td>\n",
       "      <td>0.90</td>\n",
       "      <td>unknown</td>\n",
       "      <td>GIA</td>\n",
       "      <td>Good</td>\n",
       "      <td>Good</td>\n",
       "      <td>unknown</td>\n",
       "      <td>...</td>\n",
       "      <td>3.47</td>\n",
       "      <td>XTN</td>\n",
       "      <td>VTK</td>\n",
       "      <td>unknown</td>\n",
       "      <td>Faint</td>\n",
       "      <td>Red</td>\n",
       "      <td>unknown</td>\n",
       "      <td>unknown</td>\n",
       "      <td>Fancy</td>\n",
       "      <td>1350000</td>\n",
       "    </tr>\n",
       "    <tr>\n",
       "      <th>219702</th>\n",
       "      <td>219703</td>\n",
       "      <td>Pear</td>\n",
       "      <td>unknown</td>\n",
       "      <td>VVS2</td>\n",
       "      <td>10.03</td>\n",
       "      <td>unknown</td>\n",
       "      <td>GIA</td>\n",
       "      <td>Very Good</td>\n",
       "      <td>Excellent</td>\n",
       "      <td>unknown</td>\n",
       "      <td>...</td>\n",
       "      <td>7.39</td>\n",
       "      <td>unknown</td>\n",
       "      <td>unknown</td>\n",
       "      <td>unknown</td>\n",
       "      <td>NaN</td>\n",
       "      <td>Yellow</td>\n",
       "      <td>unknown</td>\n",
       "      <td>unknown</td>\n",
       "      <td>Fancy Vivid</td>\n",
       "      <td>1449881</td>\n",
       "    </tr>\n",
       "  </tbody>\n",
       "</table>\n",
       "<p>219703 rows × 26 columns</p>\n",
       "</div>\n",
       "    <div class=\"colab-df-buttons\">\n",
       "\n",
       "  <div class=\"colab-df-container\">\n",
       "    <button class=\"colab-df-convert\" onclick=\"convertToInteractive('df-5138bcf1-7544-46e7-b345-ec5957fbb4df')\"\n",
       "            title=\"Convert this dataframe to an interactive table.\"\n",
       "            style=\"display:none;\">\n",
       "\n",
       "  <svg xmlns=\"http://www.w3.org/2000/svg\" height=\"24px\" viewBox=\"0 -960 960 960\">\n",
       "    <path d=\"M120-120v-720h720v720H120Zm60-500h600v-160H180v160Zm220 220h160v-160H400v160Zm0 220h160v-160H400v160ZM180-400h160v-160H180v160Zm440 0h160v-160H620v160ZM180-180h160v-160H180v160Zm440 0h160v-160H620v160Z\"/>\n",
       "  </svg>\n",
       "    </button>\n",
       "\n",
       "  <style>\n",
       "    .colab-df-container {\n",
       "      display:flex;\n",
       "      gap: 12px;\n",
       "    }\n",
       "\n",
       "    .colab-df-convert {\n",
       "      background-color: #E8F0FE;\n",
       "      border: none;\n",
       "      border-radius: 50%;\n",
       "      cursor: pointer;\n",
       "      display: none;\n",
       "      fill: #1967D2;\n",
       "      height: 32px;\n",
       "      padding: 0 0 0 0;\n",
       "      width: 32px;\n",
       "    }\n",
       "\n",
       "    .colab-df-convert:hover {\n",
       "      background-color: #E2EBFA;\n",
       "      box-shadow: 0px 1px 2px rgba(60, 64, 67, 0.3), 0px 1px 3px 1px rgba(60, 64, 67, 0.15);\n",
       "      fill: #174EA6;\n",
       "    }\n",
       "\n",
       "    .colab-df-buttons div {\n",
       "      margin-bottom: 4px;\n",
       "    }\n",
       "\n",
       "    [theme=dark] .colab-df-convert {\n",
       "      background-color: #3B4455;\n",
       "      fill: #D2E3FC;\n",
       "    }\n",
       "\n",
       "    [theme=dark] .colab-df-convert:hover {\n",
       "      background-color: #434B5C;\n",
       "      box-shadow: 0px 1px 3px 1px rgba(0, 0, 0, 0.15);\n",
       "      filter: drop-shadow(0px 1px 2px rgba(0, 0, 0, 0.3));\n",
       "      fill: #FFFFFF;\n",
       "    }\n",
       "  </style>\n",
       "\n",
       "    <script>\n",
       "      const buttonEl =\n",
       "        document.querySelector('#df-5138bcf1-7544-46e7-b345-ec5957fbb4df button.colab-df-convert');\n",
       "      buttonEl.style.display =\n",
       "        google.colab.kernel.accessAllowed ? 'block' : 'none';\n",
       "\n",
       "      async function convertToInteractive(key) {\n",
       "        const element = document.querySelector('#df-5138bcf1-7544-46e7-b345-ec5957fbb4df');\n",
       "        const dataTable =\n",
       "          await google.colab.kernel.invokeFunction('convertToInteractive',\n",
       "                                                    [key], {});\n",
       "        if (!dataTable) return;\n",
       "\n",
       "        const docLinkHtml = 'Like what you see? Visit the ' +\n",
       "          '<a target=\"_blank\" href=https://colab.research.google.com/notebooks/data_table.ipynb>data table notebook</a>'\n",
       "          + ' to learn more about interactive tables.';\n",
       "        element.innerHTML = '';\n",
       "        dataTable['output_type'] = 'display_data';\n",
       "        await google.colab.output.renderOutput(dataTable, element);\n",
       "        const docLink = document.createElement('div');\n",
       "        docLink.innerHTML = docLinkHtml;\n",
       "        element.appendChild(docLink);\n",
       "      }\n",
       "    </script>\n",
       "  </div>\n",
       "\n",
       "\n",
       "<div id=\"df-c0c0c0c2-44d4-417b-9f86-a0fd70ab48c4\">\n",
       "  <button class=\"colab-df-quickchart\" onclick=\"quickchart('df-c0c0c0c2-44d4-417b-9f86-a0fd70ab48c4')\"\n",
       "            title=\"Suggest charts\"\n",
       "            style=\"display:none;\">\n",
       "\n",
       "<svg xmlns=\"http://www.w3.org/2000/svg\" height=\"24px\"viewBox=\"0 0 24 24\"\n",
       "     width=\"24px\">\n",
       "    <g>\n",
       "        <path d=\"M19 3H5c-1.1 0-2 .9-2 2v14c0 1.1.9 2 2 2h14c1.1 0 2-.9 2-2V5c0-1.1-.9-2-2-2zM9 17H7v-7h2v7zm4 0h-2V7h2v10zm4 0h-2v-4h2v4z\"/>\n",
       "    </g>\n",
       "</svg>\n",
       "  </button>\n",
       "\n",
       "<style>\n",
       "  .colab-df-quickchart {\n",
       "      --bg-color: #E8F0FE;\n",
       "      --fill-color: #1967D2;\n",
       "      --hover-bg-color: #E2EBFA;\n",
       "      --hover-fill-color: #174EA6;\n",
       "      --disabled-fill-color: #AAA;\n",
       "      --disabled-bg-color: #DDD;\n",
       "  }\n",
       "\n",
       "  [theme=dark] .colab-df-quickchart {\n",
       "      --bg-color: #3B4455;\n",
       "      --fill-color: #D2E3FC;\n",
       "      --hover-bg-color: #434B5C;\n",
       "      --hover-fill-color: #FFFFFF;\n",
       "      --disabled-bg-color: #3B4455;\n",
       "      --disabled-fill-color: #666;\n",
       "  }\n",
       "\n",
       "  .colab-df-quickchart {\n",
       "    background-color: var(--bg-color);\n",
       "    border: none;\n",
       "    border-radius: 50%;\n",
       "    cursor: pointer;\n",
       "    display: none;\n",
       "    fill: var(--fill-color);\n",
       "    height: 32px;\n",
       "    padding: 0;\n",
       "    width: 32px;\n",
       "  }\n",
       "\n",
       "  .colab-df-quickchart:hover {\n",
       "    background-color: var(--hover-bg-color);\n",
       "    box-shadow: 0 1px 2px rgba(60, 64, 67, 0.3), 0 1px 3px 1px rgba(60, 64, 67, 0.15);\n",
       "    fill: var(--button-hover-fill-color);\n",
       "  }\n",
       "\n",
       "  .colab-df-quickchart-complete:disabled,\n",
       "  .colab-df-quickchart-complete:disabled:hover {\n",
       "    background-color: var(--disabled-bg-color);\n",
       "    fill: var(--disabled-fill-color);\n",
       "    box-shadow: none;\n",
       "  }\n",
       "\n",
       "  .colab-df-spinner {\n",
       "    border: 2px solid var(--fill-color);\n",
       "    border-color: transparent;\n",
       "    border-bottom-color: var(--fill-color);\n",
       "    animation:\n",
       "      spin 1s steps(1) infinite;\n",
       "  }\n",
       "\n",
       "  @keyframes spin {\n",
       "    0% {\n",
       "      border-color: transparent;\n",
       "      border-bottom-color: var(--fill-color);\n",
       "      border-left-color: var(--fill-color);\n",
       "    }\n",
       "    20% {\n",
       "      border-color: transparent;\n",
       "      border-left-color: var(--fill-color);\n",
       "      border-top-color: var(--fill-color);\n",
       "    }\n",
       "    30% {\n",
       "      border-color: transparent;\n",
       "      border-left-color: var(--fill-color);\n",
       "      border-top-color: var(--fill-color);\n",
       "      border-right-color: var(--fill-color);\n",
       "    }\n",
       "    40% {\n",
       "      border-color: transparent;\n",
       "      border-right-color: var(--fill-color);\n",
       "      border-top-color: var(--fill-color);\n",
       "    }\n",
       "    60% {\n",
       "      border-color: transparent;\n",
       "      border-right-color: var(--fill-color);\n",
       "    }\n",
       "    80% {\n",
       "      border-color: transparent;\n",
       "      border-right-color: var(--fill-color);\n",
       "      border-bottom-color: var(--fill-color);\n",
       "    }\n",
       "    90% {\n",
       "      border-color: transparent;\n",
       "      border-bottom-color: var(--fill-color);\n",
       "    }\n",
       "  }\n",
       "</style>\n",
       "\n",
       "  <script>\n",
       "    async function quickchart(key) {\n",
       "      const quickchartButtonEl =\n",
       "        document.querySelector('#' + key + ' button');\n",
       "      quickchartButtonEl.disabled = true;  // To prevent multiple clicks.\n",
       "      quickchartButtonEl.classList.add('colab-df-spinner');\n",
       "      try {\n",
       "        const charts = await google.colab.kernel.invokeFunction(\n",
       "            'suggestCharts', [key], {});\n",
       "      } catch (error) {\n",
       "        console.error('Error during call to suggestCharts:', error);\n",
       "      }\n",
       "      quickchartButtonEl.classList.remove('colab-df-spinner');\n",
       "      quickchartButtonEl.classList.add('colab-df-quickchart-complete');\n",
       "    }\n",
       "    (() => {\n",
       "      let quickchartButtonEl =\n",
       "        document.querySelector('#df-c0c0c0c2-44d4-417b-9f86-a0fd70ab48c4 button');\n",
       "      quickchartButtonEl.style.display =\n",
       "        google.colab.kernel.accessAllowed ? 'block' : 'none';\n",
       "    })();\n",
       "  </script>\n",
       "</div>\n",
       "    </div>\n",
       "  </div>\n"
      ],
      "text/plain": [
       "        Unnamed: 0       cut    color clarity  carat_weight cut_quality  lab  \\\n",
       "0                0     Round        E    VVS2          0.09   Excellent  IGI   \n",
       "1                1     Round        E    VVS2          0.09   Very Good  IGI   \n",
       "2                2     Round        E    VVS2          0.09   Excellent  IGI   \n",
       "3                3     Round        E    VVS2          0.09   Excellent  IGI   \n",
       "4                4     Round        E    VVS2          0.09   Very Good  IGI   \n",
       "...            ...       ...      ...     ...           ...         ...  ...   \n",
       "219698      219699     Round        E     VS1         10.65   Excellent  GIA   \n",
       "219699      219700   Radiant  unknown     VS2          5.17     unknown  GIA   \n",
       "219700      219701     Round        E     VS1         18.07   Excellent  GIA   \n",
       "219701      219702  Princess  unknown     SI2          0.90     unknown  GIA   \n",
       "219702      219703      Pear  unknown    VVS2         10.03     unknown  GIA   \n",
       "\n",
       "         symmetry     polish eye_clean  ... meas_depth girdle_min  girdle_max  \\\n",
       "0       Very Good  Very Good   unknown  ...       1.79          M           M   \n",
       "1       Very Good  Very Good   unknown  ...       1.78        STK         STK   \n",
       "2       Very Good  Very Good   unknown  ...       1.77         TN           M   \n",
       "3       Very Good  Very Good   unknown  ...       1.78          M         STK   \n",
       "4       Very Good  Excellent   unknown  ...       1.82        STK         STK   \n",
       "...           ...        ...       ...  ...        ...        ...         ...   \n",
       "219698  Excellent  Excellent   unknown  ...       8.66          M         STK   \n",
       "219699  Very Good  Very Good   unknown  ...       5.71         TK         XTK   \n",
       "219700  Excellent  Excellent   unknown  ...      10.20         TN           M   \n",
       "219701       Good       Good   unknown  ...       3.47        XTN         VTK   \n",
       "219702  Very Good  Excellent   unknown  ...       7.39    unknown     unknown   \n",
       "\n",
       "        fluor_color  fluor_intensity  fancy_color_dominant_color  \\\n",
       "0           unknown              NaN                     unknown   \n",
       "1           unknown              NaN                     unknown   \n",
       "2           unknown              NaN                     unknown   \n",
       "3           unknown              NaN                     unknown   \n",
       "4           unknown              NaN                     unknown   \n",
       "...             ...              ...                         ...   \n",
       "219698      unknown              NaN                     unknown   \n",
       "219699      unknown              NaN                       Green   \n",
       "219700      unknown              NaN                     unknown   \n",
       "219701      unknown            Faint                         Red   \n",
       "219702      unknown              NaN                      Yellow   \n",
       "\n",
       "        fancy_color_secondary_color fancy_color_overtone  \\\n",
       "0                           unknown              unknown   \n",
       "1                           unknown              unknown   \n",
       "2                           unknown              unknown   \n",
       "3                           unknown              unknown   \n",
       "4                           unknown              unknown   \n",
       "...                             ...                  ...   \n",
       "219698                      unknown              unknown   \n",
       "219699                      unknown                  NaN   \n",
       "219700                      unknown              unknown   \n",
       "219701                      unknown              unknown   \n",
       "219702                      unknown              unknown   \n",
       "\n",
       "       fancy_color_intensity total_sales_price  \n",
       "0                    unknown               200  \n",
       "1                    unknown               200  \n",
       "2                    unknown               200  \n",
       "3                    unknown               200  \n",
       "4                    unknown               200  \n",
       "...                      ...               ...  \n",
       "219698               unknown           1210692  \n",
       "219699           Fancy Light           1292500  \n",
       "219700               unknown           1315496  \n",
       "219701                 Fancy           1350000  \n",
       "219702           Fancy Vivid           1449881  \n",
       "\n",
       "[219703 rows x 26 columns]"
      ]
     },
     "execution_count": 29,
     "metadata": {},
     "output_type": "execute_result"
    }
   ],
   "source": [
    "import pandas as pd\n",
    "\n",
    "diamonds = pd.read_csv(\"diamonds.csv\")\n",
    "diamonds"
   ]
  },
  {
   "cell_type": "markdown",
   "metadata": {
    "id": "vlw_3lXG6bhv"
   },
   "source": [
    "Выведете первые 5 строк датасета:"
   ]
  },
  {
   "cell_type": "code",
   "execution_count": null,
   "metadata": {
    "ExecuteTime": {
     "end_time": "2024-05-15T11:35:42.155983Z",
     "start_time": "2024-05-15T11:35:42.135289Z"
    },
    "colab": {
     "base_uri": "https://localhost:8080/",
     "height": 359
    },
    "id": "gHA-AnSE6fth",
    "outputId": "b5656aed-cf3d-41c8-a8a4-c922f2733073"
   },
   "outputs": [],
   "source": []
  },
  {
   "cell_type": "markdown",
   "metadata": {
    "id": "gat7bnPQ6fCE"
   },
   "source": [
    "Найдите количество бриллиантов всего в данном датасете:"
   ]
  },
  {
   "cell_type": "code",
   "execution_count": null,
   "metadata": {
    "ExecuteTime": {
     "end_time": "2024-05-15T11:35:43.448231Z",
     "start_time": "2024-05-15T11:35:43.434174Z"
    },
    "colab": {
     "base_uri": "https://localhost:8080/"
    },
    "id": "-9x6z3-J7C-v",
    "outputId": "eb2e24b5-a0bc-4e01-a567-0b2c4b5a7f8e"
   },
   "outputs": [],
   "source": []
  },
  {
   "cell_type": "markdown",
   "metadata": {
    "id": "fYQuIdtL7DFp"
   },
   "source": [
    "Выведите максимальную и минимальную цену бриллианта в формате `номер - цена`:"
   ]
  },
  {
   "cell_type": "code",
   "execution_count": null,
   "metadata": {
    "ExecuteTime": {
     "end_time": "2024-05-15T11:35:45.144353Z",
     "start_time": "2024-05-15T11:35:45.126127Z"
    },
    "colab": {
     "base_uri": "https://localhost:8080/"
    },
    "id": "D_7sjzjP7SEj",
    "outputId": "b4f407b8-2cd2-4b98-8919-dad9b62b2d3f"
   },
   "outputs": [],
   "source": []
  },
  {
   "cell_type": "markdown",
   "metadata": {
    "id": "E2mf4IIO7SOg"
   },
   "source": [
    "Посчитайте количество пропусков (пропуском считается значение `unknown` или `None`):"
   ]
  },
  {
   "cell_type": "code",
   "execution_count": null,
   "metadata": {
    "ExecuteTime": {
     "end_time": "2024-05-15T11:35:46.337365Z",
     "start_time": "2024-05-15T11:35:46.087358Z"
    },
    "colab": {
     "base_uri": "https://localhost:8080/"
    },
    "id": "BuJZ0UoN7qAU",
    "outputId": "18ebe524-2f0e-42bc-f857-fc6edc059781"
   },
   "outputs": [],
   "source": []
  },
  {
   "cell_type": "markdown",
   "metadata": {
    "id": "d5LWUc_fh0vb"
   },
   "source": [
    "Найдите в каких столбцах присутствуют пропуски:"
   ]
  },
  {
   "cell_type": "code",
   "execution_count": null,
   "metadata": {
    "ExecuteTime": {
     "end_time": "2024-05-15T11:36:02.951027Z",
     "start_time": "2024-05-15T11:36:02.681500Z"
    },
    "colab": {
     "base_uri": "https://localhost:8080/"
    },
    "id": "IsU49Fouh5vy",
    "outputId": "36f1f9a4-81de-46ff-f014-cb4f32c4e16a"
   },
   "outputs": [],
   "source": []
  },
  {
   "cell_type": "markdown",
   "metadata": {
    "id": "UznNZpJ47qGX"
   },
   "source": [
    "В нашем датасете присутствуют колонки, которые начинаются с `fancy_color_` или `fluor_`. Большинство значений в этих колонках - `unknown` или `None`, поэтому мы считаем их малоинформативными."
   ]
  },
  {
   "cell_type": "markdown",
   "metadata": {
    "id": "Rkk6Hr2Ui87X"
   },
   "source": [
    "Ваша задача:"
   ]
  },
  {
   "cell_type": "markdown",
   "metadata": {
    "id": "YYBDAgSSi-JU"
   },
   "source": [
    "1. найти количество таких колонок, которые начинаются с `fancy_color_` или `fluor_`:"
   ]
  },
  {
   "cell_type": "code",
   "execution_count": null,
   "metadata": {
    "ExecuteTime": {
     "end_time": "2024-05-15T10:19:15.104626Z",
     "start_time": "2024-05-15T10:19:15.084696Z"
    },
    "colab": {
     "base_uri": "https://localhost:8080/"
    },
    "id": "nbTUkk4T8-wO",
    "outputId": "8c3ff97e-3e04-4a84-aa98-3b5288d49da2"
   },
   "outputs": [],
   "source": []
  },
  {
   "cell_type": "markdown",
   "metadata": {
    "id": "imop6nNujA6z"
   },
   "source": [
    "2. найти количество информативных (не `None` или `unknown`) значений в этих колонках:"
   ]
  },
  {
   "cell_type": "code",
   "execution_count": null,
   "metadata": {
    "ExecuteTime": {
     "end_time": "2024-05-15T11:42:14.621948Z",
     "start_time": "2024-05-15T11:42:14.417875Z"
    },
    "colab": {
     "base_uri": "https://localhost:8080/"
    },
    "id": "jtJcBwAVjPHU",
    "outputId": "6708a339-0a22-4c33-f182-6c3f1633ad4a"
   },
   "outputs": [],
   "source": []
  },
  {
   "cell_type": "markdown",
   "metadata": {
    "id": "wFbuTnkbjPeq"
   },
   "source": [
    "3. удалить данные колонки из датасета, сохранив изменения (в дальнейшем работаем измененным датасетом):"
   ]
  },
  {
   "cell_type": "code",
   "execution_count": null,
   "metadata": {
    "ExecuteTime": {
     "end_time": "2024-05-15T10:33:37.613419Z",
     "start_time": "2024-05-15T10:33:37.302003Z"
    },
    "id": "qSZ5cmKWjutz"
   },
   "outputs": [],
   "source": []
  },
  {
   "cell_type": "markdown",
   "metadata": {
    "id": "JID3q4vr8-2h"
   },
   "source": [
    "Проделайте тоже самое для колонок, начинающихся с `culet_`:"
   ]
  },
  {
   "cell_type": "code",
   "execution_count": null,
   "metadata": {
    "ExecuteTime": {
     "end_time": "2024-05-15T10:37:57.979940Z",
     "start_time": "2024-05-15T10:37:57.850463Z"
    },
    "colab": {
     "base_uri": "https://localhost:8080/"
    },
    "id": "Wfsvzyad-T6P",
    "outputId": "01e0ceda-dac7-40ff-eb39-f68f32b45f22"
   },
   "outputs": [],
   "source": []
  },
  {
   "cell_type": "markdown",
   "metadata": {
    "id": "7_qYv5Xm-UCz"
   },
   "source": [
    "Посчитайте сколько бы стоил (в тысячах долларов) сейф, в котором хранились бы все бриллианты из датасета:"
   ]
  },
  {
   "cell_type": "code",
   "execution_count": null,
   "metadata": {
    "ExecuteTime": {
     "end_time": "2024-05-15T10:26:51.080089Z",
     "start_time": "2024-05-15T10:26:51.070747Z"
    },
    "colab": {
     "base_uri": "https://localhost:8080/"
    },
    "id": "g2wVyz5U-cx7",
    "outputId": "bf0ebd5c-0cd5-4bb4-febe-ab628a779ba9"
   },
   "outputs": [],
   "source": []
  },
  {
   "cell_type": "markdown",
   "metadata": {
    "id": "GVwspHrUkRFv"
   },
   "source": [
    "Немного необоснованных манипуляций."
   ]
  },
  {
   "cell_type": "markdown",
   "metadata": {
    "id": "0j5Yr0mFxxfu"
   },
   "source": [
    "Выберите из датасета строки с четными индексами и выведете значения (не меняя нумерацию индексов):"
   ]
  },
  {
   "cell_type": "code",
   "execution_count": null,
   "metadata": {
    "ExecuteTime": {
     "end_time": "2024-05-15T10:45:59.731283Z",
     "start_time": "2024-05-15T10:45:59.707586Z"
    },
    "colab": {
     "base_uri": "https://localhost:8080/",
     "height": 565
    },
    "id": "dW2GOROfx6yd",
    "outputId": "0fed9c64-3119-43ba-a876-44098cfa621e"
   },
   "outputs": [],
   "source": []
  },
  {
   "cell_type": "markdown",
   "metadata": {
    "id": "mNXqS4oox7TF"
   },
   "source": [
    "А теперь с индексами, кратными 6:"
   ]
  },
  {
   "cell_type": "code",
   "execution_count": null,
   "metadata": {
    "ExecuteTime": {
     "end_time": "2024-05-15T10:46:18.482946Z",
     "start_time": "2024-05-15T10:46:18.457743Z"
    },
    "colab": {
     "base_uri": "https://localhost:8080/",
     "height": 547
    },
    "id": "hy8LyzXix_SB",
    "outputId": "8ef99f53-f8bc-4776-9a63-95e962be31aa"
   },
   "outputs": [],
   "source": []
  },
  {
   "cell_type": "markdown",
   "metadata": {
    "id": "u94LL979x_bV"
   },
   "source": [
    "Выберете из датасета только категорильные признаки и выведете датасет:"
   ]
  },
  {
   "cell_type": "code",
   "execution_count": null,
   "metadata": {
    "ExecuteTime": {
     "end_time": "2024-05-15T10:51:26.738741Z",
     "start_time": "2024-05-15T10:51:26.711032Z"
    },
    "colab": {
     "base_uri": "https://localhost:8080/",
     "height": 423
    },
    "id": "2_LBNDWXyOOl",
    "outputId": "f108e2e0-660c-48cb-e230-b3ad51eb073a"
   },
   "outputs": [],
   "source": []
  },
  {
   "cell_type": "markdown",
   "metadata": {
    "id": "mV9jLhspyOgz"
   },
   "source": [
    "Выберете столбец с данными о цене бриллиантов и домножите его на тот столбец, только транспонированный, и выведите полученную матрицу:"
   ]
  },
  {
   "cell_type": "code",
   "execution_count": null,
   "metadata": {
    "ExecuteTime": {
     "end_time": "2024-05-15T11:01:58.338155Z",
     "start_time": "2024-05-15T11:01:58.323352Z"
    },
    "colab": {
     "base_uri": "https://localhost:8080/"
    },
    "id": "LawjtnoIymFu",
    "outputId": "a9e71b4b-8b36-4cc9-d6bb-764750552f52"
   },
   "outputs": [],
   "source": []
  },
  {
   "cell_type": "markdown",
   "metadata": {
    "id": "Pz02uapbkbGk"
   },
   "source": [
    "### Построение графиков"
   ]
  },
  {
   "cell_type": "markdown",
   "metadata": {
    "id": "_zhww-rd-c5c"
   },
   "source": [
    "**Требования к графику:**\n",
    "\n",
    "1.   График должен быть подписан\n",
    "2.   Оси должны быть подписаны\n",
    "3.   Должна быть легенда графика\n",
    "4.   График должен быть информативным (желательно без сильных выбросов)\n"
   ]
  },
  {
   "cell_type": "markdown",
   "metadata": {
    "id": "4R9Rwxdq-l21"
   },
   "source": [
    "Постройте график `цвет бриллианта - стоимость`:"
   ]
  },
  {
   "cell_type": "code",
   "execution_count": null,
   "metadata": {
    "ExecuteTime": {
     "end_time": "2024-05-15T10:29:14.066669Z",
     "start_time": "2024-05-15T10:29:12.723721Z"
    },
    "colab": {
     "base_uri": "https://localhost:8080/",
     "height": 487
    },
    "id": "Fo6I0j5o-vQh",
    "outputId": "dfbdec31-b511-467b-b4a2-49aa3d37216b"
   },
   "outputs": [],
   "source": []
  },
  {
   "cell_type": "markdown",
   "metadata": {
    "id": "W_UgFji5-vWx"
   },
   "source": [
    "Постройте график `лабараторная оценка - кол-во бриллиантов`:"
   ]
  },
  {
   "cell_type": "code",
   "execution_count": null,
   "metadata": {
    "ExecuteTime": {
     "end_time": "2024-05-15T10:14:06.917161Z",
     "start_time": "2024-05-15T10:14:06.616626Z"
    },
    "colab": {
     "base_uri": "https://localhost:8080/",
     "height": 487
    },
    "id": "nyT8-TRb_c24",
    "outputId": "828ffd9c-22f7-472b-fad8-15b51e5f3487"
   },
   "outputs": [],
   "source": []
  },
  {
   "cell_type": "markdown",
   "metadata": {
    "id": "AgsMclnJ_c9H"
   },
   "source": [
    "Постройте график `вес бриллианта - стоимость`:"
   ]
  },
  {
   "cell_type": "code",
   "execution_count": null,
   "metadata": {
    "ExecuteTime": {
     "end_time": "2024-05-15T08:41:06.649728Z",
     "start_time": "2024-05-15T08:41:05.799964Z"
    },
    "colab": {
     "base_uri": "https://localhost:8080/",
     "height": 557
    },
    "id": "tn-x3pwmANQe",
    "outputId": "3868f934-75e7-4adc-812b-5073ce6b3127"
   },
   "outputs": [],
   "source": []
  },
  {
   "cell_type": "markdown",
   "metadata": {
    "id": "0LVC1KfEAwuw"
   },
   "source": [
    "Постройте график `система оценки GIA Cut - кол-во бриллиантов`:"
   ]
  },
  {
   "cell_type": "code",
   "execution_count": null,
   "metadata": {
    "ExecuteTime": {
     "end_time": "2024-05-15T10:41:02.674735Z",
     "start_time": "2024-05-15T10:41:01.679746Z"
    },
    "colab": {
     "base_uri": "https://localhost:8080/",
     "height": 487
    },
    "id": "IeuLooSIA232",
    "outputId": "5cecc135-b5f4-48d9-d65f-57047511ecba"
   },
   "outputs": [],
   "source": []
  },
  {
   "cell_type": "code",
   "execution_count": null,
   "metadata": {},
   "outputs": [],
   "source": []
  }
 ],
 "metadata": {
  "colab": {
   "provenance": [],
   "toc_visible": true
  },
  "kernelspec": {
   "display_name": "Python 3 (ipykernel)",
   "language": "python",
   "name": "python3"
  },
  "language_info": {
   "codemirror_mode": {
    "name": "ipython",
    "version": 3
   },
   "file_extension": ".py",
   "mimetype": "text/x-python",
   "name": "python",
   "nbconvert_exporter": "python",
   "pygments_lexer": "ipython3",
   "version": "3.10.8"
  },
  "toc": {
   "base_numbering": 1,
   "nav_menu": {},
   "number_sections": true,
   "sideBar": true,
   "skip_h1_title": false,
   "title_cell": "Table of Contents",
   "title_sidebar": "Contents",
   "toc_cell": false,
   "toc_position": {},
   "toc_section_display": true,
   "toc_window_display": false
  }
 },
 "nbformat": 4,
 "nbformat_minor": 1
}
